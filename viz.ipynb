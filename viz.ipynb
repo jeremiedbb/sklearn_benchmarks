{
 "cells": [
  {
   "cell_type": "markdown",
   "id": "systematic-montana",
   "metadata": {},
   "source": [
    "<br></br>\n",
    "# Benchmark time"
   ]
  },
  {
   "cell_type": "markdown",
   "id": "accompanied-convert",
   "metadata": {},
   "source": [
    "- KMeans: 54.29s\n",
    "- KNeighborsClassifier: 633.01s\n",
    "- KNeighborsClassifier_kd_tree: 112.92s\n",
    "- daal4py_KMeans: 34.01s\n",
    "- daal4py_KNeighborsClassifier: 121.97s\n",
    "- daal4py_KNeighborsClassifier_kd_tree: 75.18s\n",
    "- total: 1031.41s (17m 11s)"
   ]
  },
  {
   "cell_type": "markdown",
   "id": "invisible-suspect",
   "metadata": {},
   "source": [
    "<br></br>\n",
    "## KNeighborsClassifier"
   ]
  },
  {
   "cell_type": "code",
   "execution_count": 2,
   "id": "headed-reach",
   "metadata": {},
   "outputs": [],
   "source": [
    "d4p_knn = pd.read_csv('sklearn_benchmarks/results/daal4py/KNeighborsClassifier.csv')"
   ]
  },
  {
   "cell_type": "code",
   "execution_count": 3,
   "id": "authentic-pharmacy",
   "metadata": {},
   "outputs": [],
   "source": [
    "skl_knn = pd.read_csv('sklearn_benchmarks/results/sklearn/KNeighborsClassifier.csv')"
   ]
  },
  {
   "cell_type": "code",
   "execution_count": 4,
   "id": "liked-jason",
   "metadata": {},
   "outputs": [],
   "source": [
    "merged_df_knn = skl_knn.merge(d4p_knn, on=['estimator', 'function', 'n_samples', 'n_features', 'algorithm', 'n_jobs', 'n_neighbors'], suffixes=['_skl', '_d4p'])"
   ]
  },
  {
   "cell_type": "code",
   "execution_count": 5,
   "id": "plain-drunk",
   "metadata": {},
   "outputs": [],
   "source": [
    "merged_df_knn['speedup'] = merged_df_knn['mean_time_elapsed_skl'] / merged_df_knn['mean_time_elapsed_d4p']"
   ]
  },
  {
   "cell_type": "code",
   "execution_count": 43,
   "id": "macro-morocco",
   "metadata": {},
   "outputs": [],
   "source": [
    "merged_df_knn['log_speedup'] = np.log(merged_df_knn['speedup'])"
   ]
  },
  {
   "cell_type": "code",
   "execution_count": 119,
   "id": "subjective-observer",
   "metadata": {},
   "outputs": [
    {
     "data": {
      "text/html": [
       "<div>\n",
       "<style scoped>\n",
       "    .dataframe tbody tr th:only-of-type {\n",
       "        vertical-align: middle;\n",
       "    }\n",
       "\n",
       "    .dataframe tbody tr th {\n",
       "        vertical-align: top;\n",
       "    }\n",
       "\n",
       "    .dataframe thead th {\n",
       "        text-align: right;\n",
       "    }\n",
       "</style>\n",
       "<table border=\"1\" class=\"dataframe\">\n",
       "  <thead>\n",
       "    <tr style=\"text-align: right;\">\n",
       "      <th></th>\n",
       "      <th>function</th>\n",
       "      <th>n_samples</th>\n",
       "      <th>n_features</th>\n",
       "      <th>algorithm</th>\n",
       "      <th>n_jobs</th>\n",
       "      <th>n_neighbors</th>\n",
       "      <th>speedup</th>\n",
       "    </tr>\n",
       "  </thead>\n",
       "  <tbody>\n",
       "    <tr>\n",
       "      <th>37</th>\n",
       "      <td>predict</td>\n",
       "      <td>1000</td>\n",
       "      <td>2</td>\n",
       "      <td>brute</td>\n",
       "      <td>-1</td>\n",
       "      <td>10</td>\n",
       "      <td>143.116639</td>\n",
       "    </tr>\n",
       "    <tr>\n",
       "      <th>34</th>\n",
       "      <td>predict</td>\n",
       "      <td>1000</td>\n",
       "      <td>2</td>\n",
       "      <td>brute</td>\n",
       "      <td>-1</td>\n",
       "      <td>5</td>\n",
       "      <td>139.711101</td>\n",
       "    </tr>\n",
       "    <tr>\n",
       "      <th>31</th>\n",
       "      <td>predict</td>\n",
       "      <td>1000</td>\n",
       "      <td>2</td>\n",
       "      <td>brute</td>\n",
       "      <td>-1</td>\n",
       "      <td>1</td>\n",
       "      <td>129.680083</td>\n",
       "    </tr>\n",
       "    <tr>\n",
       "      <th>40</th>\n",
       "      <td>predict</td>\n",
       "      <td>1000</td>\n",
       "      <td>2</td>\n",
       "      <td>brute</td>\n",
       "      <td>-1</td>\n",
       "      <td>50</td>\n",
       "      <td>122.368080</td>\n",
       "    </tr>\n",
       "    <tr>\n",
       "      <th>49</th>\n",
       "      <td>predict</td>\n",
       "      <td>1000</td>\n",
       "      <td>2</td>\n",
       "      <td>brute</td>\n",
       "      <td>1</td>\n",
       "      <td>5</td>\n",
       "      <td>100.138267</td>\n",
       "    </tr>\n",
       "  </tbody>\n",
       "</table>\n",
       "</div>"
      ],
      "text/plain": [
       "   function  n_samples  n_features algorithm  n_jobs  n_neighbors     speedup\n",
       "37  predict       1000           2     brute      -1           10  143.116639\n",
       "34  predict       1000           2     brute      -1            5  139.711101\n",
       "31  predict       1000           2     brute      -1            1  129.680083\n",
       "40  predict       1000           2     brute      -1           50  122.368080\n",
       "49  predict       1000           2     brute       1            5  100.138267"
      ]
     },
     "execution_count": 119,
     "metadata": {},
     "output_type": "execute_result"
    }
   ],
   "source": [
    "merged_df_knn = merged_df_knn[['function', 'n_samples', 'n_features', 'algorithm', 'n_jobs', 'n_neighbors', 'speedup']]\n",
    "merged_df_knn.sort_values(['speedup'], ascending=False).head()"
   ]
  },
  {
   "cell_type": "code",
   "execution_count": 167,
   "id": "animated-mayor",
   "metadata": {
    "scrolled": false
   },
   "outputs": [
    {
     "data": {
      "application/vnd.plotly.v1+json": {
       "config": {
        "plotlyServerURL": "https://plot.ly"
       },
       "data": [
        {
         "customdata": [
          [
           "fit",
           1000000,
           100,
           "brute",
           1,
           1,
           0.15
          ],
          [
           "fit",
           1000000,
           2,
           "brute",
           1,
           1,
           0.6
          ]
         ],
         "hovertemplate": "function: <b>%{customdata[0]}</b><br>n_samples: <b>%{customdata[1]}</b><br>n_features: <b>%{customdata[2]}</b><br>algo: <b>%{customdata[3]}</b><br>n_jobs: <b>%{customdata[4]}</b><br>n_neighbors: <b>%{customdata[5]}</b><br>speedup: <b>%{customdata[6]}</b><br><extra></extra>",
         "marker": {
          "color": "indianred"
         },
         "name": "n_jobs: 1",
         "showlegend": false,
         "type": "bar",
         "x": [
          "(1000000, 100)",
          "(1000000, 2)"
         ],
         "xaxis": "x",
         "y": [
          0.15,
          0.6
         ],
         "yaxis": "y"
        },
        {
         "customdata": [
          [
           "fit",
           1000000,
           100,
           "brute",
           -1,
           1,
           0.23
          ],
          [
           "fit",
           1000000,
           2,
           "brute",
           -1,
           1,
           0.76
          ]
         ],
         "hovertemplate": "function: <b>%{customdata[0]}</b><br>n_samples: <b>%{customdata[1]}</b><br>n_features: <b>%{customdata[2]}</b><br>algo: <b>%{customdata[3]}</b><br>n_jobs: <b>%{customdata[4]}</b><br>n_neighbors: <b>%{customdata[5]}</b><br>speedup: <b>%{customdata[6]}</b><br><extra></extra>",
         "marker": {
          "color": "lightsalmon"
         },
         "name": "n_jobs: -1",
         "showlegend": false,
         "type": "bar",
         "x": [
          "(1000000, 100)",
          "(1000000, 2)"
         ],
         "xaxis": "x",
         "y": [
          0.23,
          0.76
         ],
         "yaxis": "y"
        },
        {
         "customdata": [
          [
           "predict",
           1000,
           100,
           "brute",
           1,
           1,
           11.55
          ],
          [
           "predict",
           1,
           100,
           "brute",
           1,
           1,
           2.03
          ],
          [
           "predict",
           1000,
           2,
           "brute",
           1,
           1,
           56.67
          ],
          [
           "predict",
           1,
           2,
           "brute",
           1,
           1,
           4.62
          ]
         ],
         "hovertemplate": "function: <b>%{customdata[0]}</b><br>n_samples: <b>%{customdata[1]}</b><br>n_features: <b>%{customdata[2]}</b><br>algo: <b>%{customdata[3]}</b><br>n_jobs: <b>%{customdata[4]}</b><br>n_neighbors: <b>%{customdata[5]}</b><br>speedup: <b>%{customdata[6]}</b><br><extra></extra>",
         "marker": {
          "color": "indianred"
         },
         "name": "n_jobs: 1",
         "showlegend": false,
         "type": "bar",
         "x": [
          "(1000, 100)",
          "(1, 100)",
          "(1000, 2)",
          "(1, 2)"
         ],
         "xaxis": "x2",
         "y": [
          11.55,
          2.03,
          56.67,
          4.62
         ],
         "yaxis": "y2"
        },
        {
         "customdata": [
          [
           "predict",
           1000,
           100,
           "brute",
           -1,
           1,
           26.83
          ],
          [
           "predict",
           1,
           100,
           "brute",
           -1,
           1,
           2.37
          ],
          [
           "predict",
           1000,
           2,
           "brute",
           -1,
           1,
           129.68
          ],
          [
           "predict",
           1,
           2,
           "brute",
           -1,
           1,
           11.08
          ]
         ],
         "hovertemplate": "function: <b>%{customdata[0]}</b><br>n_samples: <b>%{customdata[1]}</b><br>n_features: <b>%{customdata[2]}</b><br>algo: <b>%{customdata[3]}</b><br>n_jobs: <b>%{customdata[4]}</b><br>n_neighbors: <b>%{customdata[5]}</b><br>speedup: <b>%{customdata[6]}</b><br><extra></extra>",
         "marker": {
          "color": "lightsalmon"
         },
         "name": "n_jobs: -1",
         "showlegend": false,
         "type": "bar",
         "x": [
          "(1000, 100)",
          "(1, 100)",
          "(1000, 2)",
          "(1, 2)"
         ],
         "xaxis": "x2",
         "y": [
          26.83,
          2.37,
          129.68,
          11.08
         ],
         "yaxis": "y2"
        },
        {
         "customdata": [
          [
           "fit",
           1000000,
           100,
           "brute",
           1,
           5,
           0.15
          ],
          [
           "fit",
           1000000,
           2,
           "brute",
           1,
           5,
           0.56
          ]
         ],
         "hovertemplate": "function: <b>%{customdata[0]}</b><br>n_samples: <b>%{customdata[1]}</b><br>n_features: <b>%{customdata[2]}</b><br>algo: <b>%{customdata[3]}</b><br>n_jobs: <b>%{customdata[4]}</b><br>n_neighbors: <b>%{customdata[5]}</b><br>speedup: <b>%{customdata[6]}</b><br><extra></extra>",
         "marker": {
          "color": "indianred"
         },
         "name": "n_jobs: 1",
         "showlegend": false,
         "type": "bar",
         "x": [
          "(1000000, 100)",
          "(1000000, 2)"
         ],
         "xaxis": "x3",
         "y": [
          0.15,
          0.56
         ],
         "yaxis": "y3"
        },
        {
         "customdata": [
          [
           "fit",
           1000000,
           100,
           "brute",
           -1,
           5,
           0.2
          ],
          [
           "fit",
           1000000,
           2,
           "brute",
           -1,
           5,
           0.67
          ]
         ],
         "hovertemplate": "function: <b>%{customdata[0]}</b><br>n_samples: <b>%{customdata[1]}</b><br>n_features: <b>%{customdata[2]}</b><br>algo: <b>%{customdata[3]}</b><br>n_jobs: <b>%{customdata[4]}</b><br>n_neighbors: <b>%{customdata[5]}</b><br>speedup: <b>%{customdata[6]}</b><br><extra></extra>",
         "marker": {
          "color": "lightsalmon"
         },
         "name": "n_jobs: -1",
         "showlegend": false,
         "type": "bar",
         "x": [
          "(1000000, 100)",
          "(1000000, 2)"
         ],
         "xaxis": "x3",
         "y": [
          0.2,
          0.67
         ],
         "yaxis": "y3"
        },
        {
         "customdata": [
          [
           "predict",
           1000,
           100,
           "brute",
           1,
           5,
           16.36
          ],
          [
           "predict",
           1,
           100,
           "brute",
           1,
           5,
           2.17
          ],
          [
           "predict",
           1000,
           2,
           "brute",
           1,
           5,
           100.14
          ],
          [
           "predict",
           1,
           2,
           "brute",
           1,
           5,
           8.71
          ]
         ],
         "hovertemplate": "function: <b>%{customdata[0]}</b><br>n_samples: <b>%{customdata[1]}</b><br>n_features: <b>%{customdata[2]}</b><br>algo: <b>%{customdata[3]}</b><br>n_jobs: <b>%{customdata[4]}</b><br>n_neighbors: <b>%{customdata[5]}</b><br>speedup: <b>%{customdata[6]}</b><br><extra></extra>",
         "marker": {
          "color": "indianred"
         },
         "name": "n_jobs: 1",
         "showlegend": false,
         "type": "bar",
         "x": [
          "(1000, 100)",
          "(1, 100)",
          "(1000, 2)",
          "(1, 2)"
         ],
         "xaxis": "x4",
         "y": [
          16.36,
          2.17,
          100.14,
          8.71
         ],
         "yaxis": "y4"
        },
        {
         "customdata": [
          [
           "predict",
           1000,
           100,
           "brute",
           -1,
           5,
           32.69
          ],
          [
           "predict",
           1,
           100,
           "brute",
           -1,
           5,
           1.74
          ],
          [
           "predict",
           1000,
           2,
           "brute",
           -1,
           5,
           139.71
          ],
          [
           "predict",
           1,
           2,
           "brute",
           -1,
           5,
           12.2
          ]
         ],
         "hovertemplate": "function: <b>%{customdata[0]}</b><br>n_samples: <b>%{customdata[1]}</b><br>n_features: <b>%{customdata[2]}</b><br>algo: <b>%{customdata[3]}</b><br>n_jobs: <b>%{customdata[4]}</b><br>n_neighbors: <b>%{customdata[5]}</b><br>speedup: <b>%{customdata[6]}</b><br><extra></extra>",
         "marker": {
          "color": "lightsalmon"
         },
         "name": "n_jobs: -1",
         "showlegend": false,
         "type": "bar",
         "x": [
          "(1000, 100)",
          "(1, 100)",
          "(1000, 2)",
          "(1, 2)"
         ],
         "xaxis": "x4",
         "y": [
          32.69,
          1.74,
          139.71,
          12.2
         ],
         "yaxis": "y4"
        },
        {
         "customdata": [
          [
           "fit",
           1000000,
           100,
           "brute",
           1,
           10,
           0.14
          ],
          [
           "fit",
           1000000,
           2,
           "brute",
           1,
           10,
           0.62
          ]
         ],
         "hovertemplate": "function: <b>%{customdata[0]}</b><br>n_samples: <b>%{customdata[1]}</b><br>n_features: <b>%{customdata[2]}</b><br>algo: <b>%{customdata[3]}</b><br>n_jobs: <b>%{customdata[4]}</b><br>n_neighbors: <b>%{customdata[5]}</b><br>speedup: <b>%{customdata[6]}</b><br><extra></extra>",
         "marker": {
          "color": "indianred"
         },
         "name": "n_jobs: 1",
         "showlegend": false,
         "type": "bar",
         "x": [
          "(1000000, 100)",
          "(1000000, 2)"
         ],
         "xaxis": "x5",
         "y": [
          0.14,
          0.62
         ],
         "yaxis": "y5"
        },
        {
         "customdata": [
          [
           "fit",
           1000000,
           100,
           "brute",
           -1,
           10,
           0.16
          ],
          [
           "fit",
           1000000,
           2,
           "brute",
           -1,
           10,
           0.53
          ]
         ],
         "hovertemplate": "function: <b>%{customdata[0]}</b><br>n_samples: <b>%{customdata[1]}</b><br>n_features: <b>%{customdata[2]}</b><br>algo: <b>%{customdata[3]}</b><br>n_jobs: <b>%{customdata[4]}</b><br>n_neighbors: <b>%{customdata[5]}</b><br>speedup: <b>%{customdata[6]}</b><br><extra></extra>",
         "marker": {
          "color": "lightsalmon"
         },
         "name": "n_jobs: -1",
         "showlegend": false,
         "type": "bar",
         "x": [
          "(1000000, 100)",
          "(1000000, 2)"
         ],
         "xaxis": "x5",
         "y": [
          0.16,
          0.53
         ],
         "yaxis": "y5"
        },
        {
         "customdata": [
          [
           "predict",
           1000,
           100,
           "brute",
           1,
           10,
           18.22
          ],
          [
           "predict",
           1,
           100,
           "brute",
           1,
           10,
           2.4
          ],
          [
           "predict",
           1000,
           2,
           "brute",
           1,
           10,
           96.17
          ],
          [
           "predict",
           1,
           2,
           "brute",
           1,
           10,
           8.47
          ]
         ],
         "hovertemplate": "function: <b>%{customdata[0]}</b><br>n_samples: <b>%{customdata[1]}</b><br>n_features: <b>%{customdata[2]}</b><br>algo: <b>%{customdata[3]}</b><br>n_jobs: <b>%{customdata[4]}</b><br>n_neighbors: <b>%{customdata[5]}</b><br>speedup: <b>%{customdata[6]}</b><br><extra></extra>",
         "marker": {
          "color": "indianred"
         },
         "name": "n_jobs: 1",
         "showlegend": false,
         "type": "bar",
         "x": [
          "(1000, 100)",
          "(1, 100)",
          "(1000, 2)",
          "(1, 2)"
         ],
         "xaxis": "x6",
         "y": [
          18.22,
          2.4,
          96.17,
          8.47
         ],
         "yaxis": "y6"
        },
        {
         "customdata": [
          [
           "predict",
           1000,
           100,
           "brute",
           -1,
           10,
           32.55
          ],
          [
           "predict",
           1,
           100,
           "brute",
           -1,
           10,
           1.92
          ],
          [
           "predict",
           1000,
           2,
           "brute",
           -1,
           10,
           143.12
          ],
          [
           "predict",
           1,
           2,
           "brute",
           -1,
           10,
           13.73
          ]
         ],
         "hovertemplate": "function: <b>%{customdata[0]}</b><br>n_samples: <b>%{customdata[1]}</b><br>n_features: <b>%{customdata[2]}</b><br>algo: <b>%{customdata[3]}</b><br>n_jobs: <b>%{customdata[4]}</b><br>n_neighbors: <b>%{customdata[5]}</b><br>speedup: <b>%{customdata[6]}</b><br><extra></extra>",
         "marker": {
          "color": "lightsalmon"
         },
         "name": "n_jobs: -1",
         "showlegend": false,
         "type": "bar",
         "x": [
          "(1000, 100)",
          "(1, 100)",
          "(1000, 2)",
          "(1, 2)"
         ],
         "xaxis": "x6",
         "y": [
          32.55,
          1.92,
          143.12,
          13.73
         ],
         "yaxis": "y6"
        },
        {
         "customdata": [
          [
           "fit",
           1000000,
           100,
           "brute",
           1,
           50,
           0.16
          ],
          [
           "fit",
           1000000,
           2,
           "brute",
           1,
           50,
           0.58
          ]
         ],
         "hovertemplate": "function: <b>%{customdata[0]}</b><br>n_samples: <b>%{customdata[1]}</b><br>n_features: <b>%{customdata[2]}</b><br>algo: <b>%{customdata[3]}</b><br>n_jobs: <b>%{customdata[4]}</b><br>n_neighbors: <b>%{customdata[5]}</b><br>speedup: <b>%{customdata[6]}</b><br><extra></extra>",
         "marker": {
          "color": "indianred"
         },
         "name": "n_jobs: 1",
         "showlegend": false,
         "type": "bar",
         "x": [
          "(1000000, 100)",
          "(1000000, 2)"
         ],
         "xaxis": "x7",
         "y": [
          0.16,
          0.58
         ],
         "yaxis": "y7"
        },
        {
         "customdata": [
          [
           "fit",
           1000000,
           100,
           "brute",
           -1,
           50,
           0.16
          ],
          [
           "fit",
           1000000,
           2,
           "brute",
           -1,
           50,
           0.69
          ]
         ],
         "hovertemplate": "function: <b>%{customdata[0]}</b><br>n_samples: <b>%{customdata[1]}</b><br>n_features: <b>%{customdata[2]}</b><br>algo: <b>%{customdata[3]}</b><br>n_jobs: <b>%{customdata[4]}</b><br>n_neighbors: <b>%{customdata[5]}</b><br>speedup: <b>%{customdata[6]}</b><br><extra></extra>",
         "marker": {
          "color": "lightsalmon"
         },
         "name": "n_jobs: -1",
         "showlegend": false,
         "type": "bar",
         "x": [
          "(1000000, 100)",
          "(1000000, 2)"
         ],
         "xaxis": "x7",
         "y": [
          0.16,
          0.69
         ],
         "yaxis": "y7"
        },
        {
         "customdata": [
          [
           "predict",
           1000,
           100,
           "brute",
           1,
           50,
           18.08
          ],
          [
           "predict",
           1,
           100,
           "brute",
           1,
           50,
           2.23
          ],
          [
           "predict",
           1000,
           2,
           "brute",
           1,
           50,
           76.5
          ],
          [
           "predict",
           1,
           2,
           "brute",
           1,
           50,
           8.28
          ]
         ],
         "hovertemplate": "function: <b>%{customdata[0]}</b><br>n_samples: <b>%{customdata[1]}</b><br>n_features: <b>%{customdata[2]}</b><br>algo: <b>%{customdata[3]}</b><br>n_jobs: <b>%{customdata[4]}</b><br>n_neighbors: <b>%{customdata[5]}</b><br>speedup: <b>%{customdata[6]}</b><br><extra></extra>",
         "marker": {
          "color": "indianred"
         },
         "name": "n_jobs: 1",
         "showlegend": false,
         "type": "bar",
         "x": [
          "(1000, 100)",
          "(1, 100)",
          "(1000, 2)",
          "(1, 2)"
         ],
         "xaxis": "x8",
         "y": [
          18.08,
          2.23,
          76.5,
          8.28
         ],
         "yaxis": "y8"
        },
        {
         "customdata": [
          [
           "predict",
           1000,
           100,
           "brute",
           -1,
           50,
           29.64
          ],
          [
           "predict",
           1,
           100,
           "brute",
           -1,
           50,
           1.56
          ],
          [
           "predict",
           1000,
           2,
           "brute",
           -1,
           50,
           122.37
          ],
          [
           "predict",
           1,
           2,
           "brute",
           -1,
           50,
           10.64
          ]
         ],
         "hovertemplate": "function: <b>%{customdata[0]}</b><br>n_samples: <b>%{customdata[1]}</b><br>n_features: <b>%{customdata[2]}</b><br>algo: <b>%{customdata[3]}</b><br>n_jobs: <b>%{customdata[4]}</b><br>n_neighbors: <b>%{customdata[5]}</b><br>speedup: <b>%{customdata[6]}</b><br><extra></extra>",
         "marker": {
          "color": "lightsalmon"
         },
         "name": "n_jobs: -1",
         "showlegend": false,
         "type": "bar",
         "x": [
          "(1000, 100)",
          "(1, 100)",
          "(1000, 2)",
          "(1, 2)"
         ],
         "xaxis": "x8",
         "y": [
          29.64,
          1.56,
          122.37,
          10.64
         ],
         "yaxis": "y8"
        },
        {
         "customdata": [
          [
           "fit",
           1000000,
           100,
           "brute",
           1,
           100,
           0.16
          ],
          [
           "fit",
           1000000,
           2,
           "brute",
           1,
           100,
           0.63
          ]
         ],
         "hovertemplate": "function: <b>%{customdata[0]}</b><br>n_samples: <b>%{customdata[1]}</b><br>n_features: <b>%{customdata[2]}</b><br>algo: <b>%{customdata[3]}</b><br>n_jobs: <b>%{customdata[4]}</b><br>n_neighbors: <b>%{customdata[5]}</b><br>speedup: <b>%{customdata[6]}</b><br><extra></extra>",
         "marker": {
          "color": "indianred"
         },
         "name": "n_jobs: 1",
         "showlegend": false,
         "type": "bar",
         "x": [
          "(1000000, 100)",
          "(1000000, 2)"
         ],
         "xaxis": "x9",
         "y": [
          0.16,
          0.63
         ],
         "yaxis": "y9"
        },
        {
         "customdata": [
          [
           "fit",
           1000000,
           100,
           "brute",
           -1,
           100,
           0.14
          ],
          [
           "fit",
           1000000,
           2,
           "brute",
           -1,
           100,
           0.62
          ]
         ],
         "hovertemplate": "function: <b>%{customdata[0]}</b><br>n_samples: <b>%{customdata[1]}</b><br>n_features: <b>%{customdata[2]}</b><br>algo: <b>%{customdata[3]}</b><br>n_jobs: <b>%{customdata[4]}</b><br>n_neighbors: <b>%{customdata[5]}</b><br>speedup: <b>%{customdata[6]}</b><br><extra></extra>",
         "marker": {
          "color": "lightsalmon"
         },
         "name": "n_jobs: -1",
         "showlegend": false,
         "type": "bar",
         "x": [
          "(1000000, 100)",
          "(1000000, 2)"
         ],
         "xaxis": "x9",
         "y": [
          0.14,
          0.62
         ],
         "yaxis": "y9"
        },
        {
         "customdata": [
          [
           "predict",
           1000,
           100,
           "brute",
           1,
           100,
           18.29
          ],
          [
           "predict",
           1,
           100,
           "brute",
           1,
           100,
           2.48
          ],
          [
           "predict",
           1000,
           2,
           "brute",
           1,
           100,
           63.94
          ],
          [
           "predict",
           1,
           2,
           "brute",
           1,
           100,
           9.56
          ]
         ],
         "hovertemplate": "function: <b>%{customdata[0]}</b><br>n_samples: <b>%{customdata[1]}</b><br>n_features: <b>%{customdata[2]}</b><br>algo: <b>%{customdata[3]}</b><br>n_jobs: <b>%{customdata[4]}</b><br>n_neighbors: <b>%{customdata[5]}</b><br>speedup: <b>%{customdata[6]}</b><br><extra></extra>",
         "marker": {
          "color": "indianred"
         },
         "name": "n_jobs: 1",
         "showlegend": false,
         "type": "bar",
         "x": [
          "(1000, 100)",
          "(1, 100)",
          "(1000, 2)",
          "(1, 2)"
         ],
         "xaxis": "x10",
         "y": [
          18.29,
          2.48,
          63.94,
          9.56
         ],
         "yaxis": "y10"
        },
        {
         "customdata": [
          [
           "predict",
           1000,
           100,
           "brute",
           -1,
           100,
           25.83
          ],
          [
           "predict",
           1,
           100,
           "brute",
           -1,
           100,
           1.98
          ],
          [
           "predict",
           1000,
           2,
           "brute",
           -1,
           100,
           96.98
          ],
          [
           "predict",
           1,
           2,
           "brute",
           -1,
           100,
           11.74
          ]
         ],
         "hovertemplate": "function: <b>%{customdata[0]}</b><br>n_samples: <b>%{customdata[1]}</b><br>n_features: <b>%{customdata[2]}</b><br>algo: <b>%{customdata[3]}</b><br>n_jobs: <b>%{customdata[4]}</b><br>n_neighbors: <b>%{customdata[5]}</b><br>speedup: <b>%{customdata[6]}</b><br><extra></extra>",
         "marker": {
          "color": "lightsalmon"
         },
         "name": "n_jobs: -1",
         "showlegend": false,
         "type": "bar",
         "x": [
          "(1000, 100)",
          "(1, 100)",
          "(1000, 2)",
          "(1, 2)"
         ],
         "xaxis": "x10",
         "y": [
          25.83,
          1.98,
          96.98,
          11.74
         ],
         "yaxis": "y10"
        }
       ],
       "layout": {
        "annotations": [
         {
          "font": {
           "size": 16
          },
          "showarrow": false,
          "text": "algo: brute, k: 1, func: fit",
          "x": 0.225,
          "xanchor": "center",
          "xref": "paper",
          "y": 1,
          "yanchor": "bottom",
          "yref": "paper"
         },
         {
          "font": {
           "size": 16
          },
          "showarrow": false,
          "text": "algo: brute, k: 1, func: predict",
          "x": 0.775,
          "xanchor": "center",
          "xref": "paper",
          "y": 1,
          "yanchor": "bottom",
          "yref": "paper"
         },
         {
          "font": {
           "size": 16
          },
          "showarrow": false,
          "text": "algo: brute, k: 5, func: fit",
          "x": 0.225,
          "xanchor": "center",
          "xref": "paper",
          "y": 0.78,
          "yanchor": "bottom",
          "yref": "paper"
         },
         {
          "font": {
           "size": 16
          },
          "showarrow": false,
          "text": "algo: brute, k: 5, func: predict",
          "x": 0.775,
          "xanchor": "center",
          "xref": "paper",
          "y": 0.78,
          "yanchor": "bottom",
          "yref": "paper"
         },
         {
          "font": {
           "size": 16
          },
          "showarrow": false,
          "text": "algo: brute, k: 10, func: fit",
          "x": 0.225,
          "xanchor": "center",
          "xref": "paper",
          "y": 0.56,
          "yanchor": "bottom",
          "yref": "paper"
         },
         {
          "font": {
           "size": 16
          },
          "showarrow": false,
          "text": "algo: brute, k: 10, func: predict",
          "x": 0.775,
          "xanchor": "center",
          "xref": "paper",
          "y": 0.56,
          "yanchor": "bottom",
          "yref": "paper"
         },
         {
          "font": {
           "size": 16
          },
          "showarrow": false,
          "text": "algo: brute, k: 50, func: fit",
          "x": 0.225,
          "xanchor": "center",
          "xref": "paper",
          "y": 0.33999999999999997,
          "yanchor": "bottom",
          "yref": "paper"
         },
         {
          "font": {
           "size": 16
          },
          "showarrow": false,
          "text": "algo: brute, k: 50, func: predict",
          "x": 0.775,
          "xanchor": "center",
          "xref": "paper",
          "y": 0.33999999999999997,
          "yanchor": "bottom",
          "yref": "paper"
         },
         {
          "font": {
           "size": 16
          },
          "showarrow": false,
          "text": "algo: brute, k: 100, func: fit",
          "x": 0.225,
          "xanchor": "center",
          "xref": "paper",
          "y": 0.12,
          "yanchor": "bottom",
          "yref": "paper"
         },
         {
          "font": {
           "size": 16
          },
          "showarrow": false,
          "text": "algo: brute, k: 100, func: predict",
          "x": 0.775,
          "xanchor": "center",
          "xref": "paper",
          "y": 0.12,
          "yanchor": "bottom",
          "yref": "paper"
         }
        ],
        "barmode": "group",
        "height": 1500,
        "showlegend": false,
        "template": {
         "data": {
          "bar": [
           {
            "error_x": {
             "color": "#2a3f5f"
            },
            "error_y": {
             "color": "#2a3f5f"
            },
            "marker": {
             "line": {
              "color": "#E5ECF6",
              "width": 0.5
             }
            },
            "type": "bar"
           }
          ],
          "barpolar": [
           {
            "marker": {
             "line": {
              "color": "#E5ECF6",
              "width": 0.5
             }
            },
            "type": "barpolar"
           }
          ],
          "carpet": [
           {
            "aaxis": {
             "endlinecolor": "#2a3f5f",
             "gridcolor": "white",
             "linecolor": "white",
             "minorgridcolor": "white",
             "startlinecolor": "#2a3f5f"
            },
            "baxis": {
             "endlinecolor": "#2a3f5f",
             "gridcolor": "white",
             "linecolor": "white",
             "minorgridcolor": "white",
             "startlinecolor": "#2a3f5f"
            },
            "type": "carpet"
           }
          ],
          "choropleth": [
           {
            "colorbar": {
             "outlinewidth": 0,
             "ticks": ""
            },
            "type": "choropleth"
           }
          ],
          "contour": [
           {
            "colorbar": {
             "outlinewidth": 0,
             "ticks": ""
            },
            "colorscale": [
             [
              0,
              "#0d0887"
             ],
             [
              0.1111111111111111,
              "#46039f"
             ],
             [
              0.2222222222222222,
              "#7201a8"
             ],
             [
              0.3333333333333333,
              "#9c179e"
             ],
             [
              0.4444444444444444,
              "#bd3786"
             ],
             [
              0.5555555555555556,
              "#d8576b"
             ],
             [
              0.6666666666666666,
              "#ed7953"
             ],
             [
              0.7777777777777778,
              "#fb9f3a"
             ],
             [
              0.8888888888888888,
              "#fdca26"
             ],
             [
              1,
              "#f0f921"
             ]
            ],
            "type": "contour"
           }
          ],
          "contourcarpet": [
           {
            "colorbar": {
             "outlinewidth": 0,
             "ticks": ""
            },
            "type": "contourcarpet"
           }
          ],
          "heatmap": [
           {
            "colorbar": {
             "outlinewidth": 0,
             "ticks": ""
            },
            "colorscale": [
             [
              0,
              "#0d0887"
             ],
             [
              0.1111111111111111,
              "#46039f"
             ],
             [
              0.2222222222222222,
              "#7201a8"
             ],
             [
              0.3333333333333333,
              "#9c179e"
             ],
             [
              0.4444444444444444,
              "#bd3786"
             ],
             [
              0.5555555555555556,
              "#d8576b"
             ],
             [
              0.6666666666666666,
              "#ed7953"
             ],
             [
              0.7777777777777778,
              "#fb9f3a"
             ],
             [
              0.8888888888888888,
              "#fdca26"
             ],
             [
              1,
              "#f0f921"
             ]
            ],
            "type": "heatmap"
           }
          ],
          "heatmapgl": [
           {
            "colorbar": {
             "outlinewidth": 0,
             "ticks": ""
            },
            "colorscale": [
             [
              0,
              "#0d0887"
             ],
             [
              0.1111111111111111,
              "#46039f"
             ],
             [
              0.2222222222222222,
              "#7201a8"
             ],
             [
              0.3333333333333333,
              "#9c179e"
             ],
             [
              0.4444444444444444,
              "#bd3786"
             ],
             [
              0.5555555555555556,
              "#d8576b"
             ],
             [
              0.6666666666666666,
              "#ed7953"
             ],
             [
              0.7777777777777778,
              "#fb9f3a"
             ],
             [
              0.8888888888888888,
              "#fdca26"
             ],
             [
              1,
              "#f0f921"
             ]
            ],
            "type": "heatmapgl"
           }
          ],
          "histogram": [
           {
            "marker": {
             "colorbar": {
              "outlinewidth": 0,
              "ticks": ""
             }
            },
            "type": "histogram"
           }
          ],
          "histogram2d": [
           {
            "colorbar": {
             "outlinewidth": 0,
             "ticks": ""
            },
            "colorscale": [
             [
              0,
              "#0d0887"
             ],
             [
              0.1111111111111111,
              "#46039f"
             ],
             [
              0.2222222222222222,
              "#7201a8"
             ],
             [
              0.3333333333333333,
              "#9c179e"
             ],
             [
              0.4444444444444444,
              "#bd3786"
             ],
             [
              0.5555555555555556,
              "#d8576b"
             ],
             [
              0.6666666666666666,
              "#ed7953"
             ],
             [
              0.7777777777777778,
              "#fb9f3a"
             ],
             [
              0.8888888888888888,
              "#fdca26"
             ],
             [
              1,
              "#f0f921"
             ]
            ],
            "type": "histogram2d"
           }
          ],
          "histogram2dcontour": [
           {
            "colorbar": {
             "outlinewidth": 0,
             "ticks": ""
            },
            "colorscale": [
             [
              0,
              "#0d0887"
             ],
             [
              0.1111111111111111,
              "#46039f"
             ],
             [
              0.2222222222222222,
              "#7201a8"
             ],
             [
              0.3333333333333333,
              "#9c179e"
             ],
             [
              0.4444444444444444,
              "#bd3786"
             ],
             [
              0.5555555555555556,
              "#d8576b"
             ],
             [
              0.6666666666666666,
              "#ed7953"
             ],
             [
              0.7777777777777778,
              "#fb9f3a"
             ],
             [
              0.8888888888888888,
              "#fdca26"
             ],
             [
              1,
              "#f0f921"
             ]
            ],
            "type": "histogram2dcontour"
           }
          ],
          "mesh3d": [
           {
            "colorbar": {
             "outlinewidth": 0,
             "ticks": ""
            },
            "type": "mesh3d"
           }
          ],
          "parcoords": [
           {
            "line": {
             "colorbar": {
              "outlinewidth": 0,
              "ticks": ""
             }
            },
            "type": "parcoords"
           }
          ],
          "pie": [
           {
            "automargin": true,
            "type": "pie"
           }
          ],
          "scatter": [
           {
            "marker": {
             "colorbar": {
              "outlinewidth": 0,
              "ticks": ""
             }
            },
            "type": "scatter"
           }
          ],
          "scatter3d": [
           {
            "line": {
             "colorbar": {
              "outlinewidth": 0,
              "ticks": ""
             }
            },
            "marker": {
             "colorbar": {
              "outlinewidth": 0,
              "ticks": ""
             }
            },
            "type": "scatter3d"
           }
          ],
          "scattercarpet": [
           {
            "marker": {
             "colorbar": {
              "outlinewidth": 0,
              "ticks": ""
             }
            },
            "type": "scattercarpet"
           }
          ],
          "scattergeo": [
           {
            "marker": {
             "colorbar": {
              "outlinewidth": 0,
              "ticks": ""
             }
            },
            "type": "scattergeo"
           }
          ],
          "scattergl": [
           {
            "marker": {
             "colorbar": {
              "outlinewidth": 0,
              "ticks": ""
             }
            },
            "type": "scattergl"
           }
          ],
          "scattermapbox": [
           {
            "marker": {
             "colorbar": {
              "outlinewidth": 0,
              "ticks": ""
             }
            },
            "type": "scattermapbox"
           }
          ],
          "scatterpolar": [
           {
            "marker": {
             "colorbar": {
              "outlinewidth": 0,
              "ticks": ""
             }
            },
            "type": "scatterpolar"
           }
          ],
          "scatterpolargl": [
           {
            "marker": {
             "colorbar": {
              "outlinewidth": 0,
              "ticks": ""
             }
            },
            "type": "scatterpolargl"
           }
          ],
          "scatterternary": [
           {
            "marker": {
             "colorbar": {
              "outlinewidth": 0,
              "ticks": ""
             }
            },
            "type": "scatterternary"
           }
          ],
          "surface": [
           {
            "colorbar": {
             "outlinewidth": 0,
             "ticks": ""
            },
            "colorscale": [
             [
              0,
              "#0d0887"
             ],
             [
              0.1111111111111111,
              "#46039f"
             ],
             [
              0.2222222222222222,
              "#7201a8"
             ],
             [
              0.3333333333333333,
              "#9c179e"
             ],
             [
              0.4444444444444444,
              "#bd3786"
             ],
             [
              0.5555555555555556,
              "#d8576b"
             ],
             [
              0.6666666666666666,
              "#ed7953"
             ],
             [
              0.7777777777777778,
              "#fb9f3a"
             ],
             [
              0.8888888888888888,
              "#fdca26"
             ],
             [
              1,
              "#f0f921"
             ]
            ],
            "type": "surface"
           }
          ],
          "table": [
           {
            "cells": {
             "fill": {
              "color": "#EBF0F8"
             },
             "line": {
              "color": "white"
             }
            },
            "header": {
             "fill": {
              "color": "#C8D4E3"
             },
             "line": {
              "color": "white"
             }
            },
            "type": "table"
           }
          ]
         },
         "layout": {
          "annotationdefaults": {
           "arrowcolor": "#2a3f5f",
           "arrowhead": 0,
           "arrowwidth": 1
          },
          "autotypenumbers": "strict",
          "coloraxis": {
           "colorbar": {
            "outlinewidth": 0,
            "ticks": ""
           }
          },
          "colorscale": {
           "diverging": [
            [
             0,
             "#8e0152"
            ],
            [
             0.1,
             "#c51b7d"
            ],
            [
             0.2,
             "#de77ae"
            ],
            [
             0.3,
             "#f1b6da"
            ],
            [
             0.4,
             "#fde0ef"
            ],
            [
             0.5,
             "#f7f7f7"
            ],
            [
             0.6,
             "#e6f5d0"
            ],
            [
             0.7,
             "#b8e186"
            ],
            [
             0.8,
             "#7fbc41"
            ],
            [
             0.9,
             "#4d9221"
            ],
            [
             1,
             "#276419"
            ]
           ],
           "sequential": [
            [
             0,
             "#0d0887"
            ],
            [
             0.1111111111111111,
             "#46039f"
            ],
            [
             0.2222222222222222,
             "#7201a8"
            ],
            [
             0.3333333333333333,
             "#9c179e"
            ],
            [
             0.4444444444444444,
             "#bd3786"
            ],
            [
             0.5555555555555556,
             "#d8576b"
            ],
            [
             0.6666666666666666,
             "#ed7953"
            ],
            [
             0.7777777777777778,
             "#fb9f3a"
            ],
            [
             0.8888888888888888,
             "#fdca26"
            ],
            [
             1,
             "#f0f921"
            ]
           ],
           "sequentialminus": [
            [
             0,
             "#0d0887"
            ],
            [
             0.1111111111111111,
             "#46039f"
            ],
            [
             0.2222222222222222,
             "#7201a8"
            ],
            [
             0.3333333333333333,
             "#9c179e"
            ],
            [
             0.4444444444444444,
             "#bd3786"
            ],
            [
             0.5555555555555556,
             "#d8576b"
            ],
            [
             0.6666666666666666,
             "#ed7953"
            ],
            [
             0.7777777777777778,
             "#fb9f3a"
            ],
            [
             0.8888888888888888,
             "#fdca26"
            ],
            [
             1,
             "#f0f921"
            ]
           ]
          },
          "colorway": [
           "#636efa",
           "#EF553B",
           "#00cc96",
           "#ab63fa",
           "#FFA15A",
           "#19d3f3",
           "#FF6692",
           "#B6E880",
           "#FF97FF",
           "#FECB52"
          ],
          "font": {
           "color": "#2a3f5f"
          },
          "geo": {
           "bgcolor": "white",
           "lakecolor": "white",
           "landcolor": "#E5ECF6",
           "showlakes": true,
           "showland": true,
           "subunitcolor": "white"
          },
          "hoverlabel": {
           "align": "left"
          },
          "hovermode": "closest",
          "mapbox": {
           "style": "light"
          },
          "paper_bgcolor": "white",
          "plot_bgcolor": "#E5ECF6",
          "polar": {
           "angularaxis": {
            "gridcolor": "white",
            "linecolor": "white",
            "ticks": ""
           },
           "bgcolor": "#E5ECF6",
           "radialaxis": {
            "gridcolor": "white",
            "linecolor": "white",
            "ticks": ""
           }
          },
          "scene": {
           "xaxis": {
            "backgroundcolor": "#E5ECF6",
            "gridcolor": "white",
            "gridwidth": 2,
            "linecolor": "white",
            "showbackground": true,
            "ticks": "",
            "zerolinecolor": "white"
           },
           "yaxis": {
            "backgroundcolor": "#E5ECF6",
            "gridcolor": "white",
            "gridwidth": 2,
            "linecolor": "white",
            "showbackground": true,
            "ticks": "",
            "zerolinecolor": "white"
           },
           "zaxis": {
            "backgroundcolor": "#E5ECF6",
            "gridcolor": "white",
            "gridwidth": 2,
            "linecolor": "white",
            "showbackground": true,
            "ticks": "",
            "zerolinecolor": "white"
           }
          },
          "shapedefaults": {
           "line": {
            "color": "#2a3f5f"
           }
          },
          "ternary": {
           "aaxis": {
            "gridcolor": "white",
            "linecolor": "white",
            "ticks": ""
           },
           "baxis": {
            "gridcolor": "white",
            "linecolor": "white",
            "ticks": ""
           },
           "bgcolor": "#E5ECF6",
           "caxis": {
            "gridcolor": "white",
            "linecolor": "white",
            "ticks": ""
           }
          },
          "title": {
           "x": 0.05
          },
          "xaxis": {
           "automargin": true,
           "gridcolor": "white",
           "linecolor": "white",
           "ticks": "",
           "title": {
            "standoff": 15
           },
           "zerolinecolor": "white",
           "zerolinewidth": 2
          },
          "yaxis": {
           "automargin": true,
           "gridcolor": "white",
           "linecolor": "white",
           "ticks": "",
           "title": {
            "standoff": 15
           },
           "zerolinecolor": "white",
           "zerolinewidth": 2
          }
         }
        },
        "xaxis": {
         "anchor": "y",
         "domain": [
          0,
          0.45
         ]
        },
        "xaxis10": {
         "anchor": "y10",
         "domain": [
          0.55,
          1
         ]
        },
        "xaxis2": {
         "anchor": "y2",
         "domain": [
          0.55,
          1
         ]
        },
        "xaxis3": {
         "anchor": "y3",
         "domain": [
          0,
          0.45
         ]
        },
        "xaxis4": {
         "anchor": "y4",
         "domain": [
          0.55,
          1
         ]
        },
        "xaxis5": {
         "anchor": "y5",
         "domain": [
          0,
          0.45
         ]
        },
        "xaxis6": {
         "anchor": "y6",
         "domain": [
          0.55,
          1
         ]
        },
        "xaxis7": {
         "anchor": "y7",
         "domain": [
          0,
          0.45
         ]
        },
        "xaxis8": {
         "anchor": "y8",
         "domain": [
          0.55,
          1
         ]
        },
        "xaxis9": {
         "anchor": "y9",
         "domain": [
          0,
          0.45
         ]
        },
        "yaxis": {
         "anchor": "x",
         "domain": [
          0.88,
          1
         ]
        },
        "yaxis10": {
         "anchor": "x10",
         "domain": [
          0,
          0.12
         ]
        },
        "yaxis2": {
         "anchor": "x2",
         "domain": [
          0.88,
          1
         ]
        },
        "yaxis3": {
         "anchor": "x3",
         "domain": [
          0.66,
          0.78
         ]
        },
        "yaxis4": {
         "anchor": "x4",
         "domain": [
          0.66,
          0.78
         ]
        },
        "yaxis5": {
         "anchor": "x5",
         "domain": [
          0.44,
          0.56
         ]
        },
        "yaxis6": {
         "anchor": "x6",
         "domain": [
          0.44,
          0.56
         ]
        },
        "yaxis7": {
         "anchor": "x7",
         "domain": [
          0.22,
          0.33999999999999997
         ]
        },
        "yaxis8": {
         "anchor": "x8",
         "domain": [
          0.22,
          0.33999999999999997
         ]
        },
        "yaxis9": {
         "anchor": "x9",
         "domain": [
          0,
          0.12
         ]
        }
       }
      },
      "text/html": [
       "<div>                            <div id=\"4cb3fb9d-1b98-4b4c-be47-36c85646b1a8\" class=\"plotly-graph-div\" style=\"height:1500px; width:100%;\"></div>            <script type=\"text/javascript\">                require([\"plotly\"], function(Plotly) {                    window.PLOTLYENV=window.PLOTLYENV || {};                                    if (document.getElementById(\"4cb3fb9d-1b98-4b4c-be47-36c85646b1a8\")) {                    Plotly.newPlot(                        \"4cb3fb9d-1b98-4b4c-be47-36c85646b1a8\",                        [{\"customdata\": [[\"fit\", 1000000, 100, \"brute\", 1, 1, 0.15], [\"fit\", 1000000, 2, \"brute\", 1, 1, 0.6]], \"hovertemplate\": \"function: <b>%{customdata[0]}</b><br>n_samples: <b>%{customdata[1]}</b><br>n_features: <b>%{customdata[2]}</b><br>algo: <b>%{customdata[3]}</b><br>n_jobs: <b>%{customdata[4]}</b><br>n_neighbors: <b>%{customdata[5]}</b><br>speedup: <b>%{customdata[6]}</b><br><extra></extra>\", \"marker\": {\"color\": \"indianred\"}, \"name\": \"n_jobs: 1\", \"showlegend\": false, \"type\": \"bar\", \"x\": [\"(1000000, 100)\", \"(1000000, 2)\"], \"xaxis\": \"x\", \"y\": [0.15, 0.6], \"yaxis\": \"y\"}, {\"customdata\": [[\"fit\", 1000000, 100, \"brute\", -1, 1, 0.23], [\"fit\", 1000000, 2, \"brute\", -1, 1, 0.76]], \"hovertemplate\": \"function: <b>%{customdata[0]}</b><br>n_samples: <b>%{customdata[1]}</b><br>n_features: <b>%{customdata[2]}</b><br>algo: <b>%{customdata[3]}</b><br>n_jobs: <b>%{customdata[4]}</b><br>n_neighbors: <b>%{customdata[5]}</b><br>speedup: <b>%{customdata[6]}</b><br><extra></extra>\", \"marker\": {\"color\": \"lightsalmon\"}, \"name\": \"n_jobs: -1\", \"showlegend\": false, \"type\": \"bar\", \"x\": [\"(1000000, 100)\", \"(1000000, 2)\"], \"xaxis\": \"x\", \"y\": [0.23, 0.76], \"yaxis\": \"y\"}, {\"customdata\": [[\"predict\", 1000, 100, \"brute\", 1, 1, 11.55], [\"predict\", 1, 100, \"brute\", 1, 1, 2.03], [\"predict\", 1000, 2, \"brute\", 1, 1, 56.67], [\"predict\", 1, 2, \"brute\", 1, 1, 4.62]], \"hovertemplate\": \"function: <b>%{customdata[0]}</b><br>n_samples: <b>%{customdata[1]}</b><br>n_features: <b>%{customdata[2]}</b><br>algo: <b>%{customdata[3]}</b><br>n_jobs: <b>%{customdata[4]}</b><br>n_neighbors: <b>%{customdata[5]}</b><br>speedup: <b>%{customdata[6]}</b><br><extra></extra>\", \"marker\": {\"color\": \"indianred\"}, \"name\": \"n_jobs: 1\", \"showlegend\": false, \"type\": \"bar\", \"x\": [\"(1000, 100)\", \"(1, 100)\", \"(1000, 2)\", \"(1, 2)\"], \"xaxis\": \"x2\", \"y\": [11.55, 2.03, 56.67, 4.62], \"yaxis\": \"y2\"}, {\"customdata\": [[\"predict\", 1000, 100, \"brute\", -1, 1, 26.83], [\"predict\", 1, 100, \"brute\", -1, 1, 2.37], [\"predict\", 1000, 2, \"brute\", -1, 1, 129.68], [\"predict\", 1, 2, \"brute\", -1, 1, 11.08]], \"hovertemplate\": \"function: <b>%{customdata[0]}</b><br>n_samples: <b>%{customdata[1]}</b><br>n_features: <b>%{customdata[2]}</b><br>algo: <b>%{customdata[3]}</b><br>n_jobs: <b>%{customdata[4]}</b><br>n_neighbors: <b>%{customdata[5]}</b><br>speedup: <b>%{customdata[6]}</b><br><extra></extra>\", \"marker\": {\"color\": \"lightsalmon\"}, \"name\": \"n_jobs: -1\", \"showlegend\": false, \"type\": \"bar\", \"x\": [\"(1000, 100)\", \"(1, 100)\", \"(1000, 2)\", \"(1, 2)\"], \"xaxis\": \"x2\", \"y\": [26.83, 2.37, 129.68, 11.08], \"yaxis\": \"y2\"}, {\"customdata\": [[\"fit\", 1000000, 100, \"brute\", 1, 5, 0.15], [\"fit\", 1000000, 2, \"brute\", 1, 5, 0.56]], \"hovertemplate\": \"function: <b>%{customdata[0]}</b><br>n_samples: <b>%{customdata[1]}</b><br>n_features: <b>%{customdata[2]}</b><br>algo: <b>%{customdata[3]}</b><br>n_jobs: <b>%{customdata[4]}</b><br>n_neighbors: <b>%{customdata[5]}</b><br>speedup: <b>%{customdata[6]}</b><br><extra></extra>\", \"marker\": {\"color\": \"indianred\"}, \"name\": \"n_jobs: 1\", \"showlegend\": false, \"type\": \"bar\", \"x\": [\"(1000000, 100)\", \"(1000000, 2)\"], \"xaxis\": \"x3\", \"y\": [0.15, 0.56], \"yaxis\": \"y3\"}, {\"customdata\": [[\"fit\", 1000000, 100, \"brute\", -1, 5, 0.2], [\"fit\", 1000000, 2, \"brute\", -1, 5, 0.67]], \"hovertemplate\": \"function: <b>%{customdata[0]}</b><br>n_samples: <b>%{customdata[1]}</b><br>n_features: <b>%{customdata[2]}</b><br>algo: <b>%{customdata[3]}</b><br>n_jobs: <b>%{customdata[4]}</b><br>n_neighbors: <b>%{customdata[5]}</b><br>speedup: <b>%{customdata[6]}</b><br><extra></extra>\", \"marker\": {\"color\": \"lightsalmon\"}, \"name\": \"n_jobs: -1\", \"showlegend\": false, \"type\": \"bar\", \"x\": [\"(1000000, 100)\", \"(1000000, 2)\"], \"xaxis\": \"x3\", \"y\": [0.2, 0.67], \"yaxis\": \"y3\"}, {\"customdata\": [[\"predict\", 1000, 100, \"brute\", 1, 5, 16.36], [\"predict\", 1, 100, \"brute\", 1, 5, 2.17], [\"predict\", 1000, 2, \"brute\", 1, 5, 100.14], [\"predict\", 1, 2, \"brute\", 1, 5, 8.71]], \"hovertemplate\": \"function: <b>%{customdata[0]}</b><br>n_samples: <b>%{customdata[1]}</b><br>n_features: <b>%{customdata[2]}</b><br>algo: <b>%{customdata[3]}</b><br>n_jobs: <b>%{customdata[4]}</b><br>n_neighbors: <b>%{customdata[5]}</b><br>speedup: <b>%{customdata[6]}</b><br><extra></extra>\", \"marker\": {\"color\": \"indianred\"}, \"name\": \"n_jobs: 1\", \"showlegend\": false, \"type\": \"bar\", \"x\": [\"(1000, 100)\", \"(1, 100)\", \"(1000, 2)\", \"(1, 2)\"], \"xaxis\": \"x4\", \"y\": [16.36, 2.17, 100.14, 8.71], \"yaxis\": \"y4\"}, {\"customdata\": [[\"predict\", 1000, 100, \"brute\", -1, 5, 32.69], [\"predict\", 1, 100, \"brute\", -1, 5, 1.74], [\"predict\", 1000, 2, \"brute\", -1, 5, 139.71], [\"predict\", 1, 2, \"brute\", -1, 5, 12.2]], \"hovertemplate\": \"function: <b>%{customdata[0]}</b><br>n_samples: <b>%{customdata[1]}</b><br>n_features: <b>%{customdata[2]}</b><br>algo: <b>%{customdata[3]}</b><br>n_jobs: <b>%{customdata[4]}</b><br>n_neighbors: <b>%{customdata[5]}</b><br>speedup: <b>%{customdata[6]}</b><br><extra></extra>\", \"marker\": {\"color\": \"lightsalmon\"}, \"name\": \"n_jobs: -1\", \"showlegend\": false, \"type\": \"bar\", \"x\": [\"(1000, 100)\", \"(1, 100)\", \"(1000, 2)\", \"(1, 2)\"], \"xaxis\": \"x4\", \"y\": [32.69, 1.74, 139.71, 12.2], \"yaxis\": \"y4\"}, {\"customdata\": [[\"fit\", 1000000, 100, \"brute\", 1, 10, 0.14], [\"fit\", 1000000, 2, \"brute\", 1, 10, 0.62]], \"hovertemplate\": \"function: <b>%{customdata[0]}</b><br>n_samples: <b>%{customdata[1]}</b><br>n_features: <b>%{customdata[2]}</b><br>algo: <b>%{customdata[3]}</b><br>n_jobs: <b>%{customdata[4]}</b><br>n_neighbors: <b>%{customdata[5]}</b><br>speedup: <b>%{customdata[6]}</b><br><extra></extra>\", \"marker\": {\"color\": \"indianred\"}, \"name\": \"n_jobs: 1\", \"showlegend\": false, \"type\": \"bar\", \"x\": [\"(1000000, 100)\", \"(1000000, 2)\"], \"xaxis\": \"x5\", \"y\": [0.14, 0.62], \"yaxis\": \"y5\"}, {\"customdata\": [[\"fit\", 1000000, 100, \"brute\", -1, 10, 0.16], [\"fit\", 1000000, 2, \"brute\", -1, 10, 0.53]], \"hovertemplate\": \"function: <b>%{customdata[0]}</b><br>n_samples: <b>%{customdata[1]}</b><br>n_features: <b>%{customdata[2]}</b><br>algo: <b>%{customdata[3]}</b><br>n_jobs: <b>%{customdata[4]}</b><br>n_neighbors: <b>%{customdata[5]}</b><br>speedup: <b>%{customdata[6]}</b><br><extra></extra>\", \"marker\": {\"color\": \"lightsalmon\"}, \"name\": \"n_jobs: -1\", \"showlegend\": false, \"type\": \"bar\", \"x\": [\"(1000000, 100)\", \"(1000000, 2)\"], \"xaxis\": \"x5\", \"y\": [0.16, 0.53], \"yaxis\": \"y5\"}, {\"customdata\": [[\"predict\", 1000, 100, \"brute\", 1, 10, 18.22], [\"predict\", 1, 100, \"brute\", 1, 10, 2.4], [\"predict\", 1000, 2, \"brute\", 1, 10, 96.17], [\"predict\", 1, 2, \"brute\", 1, 10, 8.47]], \"hovertemplate\": \"function: <b>%{customdata[0]}</b><br>n_samples: <b>%{customdata[1]}</b><br>n_features: <b>%{customdata[2]}</b><br>algo: <b>%{customdata[3]}</b><br>n_jobs: <b>%{customdata[4]}</b><br>n_neighbors: <b>%{customdata[5]}</b><br>speedup: <b>%{customdata[6]}</b><br><extra></extra>\", \"marker\": {\"color\": \"indianred\"}, \"name\": \"n_jobs: 1\", \"showlegend\": false, \"type\": \"bar\", \"x\": [\"(1000, 100)\", \"(1, 100)\", \"(1000, 2)\", \"(1, 2)\"], \"xaxis\": \"x6\", \"y\": [18.22, 2.4, 96.17, 8.47], \"yaxis\": \"y6\"}, {\"customdata\": [[\"predict\", 1000, 100, \"brute\", -1, 10, 32.55], [\"predict\", 1, 100, \"brute\", -1, 10, 1.92], [\"predict\", 1000, 2, \"brute\", -1, 10, 143.12], [\"predict\", 1, 2, \"brute\", -1, 10, 13.73]], \"hovertemplate\": \"function: <b>%{customdata[0]}</b><br>n_samples: <b>%{customdata[1]}</b><br>n_features: <b>%{customdata[2]}</b><br>algo: <b>%{customdata[3]}</b><br>n_jobs: <b>%{customdata[4]}</b><br>n_neighbors: <b>%{customdata[5]}</b><br>speedup: <b>%{customdata[6]}</b><br><extra></extra>\", \"marker\": {\"color\": \"lightsalmon\"}, \"name\": \"n_jobs: -1\", \"showlegend\": false, \"type\": \"bar\", \"x\": [\"(1000, 100)\", \"(1, 100)\", \"(1000, 2)\", \"(1, 2)\"], \"xaxis\": \"x6\", \"y\": [32.55, 1.92, 143.12, 13.73], \"yaxis\": \"y6\"}, {\"customdata\": [[\"fit\", 1000000, 100, \"brute\", 1, 50, 0.16], [\"fit\", 1000000, 2, \"brute\", 1, 50, 0.58]], \"hovertemplate\": \"function: <b>%{customdata[0]}</b><br>n_samples: <b>%{customdata[1]}</b><br>n_features: <b>%{customdata[2]}</b><br>algo: <b>%{customdata[3]}</b><br>n_jobs: <b>%{customdata[4]}</b><br>n_neighbors: <b>%{customdata[5]}</b><br>speedup: <b>%{customdata[6]}</b><br><extra></extra>\", \"marker\": {\"color\": \"indianred\"}, \"name\": \"n_jobs: 1\", \"showlegend\": false, \"type\": \"bar\", \"x\": [\"(1000000, 100)\", \"(1000000, 2)\"], \"xaxis\": \"x7\", \"y\": [0.16, 0.58], \"yaxis\": \"y7\"}, {\"customdata\": [[\"fit\", 1000000, 100, \"brute\", -1, 50, 0.16], [\"fit\", 1000000, 2, \"brute\", -1, 50, 0.69]], \"hovertemplate\": \"function: <b>%{customdata[0]}</b><br>n_samples: <b>%{customdata[1]}</b><br>n_features: <b>%{customdata[2]}</b><br>algo: <b>%{customdata[3]}</b><br>n_jobs: <b>%{customdata[4]}</b><br>n_neighbors: <b>%{customdata[5]}</b><br>speedup: <b>%{customdata[6]}</b><br><extra></extra>\", \"marker\": {\"color\": \"lightsalmon\"}, \"name\": \"n_jobs: -1\", \"showlegend\": false, \"type\": \"bar\", \"x\": [\"(1000000, 100)\", \"(1000000, 2)\"], \"xaxis\": \"x7\", \"y\": [0.16, 0.69], \"yaxis\": \"y7\"}, {\"customdata\": [[\"predict\", 1000, 100, \"brute\", 1, 50, 18.08], [\"predict\", 1, 100, \"brute\", 1, 50, 2.23], [\"predict\", 1000, 2, \"brute\", 1, 50, 76.5], [\"predict\", 1, 2, \"brute\", 1, 50, 8.28]], \"hovertemplate\": \"function: <b>%{customdata[0]}</b><br>n_samples: <b>%{customdata[1]}</b><br>n_features: <b>%{customdata[2]}</b><br>algo: <b>%{customdata[3]}</b><br>n_jobs: <b>%{customdata[4]}</b><br>n_neighbors: <b>%{customdata[5]}</b><br>speedup: <b>%{customdata[6]}</b><br><extra></extra>\", \"marker\": {\"color\": \"indianred\"}, \"name\": \"n_jobs: 1\", \"showlegend\": false, \"type\": \"bar\", \"x\": [\"(1000, 100)\", \"(1, 100)\", \"(1000, 2)\", \"(1, 2)\"], \"xaxis\": \"x8\", \"y\": [18.08, 2.23, 76.5, 8.28], \"yaxis\": \"y8\"}, {\"customdata\": [[\"predict\", 1000, 100, \"brute\", -1, 50, 29.64], [\"predict\", 1, 100, \"brute\", -1, 50, 1.56], [\"predict\", 1000, 2, \"brute\", -1, 50, 122.37], [\"predict\", 1, 2, \"brute\", -1, 50, 10.64]], \"hovertemplate\": \"function: <b>%{customdata[0]}</b><br>n_samples: <b>%{customdata[1]}</b><br>n_features: <b>%{customdata[2]}</b><br>algo: <b>%{customdata[3]}</b><br>n_jobs: <b>%{customdata[4]}</b><br>n_neighbors: <b>%{customdata[5]}</b><br>speedup: <b>%{customdata[6]}</b><br><extra></extra>\", \"marker\": {\"color\": \"lightsalmon\"}, \"name\": \"n_jobs: -1\", \"showlegend\": false, \"type\": \"bar\", \"x\": [\"(1000, 100)\", \"(1, 100)\", \"(1000, 2)\", \"(1, 2)\"], \"xaxis\": \"x8\", \"y\": [29.64, 1.56, 122.37, 10.64], \"yaxis\": \"y8\"}, {\"customdata\": [[\"fit\", 1000000, 100, \"brute\", 1, 100, 0.16], [\"fit\", 1000000, 2, \"brute\", 1, 100, 0.63]], \"hovertemplate\": \"function: <b>%{customdata[0]}</b><br>n_samples: <b>%{customdata[1]}</b><br>n_features: <b>%{customdata[2]}</b><br>algo: <b>%{customdata[3]}</b><br>n_jobs: <b>%{customdata[4]}</b><br>n_neighbors: <b>%{customdata[5]}</b><br>speedup: <b>%{customdata[6]}</b><br><extra></extra>\", \"marker\": {\"color\": \"indianred\"}, \"name\": \"n_jobs: 1\", \"showlegend\": false, \"type\": \"bar\", \"x\": [\"(1000000, 100)\", \"(1000000, 2)\"], \"xaxis\": \"x9\", \"y\": [0.16, 0.63], \"yaxis\": \"y9\"}, {\"customdata\": [[\"fit\", 1000000, 100, \"brute\", -1, 100, 0.14], [\"fit\", 1000000, 2, \"brute\", -1, 100, 0.62]], \"hovertemplate\": \"function: <b>%{customdata[0]}</b><br>n_samples: <b>%{customdata[1]}</b><br>n_features: <b>%{customdata[2]}</b><br>algo: <b>%{customdata[3]}</b><br>n_jobs: <b>%{customdata[4]}</b><br>n_neighbors: <b>%{customdata[5]}</b><br>speedup: <b>%{customdata[6]}</b><br><extra></extra>\", \"marker\": {\"color\": \"lightsalmon\"}, \"name\": \"n_jobs: -1\", \"showlegend\": false, \"type\": \"bar\", \"x\": [\"(1000000, 100)\", \"(1000000, 2)\"], \"xaxis\": \"x9\", \"y\": [0.14, 0.62], \"yaxis\": \"y9\"}, {\"customdata\": [[\"predict\", 1000, 100, \"brute\", 1, 100, 18.29], [\"predict\", 1, 100, \"brute\", 1, 100, 2.48], [\"predict\", 1000, 2, \"brute\", 1, 100, 63.94], [\"predict\", 1, 2, \"brute\", 1, 100, 9.56]], \"hovertemplate\": \"function: <b>%{customdata[0]}</b><br>n_samples: <b>%{customdata[1]}</b><br>n_features: <b>%{customdata[2]}</b><br>algo: <b>%{customdata[3]}</b><br>n_jobs: <b>%{customdata[4]}</b><br>n_neighbors: <b>%{customdata[5]}</b><br>speedup: <b>%{customdata[6]}</b><br><extra></extra>\", \"marker\": {\"color\": \"indianred\"}, \"name\": \"n_jobs: 1\", \"showlegend\": false, \"type\": \"bar\", \"x\": [\"(1000, 100)\", \"(1, 100)\", \"(1000, 2)\", \"(1, 2)\"], \"xaxis\": \"x10\", \"y\": [18.29, 2.48, 63.94, 9.56], \"yaxis\": \"y10\"}, {\"customdata\": [[\"predict\", 1000, 100, \"brute\", -1, 100, 25.83], [\"predict\", 1, 100, \"brute\", -1, 100, 1.98], [\"predict\", 1000, 2, \"brute\", -1, 100, 96.98], [\"predict\", 1, 2, \"brute\", -1, 100, 11.74]], \"hovertemplate\": \"function: <b>%{customdata[0]}</b><br>n_samples: <b>%{customdata[1]}</b><br>n_features: <b>%{customdata[2]}</b><br>algo: <b>%{customdata[3]}</b><br>n_jobs: <b>%{customdata[4]}</b><br>n_neighbors: <b>%{customdata[5]}</b><br>speedup: <b>%{customdata[6]}</b><br><extra></extra>\", \"marker\": {\"color\": \"lightsalmon\"}, \"name\": \"n_jobs: -1\", \"showlegend\": false, \"type\": \"bar\", \"x\": [\"(1000, 100)\", \"(1, 100)\", \"(1000, 2)\", \"(1, 2)\"], \"xaxis\": \"x10\", \"y\": [25.83, 1.98, 96.98, 11.74], \"yaxis\": \"y10\"}],                        {\"annotations\": [{\"font\": {\"size\": 16}, \"showarrow\": false, \"text\": \"algo: brute, k: 1, func: fit\", \"x\": 0.225, \"xanchor\": \"center\", \"xref\": \"paper\", \"y\": 1.0, \"yanchor\": \"bottom\", \"yref\": \"paper\"}, {\"font\": {\"size\": 16}, \"showarrow\": false, \"text\": \"algo: brute, k: 1, func: predict\", \"x\": 0.775, \"xanchor\": \"center\", \"xref\": \"paper\", \"y\": 1.0, \"yanchor\": \"bottom\", \"yref\": \"paper\"}, {\"font\": {\"size\": 16}, \"showarrow\": false, \"text\": \"algo: brute, k: 5, func: fit\", \"x\": 0.225, \"xanchor\": \"center\", \"xref\": \"paper\", \"y\": 0.78, \"yanchor\": \"bottom\", \"yref\": \"paper\"}, {\"font\": {\"size\": 16}, \"showarrow\": false, \"text\": \"algo: brute, k: 5, func: predict\", \"x\": 0.775, \"xanchor\": \"center\", \"xref\": \"paper\", \"y\": 0.78, \"yanchor\": \"bottom\", \"yref\": \"paper\"}, {\"font\": {\"size\": 16}, \"showarrow\": false, \"text\": \"algo: brute, k: 10, func: fit\", \"x\": 0.225, \"xanchor\": \"center\", \"xref\": \"paper\", \"y\": 0.56, \"yanchor\": \"bottom\", \"yref\": \"paper\"}, {\"font\": {\"size\": 16}, \"showarrow\": false, \"text\": \"algo: brute, k: 10, func: predict\", \"x\": 0.775, \"xanchor\": \"center\", \"xref\": \"paper\", \"y\": 0.56, \"yanchor\": \"bottom\", \"yref\": \"paper\"}, {\"font\": {\"size\": 16}, \"showarrow\": false, \"text\": \"algo: brute, k: 50, func: fit\", \"x\": 0.225, \"xanchor\": \"center\", \"xref\": \"paper\", \"y\": 0.33999999999999997, \"yanchor\": \"bottom\", \"yref\": \"paper\"}, {\"font\": {\"size\": 16}, \"showarrow\": false, \"text\": \"algo: brute, k: 50, func: predict\", \"x\": 0.775, \"xanchor\": \"center\", \"xref\": \"paper\", \"y\": 0.33999999999999997, \"yanchor\": \"bottom\", \"yref\": \"paper\"}, {\"font\": {\"size\": 16}, \"showarrow\": false, \"text\": \"algo: brute, k: 100, func: fit\", \"x\": 0.225, \"xanchor\": \"center\", \"xref\": \"paper\", \"y\": 0.12, \"yanchor\": \"bottom\", \"yref\": \"paper\"}, {\"font\": {\"size\": 16}, \"showarrow\": false, \"text\": \"algo: brute, k: 100, func: predict\", \"x\": 0.775, \"xanchor\": \"center\", \"xref\": \"paper\", \"y\": 0.12, \"yanchor\": \"bottom\", \"yref\": \"paper\"}], \"barmode\": \"group\", \"height\": 1500, \"showlegend\": false, \"template\": {\"data\": {\"bar\": [{\"error_x\": {\"color\": \"#2a3f5f\"}, \"error_y\": {\"color\": \"#2a3f5f\"}, \"marker\": {\"line\": {\"color\": \"#E5ECF6\", \"width\": 0.5}}, \"type\": \"bar\"}], \"barpolar\": [{\"marker\": {\"line\": {\"color\": \"#E5ECF6\", \"width\": 0.5}}, \"type\": \"barpolar\"}], \"carpet\": [{\"aaxis\": {\"endlinecolor\": \"#2a3f5f\", \"gridcolor\": \"white\", \"linecolor\": \"white\", \"minorgridcolor\": \"white\", \"startlinecolor\": \"#2a3f5f\"}, \"baxis\": {\"endlinecolor\": \"#2a3f5f\", \"gridcolor\": \"white\", \"linecolor\": \"white\", \"minorgridcolor\": \"white\", \"startlinecolor\": \"#2a3f5f\"}, \"type\": \"carpet\"}], \"choropleth\": [{\"colorbar\": {\"outlinewidth\": 0, \"ticks\": \"\"}, \"type\": \"choropleth\"}], \"contour\": [{\"colorbar\": {\"outlinewidth\": 0, \"ticks\": \"\"}, \"colorscale\": [[0.0, \"#0d0887\"], [0.1111111111111111, \"#46039f\"], [0.2222222222222222, \"#7201a8\"], [0.3333333333333333, \"#9c179e\"], [0.4444444444444444, \"#bd3786\"], [0.5555555555555556, \"#d8576b\"], [0.6666666666666666, \"#ed7953\"], [0.7777777777777778, \"#fb9f3a\"], [0.8888888888888888, \"#fdca26\"], [1.0, \"#f0f921\"]], \"type\": \"contour\"}], \"contourcarpet\": [{\"colorbar\": {\"outlinewidth\": 0, \"ticks\": \"\"}, \"type\": \"contourcarpet\"}], \"heatmap\": [{\"colorbar\": {\"outlinewidth\": 0, \"ticks\": \"\"}, \"colorscale\": [[0.0, \"#0d0887\"], [0.1111111111111111, \"#46039f\"], [0.2222222222222222, \"#7201a8\"], [0.3333333333333333, \"#9c179e\"], [0.4444444444444444, \"#bd3786\"], [0.5555555555555556, \"#d8576b\"], [0.6666666666666666, \"#ed7953\"], [0.7777777777777778, \"#fb9f3a\"], [0.8888888888888888, \"#fdca26\"], [1.0, \"#f0f921\"]], \"type\": \"heatmap\"}], \"heatmapgl\": [{\"colorbar\": {\"outlinewidth\": 0, \"ticks\": \"\"}, \"colorscale\": [[0.0, \"#0d0887\"], [0.1111111111111111, \"#46039f\"], [0.2222222222222222, \"#7201a8\"], [0.3333333333333333, \"#9c179e\"], [0.4444444444444444, \"#bd3786\"], [0.5555555555555556, \"#d8576b\"], [0.6666666666666666, \"#ed7953\"], [0.7777777777777778, \"#fb9f3a\"], [0.8888888888888888, \"#fdca26\"], [1.0, \"#f0f921\"]], \"type\": \"heatmapgl\"}], \"histogram\": [{\"marker\": {\"colorbar\": {\"outlinewidth\": 0, \"ticks\": \"\"}}, \"type\": \"histogram\"}], \"histogram2d\": [{\"colorbar\": {\"outlinewidth\": 0, \"ticks\": \"\"}, \"colorscale\": [[0.0, \"#0d0887\"], [0.1111111111111111, \"#46039f\"], [0.2222222222222222, \"#7201a8\"], [0.3333333333333333, \"#9c179e\"], [0.4444444444444444, \"#bd3786\"], [0.5555555555555556, \"#d8576b\"], [0.6666666666666666, \"#ed7953\"], [0.7777777777777778, \"#fb9f3a\"], [0.8888888888888888, \"#fdca26\"], [1.0, \"#f0f921\"]], \"type\": \"histogram2d\"}], \"histogram2dcontour\": [{\"colorbar\": {\"outlinewidth\": 0, \"ticks\": \"\"}, \"colorscale\": [[0.0, \"#0d0887\"], [0.1111111111111111, \"#46039f\"], [0.2222222222222222, \"#7201a8\"], [0.3333333333333333, \"#9c179e\"], [0.4444444444444444, \"#bd3786\"], [0.5555555555555556, \"#d8576b\"], [0.6666666666666666, \"#ed7953\"], [0.7777777777777778, \"#fb9f3a\"], [0.8888888888888888, \"#fdca26\"], [1.0, \"#f0f921\"]], \"type\": \"histogram2dcontour\"}], \"mesh3d\": [{\"colorbar\": {\"outlinewidth\": 0, \"ticks\": \"\"}, \"type\": \"mesh3d\"}], \"parcoords\": [{\"line\": {\"colorbar\": {\"outlinewidth\": 0, \"ticks\": \"\"}}, \"type\": \"parcoords\"}], \"pie\": [{\"automargin\": true, \"type\": \"pie\"}], \"scatter\": [{\"marker\": {\"colorbar\": {\"outlinewidth\": 0, \"ticks\": \"\"}}, \"type\": \"scatter\"}], \"scatter3d\": [{\"line\": {\"colorbar\": {\"outlinewidth\": 0, \"ticks\": \"\"}}, \"marker\": {\"colorbar\": {\"outlinewidth\": 0, \"ticks\": \"\"}}, \"type\": \"scatter3d\"}], \"scattercarpet\": [{\"marker\": {\"colorbar\": {\"outlinewidth\": 0, \"ticks\": \"\"}}, \"type\": \"scattercarpet\"}], \"scattergeo\": [{\"marker\": {\"colorbar\": {\"outlinewidth\": 0, \"ticks\": \"\"}}, \"type\": \"scattergeo\"}], \"scattergl\": [{\"marker\": {\"colorbar\": {\"outlinewidth\": 0, \"ticks\": \"\"}}, \"type\": \"scattergl\"}], \"scattermapbox\": [{\"marker\": {\"colorbar\": {\"outlinewidth\": 0, \"ticks\": \"\"}}, \"type\": \"scattermapbox\"}], \"scatterpolar\": [{\"marker\": {\"colorbar\": {\"outlinewidth\": 0, \"ticks\": \"\"}}, \"type\": \"scatterpolar\"}], \"scatterpolargl\": [{\"marker\": {\"colorbar\": {\"outlinewidth\": 0, \"ticks\": \"\"}}, \"type\": \"scatterpolargl\"}], \"scatterternary\": [{\"marker\": {\"colorbar\": {\"outlinewidth\": 0, \"ticks\": \"\"}}, \"type\": \"scatterternary\"}], \"surface\": [{\"colorbar\": {\"outlinewidth\": 0, \"ticks\": \"\"}, \"colorscale\": [[0.0, \"#0d0887\"], [0.1111111111111111, \"#46039f\"], [0.2222222222222222, \"#7201a8\"], [0.3333333333333333, \"#9c179e\"], [0.4444444444444444, \"#bd3786\"], [0.5555555555555556, \"#d8576b\"], [0.6666666666666666, \"#ed7953\"], [0.7777777777777778, \"#fb9f3a\"], [0.8888888888888888, \"#fdca26\"], [1.0, \"#f0f921\"]], \"type\": \"surface\"}], \"table\": [{\"cells\": {\"fill\": {\"color\": \"#EBF0F8\"}, \"line\": {\"color\": \"white\"}}, \"header\": {\"fill\": {\"color\": \"#C8D4E3\"}, \"line\": {\"color\": \"white\"}}, \"type\": \"table\"}]}, \"layout\": {\"annotationdefaults\": {\"arrowcolor\": \"#2a3f5f\", \"arrowhead\": 0, \"arrowwidth\": 1}, \"autotypenumbers\": \"strict\", \"coloraxis\": {\"colorbar\": {\"outlinewidth\": 0, \"ticks\": \"\"}}, \"colorscale\": {\"diverging\": [[0, \"#8e0152\"], [0.1, \"#c51b7d\"], [0.2, \"#de77ae\"], [0.3, \"#f1b6da\"], [0.4, \"#fde0ef\"], [0.5, \"#f7f7f7\"], [0.6, \"#e6f5d0\"], [0.7, \"#b8e186\"], [0.8, \"#7fbc41\"], [0.9, \"#4d9221\"], [1, \"#276419\"]], \"sequential\": [[0.0, \"#0d0887\"], [0.1111111111111111, \"#46039f\"], [0.2222222222222222, \"#7201a8\"], [0.3333333333333333, \"#9c179e\"], [0.4444444444444444, \"#bd3786\"], [0.5555555555555556, \"#d8576b\"], [0.6666666666666666, \"#ed7953\"], [0.7777777777777778, \"#fb9f3a\"], [0.8888888888888888, \"#fdca26\"], [1.0, \"#f0f921\"]], \"sequentialminus\": [[0.0, \"#0d0887\"], [0.1111111111111111, \"#46039f\"], [0.2222222222222222, \"#7201a8\"], [0.3333333333333333, \"#9c179e\"], [0.4444444444444444, \"#bd3786\"], [0.5555555555555556, \"#d8576b\"], [0.6666666666666666, \"#ed7953\"], [0.7777777777777778, \"#fb9f3a\"], [0.8888888888888888, \"#fdca26\"], [1.0, \"#f0f921\"]]}, \"colorway\": [\"#636efa\", \"#EF553B\", \"#00cc96\", \"#ab63fa\", \"#FFA15A\", \"#19d3f3\", \"#FF6692\", \"#B6E880\", \"#FF97FF\", \"#FECB52\"], \"font\": {\"color\": \"#2a3f5f\"}, \"geo\": {\"bgcolor\": \"white\", \"lakecolor\": \"white\", \"landcolor\": \"#E5ECF6\", \"showlakes\": true, \"showland\": true, \"subunitcolor\": \"white\"}, \"hoverlabel\": {\"align\": \"left\"}, \"hovermode\": \"closest\", \"mapbox\": {\"style\": \"light\"}, \"paper_bgcolor\": \"white\", \"plot_bgcolor\": \"#E5ECF6\", \"polar\": {\"angularaxis\": {\"gridcolor\": \"white\", \"linecolor\": \"white\", \"ticks\": \"\"}, \"bgcolor\": \"#E5ECF6\", \"radialaxis\": {\"gridcolor\": \"white\", \"linecolor\": \"white\", \"ticks\": \"\"}}, \"scene\": {\"xaxis\": {\"backgroundcolor\": \"#E5ECF6\", \"gridcolor\": \"white\", \"gridwidth\": 2, \"linecolor\": \"white\", \"showbackground\": true, \"ticks\": \"\", \"zerolinecolor\": \"white\"}, \"yaxis\": {\"backgroundcolor\": \"#E5ECF6\", \"gridcolor\": \"white\", \"gridwidth\": 2, \"linecolor\": \"white\", \"showbackground\": true, \"ticks\": \"\", \"zerolinecolor\": \"white\"}, \"zaxis\": {\"backgroundcolor\": \"#E5ECF6\", \"gridcolor\": \"white\", \"gridwidth\": 2, \"linecolor\": \"white\", \"showbackground\": true, \"ticks\": \"\", \"zerolinecolor\": \"white\"}}, \"shapedefaults\": {\"line\": {\"color\": \"#2a3f5f\"}}, \"ternary\": {\"aaxis\": {\"gridcolor\": \"white\", \"linecolor\": \"white\", \"ticks\": \"\"}, \"baxis\": {\"gridcolor\": \"white\", \"linecolor\": \"white\", \"ticks\": \"\"}, \"bgcolor\": \"#E5ECF6\", \"caxis\": {\"gridcolor\": \"white\", \"linecolor\": \"white\", \"ticks\": \"\"}}, \"title\": {\"x\": 0.05}, \"xaxis\": {\"automargin\": true, \"gridcolor\": \"white\", \"linecolor\": \"white\", \"ticks\": \"\", \"title\": {\"standoff\": 15}, \"zerolinecolor\": \"white\", \"zerolinewidth\": 2}, \"yaxis\": {\"automargin\": true, \"gridcolor\": \"white\", \"linecolor\": \"white\", \"ticks\": \"\", \"title\": {\"standoff\": 15}, \"zerolinecolor\": \"white\", \"zerolinewidth\": 2}}}, \"xaxis\": {\"anchor\": \"y\", \"domain\": [0.0, 0.45]}, \"xaxis10\": {\"anchor\": \"y10\", \"domain\": [0.55, 1.0]}, \"xaxis2\": {\"anchor\": \"y2\", \"domain\": [0.55, 1.0]}, \"xaxis3\": {\"anchor\": \"y3\", \"domain\": [0.0, 0.45]}, \"xaxis4\": {\"anchor\": \"y4\", \"domain\": [0.55, 1.0]}, \"xaxis5\": {\"anchor\": \"y5\", \"domain\": [0.0, 0.45]}, \"xaxis6\": {\"anchor\": \"y6\", \"domain\": [0.55, 1.0]}, \"xaxis7\": {\"anchor\": \"y7\", \"domain\": [0.0, 0.45]}, \"xaxis8\": {\"anchor\": \"y8\", \"domain\": [0.55, 1.0]}, \"xaxis9\": {\"anchor\": \"y9\", \"domain\": [0.0, 0.45]}, \"yaxis\": {\"anchor\": \"x\", \"domain\": [0.88, 1.0]}, \"yaxis10\": {\"anchor\": \"x10\", \"domain\": [0.0, 0.12]}, \"yaxis2\": {\"anchor\": \"x2\", \"domain\": [0.88, 1.0]}, \"yaxis3\": {\"anchor\": \"x3\", \"domain\": [0.66, 0.78]}, \"yaxis4\": {\"anchor\": \"x4\", \"domain\": [0.66, 0.78]}, \"yaxis5\": {\"anchor\": \"x5\", \"domain\": [0.44, 0.56]}, \"yaxis6\": {\"anchor\": \"x6\", \"domain\": [0.44, 0.56]}, \"yaxis7\": {\"anchor\": \"x7\", \"domain\": [0.22, 0.33999999999999997]}, \"yaxis8\": {\"anchor\": \"x8\", \"domain\": [0.22, 0.33999999999999997]}, \"yaxis9\": {\"anchor\": \"x9\", \"domain\": [0.0, 0.12]}},                        {\"responsive\": true}                    ).then(function(){\n",
       "                            \n",
       "var gd = document.getElementById('4cb3fb9d-1b98-4b4c-be47-36c85646b1a8');\n",
       "var x = new MutationObserver(function (mutations, observer) {{\n",
       "        var display = window.getComputedStyle(gd).display;\n",
       "        if (!display || display === 'none') {{\n",
       "            console.log([gd, 'removed!']);\n",
       "            Plotly.purge(gd);\n",
       "            observer.disconnect();\n",
       "        }}\n",
       "}});\n",
       "\n",
       "// Listen for the removal of the full notebook cells\n",
       "var notebookContainer = gd.closest('#notebook-container');\n",
       "if (notebookContainer) {{\n",
       "    x.observe(notebookContainer, {childList: true});\n",
       "}}\n",
       "\n",
       "// Listen for the clearing of the current output cell\n",
       "var outputEl = gd.closest('.output');\n",
       "if (outputEl) {{\n",
       "    x.observe(outputEl, {childList: true});\n",
       "}}\n",
       "\n",
       "                        })                };                });            </script>        </div>"
      ]
     },
     "metadata": {},
     "output_type": "display_data"
    }
   ],
   "source": [
    "merged_df_knn_grouped = merged_df_knn.groupby(['algorithm', 'n_neighbors', 'function'])\n",
    "\n",
    "n_rows = 5\n",
    "n_cols = 2\n",
    "coordinates = [[j for j in range(n_cols)] for i in range(n_rows)]\n",
    "for i in range(len(coordinates)):\n",
    "    for j in range(len(coordinates[0])):\n",
    "        coordinates[i][j] = (i + 1, j + 1)\n",
    "coordinates = list(itertools.chain(*coordinates))\n",
    "\n",
    "subplot_titles = [\"algo: %s, k: %s, func: %s\" % params for params, _ in merged_df_knn_grouped]\n",
    "fig = make_subplots(rows=5, cols=2, subplot_titles=subplot_titles)\n",
    "\n",
    "for (row, col), (params, df) in zip(coordinates, merged_df_knn_grouped):\n",
    "    df = df.round(2)\n",
    "    x1 = df[['n_samples', 'n_features']][df['n_jobs'] == 1]\n",
    "    x1 = [f\"({ns}, {nf})\" for ns, nf in x1.values]\n",
    "    y1 = df['speedup'][df['n_jobs'] == 1]\n",
    "    fig.add_trace(\n",
    "        go.Bar(\n",
    "            x=x1,\n",
    "            y=y1,\n",
    "            name='n_jobs: 1',\n",
    "            marker_color='indianred',\n",
    "            hovertemplate=\n",
    "            'function: <b>%{customdata[0]}</b><br>'+\n",
    "            'n_samples: <b>%{customdata[1]}</b><br>'+\n",
    "            'n_features: <b>%{customdata[2]}</b><br>'+\n",
    "            'algo: <b>%{customdata[3]}</b><br>'+\n",
    "            'n_jobs: <b>%{customdata[4]}</b><br>'+\n",
    "            'n_neighbors: <b>%{customdata[5]}</b><br>'+\n",
    "            'speedup: <b>%{customdata[6]}</b><br>'+\n",
    "            '<extra></extra>',\n",
    "            customdata = df[df['n_jobs'] == 1].values,\n",
    "            showlegend = False\n",
    "        ),\n",
    "        row=row,\n",
    "        col=col\n",
    "    )\n",
    "\n",
    "    x2 = df[['n_samples', 'n_features']][df['n_jobs'] == 1]\n",
    "    x2 = [f\"({ns}, {nf})\" for ns, nf in x2.values]\n",
    "    y2 = df['speedup'][df['n_jobs'] == -1]\n",
    "    fig.add_trace(\n",
    "        go.Bar(\n",
    "            x=x2,\n",
    "            y=y2,\n",
    "            name='n_jobs: -1',\n",
    "            marker_color='lightsalmon',\n",
    "            hovertemplate=\n",
    "            'function: <b>%{customdata[0]}</b><br>'+\n",
    "            'n_samples: <b>%{customdata[1]}</b><br>'+\n",
    "            'n_features: <b>%{customdata[2]}</b><br>'+\n",
    "            'algo: <b>%{customdata[3]}</b><br>'+\n",
    "            'n_jobs: <b>%{customdata[4]}</b><br>'+\n",
    "            'n_neighbors: <b>%{customdata[5]}</b><br>'+\n",
    "            'speedup: <b>%{customdata[6]}</b><br>'+\n",
    "            '<extra></extra>',\n",
    "            customdata = df[df['n_jobs'] == -1].values,\n",
    "            showlegend = False\n",
    "        ),\n",
    "        row=row,\n",
    "        col=col\n",
    "    )\n",
    "    \n",
    "    title = title = \"algo: %s, k: %s, func: %s\" % params\n",
    "\n",
    "fig.update_layout(height=1500, barmode='group', showlegend=False)\n",
    "fig.show()"
   ]
  },
  {
   "cell_type": "markdown",
   "id": "comfortable-wallace",
   "metadata": {},
   "source": [
    "<br></br>\n",
    "# KNeighborsClassifier k-d tree"
   ]
  },
  {
   "cell_type": "code",
   "execution_count": 169,
   "id": "uniform-brown",
   "metadata": {},
   "outputs": [],
   "source": [
    "d4p_knn_kd_tree = pd.read_csv('sklearn_benchmarks/results/daal4py/KNeighborsClassifier_kd_tree.csv')\n",
    "skl_knn_kd_tree = pd.read_csv('sklearn_benchmarks/results/sklearn/KNeighborsClassifier_kd_tree.csv')\n",
    "merged_df_knn_kd_tree = skl_knn_kd_tree.merge(d4p_knn_kd_tree, on=['estimator', 'function', 'n_samples', 'n_features', 'algorithm', 'n_jobs', 'n_neighbors'], suffixes=['_skl', '_d4p'])\n",
    "merged_df_knn_kd_tree['speedup'] = merged_df_knn_kd_tree['mean_time_elapsed_skl'] / merged_df_knn_kd_tree['mean_time_elapsed_d4p']"
   ]
  },
  {
   "cell_type": "code",
   "execution_count": 171,
   "id": "friendly-bracket",
   "metadata": {},
   "outputs": [
    {
     "data": {
      "application/vnd.plotly.v1+json": {
       "config": {
        "plotlyServerURL": "https://plot.ly"
       },
       "data": [
        {
         "customdata": [
          [
           "KNeighborsClassifier_kd_tree",
           "sklearn",
           "fit",
           2.5,
           0.02,
           10,
           1000000,
           10,
           "kd_tree",
           1,
           1,
           null,
           null,
           "daal4py",
           0.55,
           0.05,
           10,
           null,
           null,
           4.51
          ],
          [
           "KNeighborsClassifier_kd_tree",
           "sklearn",
           "fit",
           1.63,
           0.08,
           10,
           1000000,
           2,
           "kd_tree",
           1,
           1,
           null,
           null,
           "daal4py",
           0.31,
           0.01,
           10,
           null,
           null,
           5.23
          ]
         ],
         "hovertemplate": "function: <b>%{customdata[0]}</b><br>n_samples: <b>%{customdata[1]}</b><br>n_features: <b>%{customdata[2]}</b><br>algo: <b>%{customdata[3]}</b><br>n_jobs: <b>%{customdata[4]}</b><br>n_neighbors: <b>%{customdata[5]}</b><br>speedup: <b>%{customdata[6]}</b><br><extra></extra>",
         "marker": {
          "color": "indianred"
         },
         "name": "n_jobs: 1",
         "showlegend": false,
         "type": "bar",
         "x": [
          "(1000000, 10)",
          "(1000000, 2)"
         ],
         "xaxis": "x",
         "y": [
          4.51,
          5.23
         ],
         "yaxis": "y"
        },
        {
         "customdata": [
          [
           "KNeighborsClassifier_kd_tree",
           "sklearn",
           "fit",
           2.51,
           0.01,
           10,
           1000000,
           10,
           "kd_tree",
           -1,
           1,
           null,
           null,
           "daal4py",
           0.66,
           0.06,
           10,
           null,
           null,
           3.77
          ],
          [
           "KNeighborsClassifier_kd_tree",
           "sklearn",
           "fit",
           1.75,
           0.16,
           10,
           1000000,
           2,
           "kd_tree",
           -1,
           1,
           null,
           null,
           "daal4py",
           0.31,
           0.01,
           10,
           null,
           null,
           5.6
          ]
         ],
         "hovertemplate": "function: <b>%{customdata[0]}</b><br>n_samples: <b>%{customdata[1]}</b><br>n_features: <b>%{customdata[2]}</b><br>algo: <b>%{customdata[3]}</b><br>n_jobs: <b>%{customdata[4]}</b><br>n_neighbors: <b>%{customdata[5]}</b><br>speedup: <b>%{customdata[6]}</b><br><extra></extra>",
         "marker": {
          "color": "lightsalmon"
         },
         "name": "n_jobs: -1",
         "showlegend": false,
         "type": "bar",
         "x": [
          "(1000000, 10)",
          "(1000000, 2)"
         ],
         "xaxis": "x",
         "y": [
          3.77,
          5.6
         ],
         "yaxis": "y"
        },
        {
         "customdata": [
          [
           "KNeighborsClassifier_kd_tree",
           "sklearn",
           "predict",
           0.22,
           0.02,
           null,
           1000,
           10,
           "kd_tree",
           1,
           1,
           0.96,
           0.96,
           "daal4py",
           0.03,
           0,
           null,
           0.97,
           0.97,
           8.1
          ],
          [
           "KNeighborsClassifier_kd_tree",
           "sklearn",
           "predict",
           0,
           0,
           null,
           1,
           10,
           "kd_tree",
           1,
           1,
           0.96,
           0.96,
           "daal4py",
           0,
           0,
           null,
           0.97,
           0.97,
           2.33
          ],
          [
           "KNeighborsClassifier_kd_tree",
           "sklearn",
           "predict",
           0.03,
           0,
           null,
           1000,
           2,
           "kd_tree",
           1,
           1,
           0.97,
           0.97,
           "daal4py",
           0,
           0,
           null,
           0.97,
           0.97,
           48.46
          ],
          [
           "KNeighborsClassifier_kd_tree",
           "sklearn",
           "predict",
           0,
           0,
           null,
           1,
           2,
           "kd_tree",
           1,
           1,
           0.97,
           0.97,
           "daal4py",
           0,
           0,
           null,
           0.97,
           0.97,
           4.64
          ]
         ],
         "hovertemplate": "function: <b>%{customdata[0]}</b><br>n_samples: <b>%{customdata[1]}</b><br>n_features: <b>%{customdata[2]}</b><br>algo: <b>%{customdata[3]}</b><br>n_jobs: <b>%{customdata[4]}</b><br>n_neighbors: <b>%{customdata[5]}</b><br>speedup: <b>%{customdata[6]}</b><br><extra></extra>",
         "marker": {
          "color": "indianred"
         },
         "name": "n_jobs: 1",
         "showlegend": false,
         "type": "bar",
         "x": [
          "(1000, 10)",
          "(1, 10)",
          "(1000, 2)",
          "(1, 2)"
         ],
         "xaxis": "x2",
         "y": [
          8.1,
          2.33,
          48.46,
          4.64
         ],
         "yaxis": "y2"
        },
        {
         "customdata": [
          [
           "KNeighborsClassifier_kd_tree",
           "sklearn",
           "predict",
           0.11,
           0.01,
           null,
           1000,
           10,
           "kd_tree",
           -1,
           1,
           0.96,
           0.96,
           "daal4py",
           0.04,
           0.01,
           null,
           0.97,
           0.97,
           2.89
          ],
          [
           "KNeighborsClassifier_kd_tree",
           "sklearn",
           "predict",
           0,
           0,
           null,
           1,
           10,
           "kd_tree",
           -1,
           1,
           0.96,
           0.96,
           "daal4py",
           0,
           0,
           null,
           0.97,
           0.97,
           12.06
          ],
          [
           "KNeighborsClassifier_kd_tree",
           "sklearn",
           "predict",
           0.05,
           0.01,
           null,
           1000,
           2,
           "kd_tree",
           -1,
           1,
           0.97,
           0.97,
           "daal4py",
           0,
           0,
           null,
           0.97,
           0.97,
           73.35
          ],
          [
           "KNeighborsClassifier_kd_tree",
           "sklearn",
           "predict",
           0,
           0,
           null,
           1,
           2,
           "kd_tree",
           -1,
           1,
           0.97,
           0.97,
           "daal4py",
           0,
           0,
           null,
           0.97,
           0.97,
           35.4
          ]
         ],
         "hovertemplate": "function: <b>%{customdata[0]}</b><br>n_samples: <b>%{customdata[1]}</b><br>n_features: <b>%{customdata[2]}</b><br>algo: <b>%{customdata[3]}</b><br>n_jobs: <b>%{customdata[4]}</b><br>n_neighbors: <b>%{customdata[5]}</b><br>speedup: <b>%{customdata[6]}</b><br><extra></extra>",
         "marker": {
          "color": "lightsalmon"
         },
         "name": "n_jobs: -1",
         "showlegend": false,
         "type": "bar",
         "x": [
          "(1000, 10)",
          "(1, 10)",
          "(1000, 2)",
          "(1, 2)"
         ],
         "xaxis": "x2",
         "y": [
          2.89,
          12.06,
          73.35,
          35.4
         ],
         "yaxis": "y2"
        },
        {
         "customdata": [
          [
           "KNeighborsClassifier_kd_tree",
           "sklearn",
           "fit",
           1.96,
           0.01,
           10,
           1000000,
           10,
           "kd_tree",
           1,
           5,
           null,
           null,
           "daal4py",
           0.52,
           0.01,
           10,
           null,
           null,
           3.76
          ],
          [
           "KNeighborsClassifier_kd_tree",
           "sklearn",
           "fit",
           1.66,
           0.02,
           10,
           1000000,
           2,
           "kd_tree",
           1,
           5,
           null,
           null,
           "daal4py",
           0.31,
           0.01,
           10,
           null,
           null,
           5.35
          ]
         ],
         "hovertemplate": "function: <b>%{customdata[0]}</b><br>n_samples: <b>%{customdata[1]}</b><br>n_features: <b>%{customdata[2]}</b><br>algo: <b>%{customdata[3]}</b><br>n_jobs: <b>%{customdata[4]}</b><br>n_neighbors: <b>%{customdata[5]}</b><br>speedup: <b>%{customdata[6]}</b><br><extra></extra>",
         "marker": {
          "color": "indianred"
         },
         "name": "n_jobs: 1",
         "showlegend": false,
         "type": "bar",
         "x": [
          "(1000000, 10)",
          "(1000000, 2)"
         ],
         "xaxis": "x3",
         "y": [
          3.76,
          5.35
         ],
         "yaxis": "y3"
        },
        {
         "customdata": [
          [
           "KNeighborsClassifier_kd_tree",
           "sklearn",
           "fit",
           2.59,
           0.04,
           10,
           1000000,
           10,
           "kd_tree",
           -1,
           5,
           null,
           null,
           "daal4py",
           0.62,
           0.05,
           10,
           null,
           null,
           4.15
          ],
          [
           "KNeighborsClassifier_kd_tree",
           "sklearn",
           "fit",
           1.71,
           0.03,
           10,
           1000000,
           2,
           "kd_tree",
           -1,
           5,
           null,
           null,
           "daal4py",
           0.32,
           0.02,
           10,
           null,
           null,
           5.4
          ]
         ],
         "hovertemplate": "function: <b>%{customdata[0]}</b><br>n_samples: <b>%{customdata[1]}</b><br>n_features: <b>%{customdata[2]}</b><br>algo: <b>%{customdata[3]}</b><br>n_jobs: <b>%{customdata[4]}</b><br>n_neighbors: <b>%{customdata[5]}</b><br>speedup: <b>%{customdata[6]}</b><br><extra></extra>",
         "marker": {
          "color": "lightsalmon"
         },
         "name": "n_jobs: -1",
         "showlegend": false,
         "type": "bar",
         "x": [
          "(1000000, 10)",
          "(1000000, 2)"
         ],
         "xaxis": "x3",
         "y": [
          4.15,
          5.4
         ],
         "yaxis": "y3"
        },
        {
         "customdata": [
          [
           "KNeighborsClassifier_kd_tree",
           "sklearn",
           "predict",
           0.4,
           0,
           null,
           1000,
           10,
           "kd_tree",
           1,
           5,
           0.98,
           0.98,
           "daal4py",
           0.05,
           0,
           null,
           0.98,
           0.97,
           8.07
          ],
          [
           "KNeighborsClassifier_kd_tree",
           "sklearn",
           "predict",
           0,
           0,
           null,
           1,
           10,
           "kd_tree",
           1,
           5,
           0.98,
           0.98,
           "daal4py",
           0,
           0,
           null,
           0.98,
           0.97,
           2.77
          ],
          [
           "KNeighborsClassifier_kd_tree",
           "sklearn",
           "predict",
           0.03,
           0,
           null,
           1000,
           2,
           "kd_tree",
           1,
           5,
           0.98,
           0.98,
           "daal4py",
           0,
           0,
           null,
           0.98,
           0.98,
           41.27
          ],
          [
           "KNeighborsClassifier_kd_tree",
           "sklearn",
           "predict",
           0,
           0,
           null,
           1,
           2,
           "kd_tree",
           1,
           5,
           0.98,
           0.98,
           "daal4py",
           0,
           0,
           null,
           0.98,
           0.98,
           4.93
          ]
         ],
         "hovertemplate": "function: <b>%{customdata[0]}</b><br>n_samples: <b>%{customdata[1]}</b><br>n_features: <b>%{customdata[2]}</b><br>algo: <b>%{customdata[3]}</b><br>n_jobs: <b>%{customdata[4]}</b><br>n_neighbors: <b>%{customdata[5]}</b><br>speedup: <b>%{customdata[6]}</b><br><extra></extra>",
         "marker": {
          "color": "indianred"
         },
         "name": "n_jobs: 1",
         "showlegend": false,
         "type": "bar",
         "x": [
          "(1000, 10)",
          "(1, 10)",
          "(1000, 2)",
          "(1, 2)"
         ],
         "xaxis": "x4",
         "y": [
          8.07,
          2.77,
          41.27,
          4.93
         ],
         "yaxis": "y4"
        },
        {
         "customdata": [
          [
           "KNeighborsClassifier_kd_tree",
           "sklearn",
           "predict",
           0.16,
           0.01,
           null,
           1000,
           10,
           "kd_tree",
           -1,
           5,
           0.98,
           0.98,
           "daal4py",
           0.06,
           0.01,
           null,
           0.98,
           0.97,
           2.6
          ],
          [
           "KNeighborsClassifier_kd_tree",
           "sklearn",
           "predict",
           0,
           0,
           null,
           1,
           10,
           "kd_tree",
           -1,
           5,
           0.98,
           0.98,
           "daal4py",
           0,
           0,
           null,
           0.98,
           0.97,
           12.4
          ],
          [
           "KNeighborsClassifier_kd_tree",
           "sklearn",
           "predict",
           0.04,
           0.01,
           null,
           1000,
           2,
           "kd_tree",
           -1,
           5,
           0.98,
           0.98,
           "daal4py",
           0,
           0,
           null,
           0.98,
           0.98,
           59.14
          ],
          [
           "KNeighborsClassifier_kd_tree",
           "sklearn",
           "predict",
           0,
           0,
           null,
           1,
           2,
           "kd_tree",
           -1,
           5,
           0.98,
           0.98,
           "daal4py",
           0,
           0,
           null,
           0.98,
           0.98,
           31.21
          ]
         ],
         "hovertemplate": "function: <b>%{customdata[0]}</b><br>n_samples: <b>%{customdata[1]}</b><br>n_features: <b>%{customdata[2]}</b><br>algo: <b>%{customdata[3]}</b><br>n_jobs: <b>%{customdata[4]}</b><br>n_neighbors: <b>%{customdata[5]}</b><br>speedup: <b>%{customdata[6]}</b><br><extra></extra>",
         "marker": {
          "color": "lightsalmon"
         },
         "name": "n_jobs: -1",
         "showlegend": false,
         "type": "bar",
         "x": [
          "(1000, 10)",
          "(1, 10)",
          "(1000, 2)",
          "(1, 2)"
         ],
         "xaxis": "x4",
         "y": [
          2.6,
          12.4,
          59.14,
          31.21
         ],
         "yaxis": "y4"
        },
        {
         "customdata": [
          [
           "KNeighborsClassifier_kd_tree",
           "sklearn",
           "fit",
           2.03,
           0.02,
           10,
           1000000,
           10,
           "kd_tree",
           1,
           10,
           null,
           null,
           "daal4py",
           0.53,
           0.01,
           10,
           null,
           null,
           3.85
          ],
          [
           "KNeighborsClassifier_kd_tree",
           "sklearn",
           "fit",
           1.64,
           0,
           10,
           1000000,
           2,
           "kd_tree",
           1,
           10,
           null,
           null,
           "daal4py",
           0.32,
           0.01,
           10,
           null,
           null,
           5.05
          ]
         ],
         "hovertemplate": "function: <b>%{customdata[0]}</b><br>n_samples: <b>%{customdata[1]}</b><br>n_features: <b>%{customdata[2]}</b><br>algo: <b>%{customdata[3]}</b><br>n_jobs: <b>%{customdata[4]}</b><br>n_neighbors: <b>%{customdata[5]}</b><br>speedup: <b>%{customdata[6]}</b><br><extra></extra>",
         "marker": {
          "color": "indianred"
         },
         "name": "n_jobs: 1",
         "showlegend": false,
         "type": "bar",
         "x": [
          "(1000000, 10)",
          "(1000000, 2)"
         ],
         "xaxis": "x5",
         "y": [
          3.85,
          5.05
         ],
         "yaxis": "y5"
        },
        {
         "customdata": [
          [
           "KNeighborsClassifier_kd_tree",
           "sklearn",
           "fit",
           2.38,
           0.02,
           10,
           1000000,
           10,
           "kd_tree",
           -1,
           10,
           null,
           null,
           "daal4py",
           0.61,
           0.03,
           10,
           null,
           null,
           3.93
          ],
          [
           "KNeighborsClassifier_kd_tree",
           "sklearn",
           "fit",
           1.93,
           0.09,
           10,
           1000000,
           2,
           "kd_tree",
           -1,
           10,
           null,
           null,
           "daal4py",
           0.31,
           0.01,
           10,
           null,
           null,
           6.14
          ]
         ],
         "hovertemplate": "function: <b>%{customdata[0]}</b><br>n_samples: <b>%{customdata[1]}</b><br>n_features: <b>%{customdata[2]}</b><br>algo: <b>%{customdata[3]}</b><br>n_jobs: <b>%{customdata[4]}</b><br>n_neighbors: <b>%{customdata[5]}</b><br>speedup: <b>%{customdata[6]}</b><br><extra></extra>",
         "marker": {
          "color": "lightsalmon"
         },
         "name": "n_jobs: -1",
         "showlegend": false,
         "type": "bar",
         "x": [
          "(1000000, 10)",
          "(1000000, 2)"
         ],
         "xaxis": "x5",
         "y": [
          3.93,
          6.14
         ],
         "yaxis": "y5"
        },
        {
         "customdata": [
          [
           "KNeighborsClassifier_kd_tree",
           "sklearn",
           "predict",
           0.55,
           0.01,
           null,
           1000,
           10,
           "kd_tree",
           1,
           10,
           0.98,
           0.98,
           "daal4py",
           0.06,
           0,
           null,
           0.98,
           0.98,
           8.6
          ],
          [
           "KNeighborsClassifier_kd_tree",
           "sklearn",
           "predict",
           0,
           0,
           null,
           1,
           10,
           "kd_tree",
           1,
           10,
           0.98,
           0.98,
           "daal4py",
           0,
           0,
           null,
           0.98,
           0.98,
           1.78
          ],
          [
           "KNeighborsClassifier_kd_tree",
           "sklearn",
           "predict",
           0.03,
           0,
           null,
           1000,
           2,
           "kd_tree",
           1,
           10,
           0.98,
           0.98,
           "daal4py",
           0,
           0,
           null,
           0.98,
           0.98,
           38.79
          ],
          [
           "KNeighborsClassifier_kd_tree",
           "sklearn",
           "predict",
           0,
           0,
           null,
           1,
           2,
           "kd_tree",
           1,
           10,
           0.98,
           0.98,
           "daal4py",
           0,
           0,
           null,
           0.98,
           0.98,
           5.03
          ]
         ],
         "hovertemplate": "function: <b>%{customdata[0]}</b><br>n_samples: <b>%{customdata[1]}</b><br>n_features: <b>%{customdata[2]}</b><br>algo: <b>%{customdata[3]}</b><br>n_jobs: <b>%{customdata[4]}</b><br>n_neighbors: <b>%{customdata[5]}</b><br>speedup: <b>%{customdata[6]}</b><br><extra></extra>",
         "marker": {
          "color": "indianred"
         },
         "name": "n_jobs: 1",
         "showlegend": false,
         "type": "bar",
         "x": [
          "(1000, 10)",
          "(1, 10)",
          "(1000, 2)",
          "(1, 2)"
         ],
         "xaxis": "x6",
         "y": [
          8.6,
          1.78,
          38.79,
          5.03
         ],
         "yaxis": "y6"
        },
        {
         "customdata": [
          [
           "KNeighborsClassifier_kd_tree",
           "sklearn",
           "predict",
           0.21,
           0.02,
           null,
           1000,
           10,
           "kd_tree",
           -1,
           10,
           0.98,
           0.98,
           "daal4py",
           0.09,
           0.02,
           null,
           0.98,
           0.98,
           2.35
          ],
          [
           "KNeighborsClassifier_kd_tree",
           "sklearn",
           "predict",
           0,
           0,
           null,
           1,
           10,
           "kd_tree",
           -1,
           10,
           0.98,
           0.98,
           "daal4py",
           0,
           0,
           null,
           0.98,
           0.98,
           11.46
          ],
          [
           "KNeighborsClassifier_kd_tree",
           "sklearn",
           "predict",
           0.03,
           0,
           null,
           1000,
           2,
           "kd_tree",
           -1,
           10,
           0.98,
           0.98,
           "daal4py",
           0,
           0,
           null,
           0.98,
           0.98,
           41.22
          ],
          [
           "KNeighborsClassifier_kd_tree",
           "sklearn",
           "predict",
           0,
           0,
           null,
           1,
           2,
           "kd_tree",
           -1,
           10,
           0.98,
           0.98,
           "daal4py",
           0,
           0,
           null,
           0.98,
           0.98,
           19.78
          ]
         ],
         "hovertemplate": "function: <b>%{customdata[0]}</b><br>n_samples: <b>%{customdata[1]}</b><br>n_features: <b>%{customdata[2]}</b><br>algo: <b>%{customdata[3]}</b><br>n_jobs: <b>%{customdata[4]}</b><br>n_neighbors: <b>%{customdata[5]}</b><br>speedup: <b>%{customdata[6]}</b><br><extra></extra>",
         "marker": {
          "color": "lightsalmon"
         },
         "name": "n_jobs: -1",
         "showlegend": false,
         "type": "bar",
         "x": [
          "(1000, 10)",
          "(1, 10)",
          "(1000, 2)",
          "(1, 2)"
         ],
         "xaxis": "x6",
         "y": [
          2.35,
          11.46,
          41.22,
          19.78
         ],
         "yaxis": "y6"
        },
        {
         "customdata": [
          [
           "KNeighborsClassifier_kd_tree",
           "sklearn",
           "fit",
           2.01,
           0.04,
           10,
           1000000,
           10,
           "kd_tree",
           1,
           50,
           null,
           null,
           "daal4py",
           0.53,
           0.01,
           10,
           null,
           null,
           3.79
          ],
          [
           "KNeighborsClassifier_kd_tree",
           "sklearn",
           "fit",
           1.52,
           0.01,
           10,
           1000000,
           2,
           "kd_tree",
           1,
           50,
           null,
           null,
           "daal4py",
           0.31,
           0.02,
           10,
           null,
           null,
           4.87
          ]
         ],
         "hovertemplate": "function: <b>%{customdata[0]}</b><br>n_samples: <b>%{customdata[1]}</b><br>n_features: <b>%{customdata[2]}</b><br>algo: <b>%{customdata[3]}</b><br>n_jobs: <b>%{customdata[4]}</b><br>n_neighbors: <b>%{customdata[5]}</b><br>speedup: <b>%{customdata[6]}</b><br><extra></extra>",
         "marker": {
          "color": "indianred"
         },
         "name": "n_jobs: 1",
         "showlegend": false,
         "type": "bar",
         "x": [
          "(1000000, 10)",
          "(1000000, 2)"
         ],
         "xaxis": "x7",
         "y": [
          3.79,
          4.87
         ],
         "yaxis": "y7"
        },
        {
         "customdata": [
          [
           "KNeighborsClassifier_kd_tree",
           "sklearn",
           "fit",
           2.73,
           0.1,
           10,
           1000000,
           10,
           "kd_tree",
           -1,
           50,
           null,
           null,
           "daal4py",
           1.72,
           0.42,
           10,
           null,
           null,
           1.59
          ],
          [
           "KNeighborsClassifier_kd_tree",
           "sklearn",
           "fit",
           1.62,
           0.05,
           10,
           1000000,
           2,
           "kd_tree",
           -1,
           50,
           null,
           null,
           "daal4py",
           0.32,
           0.02,
           10,
           null,
           null,
           5.02
          ]
         ],
         "hovertemplate": "function: <b>%{customdata[0]}</b><br>n_samples: <b>%{customdata[1]}</b><br>n_features: <b>%{customdata[2]}</b><br>algo: <b>%{customdata[3]}</b><br>n_jobs: <b>%{customdata[4]}</b><br>n_neighbors: <b>%{customdata[5]}</b><br>speedup: <b>%{customdata[6]}</b><br><extra></extra>",
         "marker": {
          "color": "lightsalmon"
         },
         "name": "n_jobs: -1",
         "showlegend": false,
         "type": "bar",
         "x": [
          "(1000000, 10)",
          "(1000000, 2)"
         ],
         "xaxis": "x7",
         "y": [
          1.59,
          5.02
         ],
         "yaxis": "y7"
        },
        {
         "customdata": [
          [
           "KNeighborsClassifier_kd_tree",
           "sklearn",
           "predict",
           1.06,
           0,
           null,
           1000,
           10,
           "kd_tree",
           1,
           50,
           0.98,
           0.98,
           "daal4py",
           0.12,
           0,
           null,
           0.97,
           0.97,
           9.04
          ],
          [
           "KNeighborsClassifier_kd_tree",
           "sklearn",
           "predict",
           0,
           0,
           null,
           1,
           10,
           "kd_tree",
           1,
           50,
           0.98,
           0.98,
           "daal4py",
           0,
           0,
           null,
           0.97,
           0.97,
           1.77
          ],
          [
           "KNeighborsClassifier_kd_tree",
           "sklearn",
           "predict",
           0.04,
           0,
           null,
           1000,
           2,
           "kd_tree",
           1,
           50,
           0.98,
           0.98,
           "daal4py",
           0,
           0,
           null,
           0.98,
           0.98,
           20.59
          ],
          [
           "KNeighborsClassifier_kd_tree",
           "sklearn",
           "predict",
           0,
           0,
           null,
           1,
           2,
           "kd_tree",
           1,
           50,
           0.98,
           0.98,
           "daal4py",
           0,
           0,
           null,
           0.98,
           0.98,
           3.85
          ]
         ],
         "hovertemplate": "function: <b>%{customdata[0]}</b><br>n_samples: <b>%{customdata[1]}</b><br>n_features: <b>%{customdata[2]}</b><br>algo: <b>%{customdata[3]}</b><br>n_jobs: <b>%{customdata[4]}</b><br>n_neighbors: <b>%{customdata[5]}</b><br>speedup: <b>%{customdata[6]}</b><br><extra></extra>",
         "marker": {
          "color": "indianred"
         },
         "name": "n_jobs: 1",
         "showlegend": false,
         "type": "bar",
         "x": [
          "(1000, 10)",
          "(1, 10)",
          "(1000, 2)",
          "(1, 2)"
         ],
         "xaxis": "x8",
         "y": [
          9.04,
          1.77,
          20.59,
          3.85
         ],
         "yaxis": "y8"
        },
        {
         "customdata": [
          [
           "KNeighborsClassifier_kd_tree",
           "sklearn",
           "predict",
           0.41,
           0.02,
           null,
           1000,
           10,
           "kd_tree",
           -1,
           50,
           0.98,
           0.98,
           "daal4py",
           0.22,
           0.04,
           null,
           0.97,
           0.97,
           1.86
          ],
          [
           "KNeighborsClassifier_kd_tree",
           "sklearn",
           "predict",
           0,
           0,
           null,
           1,
           10,
           "kd_tree",
           -1,
           50,
           0.98,
           0.98,
           "daal4py",
           0,
           0,
           null,
           0.97,
           0.97,
           2.81
          ],
          [
           "KNeighborsClassifier_kd_tree",
           "sklearn",
           "predict",
           0.04,
           0,
           null,
           1000,
           2,
           "kd_tree",
           -1,
           50,
           0.98,
           0.98,
           "daal4py",
           0,
           0,
           null,
           0.98,
           0.98,
           21.52
          ],
          [
           "KNeighborsClassifier_kd_tree",
           "sklearn",
           "predict",
           0,
           0,
           null,
           1,
           2,
           "kd_tree",
           -1,
           50,
           0.98,
           0.98,
           "daal4py",
           0,
           0,
           null,
           0.98,
           0.98,
           27.86
          ]
         ],
         "hovertemplate": "function: <b>%{customdata[0]}</b><br>n_samples: <b>%{customdata[1]}</b><br>n_features: <b>%{customdata[2]}</b><br>algo: <b>%{customdata[3]}</b><br>n_jobs: <b>%{customdata[4]}</b><br>n_neighbors: <b>%{customdata[5]}</b><br>speedup: <b>%{customdata[6]}</b><br><extra></extra>",
         "marker": {
          "color": "lightsalmon"
         },
         "name": "n_jobs: -1",
         "showlegend": false,
         "type": "bar",
         "x": [
          "(1000, 10)",
          "(1, 10)",
          "(1000, 2)",
          "(1, 2)"
         ],
         "xaxis": "x8",
         "y": [
          1.86,
          2.81,
          21.52,
          27.86
         ],
         "yaxis": "y8"
        },
        {
         "customdata": [
          [
           "KNeighborsClassifier_kd_tree",
           "sklearn",
           "fit",
           1.97,
           0,
           10,
           1000000,
           10,
           "kd_tree",
           1,
           100,
           null,
           null,
           "daal4py",
           0.53,
           0.01,
           10,
           null,
           null,
           3.69
          ],
          [
           "KNeighborsClassifier_kd_tree",
           "sklearn",
           "fit",
           1.57,
           0.03,
           10,
           1000000,
           2,
           "kd_tree",
           1,
           100,
           null,
           null,
           "daal4py",
           0.39,
           0.04,
           10,
           null,
           null,
           4.04
          ]
         ],
         "hovertemplate": "function: <b>%{customdata[0]}</b><br>n_samples: <b>%{customdata[1]}</b><br>n_features: <b>%{customdata[2]}</b><br>algo: <b>%{customdata[3]}</b><br>n_jobs: <b>%{customdata[4]}</b><br>n_neighbors: <b>%{customdata[5]}</b><br>speedup: <b>%{customdata[6]}</b><br><extra></extra>",
         "marker": {
          "color": "indianred"
         },
         "name": "n_jobs: 1",
         "showlegend": false,
         "type": "bar",
         "x": [
          "(1000000, 10)",
          "(1000000, 2)"
         ],
         "xaxis": "x9",
         "y": [
          3.69,
          4.04
         ],
         "yaxis": "y9"
        },
        {
         "customdata": [
          [
           "KNeighborsClassifier_kd_tree",
           "sklearn",
           "fit",
           2.57,
           0.02,
           10,
           1000000,
           10,
           "kd_tree",
           -1,
           100,
           null,
           null,
           "daal4py",
           0.78,
           0.14,
           10,
           null,
           null,
           3.31
          ],
          [
           "KNeighborsClassifier_kd_tree",
           "sklearn",
           "fit",
           1.57,
           0.01,
           10,
           1000000,
           2,
           "kd_tree",
           -1,
           100,
           null,
           null,
           "daal4py",
           0.31,
           0.01,
           10,
           null,
           null,
           5.05
          ]
         ],
         "hovertemplate": "function: <b>%{customdata[0]}</b><br>n_samples: <b>%{customdata[1]}</b><br>n_features: <b>%{customdata[2]}</b><br>algo: <b>%{customdata[3]}</b><br>n_jobs: <b>%{customdata[4]}</b><br>n_neighbors: <b>%{customdata[5]}</b><br>speedup: <b>%{customdata[6]}</b><br><extra></extra>",
         "marker": {
          "color": "lightsalmon"
         },
         "name": "n_jobs: -1",
         "showlegend": false,
         "type": "bar",
         "x": [
          "(1000000, 10)",
          "(1000000, 2)"
         ],
         "xaxis": "x9",
         "y": [
          3.31,
          5.05
         ],
         "yaxis": "y9"
        },
        {
         "customdata": [
          [
           "KNeighborsClassifier_kd_tree",
           "sklearn",
           "predict",
           1.54,
           0.13,
           null,
           1000,
           10,
           "kd_tree",
           1,
           100,
           0.98,
           0.98,
           "daal4py",
           0.16,
           0.01,
           null,
           0.97,
           0.97,
           9.82
          ],
          [
           "KNeighborsClassifier_kd_tree",
           "sklearn",
           "predict",
           0,
           0,
           null,
           1,
           10,
           "kd_tree",
           1,
           100,
           0.98,
           0.98,
           "daal4py",
           0,
           0,
           null,
           0.97,
           0.97,
           2.32
          ],
          [
           "KNeighborsClassifier_kd_tree",
           "sklearn",
           "predict",
           0.07,
           0.01,
           null,
           1000,
           2,
           "kd_tree",
           1,
           100,
           0.98,
           0.98,
           "daal4py",
           0,
           0,
           null,
           0.98,
           0.98,
           19.79
          ],
          [
           "KNeighborsClassifier_kd_tree",
           "sklearn",
           "predict",
           0,
           0,
           null,
           1,
           2,
           "kd_tree",
           1,
           100,
           0.98,
           0.98,
           "daal4py",
           0,
           0,
           null,
           0.98,
           0.98,
           5.02
          ]
         ],
         "hovertemplate": "function: <b>%{customdata[0]}</b><br>n_samples: <b>%{customdata[1]}</b><br>n_features: <b>%{customdata[2]}</b><br>algo: <b>%{customdata[3]}</b><br>n_jobs: <b>%{customdata[4]}</b><br>n_neighbors: <b>%{customdata[5]}</b><br>speedup: <b>%{customdata[6]}</b><br><extra></extra>",
         "marker": {
          "color": "indianred"
         },
         "name": "n_jobs: 1",
         "showlegend": false,
         "type": "bar",
         "x": [
          "(1000, 10)",
          "(1, 10)",
          "(1000, 2)",
          "(1, 2)"
         ],
         "xaxis": "x10",
         "y": [
          9.82,
          2.32,
          19.79,
          5.02
         ],
         "yaxis": "y10"
        },
        {
         "customdata": [
          [
           "KNeighborsClassifier_kd_tree",
           "sklearn",
           "predict",
           0.49,
           0.01,
           null,
           1000,
           10,
           "kd_tree",
           -1,
           100,
           0.98,
           0.98,
           "daal4py",
           0.2,
           0.01,
           null,
           0.97,
           0.97,
           2.46
          ],
          [
           "KNeighborsClassifier_kd_tree",
           "sklearn",
           "predict",
           0,
           0,
           null,
           1,
           10,
           "kd_tree",
           -1,
           100,
           0.98,
           0.98,
           "daal4py",
           0,
           0,
           null,
           0.97,
           0.97,
           3.38
          ],
          [
           "KNeighborsClassifier_kd_tree",
           "sklearn",
           "predict",
           0.05,
           0,
           null,
           1000,
           2,
           "kd_tree",
           -1,
           100,
           0.98,
           0.98,
           "daal4py",
           0,
           0,
           null,
           0.98,
           0.98,
           12.11
          ],
          [
           "KNeighborsClassifier_kd_tree",
           "sklearn",
           "predict",
           0,
           0,
           null,
           1,
           2,
           "kd_tree",
           -1,
           100,
           0.98,
           0.98,
           "daal4py",
           0,
           0,
           null,
           0.98,
           0.98,
           26.65
          ]
         ],
         "hovertemplate": "function: <b>%{customdata[0]}</b><br>n_samples: <b>%{customdata[1]}</b><br>n_features: <b>%{customdata[2]}</b><br>algo: <b>%{customdata[3]}</b><br>n_jobs: <b>%{customdata[4]}</b><br>n_neighbors: <b>%{customdata[5]}</b><br>speedup: <b>%{customdata[6]}</b><br><extra></extra>",
         "marker": {
          "color": "lightsalmon"
         },
         "name": "n_jobs: -1",
         "showlegend": false,
         "type": "bar",
         "x": [
          "(1000, 10)",
          "(1, 10)",
          "(1000, 2)",
          "(1, 2)"
         ],
         "xaxis": "x10",
         "y": [
          2.46,
          3.38,
          12.11,
          26.65
         ],
         "yaxis": "y10"
        }
       ],
       "layout": {
        "annotations": [
         {
          "font": {
           "size": 16
          },
          "showarrow": false,
          "text": "algo: kd_tree, k: 1, func: fit",
          "x": 0.225,
          "xanchor": "center",
          "xref": "paper",
          "y": 1,
          "yanchor": "bottom",
          "yref": "paper"
         },
         {
          "font": {
           "size": 16
          },
          "showarrow": false,
          "text": "algo: kd_tree, k: 1, func: predict",
          "x": 0.775,
          "xanchor": "center",
          "xref": "paper",
          "y": 1,
          "yanchor": "bottom",
          "yref": "paper"
         },
         {
          "font": {
           "size": 16
          },
          "showarrow": false,
          "text": "algo: kd_tree, k: 5, func: fit",
          "x": 0.225,
          "xanchor": "center",
          "xref": "paper",
          "y": 0.78,
          "yanchor": "bottom",
          "yref": "paper"
         },
         {
          "font": {
           "size": 16
          },
          "showarrow": false,
          "text": "algo: kd_tree, k: 5, func: predict",
          "x": 0.775,
          "xanchor": "center",
          "xref": "paper",
          "y": 0.78,
          "yanchor": "bottom",
          "yref": "paper"
         },
         {
          "font": {
           "size": 16
          },
          "showarrow": false,
          "text": "algo: kd_tree, k: 10, func: fit",
          "x": 0.225,
          "xanchor": "center",
          "xref": "paper",
          "y": 0.56,
          "yanchor": "bottom",
          "yref": "paper"
         },
         {
          "font": {
           "size": 16
          },
          "showarrow": false,
          "text": "algo: kd_tree, k: 10, func: predict",
          "x": 0.775,
          "xanchor": "center",
          "xref": "paper",
          "y": 0.56,
          "yanchor": "bottom",
          "yref": "paper"
         },
         {
          "font": {
           "size": 16
          },
          "showarrow": false,
          "text": "algo: kd_tree, k: 50, func: fit",
          "x": 0.225,
          "xanchor": "center",
          "xref": "paper",
          "y": 0.33999999999999997,
          "yanchor": "bottom",
          "yref": "paper"
         },
         {
          "font": {
           "size": 16
          },
          "showarrow": false,
          "text": "algo: kd_tree, k: 50, func: predict",
          "x": 0.775,
          "xanchor": "center",
          "xref": "paper",
          "y": 0.33999999999999997,
          "yanchor": "bottom",
          "yref": "paper"
         },
         {
          "font": {
           "size": 16
          },
          "showarrow": false,
          "text": "algo: kd_tree, k: 100, func: fit",
          "x": 0.225,
          "xanchor": "center",
          "xref": "paper",
          "y": 0.12,
          "yanchor": "bottom",
          "yref": "paper"
         },
         {
          "font": {
           "size": 16
          },
          "showarrow": false,
          "text": "algo: kd_tree, k: 100, func: predict",
          "x": 0.775,
          "xanchor": "center",
          "xref": "paper",
          "y": 0.12,
          "yanchor": "bottom",
          "yref": "paper"
         }
        ],
        "barmode": "group",
        "height": 1500,
        "showlegend": false,
        "template": {
         "data": {
          "bar": [
           {
            "error_x": {
             "color": "#2a3f5f"
            },
            "error_y": {
             "color": "#2a3f5f"
            },
            "marker": {
             "line": {
              "color": "#E5ECF6",
              "width": 0.5
             }
            },
            "type": "bar"
           }
          ],
          "barpolar": [
           {
            "marker": {
             "line": {
              "color": "#E5ECF6",
              "width": 0.5
             }
            },
            "type": "barpolar"
           }
          ],
          "carpet": [
           {
            "aaxis": {
             "endlinecolor": "#2a3f5f",
             "gridcolor": "white",
             "linecolor": "white",
             "minorgridcolor": "white",
             "startlinecolor": "#2a3f5f"
            },
            "baxis": {
             "endlinecolor": "#2a3f5f",
             "gridcolor": "white",
             "linecolor": "white",
             "minorgridcolor": "white",
             "startlinecolor": "#2a3f5f"
            },
            "type": "carpet"
           }
          ],
          "choropleth": [
           {
            "colorbar": {
             "outlinewidth": 0,
             "ticks": ""
            },
            "type": "choropleth"
           }
          ],
          "contour": [
           {
            "colorbar": {
             "outlinewidth": 0,
             "ticks": ""
            },
            "colorscale": [
             [
              0,
              "#0d0887"
             ],
             [
              0.1111111111111111,
              "#46039f"
             ],
             [
              0.2222222222222222,
              "#7201a8"
             ],
             [
              0.3333333333333333,
              "#9c179e"
             ],
             [
              0.4444444444444444,
              "#bd3786"
             ],
             [
              0.5555555555555556,
              "#d8576b"
             ],
             [
              0.6666666666666666,
              "#ed7953"
             ],
             [
              0.7777777777777778,
              "#fb9f3a"
             ],
             [
              0.8888888888888888,
              "#fdca26"
             ],
             [
              1,
              "#f0f921"
             ]
            ],
            "type": "contour"
           }
          ],
          "contourcarpet": [
           {
            "colorbar": {
             "outlinewidth": 0,
             "ticks": ""
            },
            "type": "contourcarpet"
           }
          ],
          "heatmap": [
           {
            "colorbar": {
             "outlinewidth": 0,
             "ticks": ""
            },
            "colorscale": [
             [
              0,
              "#0d0887"
             ],
             [
              0.1111111111111111,
              "#46039f"
             ],
             [
              0.2222222222222222,
              "#7201a8"
             ],
             [
              0.3333333333333333,
              "#9c179e"
             ],
             [
              0.4444444444444444,
              "#bd3786"
             ],
             [
              0.5555555555555556,
              "#d8576b"
             ],
             [
              0.6666666666666666,
              "#ed7953"
             ],
             [
              0.7777777777777778,
              "#fb9f3a"
             ],
             [
              0.8888888888888888,
              "#fdca26"
             ],
             [
              1,
              "#f0f921"
             ]
            ],
            "type": "heatmap"
           }
          ],
          "heatmapgl": [
           {
            "colorbar": {
             "outlinewidth": 0,
             "ticks": ""
            },
            "colorscale": [
             [
              0,
              "#0d0887"
             ],
             [
              0.1111111111111111,
              "#46039f"
             ],
             [
              0.2222222222222222,
              "#7201a8"
             ],
             [
              0.3333333333333333,
              "#9c179e"
             ],
             [
              0.4444444444444444,
              "#bd3786"
             ],
             [
              0.5555555555555556,
              "#d8576b"
             ],
             [
              0.6666666666666666,
              "#ed7953"
             ],
             [
              0.7777777777777778,
              "#fb9f3a"
             ],
             [
              0.8888888888888888,
              "#fdca26"
             ],
             [
              1,
              "#f0f921"
             ]
            ],
            "type": "heatmapgl"
           }
          ],
          "histogram": [
           {
            "marker": {
             "colorbar": {
              "outlinewidth": 0,
              "ticks": ""
             }
            },
            "type": "histogram"
           }
          ],
          "histogram2d": [
           {
            "colorbar": {
             "outlinewidth": 0,
             "ticks": ""
            },
            "colorscale": [
             [
              0,
              "#0d0887"
             ],
             [
              0.1111111111111111,
              "#46039f"
             ],
             [
              0.2222222222222222,
              "#7201a8"
             ],
             [
              0.3333333333333333,
              "#9c179e"
             ],
             [
              0.4444444444444444,
              "#bd3786"
             ],
             [
              0.5555555555555556,
              "#d8576b"
             ],
             [
              0.6666666666666666,
              "#ed7953"
             ],
             [
              0.7777777777777778,
              "#fb9f3a"
             ],
             [
              0.8888888888888888,
              "#fdca26"
             ],
             [
              1,
              "#f0f921"
             ]
            ],
            "type": "histogram2d"
           }
          ],
          "histogram2dcontour": [
           {
            "colorbar": {
             "outlinewidth": 0,
             "ticks": ""
            },
            "colorscale": [
             [
              0,
              "#0d0887"
             ],
             [
              0.1111111111111111,
              "#46039f"
             ],
             [
              0.2222222222222222,
              "#7201a8"
             ],
             [
              0.3333333333333333,
              "#9c179e"
             ],
             [
              0.4444444444444444,
              "#bd3786"
             ],
             [
              0.5555555555555556,
              "#d8576b"
             ],
             [
              0.6666666666666666,
              "#ed7953"
             ],
             [
              0.7777777777777778,
              "#fb9f3a"
             ],
             [
              0.8888888888888888,
              "#fdca26"
             ],
             [
              1,
              "#f0f921"
             ]
            ],
            "type": "histogram2dcontour"
           }
          ],
          "mesh3d": [
           {
            "colorbar": {
             "outlinewidth": 0,
             "ticks": ""
            },
            "type": "mesh3d"
           }
          ],
          "parcoords": [
           {
            "line": {
             "colorbar": {
              "outlinewidth": 0,
              "ticks": ""
             }
            },
            "type": "parcoords"
           }
          ],
          "pie": [
           {
            "automargin": true,
            "type": "pie"
           }
          ],
          "scatter": [
           {
            "marker": {
             "colorbar": {
              "outlinewidth": 0,
              "ticks": ""
             }
            },
            "type": "scatter"
           }
          ],
          "scatter3d": [
           {
            "line": {
             "colorbar": {
              "outlinewidth": 0,
              "ticks": ""
             }
            },
            "marker": {
             "colorbar": {
              "outlinewidth": 0,
              "ticks": ""
             }
            },
            "type": "scatter3d"
           }
          ],
          "scattercarpet": [
           {
            "marker": {
             "colorbar": {
              "outlinewidth": 0,
              "ticks": ""
             }
            },
            "type": "scattercarpet"
           }
          ],
          "scattergeo": [
           {
            "marker": {
             "colorbar": {
              "outlinewidth": 0,
              "ticks": ""
             }
            },
            "type": "scattergeo"
           }
          ],
          "scattergl": [
           {
            "marker": {
             "colorbar": {
              "outlinewidth": 0,
              "ticks": ""
             }
            },
            "type": "scattergl"
           }
          ],
          "scattermapbox": [
           {
            "marker": {
             "colorbar": {
              "outlinewidth": 0,
              "ticks": ""
             }
            },
            "type": "scattermapbox"
           }
          ],
          "scatterpolar": [
           {
            "marker": {
             "colorbar": {
              "outlinewidth": 0,
              "ticks": ""
             }
            },
            "type": "scatterpolar"
           }
          ],
          "scatterpolargl": [
           {
            "marker": {
             "colorbar": {
              "outlinewidth": 0,
              "ticks": ""
             }
            },
            "type": "scatterpolargl"
           }
          ],
          "scatterternary": [
           {
            "marker": {
             "colorbar": {
              "outlinewidth": 0,
              "ticks": ""
             }
            },
            "type": "scatterternary"
           }
          ],
          "surface": [
           {
            "colorbar": {
             "outlinewidth": 0,
             "ticks": ""
            },
            "colorscale": [
             [
              0,
              "#0d0887"
             ],
             [
              0.1111111111111111,
              "#46039f"
             ],
             [
              0.2222222222222222,
              "#7201a8"
             ],
             [
              0.3333333333333333,
              "#9c179e"
             ],
             [
              0.4444444444444444,
              "#bd3786"
             ],
             [
              0.5555555555555556,
              "#d8576b"
             ],
             [
              0.6666666666666666,
              "#ed7953"
             ],
             [
              0.7777777777777778,
              "#fb9f3a"
             ],
             [
              0.8888888888888888,
              "#fdca26"
             ],
             [
              1,
              "#f0f921"
             ]
            ],
            "type": "surface"
           }
          ],
          "table": [
           {
            "cells": {
             "fill": {
              "color": "#EBF0F8"
             },
             "line": {
              "color": "white"
             }
            },
            "header": {
             "fill": {
              "color": "#C8D4E3"
             },
             "line": {
              "color": "white"
             }
            },
            "type": "table"
           }
          ]
         },
         "layout": {
          "annotationdefaults": {
           "arrowcolor": "#2a3f5f",
           "arrowhead": 0,
           "arrowwidth": 1
          },
          "autotypenumbers": "strict",
          "coloraxis": {
           "colorbar": {
            "outlinewidth": 0,
            "ticks": ""
           }
          },
          "colorscale": {
           "diverging": [
            [
             0,
             "#8e0152"
            ],
            [
             0.1,
             "#c51b7d"
            ],
            [
             0.2,
             "#de77ae"
            ],
            [
             0.3,
             "#f1b6da"
            ],
            [
             0.4,
             "#fde0ef"
            ],
            [
             0.5,
             "#f7f7f7"
            ],
            [
             0.6,
             "#e6f5d0"
            ],
            [
             0.7,
             "#b8e186"
            ],
            [
             0.8,
             "#7fbc41"
            ],
            [
             0.9,
             "#4d9221"
            ],
            [
             1,
             "#276419"
            ]
           ],
           "sequential": [
            [
             0,
             "#0d0887"
            ],
            [
             0.1111111111111111,
             "#46039f"
            ],
            [
             0.2222222222222222,
             "#7201a8"
            ],
            [
             0.3333333333333333,
             "#9c179e"
            ],
            [
             0.4444444444444444,
             "#bd3786"
            ],
            [
             0.5555555555555556,
             "#d8576b"
            ],
            [
             0.6666666666666666,
             "#ed7953"
            ],
            [
             0.7777777777777778,
             "#fb9f3a"
            ],
            [
             0.8888888888888888,
             "#fdca26"
            ],
            [
             1,
             "#f0f921"
            ]
           ],
           "sequentialminus": [
            [
             0,
             "#0d0887"
            ],
            [
             0.1111111111111111,
             "#46039f"
            ],
            [
             0.2222222222222222,
             "#7201a8"
            ],
            [
             0.3333333333333333,
             "#9c179e"
            ],
            [
             0.4444444444444444,
             "#bd3786"
            ],
            [
             0.5555555555555556,
             "#d8576b"
            ],
            [
             0.6666666666666666,
             "#ed7953"
            ],
            [
             0.7777777777777778,
             "#fb9f3a"
            ],
            [
             0.8888888888888888,
             "#fdca26"
            ],
            [
             1,
             "#f0f921"
            ]
           ]
          },
          "colorway": [
           "#636efa",
           "#EF553B",
           "#00cc96",
           "#ab63fa",
           "#FFA15A",
           "#19d3f3",
           "#FF6692",
           "#B6E880",
           "#FF97FF",
           "#FECB52"
          ],
          "font": {
           "color": "#2a3f5f"
          },
          "geo": {
           "bgcolor": "white",
           "lakecolor": "white",
           "landcolor": "#E5ECF6",
           "showlakes": true,
           "showland": true,
           "subunitcolor": "white"
          },
          "hoverlabel": {
           "align": "left"
          },
          "hovermode": "closest",
          "mapbox": {
           "style": "light"
          },
          "paper_bgcolor": "white",
          "plot_bgcolor": "#E5ECF6",
          "polar": {
           "angularaxis": {
            "gridcolor": "white",
            "linecolor": "white",
            "ticks": ""
           },
           "bgcolor": "#E5ECF6",
           "radialaxis": {
            "gridcolor": "white",
            "linecolor": "white",
            "ticks": ""
           }
          },
          "scene": {
           "xaxis": {
            "backgroundcolor": "#E5ECF6",
            "gridcolor": "white",
            "gridwidth": 2,
            "linecolor": "white",
            "showbackground": true,
            "ticks": "",
            "zerolinecolor": "white"
           },
           "yaxis": {
            "backgroundcolor": "#E5ECF6",
            "gridcolor": "white",
            "gridwidth": 2,
            "linecolor": "white",
            "showbackground": true,
            "ticks": "",
            "zerolinecolor": "white"
           },
           "zaxis": {
            "backgroundcolor": "#E5ECF6",
            "gridcolor": "white",
            "gridwidth": 2,
            "linecolor": "white",
            "showbackground": true,
            "ticks": "",
            "zerolinecolor": "white"
           }
          },
          "shapedefaults": {
           "line": {
            "color": "#2a3f5f"
           }
          },
          "ternary": {
           "aaxis": {
            "gridcolor": "white",
            "linecolor": "white",
            "ticks": ""
           },
           "baxis": {
            "gridcolor": "white",
            "linecolor": "white",
            "ticks": ""
           },
           "bgcolor": "#E5ECF6",
           "caxis": {
            "gridcolor": "white",
            "linecolor": "white",
            "ticks": ""
           }
          },
          "title": {
           "x": 0.05
          },
          "xaxis": {
           "automargin": true,
           "gridcolor": "white",
           "linecolor": "white",
           "ticks": "",
           "title": {
            "standoff": 15
           },
           "zerolinecolor": "white",
           "zerolinewidth": 2
          },
          "yaxis": {
           "automargin": true,
           "gridcolor": "white",
           "linecolor": "white",
           "ticks": "",
           "title": {
            "standoff": 15
           },
           "zerolinecolor": "white",
           "zerolinewidth": 2
          }
         }
        },
        "xaxis": {
         "anchor": "y",
         "domain": [
          0,
          0.45
         ]
        },
        "xaxis10": {
         "anchor": "y10",
         "domain": [
          0.55,
          1
         ]
        },
        "xaxis2": {
         "anchor": "y2",
         "domain": [
          0.55,
          1
         ]
        },
        "xaxis3": {
         "anchor": "y3",
         "domain": [
          0,
          0.45
         ]
        },
        "xaxis4": {
         "anchor": "y4",
         "domain": [
          0.55,
          1
         ]
        },
        "xaxis5": {
         "anchor": "y5",
         "domain": [
          0,
          0.45
         ]
        },
        "xaxis6": {
         "anchor": "y6",
         "domain": [
          0.55,
          1
         ]
        },
        "xaxis7": {
         "anchor": "y7",
         "domain": [
          0,
          0.45
         ]
        },
        "xaxis8": {
         "anchor": "y8",
         "domain": [
          0.55,
          1
         ]
        },
        "xaxis9": {
         "anchor": "y9",
         "domain": [
          0,
          0.45
         ]
        },
        "yaxis": {
         "anchor": "x",
         "domain": [
          0.88,
          1
         ]
        },
        "yaxis10": {
         "anchor": "x10",
         "domain": [
          0,
          0.12
         ]
        },
        "yaxis2": {
         "anchor": "x2",
         "domain": [
          0.88,
          1
         ]
        },
        "yaxis3": {
         "anchor": "x3",
         "domain": [
          0.66,
          0.78
         ]
        },
        "yaxis4": {
         "anchor": "x4",
         "domain": [
          0.66,
          0.78
         ]
        },
        "yaxis5": {
         "anchor": "x5",
         "domain": [
          0.44,
          0.56
         ]
        },
        "yaxis6": {
         "anchor": "x6",
         "domain": [
          0.44,
          0.56
         ]
        },
        "yaxis7": {
         "anchor": "x7",
         "domain": [
          0.22,
          0.33999999999999997
         ]
        },
        "yaxis8": {
         "anchor": "x8",
         "domain": [
          0.22,
          0.33999999999999997
         ]
        },
        "yaxis9": {
         "anchor": "x9",
         "domain": [
          0,
          0.12
         ]
        }
       }
      },
      "text/html": [
       "<div>                            <div id=\"00092254-0662-41b2-a697-8d81e2fc9943\" class=\"plotly-graph-div\" style=\"height:1500px; width:100%;\"></div>            <script type=\"text/javascript\">                require([\"plotly\"], function(Plotly) {                    window.PLOTLYENV=window.PLOTLYENV || {};                                    if (document.getElementById(\"00092254-0662-41b2-a697-8d81e2fc9943\")) {                    Plotly.newPlot(                        \"00092254-0662-41b2-a697-8d81e2fc9943\",                        [{\"customdata\": [[\"KNeighborsClassifier_kd_tree\", \"sklearn\", \"fit\", 2.5, 0.02, 10.0, 1000000, 10, \"kd_tree\", 1, 1, null, null, \"daal4py\", 0.55, 0.05, 10.0, null, null, 4.51], [\"KNeighborsClassifier_kd_tree\", \"sklearn\", \"fit\", 1.63, 0.08, 10.0, 1000000, 2, \"kd_tree\", 1, 1, null, null, \"daal4py\", 0.31, 0.01, 10.0, null, null, 5.23]], \"hovertemplate\": \"function: <b>%{customdata[0]}</b><br>n_samples: <b>%{customdata[1]}</b><br>n_features: <b>%{customdata[2]}</b><br>algo: <b>%{customdata[3]}</b><br>n_jobs: <b>%{customdata[4]}</b><br>n_neighbors: <b>%{customdata[5]}</b><br>speedup: <b>%{customdata[6]}</b><br><extra></extra>\", \"marker\": {\"color\": \"indianred\"}, \"name\": \"n_jobs: 1\", \"showlegend\": false, \"type\": \"bar\", \"x\": [\"(1000000, 10)\", \"(1000000, 2)\"], \"xaxis\": \"x\", \"y\": [4.51, 5.23], \"yaxis\": \"y\"}, {\"customdata\": [[\"KNeighborsClassifier_kd_tree\", \"sklearn\", \"fit\", 2.51, 0.01, 10.0, 1000000, 10, \"kd_tree\", -1, 1, null, null, \"daal4py\", 0.66, 0.06, 10.0, null, null, 3.77], [\"KNeighborsClassifier_kd_tree\", \"sklearn\", \"fit\", 1.75, 0.16, 10.0, 1000000, 2, \"kd_tree\", -1, 1, null, null, \"daal4py\", 0.31, 0.01, 10.0, null, null, 5.6]], \"hovertemplate\": \"function: <b>%{customdata[0]}</b><br>n_samples: <b>%{customdata[1]}</b><br>n_features: <b>%{customdata[2]}</b><br>algo: <b>%{customdata[3]}</b><br>n_jobs: <b>%{customdata[4]}</b><br>n_neighbors: <b>%{customdata[5]}</b><br>speedup: <b>%{customdata[6]}</b><br><extra></extra>\", \"marker\": {\"color\": \"lightsalmon\"}, \"name\": \"n_jobs: -1\", \"showlegend\": false, \"type\": \"bar\", \"x\": [\"(1000000, 10)\", \"(1000000, 2)\"], \"xaxis\": \"x\", \"y\": [3.77, 5.6], \"yaxis\": \"y\"}, {\"customdata\": [[\"KNeighborsClassifier_kd_tree\", \"sklearn\", \"predict\", 0.22, 0.02, null, 1000, 10, \"kd_tree\", 1, 1, 0.96, 0.96, \"daal4py\", 0.03, 0.0, null, 0.97, 0.97, 8.1], [\"KNeighborsClassifier_kd_tree\", \"sklearn\", \"predict\", 0.0, 0.0, null, 1, 10, \"kd_tree\", 1, 1, 0.96, 0.96, \"daal4py\", 0.0, 0.0, null, 0.97, 0.97, 2.33], [\"KNeighborsClassifier_kd_tree\", \"sklearn\", \"predict\", 0.03, 0.0, null, 1000, 2, \"kd_tree\", 1, 1, 0.97, 0.97, \"daal4py\", 0.0, 0.0, null, 0.97, 0.97, 48.46], [\"KNeighborsClassifier_kd_tree\", \"sklearn\", \"predict\", 0.0, 0.0, null, 1, 2, \"kd_tree\", 1, 1, 0.97, 0.97, \"daal4py\", 0.0, 0.0, null, 0.97, 0.97, 4.64]], \"hovertemplate\": \"function: <b>%{customdata[0]}</b><br>n_samples: <b>%{customdata[1]}</b><br>n_features: <b>%{customdata[2]}</b><br>algo: <b>%{customdata[3]}</b><br>n_jobs: <b>%{customdata[4]}</b><br>n_neighbors: <b>%{customdata[5]}</b><br>speedup: <b>%{customdata[6]}</b><br><extra></extra>\", \"marker\": {\"color\": \"indianred\"}, \"name\": \"n_jobs: 1\", \"showlegend\": false, \"type\": \"bar\", \"x\": [\"(1000, 10)\", \"(1, 10)\", \"(1000, 2)\", \"(1, 2)\"], \"xaxis\": \"x2\", \"y\": [8.1, 2.33, 48.46, 4.64], \"yaxis\": \"y2\"}, {\"customdata\": [[\"KNeighborsClassifier_kd_tree\", \"sklearn\", \"predict\", 0.11, 0.01, null, 1000, 10, \"kd_tree\", -1, 1, 0.96, 0.96, \"daal4py\", 0.04, 0.01, null, 0.97, 0.97, 2.89], [\"KNeighborsClassifier_kd_tree\", \"sklearn\", \"predict\", 0.0, 0.0, null, 1, 10, \"kd_tree\", -1, 1, 0.96, 0.96, \"daal4py\", 0.0, 0.0, null, 0.97, 0.97, 12.06], [\"KNeighborsClassifier_kd_tree\", \"sklearn\", \"predict\", 0.05, 0.01, null, 1000, 2, \"kd_tree\", -1, 1, 0.97, 0.97, \"daal4py\", 0.0, 0.0, null, 0.97, 0.97, 73.35], [\"KNeighborsClassifier_kd_tree\", \"sklearn\", \"predict\", 0.0, 0.0, null, 1, 2, \"kd_tree\", -1, 1, 0.97, 0.97, \"daal4py\", 0.0, 0.0, null, 0.97, 0.97, 35.4]], \"hovertemplate\": \"function: <b>%{customdata[0]}</b><br>n_samples: <b>%{customdata[1]}</b><br>n_features: <b>%{customdata[2]}</b><br>algo: <b>%{customdata[3]}</b><br>n_jobs: <b>%{customdata[4]}</b><br>n_neighbors: <b>%{customdata[5]}</b><br>speedup: <b>%{customdata[6]}</b><br><extra></extra>\", \"marker\": {\"color\": \"lightsalmon\"}, \"name\": \"n_jobs: -1\", \"showlegend\": false, \"type\": \"bar\", \"x\": [\"(1000, 10)\", \"(1, 10)\", \"(1000, 2)\", \"(1, 2)\"], \"xaxis\": \"x2\", \"y\": [2.89, 12.06, 73.35, 35.4], \"yaxis\": \"y2\"}, {\"customdata\": [[\"KNeighborsClassifier_kd_tree\", \"sklearn\", \"fit\", 1.96, 0.01, 10.0, 1000000, 10, \"kd_tree\", 1, 5, null, null, \"daal4py\", 0.52, 0.01, 10.0, null, null, 3.76], [\"KNeighborsClassifier_kd_tree\", \"sklearn\", \"fit\", 1.66, 0.02, 10.0, 1000000, 2, \"kd_tree\", 1, 5, null, null, \"daal4py\", 0.31, 0.01, 10.0, null, null, 5.35]], \"hovertemplate\": \"function: <b>%{customdata[0]}</b><br>n_samples: <b>%{customdata[1]}</b><br>n_features: <b>%{customdata[2]}</b><br>algo: <b>%{customdata[3]}</b><br>n_jobs: <b>%{customdata[4]}</b><br>n_neighbors: <b>%{customdata[5]}</b><br>speedup: <b>%{customdata[6]}</b><br><extra></extra>\", \"marker\": {\"color\": \"indianred\"}, \"name\": \"n_jobs: 1\", \"showlegend\": false, \"type\": \"bar\", \"x\": [\"(1000000, 10)\", \"(1000000, 2)\"], \"xaxis\": \"x3\", \"y\": [3.76, 5.35], \"yaxis\": \"y3\"}, {\"customdata\": [[\"KNeighborsClassifier_kd_tree\", \"sklearn\", \"fit\", 2.59, 0.04, 10.0, 1000000, 10, \"kd_tree\", -1, 5, null, null, \"daal4py\", 0.62, 0.05, 10.0, null, null, 4.15], [\"KNeighborsClassifier_kd_tree\", \"sklearn\", \"fit\", 1.71, 0.03, 10.0, 1000000, 2, \"kd_tree\", -1, 5, null, null, \"daal4py\", 0.32, 0.02, 10.0, null, null, 5.4]], \"hovertemplate\": \"function: <b>%{customdata[0]}</b><br>n_samples: <b>%{customdata[1]}</b><br>n_features: <b>%{customdata[2]}</b><br>algo: <b>%{customdata[3]}</b><br>n_jobs: <b>%{customdata[4]}</b><br>n_neighbors: <b>%{customdata[5]}</b><br>speedup: <b>%{customdata[6]}</b><br><extra></extra>\", \"marker\": {\"color\": \"lightsalmon\"}, \"name\": \"n_jobs: -1\", \"showlegend\": false, \"type\": \"bar\", \"x\": [\"(1000000, 10)\", \"(1000000, 2)\"], \"xaxis\": \"x3\", \"y\": [4.15, 5.4], \"yaxis\": \"y3\"}, {\"customdata\": [[\"KNeighborsClassifier_kd_tree\", \"sklearn\", \"predict\", 0.4, 0.0, null, 1000, 10, \"kd_tree\", 1, 5, 0.98, 0.98, \"daal4py\", 0.05, 0.0, null, 0.98, 0.97, 8.07], [\"KNeighborsClassifier_kd_tree\", \"sklearn\", \"predict\", 0.0, 0.0, null, 1, 10, \"kd_tree\", 1, 5, 0.98, 0.98, \"daal4py\", 0.0, 0.0, null, 0.98, 0.97, 2.77], [\"KNeighborsClassifier_kd_tree\", \"sklearn\", \"predict\", 0.03, 0.0, null, 1000, 2, \"kd_tree\", 1, 5, 0.98, 0.98, \"daal4py\", 0.0, 0.0, null, 0.98, 0.98, 41.27], [\"KNeighborsClassifier_kd_tree\", \"sklearn\", \"predict\", 0.0, 0.0, null, 1, 2, \"kd_tree\", 1, 5, 0.98, 0.98, \"daal4py\", 0.0, 0.0, null, 0.98, 0.98, 4.93]], \"hovertemplate\": \"function: <b>%{customdata[0]}</b><br>n_samples: <b>%{customdata[1]}</b><br>n_features: <b>%{customdata[2]}</b><br>algo: <b>%{customdata[3]}</b><br>n_jobs: <b>%{customdata[4]}</b><br>n_neighbors: <b>%{customdata[5]}</b><br>speedup: <b>%{customdata[6]}</b><br><extra></extra>\", \"marker\": {\"color\": \"indianred\"}, \"name\": \"n_jobs: 1\", \"showlegend\": false, \"type\": \"bar\", \"x\": [\"(1000, 10)\", \"(1, 10)\", \"(1000, 2)\", \"(1, 2)\"], \"xaxis\": \"x4\", \"y\": [8.07, 2.77, 41.27, 4.93], \"yaxis\": \"y4\"}, {\"customdata\": [[\"KNeighborsClassifier_kd_tree\", \"sklearn\", \"predict\", 0.16, 0.01, null, 1000, 10, \"kd_tree\", -1, 5, 0.98, 0.98, \"daal4py\", 0.06, 0.01, null, 0.98, 0.97, 2.6], [\"KNeighborsClassifier_kd_tree\", \"sklearn\", \"predict\", 0.0, 0.0, null, 1, 10, \"kd_tree\", -1, 5, 0.98, 0.98, \"daal4py\", 0.0, 0.0, null, 0.98, 0.97, 12.4], [\"KNeighborsClassifier_kd_tree\", \"sklearn\", \"predict\", 0.04, 0.01, null, 1000, 2, \"kd_tree\", -1, 5, 0.98, 0.98, \"daal4py\", 0.0, 0.0, null, 0.98, 0.98, 59.14], [\"KNeighborsClassifier_kd_tree\", \"sklearn\", \"predict\", 0.0, 0.0, null, 1, 2, \"kd_tree\", -1, 5, 0.98, 0.98, \"daal4py\", 0.0, 0.0, null, 0.98, 0.98, 31.21]], \"hovertemplate\": \"function: <b>%{customdata[0]}</b><br>n_samples: <b>%{customdata[1]}</b><br>n_features: <b>%{customdata[2]}</b><br>algo: <b>%{customdata[3]}</b><br>n_jobs: <b>%{customdata[4]}</b><br>n_neighbors: <b>%{customdata[5]}</b><br>speedup: <b>%{customdata[6]}</b><br><extra></extra>\", \"marker\": {\"color\": \"lightsalmon\"}, \"name\": \"n_jobs: -1\", \"showlegend\": false, \"type\": \"bar\", \"x\": [\"(1000, 10)\", \"(1, 10)\", \"(1000, 2)\", \"(1, 2)\"], \"xaxis\": \"x4\", \"y\": [2.6, 12.4, 59.14, 31.21], \"yaxis\": \"y4\"}, {\"customdata\": [[\"KNeighborsClassifier_kd_tree\", \"sklearn\", \"fit\", 2.03, 0.02, 10.0, 1000000, 10, \"kd_tree\", 1, 10, null, null, \"daal4py\", 0.53, 0.01, 10.0, null, null, 3.85], [\"KNeighborsClassifier_kd_tree\", \"sklearn\", \"fit\", 1.64, 0.0, 10.0, 1000000, 2, \"kd_tree\", 1, 10, null, null, \"daal4py\", 0.32, 0.01, 10.0, null, null, 5.05]], \"hovertemplate\": \"function: <b>%{customdata[0]}</b><br>n_samples: <b>%{customdata[1]}</b><br>n_features: <b>%{customdata[2]}</b><br>algo: <b>%{customdata[3]}</b><br>n_jobs: <b>%{customdata[4]}</b><br>n_neighbors: <b>%{customdata[5]}</b><br>speedup: <b>%{customdata[6]}</b><br><extra></extra>\", \"marker\": {\"color\": \"indianred\"}, \"name\": \"n_jobs: 1\", \"showlegend\": false, \"type\": \"bar\", \"x\": [\"(1000000, 10)\", \"(1000000, 2)\"], \"xaxis\": \"x5\", \"y\": [3.85, 5.05], \"yaxis\": \"y5\"}, {\"customdata\": [[\"KNeighborsClassifier_kd_tree\", \"sklearn\", \"fit\", 2.38, 0.02, 10.0, 1000000, 10, \"kd_tree\", -1, 10, null, null, \"daal4py\", 0.61, 0.03, 10.0, null, null, 3.93], [\"KNeighborsClassifier_kd_tree\", \"sklearn\", \"fit\", 1.93, 0.09, 10.0, 1000000, 2, \"kd_tree\", -1, 10, null, null, \"daal4py\", 0.31, 0.01, 10.0, null, null, 6.14]], \"hovertemplate\": \"function: <b>%{customdata[0]}</b><br>n_samples: <b>%{customdata[1]}</b><br>n_features: <b>%{customdata[2]}</b><br>algo: <b>%{customdata[3]}</b><br>n_jobs: <b>%{customdata[4]}</b><br>n_neighbors: <b>%{customdata[5]}</b><br>speedup: <b>%{customdata[6]}</b><br><extra></extra>\", \"marker\": {\"color\": \"lightsalmon\"}, \"name\": \"n_jobs: -1\", \"showlegend\": false, \"type\": \"bar\", \"x\": [\"(1000000, 10)\", \"(1000000, 2)\"], \"xaxis\": \"x5\", \"y\": [3.93, 6.14], \"yaxis\": \"y5\"}, {\"customdata\": [[\"KNeighborsClassifier_kd_tree\", \"sklearn\", \"predict\", 0.55, 0.01, null, 1000, 10, \"kd_tree\", 1, 10, 0.98, 0.98, \"daal4py\", 0.06, 0.0, null, 0.98, 0.98, 8.6], [\"KNeighborsClassifier_kd_tree\", \"sklearn\", \"predict\", 0.0, 0.0, null, 1, 10, \"kd_tree\", 1, 10, 0.98, 0.98, \"daal4py\", 0.0, 0.0, null, 0.98, 0.98, 1.78], [\"KNeighborsClassifier_kd_tree\", \"sklearn\", \"predict\", 0.03, 0.0, null, 1000, 2, \"kd_tree\", 1, 10, 0.98, 0.98, \"daal4py\", 0.0, 0.0, null, 0.98, 0.98, 38.79], [\"KNeighborsClassifier_kd_tree\", \"sklearn\", \"predict\", 0.0, 0.0, null, 1, 2, \"kd_tree\", 1, 10, 0.98, 0.98, \"daal4py\", 0.0, 0.0, null, 0.98, 0.98, 5.03]], \"hovertemplate\": \"function: <b>%{customdata[0]}</b><br>n_samples: <b>%{customdata[1]}</b><br>n_features: <b>%{customdata[2]}</b><br>algo: <b>%{customdata[3]}</b><br>n_jobs: <b>%{customdata[4]}</b><br>n_neighbors: <b>%{customdata[5]}</b><br>speedup: <b>%{customdata[6]}</b><br><extra></extra>\", \"marker\": {\"color\": \"indianred\"}, \"name\": \"n_jobs: 1\", \"showlegend\": false, \"type\": \"bar\", \"x\": [\"(1000, 10)\", \"(1, 10)\", \"(1000, 2)\", \"(1, 2)\"], \"xaxis\": \"x6\", \"y\": [8.6, 1.78, 38.79, 5.03], \"yaxis\": \"y6\"}, {\"customdata\": [[\"KNeighborsClassifier_kd_tree\", \"sklearn\", \"predict\", 0.21, 0.02, null, 1000, 10, \"kd_tree\", -1, 10, 0.98, 0.98, \"daal4py\", 0.09, 0.02, null, 0.98, 0.98, 2.35], [\"KNeighborsClassifier_kd_tree\", \"sklearn\", \"predict\", 0.0, 0.0, null, 1, 10, \"kd_tree\", -1, 10, 0.98, 0.98, \"daal4py\", 0.0, 0.0, null, 0.98, 0.98, 11.46], [\"KNeighborsClassifier_kd_tree\", \"sklearn\", \"predict\", 0.03, 0.0, null, 1000, 2, \"kd_tree\", -1, 10, 0.98, 0.98, \"daal4py\", 0.0, 0.0, null, 0.98, 0.98, 41.22], [\"KNeighborsClassifier_kd_tree\", \"sklearn\", \"predict\", 0.0, 0.0, null, 1, 2, \"kd_tree\", -1, 10, 0.98, 0.98, \"daal4py\", 0.0, 0.0, null, 0.98, 0.98, 19.78]], \"hovertemplate\": \"function: <b>%{customdata[0]}</b><br>n_samples: <b>%{customdata[1]}</b><br>n_features: <b>%{customdata[2]}</b><br>algo: <b>%{customdata[3]}</b><br>n_jobs: <b>%{customdata[4]}</b><br>n_neighbors: <b>%{customdata[5]}</b><br>speedup: <b>%{customdata[6]}</b><br><extra></extra>\", \"marker\": {\"color\": \"lightsalmon\"}, \"name\": \"n_jobs: -1\", \"showlegend\": false, \"type\": \"bar\", \"x\": [\"(1000, 10)\", \"(1, 10)\", \"(1000, 2)\", \"(1, 2)\"], \"xaxis\": \"x6\", \"y\": [2.35, 11.46, 41.22, 19.78], \"yaxis\": \"y6\"}, {\"customdata\": [[\"KNeighborsClassifier_kd_tree\", \"sklearn\", \"fit\", 2.01, 0.04, 10.0, 1000000, 10, \"kd_tree\", 1, 50, null, null, \"daal4py\", 0.53, 0.01, 10.0, null, null, 3.79], [\"KNeighborsClassifier_kd_tree\", \"sklearn\", \"fit\", 1.52, 0.01, 10.0, 1000000, 2, \"kd_tree\", 1, 50, null, null, \"daal4py\", 0.31, 0.02, 10.0, null, null, 4.87]], \"hovertemplate\": \"function: <b>%{customdata[0]}</b><br>n_samples: <b>%{customdata[1]}</b><br>n_features: <b>%{customdata[2]}</b><br>algo: <b>%{customdata[3]}</b><br>n_jobs: <b>%{customdata[4]}</b><br>n_neighbors: <b>%{customdata[5]}</b><br>speedup: <b>%{customdata[6]}</b><br><extra></extra>\", \"marker\": {\"color\": \"indianred\"}, \"name\": \"n_jobs: 1\", \"showlegend\": false, \"type\": \"bar\", \"x\": [\"(1000000, 10)\", \"(1000000, 2)\"], \"xaxis\": \"x7\", \"y\": [3.79, 4.87], \"yaxis\": \"y7\"}, {\"customdata\": [[\"KNeighborsClassifier_kd_tree\", \"sklearn\", \"fit\", 2.73, 0.1, 10.0, 1000000, 10, \"kd_tree\", -1, 50, null, null, \"daal4py\", 1.72, 0.42, 10.0, null, null, 1.59], [\"KNeighborsClassifier_kd_tree\", \"sklearn\", \"fit\", 1.62, 0.05, 10.0, 1000000, 2, \"kd_tree\", -1, 50, null, null, \"daal4py\", 0.32, 0.02, 10.0, null, null, 5.02]], \"hovertemplate\": \"function: <b>%{customdata[0]}</b><br>n_samples: <b>%{customdata[1]}</b><br>n_features: <b>%{customdata[2]}</b><br>algo: <b>%{customdata[3]}</b><br>n_jobs: <b>%{customdata[4]}</b><br>n_neighbors: <b>%{customdata[5]}</b><br>speedup: <b>%{customdata[6]}</b><br><extra></extra>\", \"marker\": {\"color\": \"lightsalmon\"}, \"name\": \"n_jobs: -1\", \"showlegend\": false, \"type\": \"bar\", \"x\": [\"(1000000, 10)\", \"(1000000, 2)\"], \"xaxis\": \"x7\", \"y\": [1.59, 5.02], \"yaxis\": \"y7\"}, {\"customdata\": [[\"KNeighborsClassifier_kd_tree\", \"sklearn\", \"predict\", 1.06, 0.0, null, 1000, 10, \"kd_tree\", 1, 50, 0.98, 0.98, \"daal4py\", 0.12, 0.0, null, 0.97, 0.97, 9.04], [\"KNeighborsClassifier_kd_tree\", \"sklearn\", \"predict\", 0.0, 0.0, null, 1, 10, \"kd_tree\", 1, 50, 0.98, 0.98, \"daal4py\", 0.0, 0.0, null, 0.97, 0.97, 1.77], [\"KNeighborsClassifier_kd_tree\", \"sklearn\", \"predict\", 0.04, 0.0, null, 1000, 2, \"kd_tree\", 1, 50, 0.98, 0.98, \"daal4py\", 0.0, 0.0, null, 0.98, 0.98, 20.59], [\"KNeighborsClassifier_kd_tree\", \"sklearn\", \"predict\", 0.0, 0.0, null, 1, 2, \"kd_tree\", 1, 50, 0.98, 0.98, \"daal4py\", 0.0, 0.0, null, 0.98, 0.98, 3.85]], \"hovertemplate\": \"function: <b>%{customdata[0]}</b><br>n_samples: <b>%{customdata[1]}</b><br>n_features: <b>%{customdata[2]}</b><br>algo: <b>%{customdata[3]}</b><br>n_jobs: <b>%{customdata[4]}</b><br>n_neighbors: <b>%{customdata[5]}</b><br>speedup: <b>%{customdata[6]}</b><br><extra></extra>\", \"marker\": {\"color\": \"indianred\"}, \"name\": \"n_jobs: 1\", \"showlegend\": false, \"type\": \"bar\", \"x\": [\"(1000, 10)\", \"(1, 10)\", \"(1000, 2)\", \"(1, 2)\"], \"xaxis\": \"x8\", \"y\": [9.04, 1.77, 20.59, 3.85], \"yaxis\": \"y8\"}, {\"customdata\": [[\"KNeighborsClassifier_kd_tree\", \"sklearn\", \"predict\", 0.41, 0.02, null, 1000, 10, \"kd_tree\", -1, 50, 0.98, 0.98, \"daal4py\", 0.22, 0.04, null, 0.97, 0.97, 1.86], [\"KNeighborsClassifier_kd_tree\", \"sklearn\", \"predict\", 0.0, 0.0, null, 1, 10, \"kd_tree\", -1, 50, 0.98, 0.98, \"daal4py\", 0.0, 0.0, null, 0.97, 0.97, 2.81], [\"KNeighborsClassifier_kd_tree\", \"sklearn\", \"predict\", 0.04, 0.0, null, 1000, 2, \"kd_tree\", -1, 50, 0.98, 0.98, \"daal4py\", 0.0, 0.0, null, 0.98, 0.98, 21.52], [\"KNeighborsClassifier_kd_tree\", \"sklearn\", \"predict\", 0.0, 0.0, null, 1, 2, \"kd_tree\", -1, 50, 0.98, 0.98, \"daal4py\", 0.0, 0.0, null, 0.98, 0.98, 27.86]], \"hovertemplate\": \"function: <b>%{customdata[0]}</b><br>n_samples: <b>%{customdata[1]}</b><br>n_features: <b>%{customdata[2]}</b><br>algo: <b>%{customdata[3]}</b><br>n_jobs: <b>%{customdata[4]}</b><br>n_neighbors: <b>%{customdata[5]}</b><br>speedup: <b>%{customdata[6]}</b><br><extra></extra>\", \"marker\": {\"color\": \"lightsalmon\"}, \"name\": \"n_jobs: -1\", \"showlegend\": false, \"type\": \"bar\", \"x\": [\"(1000, 10)\", \"(1, 10)\", \"(1000, 2)\", \"(1, 2)\"], \"xaxis\": \"x8\", \"y\": [1.86, 2.81, 21.52, 27.86], \"yaxis\": \"y8\"}, {\"customdata\": [[\"KNeighborsClassifier_kd_tree\", \"sklearn\", \"fit\", 1.97, 0.0, 10.0, 1000000, 10, \"kd_tree\", 1, 100, null, null, \"daal4py\", 0.53, 0.01, 10.0, null, null, 3.69], [\"KNeighborsClassifier_kd_tree\", \"sklearn\", \"fit\", 1.57, 0.03, 10.0, 1000000, 2, \"kd_tree\", 1, 100, null, null, \"daal4py\", 0.39, 0.04, 10.0, null, null, 4.04]], \"hovertemplate\": \"function: <b>%{customdata[0]}</b><br>n_samples: <b>%{customdata[1]}</b><br>n_features: <b>%{customdata[2]}</b><br>algo: <b>%{customdata[3]}</b><br>n_jobs: <b>%{customdata[4]}</b><br>n_neighbors: <b>%{customdata[5]}</b><br>speedup: <b>%{customdata[6]}</b><br><extra></extra>\", \"marker\": {\"color\": \"indianred\"}, \"name\": \"n_jobs: 1\", \"showlegend\": false, \"type\": \"bar\", \"x\": [\"(1000000, 10)\", \"(1000000, 2)\"], \"xaxis\": \"x9\", \"y\": [3.69, 4.04], \"yaxis\": \"y9\"}, {\"customdata\": [[\"KNeighborsClassifier_kd_tree\", \"sklearn\", \"fit\", 2.57, 0.02, 10.0, 1000000, 10, \"kd_tree\", -1, 100, null, null, \"daal4py\", 0.78, 0.14, 10.0, null, null, 3.31], [\"KNeighborsClassifier_kd_tree\", \"sklearn\", \"fit\", 1.57, 0.01, 10.0, 1000000, 2, \"kd_tree\", -1, 100, null, null, \"daal4py\", 0.31, 0.01, 10.0, null, null, 5.05]], \"hovertemplate\": \"function: <b>%{customdata[0]}</b><br>n_samples: <b>%{customdata[1]}</b><br>n_features: <b>%{customdata[2]}</b><br>algo: <b>%{customdata[3]}</b><br>n_jobs: <b>%{customdata[4]}</b><br>n_neighbors: <b>%{customdata[5]}</b><br>speedup: <b>%{customdata[6]}</b><br><extra></extra>\", \"marker\": {\"color\": \"lightsalmon\"}, \"name\": \"n_jobs: -1\", \"showlegend\": false, \"type\": \"bar\", \"x\": [\"(1000000, 10)\", \"(1000000, 2)\"], \"xaxis\": \"x9\", \"y\": [3.31, 5.05], \"yaxis\": \"y9\"}, {\"customdata\": [[\"KNeighborsClassifier_kd_tree\", \"sklearn\", \"predict\", 1.54, 0.13, null, 1000, 10, \"kd_tree\", 1, 100, 0.98, 0.98, \"daal4py\", 0.16, 0.01, null, 0.97, 0.97, 9.82], [\"KNeighborsClassifier_kd_tree\", \"sklearn\", \"predict\", 0.0, 0.0, null, 1, 10, \"kd_tree\", 1, 100, 0.98, 0.98, \"daal4py\", 0.0, 0.0, null, 0.97, 0.97, 2.32], [\"KNeighborsClassifier_kd_tree\", \"sklearn\", \"predict\", 0.07, 0.01, null, 1000, 2, \"kd_tree\", 1, 100, 0.98, 0.98, \"daal4py\", 0.0, 0.0, null, 0.98, 0.98, 19.79], [\"KNeighborsClassifier_kd_tree\", \"sklearn\", \"predict\", 0.0, 0.0, null, 1, 2, \"kd_tree\", 1, 100, 0.98, 0.98, \"daal4py\", 0.0, 0.0, null, 0.98, 0.98, 5.02]], \"hovertemplate\": \"function: <b>%{customdata[0]}</b><br>n_samples: <b>%{customdata[1]}</b><br>n_features: <b>%{customdata[2]}</b><br>algo: <b>%{customdata[3]}</b><br>n_jobs: <b>%{customdata[4]}</b><br>n_neighbors: <b>%{customdata[5]}</b><br>speedup: <b>%{customdata[6]}</b><br><extra></extra>\", \"marker\": {\"color\": \"indianred\"}, \"name\": \"n_jobs: 1\", \"showlegend\": false, \"type\": \"bar\", \"x\": [\"(1000, 10)\", \"(1, 10)\", \"(1000, 2)\", \"(1, 2)\"], \"xaxis\": \"x10\", \"y\": [9.82, 2.32, 19.79, 5.02], \"yaxis\": \"y10\"}, {\"customdata\": [[\"KNeighborsClassifier_kd_tree\", \"sklearn\", \"predict\", 0.49, 0.01, null, 1000, 10, \"kd_tree\", -1, 100, 0.98, 0.98, \"daal4py\", 0.2, 0.01, null, 0.97, 0.97, 2.46], [\"KNeighborsClassifier_kd_tree\", \"sklearn\", \"predict\", 0.0, 0.0, null, 1, 10, \"kd_tree\", -1, 100, 0.98, 0.98, \"daal4py\", 0.0, 0.0, null, 0.97, 0.97, 3.38], [\"KNeighborsClassifier_kd_tree\", \"sklearn\", \"predict\", 0.05, 0.0, null, 1000, 2, \"kd_tree\", -1, 100, 0.98, 0.98, \"daal4py\", 0.0, 0.0, null, 0.98, 0.98, 12.11], [\"KNeighborsClassifier_kd_tree\", \"sklearn\", \"predict\", 0.0, 0.0, null, 1, 2, \"kd_tree\", -1, 100, 0.98, 0.98, \"daal4py\", 0.0, 0.0, null, 0.98, 0.98, 26.65]], \"hovertemplate\": \"function: <b>%{customdata[0]}</b><br>n_samples: <b>%{customdata[1]}</b><br>n_features: <b>%{customdata[2]}</b><br>algo: <b>%{customdata[3]}</b><br>n_jobs: <b>%{customdata[4]}</b><br>n_neighbors: <b>%{customdata[5]}</b><br>speedup: <b>%{customdata[6]}</b><br><extra></extra>\", \"marker\": {\"color\": \"lightsalmon\"}, \"name\": \"n_jobs: -1\", \"showlegend\": false, \"type\": \"bar\", \"x\": [\"(1000, 10)\", \"(1, 10)\", \"(1000, 2)\", \"(1, 2)\"], \"xaxis\": \"x10\", \"y\": [2.46, 3.38, 12.11, 26.65], \"yaxis\": \"y10\"}],                        {\"annotations\": [{\"font\": {\"size\": 16}, \"showarrow\": false, \"text\": \"algo: kd_tree, k: 1, func: fit\", \"x\": 0.225, \"xanchor\": \"center\", \"xref\": \"paper\", \"y\": 1.0, \"yanchor\": \"bottom\", \"yref\": \"paper\"}, {\"font\": {\"size\": 16}, \"showarrow\": false, \"text\": \"algo: kd_tree, k: 1, func: predict\", \"x\": 0.775, \"xanchor\": \"center\", \"xref\": \"paper\", \"y\": 1.0, \"yanchor\": \"bottom\", \"yref\": \"paper\"}, {\"font\": {\"size\": 16}, \"showarrow\": false, \"text\": \"algo: kd_tree, k: 5, func: fit\", \"x\": 0.225, \"xanchor\": \"center\", \"xref\": \"paper\", \"y\": 0.78, \"yanchor\": \"bottom\", \"yref\": \"paper\"}, {\"font\": {\"size\": 16}, \"showarrow\": false, \"text\": \"algo: kd_tree, k: 5, func: predict\", \"x\": 0.775, \"xanchor\": \"center\", \"xref\": \"paper\", \"y\": 0.78, \"yanchor\": \"bottom\", \"yref\": \"paper\"}, {\"font\": {\"size\": 16}, \"showarrow\": false, \"text\": \"algo: kd_tree, k: 10, func: fit\", \"x\": 0.225, \"xanchor\": \"center\", \"xref\": \"paper\", \"y\": 0.56, \"yanchor\": \"bottom\", \"yref\": \"paper\"}, {\"font\": {\"size\": 16}, \"showarrow\": false, \"text\": \"algo: kd_tree, k: 10, func: predict\", \"x\": 0.775, \"xanchor\": \"center\", \"xref\": \"paper\", \"y\": 0.56, \"yanchor\": \"bottom\", \"yref\": \"paper\"}, {\"font\": {\"size\": 16}, \"showarrow\": false, \"text\": \"algo: kd_tree, k: 50, func: fit\", \"x\": 0.225, \"xanchor\": \"center\", \"xref\": \"paper\", \"y\": 0.33999999999999997, \"yanchor\": \"bottom\", \"yref\": \"paper\"}, {\"font\": {\"size\": 16}, \"showarrow\": false, \"text\": \"algo: kd_tree, k: 50, func: predict\", \"x\": 0.775, \"xanchor\": \"center\", \"xref\": \"paper\", \"y\": 0.33999999999999997, \"yanchor\": \"bottom\", \"yref\": \"paper\"}, {\"font\": {\"size\": 16}, \"showarrow\": false, \"text\": \"algo: kd_tree, k: 100, func: fit\", \"x\": 0.225, \"xanchor\": \"center\", \"xref\": \"paper\", \"y\": 0.12, \"yanchor\": \"bottom\", \"yref\": \"paper\"}, {\"font\": {\"size\": 16}, \"showarrow\": false, \"text\": \"algo: kd_tree, k: 100, func: predict\", \"x\": 0.775, \"xanchor\": \"center\", \"xref\": \"paper\", \"y\": 0.12, \"yanchor\": \"bottom\", \"yref\": \"paper\"}], \"barmode\": \"group\", \"height\": 1500, \"showlegend\": false, \"template\": {\"data\": {\"bar\": [{\"error_x\": {\"color\": \"#2a3f5f\"}, \"error_y\": {\"color\": \"#2a3f5f\"}, \"marker\": {\"line\": {\"color\": \"#E5ECF6\", \"width\": 0.5}}, \"type\": \"bar\"}], \"barpolar\": [{\"marker\": {\"line\": {\"color\": \"#E5ECF6\", \"width\": 0.5}}, \"type\": \"barpolar\"}], \"carpet\": [{\"aaxis\": {\"endlinecolor\": \"#2a3f5f\", \"gridcolor\": \"white\", \"linecolor\": \"white\", \"minorgridcolor\": \"white\", \"startlinecolor\": \"#2a3f5f\"}, \"baxis\": {\"endlinecolor\": \"#2a3f5f\", \"gridcolor\": \"white\", \"linecolor\": \"white\", \"minorgridcolor\": \"white\", \"startlinecolor\": \"#2a3f5f\"}, \"type\": \"carpet\"}], \"choropleth\": [{\"colorbar\": {\"outlinewidth\": 0, \"ticks\": \"\"}, \"type\": \"choropleth\"}], \"contour\": [{\"colorbar\": {\"outlinewidth\": 0, \"ticks\": \"\"}, \"colorscale\": [[0.0, \"#0d0887\"], [0.1111111111111111, \"#46039f\"], [0.2222222222222222, \"#7201a8\"], [0.3333333333333333, \"#9c179e\"], [0.4444444444444444, \"#bd3786\"], [0.5555555555555556, \"#d8576b\"], [0.6666666666666666, \"#ed7953\"], [0.7777777777777778, \"#fb9f3a\"], [0.8888888888888888, \"#fdca26\"], [1.0, \"#f0f921\"]], \"type\": \"contour\"}], \"contourcarpet\": [{\"colorbar\": {\"outlinewidth\": 0, \"ticks\": \"\"}, \"type\": \"contourcarpet\"}], \"heatmap\": [{\"colorbar\": {\"outlinewidth\": 0, \"ticks\": \"\"}, \"colorscale\": [[0.0, \"#0d0887\"], [0.1111111111111111, \"#46039f\"], [0.2222222222222222, \"#7201a8\"], [0.3333333333333333, \"#9c179e\"], [0.4444444444444444, \"#bd3786\"], [0.5555555555555556, \"#d8576b\"], [0.6666666666666666, \"#ed7953\"], [0.7777777777777778, \"#fb9f3a\"], [0.8888888888888888, \"#fdca26\"], [1.0, \"#f0f921\"]], \"type\": \"heatmap\"}], \"heatmapgl\": [{\"colorbar\": {\"outlinewidth\": 0, \"ticks\": \"\"}, \"colorscale\": [[0.0, \"#0d0887\"], [0.1111111111111111, \"#46039f\"], [0.2222222222222222, \"#7201a8\"], [0.3333333333333333, \"#9c179e\"], [0.4444444444444444, \"#bd3786\"], [0.5555555555555556, \"#d8576b\"], [0.6666666666666666, \"#ed7953\"], [0.7777777777777778, \"#fb9f3a\"], [0.8888888888888888, \"#fdca26\"], [1.0, \"#f0f921\"]], \"type\": \"heatmapgl\"}], \"histogram\": [{\"marker\": {\"colorbar\": {\"outlinewidth\": 0, \"ticks\": \"\"}}, \"type\": \"histogram\"}], \"histogram2d\": [{\"colorbar\": {\"outlinewidth\": 0, \"ticks\": \"\"}, \"colorscale\": [[0.0, \"#0d0887\"], [0.1111111111111111, \"#46039f\"], [0.2222222222222222, \"#7201a8\"], [0.3333333333333333, \"#9c179e\"], [0.4444444444444444, \"#bd3786\"], [0.5555555555555556, \"#d8576b\"], [0.6666666666666666, \"#ed7953\"], [0.7777777777777778, \"#fb9f3a\"], [0.8888888888888888, \"#fdca26\"], [1.0, \"#f0f921\"]], \"type\": \"histogram2d\"}], \"histogram2dcontour\": [{\"colorbar\": {\"outlinewidth\": 0, \"ticks\": \"\"}, \"colorscale\": [[0.0, \"#0d0887\"], [0.1111111111111111, \"#46039f\"], [0.2222222222222222, \"#7201a8\"], [0.3333333333333333, \"#9c179e\"], [0.4444444444444444, \"#bd3786\"], [0.5555555555555556, \"#d8576b\"], [0.6666666666666666, \"#ed7953\"], [0.7777777777777778, \"#fb9f3a\"], [0.8888888888888888, \"#fdca26\"], [1.0, \"#f0f921\"]], \"type\": \"histogram2dcontour\"}], \"mesh3d\": [{\"colorbar\": {\"outlinewidth\": 0, \"ticks\": \"\"}, \"type\": \"mesh3d\"}], \"parcoords\": [{\"line\": {\"colorbar\": {\"outlinewidth\": 0, \"ticks\": \"\"}}, \"type\": \"parcoords\"}], \"pie\": [{\"automargin\": true, \"type\": \"pie\"}], \"scatter\": [{\"marker\": {\"colorbar\": {\"outlinewidth\": 0, \"ticks\": \"\"}}, \"type\": \"scatter\"}], \"scatter3d\": [{\"line\": {\"colorbar\": {\"outlinewidth\": 0, \"ticks\": \"\"}}, \"marker\": {\"colorbar\": {\"outlinewidth\": 0, \"ticks\": \"\"}}, \"type\": \"scatter3d\"}], \"scattercarpet\": [{\"marker\": {\"colorbar\": {\"outlinewidth\": 0, \"ticks\": \"\"}}, \"type\": \"scattercarpet\"}], \"scattergeo\": [{\"marker\": {\"colorbar\": {\"outlinewidth\": 0, \"ticks\": \"\"}}, \"type\": \"scattergeo\"}], \"scattergl\": [{\"marker\": {\"colorbar\": {\"outlinewidth\": 0, \"ticks\": \"\"}}, \"type\": \"scattergl\"}], \"scattermapbox\": [{\"marker\": {\"colorbar\": {\"outlinewidth\": 0, \"ticks\": \"\"}}, \"type\": \"scattermapbox\"}], \"scatterpolar\": [{\"marker\": {\"colorbar\": {\"outlinewidth\": 0, \"ticks\": \"\"}}, \"type\": \"scatterpolar\"}], \"scatterpolargl\": [{\"marker\": {\"colorbar\": {\"outlinewidth\": 0, \"ticks\": \"\"}}, \"type\": \"scatterpolargl\"}], \"scatterternary\": [{\"marker\": {\"colorbar\": {\"outlinewidth\": 0, \"ticks\": \"\"}}, \"type\": \"scatterternary\"}], \"surface\": [{\"colorbar\": {\"outlinewidth\": 0, \"ticks\": \"\"}, \"colorscale\": [[0.0, \"#0d0887\"], [0.1111111111111111, \"#46039f\"], [0.2222222222222222, \"#7201a8\"], [0.3333333333333333, \"#9c179e\"], [0.4444444444444444, \"#bd3786\"], [0.5555555555555556, \"#d8576b\"], [0.6666666666666666, \"#ed7953\"], [0.7777777777777778, \"#fb9f3a\"], [0.8888888888888888, \"#fdca26\"], [1.0, \"#f0f921\"]], \"type\": \"surface\"}], \"table\": [{\"cells\": {\"fill\": {\"color\": \"#EBF0F8\"}, \"line\": {\"color\": \"white\"}}, \"header\": {\"fill\": {\"color\": \"#C8D4E3\"}, \"line\": {\"color\": \"white\"}}, \"type\": \"table\"}]}, \"layout\": {\"annotationdefaults\": {\"arrowcolor\": \"#2a3f5f\", \"arrowhead\": 0, \"arrowwidth\": 1}, \"autotypenumbers\": \"strict\", \"coloraxis\": {\"colorbar\": {\"outlinewidth\": 0, \"ticks\": \"\"}}, \"colorscale\": {\"diverging\": [[0, \"#8e0152\"], [0.1, \"#c51b7d\"], [0.2, \"#de77ae\"], [0.3, \"#f1b6da\"], [0.4, \"#fde0ef\"], [0.5, \"#f7f7f7\"], [0.6, \"#e6f5d0\"], [0.7, \"#b8e186\"], [0.8, \"#7fbc41\"], [0.9, \"#4d9221\"], [1, \"#276419\"]], \"sequential\": [[0.0, \"#0d0887\"], [0.1111111111111111, \"#46039f\"], [0.2222222222222222, \"#7201a8\"], [0.3333333333333333, \"#9c179e\"], [0.4444444444444444, \"#bd3786\"], [0.5555555555555556, \"#d8576b\"], [0.6666666666666666, \"#ed7953\"], [0.7777777777777778, \"#fb9f3a\"], [0.8888888888888888, \"#fdca26\"], [1.0, \"#f0f921\"]], \"sequentialminus\": [[0.0, \"#0d0887\"], [0.1111111111111111, \"#46039f\"], [0.2222222222222222, \"#7201a8\"], [0.3333333333333333, \"#9c179e\"], [0.4444444444444444, \"#bd3786\"], [0.5555555555555556, \"#d8576b\"], [0.6666666666666666, \"#ed7953\"], [0.7777777777777778, \"#fb9f3a\"], [0.8888888888888888, \"#fdca26\"], [1.0, \"#f0f921\"]]}, \"colorway\": [\"#636efa\", \"#EF553B\", \"#00cc96\", \"#ab63fa\", \"#FFA15A\", \"#19d3f3\", \"#FF6692\", \"#B6E880\", \"#FF97FF\", \"#FECB52\"], \"font\": {\"color\": \"#2a3f5f\"}, \"geo\": {\"bgcolor\": \"white\", \"lakecolor\": \"white\", \"landcolor\": \"#E5ECF6\", \"showlakes\": true, \"showland\": true, \"subunitcolor\": \"white\"}, \"hoverlabel\": {\"align\": \"left\"}, \"hovermode\": \"closest\", \"mapbox\": {\"style\": \"light\"}, \"paper_bgcolor\": \"white\", \"plot_bgcolor\": \"#E5ECF6\", \"polar\": {\"angularaxis\": {\"gridcolor\": \"white\", \"linecolor\": \"white\", \"ticks\": \"\"}, \"bgcolor\": \"#E5ECF6\", \"radialaxis\": {\"gridcolor\": \"white\", \"linecolor\": \"white\", \"ticks\": \"\"}}, \"scene\": {\"xaxis\": {\"backgroundcolor\": \"#E5ECF6\", \"gridcolor\": \"white\", \"gridwidth\": 2, \"linecolor\": \"white\", \"showbackground\": true, \"ticks\": \"\", \"zerolinecolor\": \"white\"}, \"yaxis\": {\"backgroundcolor\": \"#E5ECF6\", \"gridcolor\": \"white\", \"gridwidth\": 2, \"linecolor\": \"white\", \"showbackground\": true, \"ticks\": \"\", \"zerolinecolor\": \"white\"}, \"zaxis\": {\"backgroundcolor\": \"#E5ECF6\", \"gridcolor\": \"white\", \"gridwidth\": 2, \"linecolor\": \"white\", \"showbackground\": true, \"ticks\": \"\", \"zerolinecolor\": \"white\"}}, \"shapedefaults\": {\"line\": {\"color\": \"#2a3f5f\"}}, \"ternary\": {\"aaxis\": {\"gridcolor\": \"white\", \"linecolor\": \"white\", \"ticks\": \"\"}, \"baxis\": {\"gridcolor\": \"white\", \"linecolor\": \"white\", \"ticks\": \"\"}, \"bgcolor\": \"#E5ECF6\", \"caxis\": {\"gridcolor\": \"white\", \"linecolor\": \"white\", \"ticks\": \"\"}}, \"title\": {\"x\": 0.05}, \"xaxis\": {\"automargin\": true, \"gridcolor\": \"white\", \"linecolor\": \"white\", \"ticks\": \"\", \"title\": {\"standoff\": 15}, \"zerolinecolor\": \"white\", \"zerolinewidth\": 2}, \"yaxis\": {\"automargin\": true, \"gridcolor\": \"white\", \"linecolor\": \"white\", \"ticks\": \"\", \"title\": {\"standoff\": 15}, \"zerolinecolor\": \"white\", \"zerolinewidth\": 2}}}, \"xaxis\": {\"anchor\": \"y\", \"domain\": [0.0, 0.45]}, \"xaxis10\": {\"anchor\": \"y10\", \"domain\": [0.55, 1.0]}, \"xaxis2\": {\"anchor\": \"y2\", \"domain\": [0.55, 1.0]}, \"xaxis3\": {\"anchor\": \"y3\", \"domain\": [0.0, 0.45]}, \"xaxis4\": {\"anchor\": \"y4\", \"domain\": [0.55, 1.0]}, \"xaxis5\": {\"anchor\": \"y5\", \"domain\": [0.0, 0.45]}, \"xaxis6\": {\"anchor\": \"y6\", \"domain\": [0.55, 1.0]}, \"xaxis7\": {\"anchor\": \"y7\", \"domain\": [0.0, 0.45]}, \"xaxis8\": {\"anchor\": \"y8\", \"domain\": [0.55, 1.0]}, \"xaxis9\": {\"anchor\": \"y9\", \"domain\": [0.0, 0.45]}, \"yaxis\": {\"anchor\": \"x\", \"domain\": [0.88, 1.0]}, \"yaxis10\": {\"anchor\": \"x10\", \"domain\": [0.0, 0.12]}, \"yaxis2\": {\"anchor\": \"x2\", \"domain\": [0.88, 1.0]}, \"yaxis3\": {\"anchor\": \"x3\", \"domain\": [0.66, 0.78]}, \"yaxis4\": {\"anchor\": \"x4\", \"domain\": [0.66, 0.78]}, \"yaxis5\": {\"anchor\": \"x5\", \"domain\": [0.44, 0.56]}, \"yaxis6\": {\"anchor\": \"x6\", \"domain\": [0.44, 0.56]}, \"yaxis7\": {\"anchor\": \"x7\", \"domain\": [0.22, 0.33999999999999997]}, \"yaxis8\": {\"anchor\": \"x8\", \"domain\": [0.22, 0.33999999999999997]}, \"yaxis9\": {\"anchor\": \"x9\", \"domain\": [0.0, 0.12]}},                        {\"responsive\": true}                    ).then(function(){\n",
       "                            \n",
       "var gd = document.getElementById('00092254-0662-41b2-a697-8d81e2fc9943');\n",
       "var x = new MutationObserver(function (mutations, observer) {{\n",
       "        var display = window.getComputedStyle(gd).display;\n",
       "        if (!display || display === 'none') {{\n",
       "            console.log([gd, 'removed!']);\n",
       "            Plotly.purge(gd);\n",
       "            observer.disconnect();\n",
       "        }}\n",
       "}});\n",
       "\n",
       "// Listen for the removal of the full notebook cells\n",
       "var notebookContainer = gd.closest('#notebook-container');\n",
       "if (notebookContainer) {{\n",
       "    x.observe(notebookContainer, {childList: true});\n",
       "}}\n",
       "\n",
       "// Listen for the clearing of the current output cell\n",
       "var outputEl = gd.closest('.output');\n",
       "if (outputEl) {{\n",
       "    x.observe(outputEl, {childList: true});\n",
       "}}\n",
       "\n",
       "                        })                };                });            </script>        </div>"
      ]
     },
     "metadata": {},
     "output_type": "display_data"
    }
   ],
   "source": [
    "merged_df_knn_grouped_kd_tree = merged_df_knn_kd_tree.groupby(['algorithm', 'n_neighbors', 'function'])\n",
    "\n",
    "n_rows = 5\n",
    "n_cols = 2\n",
    "coordinates = [[j for j in range(n_cols)] for i in range(n_rows)]\n",
    "for i in range(len(coordinates)):\n",
    "    for j in range(len(coordinates[0])):\n",
    "        coordinates[i][j] = (i + 1, j + 1)\n",
    "coordinates = list(itertools.chain(*coordinates))\n",
    "\n",
    "subplot_titles = [\"algo: %s, k: %s, func: %s\" % params for params, _ in merged_df_knn_grouped_kd_tree]\n",
    "fig = make_subplots(rows=5, cols=2, subplot_titles=subplot_titles)\n",
    "\n",
    "for (row, col), (params, df) in zip(coordinates, merged_df_knn_grouped_kd_tree):\n",
    "    df = df.round(2)\n",
    "    x1 = df[['n_samples', 'n_features']][df['n_jobs'] == 1]\n",
    "    x1 = [f\"({ns}, {nf})\" for ns, nf in x1.values]\n",
    "    y1 = df['speedup'][df['n_jobs'] == 1]\n",
    "    fig.add_trace(\n",
    "        go.Bar(\n",
    "            x=x1,\n",
    "            y=y1,\n",
    "            name='n_jobs: 1',\n",
    "            marker_color='indianred',\n",
    "            hovertemplate=\n",
    "            'function: <b>%{customdata[0]}</b><br>'+\n",
    "            'n_samples: <b>%{customdata[1]}</b><br>'+\n",
    "            'n_features: <b>%{customdata[2]}</b><br>'+\n",
    "            'algo: <b>%{customdata[3]}</b><br>'+\n",
    "            'n_jobs: <b>%{customdata[4]}</b><br>'+\n",
    "            'n_neighbors: <b>%{customdata[5]}</b><br>'+\n",
    "            'speedup: <b>%{customdata[6]}</b><br>'+\n",
    "            '<extra></extra>',\n",
    "            customdata = df[df['n_jobs'] == 1].values,\n",
    "            showlegend = False\n",
    "        ),\n",
    "        row=row,\n",
    "        col=col\n",
    "    )\n",
    "\n",
    "    x2 = df[['n_samples', 'n_features']][df['n_jobs'] == 1]\n",
    "    x2 = [f\"({ns}, {nf})\" for ns, nf in x2.values]\n",
    "    y2 = df['speedup'][df['n_jobs'] == -1]\n",
    "    fig.add_trace(\n",
    "        go.Bar(\n",
    "            x=x2,\n",
    "            y=y2,\n",
    "            name='n_jobs: -1',\n",
    "            marker_color='lightsalmon',\n",
    "            hovertemplate=\n",
    "            'function: <b>%{customdata[0]}</b><br>'+\n",
    "            'n_samples: <b>%{customdata[1]}</b><br>'+\n",
    "            'n_features: <b>%{customdata[2]}</b><br>'+\n",
    "            'algo: <b>%{customdata[3]}</b><br>'+\n",
    "            'n_jobs: <b>%{customdata[4]}</b><br>'+\n",
    "            'n_neighbors: <b>%{customdata[5]}</b><br>'+\n",
    "            'speedup: <b>%{customdata[6]}</b><br>'+\n",
    "            '<extra></extra>',\n",
    "            customdata = df[df['n_jobs'] == -1].values,\n",
    "            showlegend = False\n",
    "        ),\n",
    "        row=row,\n",
    "        col=col\n",
    "    )\n",
    "    \n",
    "    title = title = \"algo: %s, k: %s, func: %s\" % params\n",
    "\n",
    "fig.update_layout(height=1500, barmode='group', showlegend=False)\n",
    "fig.show()"
   ]
  },
  {
   "cell_type": "markdown",
   "id": "generic-hughes",
   "metadata": {},
   "source": [
    "<br></br>\n",
    "## KMeans"
   ]
  },
  {
   "cell_type": "code",
   "execution_count": null,
   "id": "running-police",
   "metadata": {},
   "outputs": [],
   "source": [
    "d4p_kmeans = pd.read_csv('sklearn_benchmarks/results/daal4py/KMeans.csv')"
   ]
  },
  {
   "cell_type": "code",
   "execution_count": null,
   "id": "therapeutic-affiliate",
   "metadata": {},
   "outputs": [],
   "source": [
    "skl_kmeans = pd.read_csv('sklearn_benchmarks/results/sklearn/KMeans.csv')"
   ]
  },
  {
   "cell_type": "code",
   "execution_count": null,
   "id": "helpful-nurse",
   "metadata": {},
   "outputs": [],
   "source": [
    "merged_df_kmeans = skl_kmeans.merge(d4p_kmeans, on=['estimator', 'function', 'n_samples', 'n_features', 'init', 'max_iter', 'n_clusters', 'n_init', 'tol'], suffixes=['_skl', '_d4p'])"
   ]
  },
  {
   "cell_type": "code",
   "execution_count": null,
   "id": "dominant-third",
   "metadata": {},
   "outputs": [],
   "source": [
    "merged_df_kmeans['speedup'] = merged_df_kmeans['mean_time_elapsed_skl'] / merged_df_kmeans['mean_time_elapsed_d4p']"
   ]
  }
 ],
 "metadata": {
  "kernelspec": {
   "display_name": "Python 3",
   "language": "python",
   "name": "python3"
  },
  "language_info": {
   "codemirror_mode": {
    "name": "ipython",
    "version": 3
   },
   "file_extension": ".py",
   "mimetype": "text/x-python",
   "name": "python",
   "nbconvert_exporter": "python",
   "pygments_lexer": "ipython3",
   "version": "3.9.2"
  }
 },
 "nbformat": 4,
 "nbformat_minor": 5
}
