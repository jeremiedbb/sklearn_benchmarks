{
 "cells": [
  {
   "cell_type": "markdown",
   "id": "continuing-equation",
   "metadata": {},
   "source": [
    "# Imports"
   ]
  },
  {
   "cell_type": "code",
   "execution_count": 19,
   "id": "offensive-communist",
   "metadata": {},
   "outputs": [],
   "source": [
    "from sklearn_benchmarks.utils import print_time_report, plot_knn"
   ]
  },
  {
   "cell_type": "markdown",
   "id": "systematic-montana",
   "metadata": {},
   "source": [
    "<br></br>\n",
    "# Time report"
   ]
  },
  {
   "cell_type": "code",
   "execution_count": 20,
   "id": "lonely-democracy",
   "metadata": {},
   "outputs": [
    {
     "data": {
      "text/html": [
       "<div>\n",
       "<style scoped>\n",
       "    .dataframe tbody tr th:only-of-type {\n",
       "        vertical-align: middle;\n",
       "    }\n",
       "\n",
       "    .dataframe tbody tr th {\n",
       "        vertical-align: top;\n",
       "    }\n",
       "\n",
       "    .dataframe thead th {\n",
       "        text-align: right;\n",
       "    }\n",
       "</style>\n",
       "<table border=\"1\" class=\"dataframe\">\n",
       "  <thead>\n",
       "    <tr style=\"text-align: right;\">\n",
       "      <th></th>\n",
       "      <th>hour</th>\n",
       "      <th>min</th>\n",
       "      <th>sec</th>\n",
       "    </tr>\n",
       "    <tr>\n",
       "      <th>algo</th>\n",
       "      <th></th>\n",
       "      <th></th>\n",
       "      <th></th>\n",
       "    </tr>\n",
       "  </thead>\n",
       "  <tbody>\n",
       "    <tr>\n",
       "      <th>KNeighborsClassifier</th>\n",
       "      <td>0.0</td>\n",
       "      <td>0.0</td>\n",
       "      <td>17.82</td>\n",
       "    </tr>\n",
       "    <tr>\n",
       "      <th>daal4py_KNeighborsClassifier</th>\n",
       "      <td>0.0</td>\n",
       "      <td>0.0</td>\n",
       "      <td>26.99</td>\n",
       "    </tr>\n",
       "    <tr>\n",
       "      <th>KNeighborsClassifier_kd_tree</th>\n",
       "      <td>0.0</td>\n",
       "      <td>0.0</td>\n",
       "      <td>24.70</td>\n",
       "    </tr>\n",
       "    <tr>\n",
       "      <th>daal4py_KNeighborsClassifier_kd_tree</th>\n",
       "      <td>0.0</td>\n",
       "      <td>0.0</td>\n",
       "      <td>17.53</td>\n",
       "    </tr>\n",
       "    <tr>\n",
       "      <th>total</th>\n",
       "      <td>0.0</td>\n",
       "      <td>1.0</td>\n",
       "      <td>27.09</td>\n",
       "    </tr>\n",
       "  </tbody>\n",
       "</table>\n",
       "</div>"
      ],
      "text/plain": [
       "                                      hour  min    sec\n",
       "algo                                                  \n",
       "KNeighborsClassifier                   0.0  0.0  17.82\n",
       "daal4py_KNeighborsClassifier           0.0  0.0  26.99\n",
       "KNeighborsClassifier_kd_tree           0.0  0.0  24.70\n",
       "daal4py_KNeighborsClassifier_kd_tree   0.0  0.0  17.53\n",
       "total                                  0.0  1.0  27.09"
      ]
     },
     "execution_count": 20,
     "metadata": {},
     "output_type": "execute_result"
    }
   ],
   "source": [
    "print_time_report()"
   ]
  },
  {
   "cell_type": "markdown",
   "id": "invisible-suspect",
   "metadata": {},
   "source": [
    "<br></br>\n",
    "## KNeighborsClassifier"
   ]
  },
  {
   "cell_type": "code",
   "execution_count": 21,
   "id": "substantial-tonight",
   "metadata": {},
   "outputs": [
    {
     "data": {
      "application/vnd.plotly.v1+json": {
       "config": {
        "plotlyServerURL": "https://plot.ly"
       },
       "data": [
        {
         "customdata": [
          [
           "fit",
           1000000,
           100,
           "brute",
           1,
           1,
           0.14
          ]
         ],
         "hovertemplate": "function: <b>%{customdata[0]}</b><br>n_samples: <b>%{customdata[1]}</b><br>n_features: <b>%{customdata[2]}</b><br>algo: <b>%{customdata[3]}</b><br>n_jobs: <b>%{customdata[4]}</b><br>n_neighbors: <b>%{customdata[5]}</b><br>speedup: <b>%{customdata[6]}</b><br><extra></extra>",
         "marker": {
          "color": "indianred"
         },
         "name": "n_jobs: 1",
         "showlegend": false,
         "type": "bar",
         "x": [
          "(1000000, 100)"
         ],
         "xaxis": "x",
         "y": [
          0.14
         ],
         "yaxis": "y"
        },
        {
         "customdata": [
          [
           "fit",
           1000000,
           100,
           "brute",
           -1,
           1,
           0.1
          ]
         ],
         "hovertemplate": "function: <b>%{customdata[0]}</b><br>n_samples: <b>%{customdata[1]}</b><br>n_features: <b>%{customdata[2]}</b><br>algo: <b>%{customdata[3]}</b><br>n_jobs: <b>%{customdata[4]}</b><br>n_neighbors: <b>%{customdata[5]}</b><br>speedup: <b>%{customdata[6]}</b><br><extra></extra>",
         "marker": {
          "color": "lightsalmon"
         },
         "name": "n_jobs: -1",
         "showlegend": false,
         "type": "bar",
         "x": [
          "(1000000, 100)"
         ],
         "xaxis": "x",
         "y": [
          0.1
         ],
         "yaxis": "y"
        },
        {
         "customdata": [
          [
           "predict",
           1,
           100,
           "brute",
           1,
           1,
           2.63
          ]
         ],
         "hovertemplate": "function: <b>%{customdata[0]}</b><br>n_samples: <b>%{customdata[1]}</b><br>n_features: <b>%{customdata[2]}</b><br>algo: <b>%{customdata[3]}</b><br>n_jobs: <b>%{customdata[4]}</b><br>n_neighbors: <b>%{customdata[5]}</b><br>speedup: <b>%{customdata[6]}</b><br><extra></extra>",
         "marker": {
          "color": "indianred"
         },
         "name": "n_jobs: 1",
         "showlegend": false,
         "type": "bar",
         "x": [
          "(1, 100)"
         ],
         "xaxis": "x2",
         "y": [
          2.63
         ],
         "yaxis": "y2"
        },
        {
         "customdata": [
          [
           "predict",
           1,
           100,
           "brute",
           -1,
           1,
           1.55
          ]
         ],
         "hovertemplate": "function: <b>%{customdata[0]}</b><br>n_samples: <b>%{customdata[1]}</b><br>n_features: <b>%{customdata[2]}</b><br>algo: <b>%{customdata[3]}</b><br>n_jobs: <b>%{customdata[4]}</b><br>n_neighbors: <b>%{customdata[5]}</b><br>speedup: <b>%{customdata[6]}</b><br><extra></extra>",
         "marker": {
          "color": "lightsalmon"
         },
         "name": "n_jobs: -1",
         "showlegend": false,
         "type": "bar",
         "x": [
          "(1, 100)"
         ],
         "xaxis": "x2",
         "y": [
          1.55
         ],
         "yaxis": "y2"
        },
        {
         "customdata": [
          [
           "fit",
           1000000,
           100,
           "brute",
           1,
           5,
           0.18
          ]
         ],
         "hovertemplate": "function: <b>%{customdata[0]}</b><br>n_samples: <b>%{customdata[1]}</b><br>n_features: <b>%{customdata[2]}</b><br>algo: <b>%{customdata[3]}</b><br>n_jobs: <b>%{customdata[4]}</b><br>n_neighbors: <b>%{customdata[5]}</b><br>speedup: <b>%{customdata[6]}</b><br><extra></extra>",
         "marker": {
          "color": "indianred"
         },
         "name": "n_jobs: 1",
         "showlegend": false,
         "type": "bar",
         "x": [
          "(1000000, 100)"
         ],
         "xaxis": "x3",
         "y": [
          0.18
         ],
         "yaxis": "y3"
        },
        {
         "customdata": [
          [
           "fit",
           1000000,
           100,
           "brute",
           -1,
           5,
           0.12
          ]
         ],
         "hovertemplate": "function: <b>%{customdata[0]}</b><br>n_samples: <b>%{customdata[1]}</b><br>n_features: <b>%{customdata[2]}</b><br>algo: <b>%{customdata[3]}</b><br>n_jobs: <b>%{customdata[4]}</b><br>n_neighbors: <b>%{customdata[5]}</b><br>speedup: <b>%{customdata[6]}</b><br><extra></extra>",
         "marker": {
          "color": "lightsalmon"
         },
         "name": "n_jobs: -1",
         "showlegend": false,
         "type": "bar",
         "x": [
          "(1000000, 100)"
         ],
         "xaxis": "x3",
         "y": [
          0.12
         ],
         "yaxis": "y3"
        },
        {
         "customdata": [
          [
           "predict",
           1,
           100,
           "brute",
           1,
           5,
           2.74
          ]
         ],
         "hovertemplate": "function: <b>%{customdata[0]}</b><br>n_samples: <b>%{customdata[1]}</b><br>n_features: <b>%{customdata[2]}</b><br>algo: <b>%{customdata[3]}</b><br>n_jobs: <b>%{customdata[4]}</b><br>n_neighbors: <b>%{customdata[5]}</b><br>speedup: <b>%{customdata[6]}</b><br><extra></extra>",
         "marker": {
          "color": "indianred"
         },
         "name": "n_jobs: 1",
         "showlegend": false,
         "type": "bar",
         "x": [
          "(1, 100)"
         ],
         "xaxis": "x4",
         "y": [
          2.74
         ],
         "yaxis": "y4"
        },
        {
         "customdata": [
          [
           "predict",
           1,
           100,
           "brute",
           -1,
           5,
           1.85
          ]
         ],
         "hovertemplate": "function: <b>%{customdata[0]}</b><br>n_samples: <b>%{customdata[1]}</b><br>n_features: <b>%{customdata[2]}</b><br>algo: <b>%{customdata[3]}</b><br>n_jobs: <b>%{customdata[4]}</b><br>n_neighbors: <b>%{customdata[5]}</b><br>speedup: <b>%{customdata[6]}</b><br><extra></extra>",
         "marker": {
          "color": "lightsalmon"
         },
         "name": "n_jobs: -1",
         "showlegend": false,
         "type": "bar",
         "x": [
          "(1, 100)"
         ],
         "xaxis": "x4",
         "y": [
          1.85
         ],
         "yaxis": "y4"
        },
        {
         "customdata": [
          [
           "fit",
           1000000,
           100,
           "brute",
           1,
           10,
           0.25
          ]
         ],
         "hovertemplate": "function: <b>%{customdata[0]}</b><br>n_samples: <b>%{customdata[1]}</b><br>n_features: <b>%{customdata[2]}</b><br>algo: <b>%{customdata[3]}</b><br>n_jobs: <b>%{customdata[4]}</b><br>n_neighbors: <b>%{customdata[5]}</b><br>speedup: <b>%{customdata[6]}</b><br><extra></extra>",
         "marker": {
          "color": "indianred"
         },
         "name": "n_jobs: 1",
         "showlegend": false,
         "type": "bar",
         "x": [
          "(1000000, 100)"
         ],
         "xaxis": "x5",
         "y": [
          0.25
         ],
         "yaxis": "y5"
        },
        {
         "customdata": [
          [
           "fit",
           1000000,
           100,
           "brute",
           -1,
           10,
           0.14
          ]
         ],
         "hovertemplate": "function: <b>%{customdata[0]}</b><br>n_samples: <b>%{customdata[1]}</b><br>n_features: <b>%{customdata[2]}</b><br>algo: <b>%{customdata[3]}</b><br>n_jobs: <b>%{customdata[4]}</b><br>n_neighbors: <b>%{customdata[5]}</b><br>speedup: <b>%{customdata[6]}</b><br><extra></extra>",
         "marker": {
          "color": "lightsalmon"
         },
         "name": "n_jobs: -1",
         "showlegend": false,
         "type": "bar",
         "x": [
          "(1000000, 100)"
         ],
         "xaxis": "x5",
         "y": [
          0.14
         ],
         "yaxis": "y5"
        },
        {
         "customdata": [
          [
           "predict",
           1,
           100,
           "brute",
           1,
           10,
           2.3
          ]
         ],
         "hovertemplate": "function: <b>%{customdata[0]}</b><br>n_samples: <b>%{customdata[1]}</b><br>n_features: <b>%{customdata[2]}</b><br>algo: <b>%{customdata[3]}</b><br>n_jobs: <b>%{customdata[4]}</b><br>n_neighbors: <b>%{customdata[5]}</b><br>speedup: <b>%{customdata[6]}</b><br><extra></extra>",
         "marker": {
          "color": "indianred"
         },
         "name": "n_jobs: 1",
         "showlegend": false,
         "type": "bar",
         "x": [
          "(1, 100)"
         ],
         "xaxis": "x6",
         "y": [
          2.3
         ],
         "yaxis": "y6"
        },
        {
         "customdata": [
          [
           "predict",
           1,
           100,
           "brute",
           -1,
           10,
           1.97
          ]
         ],
         "hovertemplate": "function: <b>%{customdata[0]}</b><br>n_samples: <b>%{customdata[1]}</b><br>n_features: <b>%{customdata[2]}</b><br>algo: <b>%{customdata[3]}</b><br>n_jobs: <b>%{customdata[4]}</b><br>n_neighbors: <b>%{customdata[5]}</b><br>speedup: <b>%{customdata[6]}</b><br><extra></extra>",
         "marker": {
          "color": "lightsalmon"
         },
         "name": "n_jobs: -1",
         "showlegend": false,
         "type": "bar",
         "x": [
          "(1, 100)"
         ],
         "xaxis": "x6",
         "y": [
          1.97
         ],
         "yaxis": "y6"
        }
       ],
       "layout": {
        "annotations": [
         {
          "font": {
           "size": 16
          },
          "showarrow": false,
          "text": "algo: brute, k: 1, func: fit",
          "x": 0.225,
          "xanchor": "center",
          "xref": "paper",
          "y": 1,
          "yanchor": "bottom",
          "yref": "paper"
         },
         {
          "font": {
           "size": 16
          },
          "showarrow": false,
          "text": "algo: brute, k: 1, func: predict",
          "x": 0.775,
          "xanchor": "center",
          "xref": "paper",
          "y": 1,
          "yanchor": "bottom",
          "yref": "paper"
         },
         {
          "font": {
           "size": 16
          },
          "showarrow": false,
          "text": "algo: brute, k: 5, func: fit",
          "x": 0.225,
          "xanchor": "center",
          "xref": "paper",
          "y": 0.78,
          "yanchor": "bottom",
          "yref": "paper"
         },
         {
          "font": {
           "size": 16
          },
          "showarrow": false,
          "text": "algo: brute, k: 5, func: predict",
          "x": 0.775,
          "xanchor": "center",
          "xref": "paper",
          "y": 0.78,
          "yanchor": "bottom",
          "yref": "paper"
         },
         {
          "font": {
           "size": 16
          },
          "showarrow": false,
          "text": "algo: brute, k: 10, func: fit",
          "x": 0.225,
          "xanchor": "center",
          "xref": "paper",
          "y": 0.56,
          "yanchor": "bottom",
          "yref": "paper"
         },
         {
          "font": {
           "size": 16
          },
          "showarrow": false,
          "text": "algo: brute, k: 10, func: predict",
          "x": 0.775,
          "xanchor": "center",
          "xref": "paper",
          "y": 0.56,
          "yanchor": "bottom",
          "yref": "paper"
         }
        ],
        "barmode": "group",
        "height": 1500,
        "showlegend": false,
        "template": {
         "data": {
          "bar": [
           {
            "error_x": {
             "color": "#2a3f5f"
            },
            "error_y": {
             "color": "#2a3f5f"
            },
            "marker": {
             "line": {
              "color": "#E5ECF6",
              "width": 0.5
             }
            },
            "type": "bar"
           }
          ],
          "barpolar": [
           {
            "marker": {
             "line": {
              "color": "#E5ECF6",
              "width": 0.5
             }
            },
            "type": "barpolar"
           }
          ],
          "carpet": [
           {
            "aaxis": {
             "endlinecolor": "#2a3f5f",
             "gridcolor": "white",
             "linecolor": "white",
             "minorgridcolor": "white",
             "startlinecolor": "#2a3f5f"
            },
            "baxis": {
             "endlinecolor": "#2a3f5f",
             "gridcolor": "white",
             "linecolor": "white",
             "minorgridcolor": "white",
             "startlinecolor": "#2a3f5f"
            },
            "type": "carpet"
           }
          ],
          "choropleth": [
           {
            "colorbar": {
             "outlinewidth": 0,
             "ticks": ""
            },
            "type": "choropleth"
           }
          ],
          "contour": [
           {
            "colorbar": {
             "outlinewidth": 0,
             "ticks": ""
            },
            "colorscale": [
             [
              0,
              "#0d0887"
             ],
             [
              0.1111111111111111,
              "#46039f"
             ],
             [
              0.2222222222222222,
              "#7201a8"
             ],
             [
              0.3333333333333333,
              "#9c179e"
             ],
             [
              0.4444444444444444,
              "#bd3786"
             ],
             [
              0.5555555555555556,
              "#d8576b"
             ],
             [
              0.6666666666666666,
              "#ed7953"
             ],
             [
              0.7777777777777778,
              "#fb9f3a"
             ],
             [
              0.8888888888888888,
              "#fdca26"
             ],
             [
              1,
              "#f0f921"
             ]
            ],
            "type": "contour"
           }
          ],
          "contourcarpet": [
           {
            "colorbar": {
             "outlinewidth": 0,
             "ticks": ""
            },
            "type": "contourcarpet"
           }
          ],
          "heatmap": [
           {
            "colorbar": {
             "outlinewidth": 0,
             "ticks": ""
            },
            "colorscale": [
             [
              0,
              "#0d0887"
             ],
             [
              0.1111111111111111,
              "#46039f"
             ],
             [
              0.2222222222222222,
              "#7201a8"
             ],
             [
              0.3333333333333333,
              "#9c179e"
             ],
             [
              0.4444444444444444,
              "#bd3786"
             ],
             [
              0.5555555555555556,
              "#d8576b"
             ],
             [
              0.6666666666666666,
              "#ed7953"
             ],
             [
              0.7777777777777778,
              "#fb9f3a"
             ],
             [
              0.8888888888888888,
              "#fdca26"
             ],
             [
              1,
              "#f0f921"
             ]
            ],
            "type": "heatmap"
           }
          ],
          "heatmapgl": [
           {
            "colorbar": {
             "outlinewidth": 0,
             "ticks": ""
            },
            "colorscale": [
             [
              0,
              "#0d0887"
             ],
             [
              0.1111111111111111,
              "#46039f"
             ],
             [
              0.2222222222222222,
              "#7201a8"
             ],
             [
              0.3333333333333333,
              "#9c179e"
             ],
             [
              0.4444444444444444,
              "#bd3786"
             ],
             [
              0.5555555555555556,
              "#d8576b"
             ],
             [
              0.6666666666666666,
              "#ed7953"
             ],
             [
              0.7777777777777778,
              "#fb9f3a"
             ],
             [
              0.8888888888888888,
              "#fdca26"
             ],
             [
              1,
              "#f0f921"
             ]
            ],
            "type": "heatmapgl"
           }
          ],
          "histogram": [
           {
            "marker": {
             "colorbar": {
              "outlinewidth": 0,
              "ticks": ""
             }
            },
            "type": "histogram"
           }
          ],
          "histogram2d": [
           {
            "colorbar": {
             "outlinewidth": 0,
             "ticks": ""
            },
            "colorscale": [
             [
              0,
              "#0d0887"
             ],
             [
              0.1111111111111111,
              "#46039f"
             ],
             [
              0.2222222222222222,
              "#7201a8"
             ],
             [
              0.3333333333333333,
              "#9c179e"
             ],
             [
              0.4444444444444444,
              "#bd3786"
             ],
             [
              0.5555555555555556,
              "#d8576b"
             ],
             [
              0.6666666666666666,
              "#ed7953"
             ],
             [
              0.7777777777777778,
              "#fb9f3a"
             ],
             [
              0.8888888888888888,
              "#fdca26"
             ],
             [
              1,
              "#f0f921"
             ]
            ],
            "type": "histogram2d"
           }
          ],
          "histogram2dcontour": [
           {
            "colorbar": {
             "outlinewidth": 0,
             "ticks": ""
            },
            "colorscale": [
             [
              0,
              "#0d0887"
             ],
             [
              0.1111111111111111,
              "#46039f"
             ],
             [
              0.2222222222222222,
              "#7201a8"
             ],
             [
              0.3333333333333333,
              "#9c179e"
             ],
             [
              0.4444444444444444,
              "#bd3786"
             ],
             [
              0.5555555555555556,
              "#d8576b"
             ],
             [
              0.6666666666666666,
              "#ed7953"
             ],
             [
              0.7777777777777778,
              "#fb9f3a"
             ],
             [
              0.8888888888888888,
              "#fdca26"
             ],
             [
              1,
              "#f0f921"
             ]
            ],
            "type": "histogram2dcontour"
           }
          ],
          "mesh3d": [
           {
            "colorbar": {
             "outlinewidth": 0,
             "ticks": ""
            },
            "type": "mesh3d"
           }
          ],
          "parcoords": [
           {
            "line": {
             "colorbar": {
              "outlinewidth": 0,
              "ticks": ""
             }
            },
            "type": "parcoords"
           }
          ],
          "pie": [
           {
            "automargin": true,
            "type": "pie"
           }
          ],
          "scatter": [
           {
            "marker": {
             "colorbar": {
              "outlinewidth": 0,
              "ticks": ""
             }
            },
            "type": "scatter"
           }
          ],
          "scatter3d": [
           {
            "line": {
             "colorbar": {
              "outlinewidth": 0,
              "ticks": ""
             }
            },
            "marker": {
             "colorbar": {
              "outlinewidth": 0,
              "ticks": ""
             }
            },
            "type": "scatter3d"
           }
          ],
          "scattercarpet": [
           {
            "marker": {
             "colorbar": {
              "outlinewidth": 0,
              "ticks": ""
             }
            },
            "type": "scattercarpet"
           }
          ],
          "scattergeo": [
           {
            "marker": {
             "colorbar": {
              "outlinewidth": 0,
              "ticks": ""
             }
            },
            "type": "scattergeo"
           }
          ],
          "scattergl": [
           {
            "marker": {
             "colorbar": {
              "outlinewidth": 0,
              "ticks": ""
             }
            },
            "type": "scattergl"
           }
          ],
          "scattermapbox": [
           {
            "marker": {
             "colorbar": {
              "outlinewidth": 0,
              "ticks": ""
             }
            },
            "type": "scattermapbox"
           }
          ],
          "scatterpolar": [
           {
            "marker": {
             "colorbar": {
              "outlinewidth": 0,
              "ticks": ""
             }
            },
            "type": "scatterpolar"
           }
          ],
          "scatterpolargl": [
           {
            "marker": {
             "colorbar": {
              "outlinewidth": 0,
              "ticks": ""
             }
            },
            "type": "scatterpolargl"
           }
          ],
          "scatterternary": [
           {
            "marker": {
             "colorbar": {
              "outlinewidth": 0,
              "ticks": ""
             }
            },
            "type": "scatterternary"
           }
          ],
          "surface": [
           {
            "colorbar": {
             "outlinewidth": 0,
             "ticks": ""
            },
            "colorscale": [
             [
              0,
              "#0d0887"
             ],
             [
              0.1111111111111111,
              "#46039f"
             ],
             [
              0.2222222222222222,
              "#7201a8"
             ],
             [
              0.3333333333333333,
              "#9c179e"
             ],
             [
              0.4444444444444444,
              "#bd3786"
             ],
             [
              0.5555555555555556,
              "#d8576b"
             ],
             [
              0.6666666666666666,
              "#ed7953"
             ],
             [
              0.7777777777777778,
              "#fb9f3a"
             ],
             [
              0.8888888888888888,
              "#fdca26"
             ],
             [
              1,
              "#f0f921"
             ]
            ],
            "type": "surface"
           }
          ],
          "table": [
           {
            "cells": {
             "fill": {
              "color": "#EBF0F8"
             },
             "line": {
              "color": "white"
             }
            },
            "header": {
             "fill": {
              "color": "#C8D4E3"
             },
             "line": {
              "color": "white"
             }
            },
            "type": "table"
           }
          ]
         },
         "layout": {
          "annotationdefaults": {
           "arrowcolor": "#2a3f5f",
           "arrowhead": 0,
           "arrowwidth": 1
          },
          "autotypenumbers": "strict",
          "coloraxis": {
           "colorbar": {
            "outlinewidth": 0,
            "ticks": ""
           }
          },
          "colorscale": {
           "diverging": [
            [
             0,
             "#8e0152"
            ],
            [
             0.1,
             "#c51b7d"
            ],
            [
             0.2,
             "#de77ae"
            ],
            [
             0.3,
             "#f1b6da"
            ],
            [
             0.4,
             "#fde0ef"
            ],
            [
             0.5,
             "#f7f7f7"
            ],
            [
             0.6,
             "#e6f5d0"
            ],
            [
             0.7,
             "#b8e186"
            ],
            [
             0.8,
             "#7fbc41"
            ],
            [
             0.9,
             "#4d9221"
            ],
            [
             1,
             "#276419"
            ]
           ],
           "sequential": [
            [
             0,
             "#0d0887"
            ],
            [
             0.1111111111111111,
             "#46039f"
            ],
            [
             0.2222222222222222,
             "#7201a8"
            ],
            [
             0.3333333333333333,
             "#9c179e"
            ],
            [
             0.4444444444444444,
             "#bd3786"
            ],
            [
             0.5555555555555556,
             "#d8576b"
            ],
            [
             0.6666666666666666,
             "#ed7953"
            ],
            [
             0.7777777777777778,
             "#fb9f3a"
            ],
            [
             0.8888888888888888,
             "#fdca26"
            ],
            [
             1,
             "#f0f921"
            ]
           ],
           "sequentialminus": [
            [
             0,
             "#0d0887"
            ],
            [
             0.1111111111111111,
             "#46039f"
            ],
            [
             0.2222222222222222,
             "#7201a8"
            ],
            [
             0.3333333333333333,
             "#9c179e"
            ],
            [
             0.4444444444444444,
             "#bd3786"
            ],
            [
             0.5555555555555556,
             "#d8576b"
            ],
            [
             0.6666666666666666,
             "#ed7953"
            ],
            [
             0.7777777777777778,
             "#fb9f3a"
            ],
            [
             0.8888888888888888,
             "#fdca26"
            ],
            [
             1,
             "#f0f921"
            ]
           ]
          },
          "colorway": [
           "#636efa",
           "#EF553B",
           "#00cc96",
           "#ab63fa",
           "#FFA15A",
           "#19d3f3",
           "#FF6692",
           "#B6E880",
           "#FF97FF",
           "#FECB52"
          ],
          "font": {
           "color": "#2a3f5f"
          },
          "geo": {
           "bgcolor": "white",
           "lakecolor": "white",
           "landcolor": "#E5ECF6",
           "showlakes": true,
           "showland": true,
           "subunitcolor": "white"
          },
          "hoverlabel": {
           "align": "left"
          },
          "hovermode": "closest",
          "mapbox": {
           "style": "light"
          },
          "paper_bgcolor": "white",
          "plot_bgcolor": "#E5ECF6",
          "polar": {
           "angularaxis": {
            "gridcolor": "white",
            "linecolor": "white",
            "ticks": ""
           },
           "bgcolor": "#E5ECF6",
           "radialaxis": {
            "gridcolor": "white",
            "linecolor": "white",
            "ticks": ""
           }
          },
          "scene": {
           "xaxis": {
            "backgroundcolor": "#E5ECF6",
            "gridcolor": "white",
            "gridwidth": 2,
            "linecolor": "white",
            "showbackground": true,
            "ticks": "",
            "zerolinecolor": "white"
           },
           "yaxis": {
            "backgroundcolor": "#E5ECF6",
            "gridcolor": "white",
            "gridwidth": 2,
            "linecolor": "white",
            "showbackground": true,
            "ticks": "",
            "zerolinecolor": "white"
           },
           "zaxis": {
            "backgroundcolor": "#E5ECF6",
            "gridcolor": "white",
            "gridwidth": 2,
            "linecolor": "white",
            "showbackground": true,
            "ticks": "",
            "zerolinecolor": "white"
           }
          },
          "shapedefaults": {
           "line": {
            "color": "#2a3f5f"
           }
          },
          "ternary": {
           "aaxis": {
            "gridcolor": "white",
            "linecolor": "white",
            "ticks": ""
           },
           "baxis": {
            "gridcolor": "white",
            "linecolor": "white",
            "ticks": ""
           },
           "bgcolor": "#E5ECF6",
           "caxis": {
            "gridcolor": "white",
            "linecolor": "white",
            "ticks": ""
           }
          },
          "title": {
           "x": 0.05
          },
          "xaxis": {
           "automargin": true,
           "gridcolor": "white",
           "linecolor": "white",
           "ticks": "",
           "title": {
            "standoff": 15
           },
           "zerolinecolor": "white",
           "zerolinewidth": 2
          },
          "yaxis": {
           "automargin": true,
           "gridcolor": "white",
           "linecolor": "white",
           "ticks": "",
           "title": {
            "standoff": 15
           },
           "zerolinecolor": "white",
           "zerolinewidth": 2
          }
         }
        },
        "xaxis": {
         "anchor": "y",
         "domain": [
          0,
          0.45
         ]
        },
        "xaxis10": {
         "anchor": "y10",
         "domain": [
          0.55,
          1
         ]
        },
        "xaxis2": {
         "anchor": "y2",
         "domain": [
          0.55,
          1
         ]
        },
        "xaxis3": {
         "anchor": "y3",
         "domain": [
          0,
          0.45
         ]
        },
        "xaxis4": {
         "anchor": "y4",
         "domain": [
          0.55,
          1
         ]
        },
        "xaxis5": {
         "anchor": "y5",
         "domain": [
          0,
          0.45
         ]
        },
        "xaxis6": {
         "anchor": "y6",
         "domain": [
          0.55,
          1
         ]
        },
        "xaxis7": {
         "anchor": "y7",
         "domain": [
          0,
          0.45
         ]
        },
        "xaxis8": {
         "anchor": "y8",
         "domain": [
          0.55,
          1
         ]
        },
        "xaxis9": {
         "anchor": "y9",
         "domain": [
          0,
          0.45
         ]
        },
        "yaxis": {
         "anchor": "x",
         "domain": [
          0.88,
          1
         ]
        },
        "yaxis10": {
         "anchor": "x10",
         "domain": [
          0,
          0.12
         ]
        },
        "yaxis2": {
         "anchor": "x2",
         "domain": [
          0.88,
          1
         ]
        },
        "yaxis3": {
         "anchor": "x3",
         "domain": [
          0.66,
          0.78
         ]
        },
        "yaxis4": {
         "anchor": "x4",
         "domain": [
          0.66,
          0.78
         ]
        },
        "yaxis5": {
         "anchor": "x5",
         "domain": [
          0.44,
          0.56
         ]
        },
        "yaxis6": {
         "anchor": "x6",
         "domain": [
          0.44,
          0.56
         ]
        },
        "yaxis7": {
         "anchor": "x7",
         "domain": [
          0.22,
          0.33999999999999997
         ]
        },
        "yaxis8": {
         "anchor": "x8",
         "domain": [
          0.22,
          0.33999999999999997
         ]
        },
        "yaxis9": {
         "anchor": "x9",
         "domain": [
          0,
          0.12
         ]
        }
       }
      },
      "text/html": [
       "<div>                            <div id=\"f48b2763-693b-4b37-90b4-e2b2a70d285b\" class=\"plotly-graph-div\" style=\"height:1500px; width:100%;\"></div>            <script type=\"text/javascript\">                require([\"plotly\"], function(Plotly) {                    window.PLOTLYENV=window.PLOTLYENV || {};                                    if (document.getElementById(\"f48b2763-693b-4b37-90b4-e2b2a70d285b\")) {                    Plotly.newPlot(                        \"f48b2763-693b-4b37-90b4-e2b2a70d285b\",                        [{\"customdata\": [[\"fit\", 1000000, 100, \"brute\", 1, 1, 0.14]], \"hovertemplate\": \"function: <b>%{customdata[0]}</b><br>n_samples: <b>%{customdata[1]}</b><br>n_features: <b>%{customdata[2]}</b><br>algo: <b>%{customdata[3]}</b><br>n_jobs: <b>%{customdata[4]}</b><br>n_neighbors: <b>%{customdata[5]}</b><br>speedup: <b>%{customdata[6]}</b><br><extra></extra>\", \"marker\": {\"color\": \"indianred\"}, \"name\": \"n_jobs: 1\", \"showlegend\": false, \"type\": \"bar\", \"x\": [\"(1000000, 100)\"], \"xaxis\": \"x\", \"y\": [0.14], \"yaxis\": \"y\"}, {\"customdata\": [[\"fit\", 1000000, 100, \"brute\", -1, 1, 0.1]], \"hovertemplate\": \"function: <b>%{customdata[0]}</b><br>n_samples: <b>%{customdata[1]}</b><br>n_features: <b>%{customdata[2]}</b><br>algo: <b>%{customdata[3]}</b><br>n_jobs: <b>%{customdata[4]}</b><br>n_neighbors: <b>%{customdata[5]}</b><br>speedup: <b>%{customdata[6]}</b><br><extra></extra>\", \"marker\": {\"color\": \"lightsalmon\"}, \"name\": \"n_jobs: -1\", \"showlegend\": false, \"type\": \"bar\", \"x\": [\"(1000000, 100)\"], \"xaxis\": \"x\", \"y\": [0.1], \"yaxis\": \"y\"}, {\"customdata\": [[\"predict\", 1, 100, \"brute\", 1, 1, 2.63]], \"hovertemplate\": \"function: <b>%{customdata[0]}</b><br>n_samples: <b>%{customdata[1]}</b><br>n_features: <b>%{customdata[2]}</b><br>algo: <b>%{customdata[3]}</b><br>n_jobs: <b>%{customdata[4]}</b><br>n_neighbors: <b>%{customdata[5]}</b><br>speedup: <b>%{customdata[6]}</b><br><extra></extra>\", \"marker\": {\"color\": \"indianred\"}, \"name\": \"n_jobs: 1\", \"showlegend\": false, \"type\": \"bar\", \"x\": [\"(1, 100)\"], \"xaxis\": \"x2\", \"y\": [2.63], \"yaxis\": \"y2\"}, {\"customdata\": [[\"predict\", 1, 100, \"brute\", -1, 1, 1.55]], \"hovertemplate\": \"function: <b>%{customdata[0]}</b><br>n_samples: <b>%{customdata[1]}</b><br>n_features: <b>%{customdata[2]}</b><br>algo: <b>%{customdata[3]}</b><br>n_jobs: <b>%{customdata[4]}</b><br>n_neighbors: <b>%{customdata[5]}</b><br>speedup: <b>%{customdata[6]}</b><br><extra></extra>\", \"marker\": {\"color\": \"lightsalmon\"}, \"name\": \"n_jobs: -1\", \"showlegend\": false, \"type\": \"bar\", \"x\": [\"(1, 100)\"], \"xaxis\": \"x2\", \"y\": [1.55], \"yaxis\": \"y2\"}, {\"customdata\": [[\"fit\", 1000000, 100, \"brute\", 1, 5, 0.18]], \"hovertemplate\": \"function: <b>%{customdata[0]}</b><br>n_samples: <b>%{customdata[1]}</b><br>n_features: <b>%{customdata[2]}</b><br>algo: <b>%{customdata[3]}</b><br>n_jobs: <b>%{customdata[4]}</b><br>n_neighbors: <b>%{customdata[5]}</b><br>speedup: <b>%{customdata[6]}</b><br><extra></extra>\", \"marker\": {\"color\": \"indianred\"}, \"name\": \"n_jobs: 1\", \"showlegend\": false, \"type\": \"bar\", \"x\": [\"(1000000, 100)\"], \"xaxis\": \"x3\", \"y\": [0.18], \"yaxis\": \"y3\"}, {\"customdata\": [[\"fit\", 1000000, 100, \"brute\", -1, 5, 0.12]], \"hovertemplate\": \"function: <b>%{customdata[0]}</b><br>n_samples: <b>%{customdata[1]}</b><br>n_features: <b>%{customdata[2]}</b><br>algo: <b>%{customdata[3]}</b><br>n_jobs: <b>%{customdata[4]}</b><br>n_neighbors: <b>%{customdata[5]}</b><br>speedup: <b>%{customdata[6]}</b><br><extra></extra>\", \"marker\": {\"color\": \"lightsalmon\"}, \"name\": \"n_jobs: -1\", \"showlegend\": false, \"type\": \"bar\", \"x\": [\"(1000000, 100)\"], \"xaxis\": \"x3\", \"y\": [0.12], \"yaxis\": \"y3\"}, {\"customdata\": [[\"predict\", 1, 100, \"brute\", 1, 5, 2.74]], \"hovertemplate\": \"function: <b>%{customdata[0]}</b><br>n_samples: <b>%{customdata[1]}</b><br>n_features: <b>%{customdata[2]}</b><br>algo: <b>%{customdata[3]}</b><br>n_jobs: <b>%{customdata[4]}</b><br>n_neighbors: <b>%{customdata[5]}</b><br>speedup: <b>%{customdata[6]}</b><br><extra></extra>\", \"marker\": {\"color\": \"indianred\"}, \"name\": \"n_jobs: 1\", \"showlegend\": false, \"type\": \"bar\", \"x\": [\"(1, 100)\"], \"xaxis\": \"x4\", \"y\": [2.74], \"yaxis\": \"y4\"}, {\"customdata\": [[\"predict\", 1, 100, \"brute\", -1, 5, 1.85]], \"hovertemplate\": \"function: <b>%{customdata[0]}</b><br>n_samples: <b>%{customdata[1]}</b><br>n_features: <b>%{customdata[2]}</b><br>algo: <b>%{customdata[3]}</b><br>n_jobs: <b>%{customdata[4]}</b><br>n_neighbors: <b>%{customdata[5]}</b><br>speedup: <b>%{customdata[6]}</b><br><extra></extra>\", \"marker\": {\"color\": \"lightsalmon\"}, \"name\": \"n_jobs: -1\", \"showlegend\": false, \"type\": \"bar\", \"x\": [\"(1, 100)\"], \"xaxis\": \"x4\", \"y\": [1.85], \"yaxis\": \"y4\"}, {\"customdata\": [[\"fit\", 1000000, 100, \"brute\", 1, 10, 0.25]], \"hovertemplate\": \"function: <b>%{customdata[0]}</b><br>n_samples: <b>%{customdata[1]}</b><br>n_features: <b>%{customdata[2]}</b><br>algo: <b>%{customdata[3]}</b><br>n_jobs: <b>%{customdata[4]}</b><br>n_neighbors: <b>%{customdata[5]}</b><br>speedup: <b>%{customdata[6]}</b><br><extra></extra>\", \"marker\": {\"color\": \"indianred\"}, \"name\": \"n_jobs: 1\", \"showlegend\": false, \"type\": \"bar\", \"x\": [\"(1000000, 100)\"], \"xaxis\": \"x5\", \"y\": [0.25], \"yaxis\": \"y5\"}, {\"customdata\": [[\"fit\", 1000000, 100, \"brute\", -1, 10, 0.14]], \"hovertemplate\": \"function: <b>%{customdata[0]}</b><br>n_samples: <b>%{customdata[1]}</b><br>n_features: <b>%{customdata[2]}</b><br>algo: <b>%{customdata[3]}</b><br>n_jobs: <b>%{customdata[4]}</b><br>n_neighbors: <b>%{customdata[5]}</b><br>speedup: <b>%{customdata[6]}</b><br><extra></extra>\", \"marker\": {\"color\": \"lightsalmon\"}, \"name\": \"n_jobs: -1\", \"showlegend\": false, \"type\": \"bar\", \"x\": [\"(1000000, 100)\"], \"xaxis\": \"x5\", \"y\": [0.14], \"yaxis\": \"y5\"}, {\"customdata\": [[\"predict\", 1, 100, \"brute\", 1, 10, 2.3]], \"hovertemplate\": \"function: <b>%{customdata[0]}</b><br>n_samples: <b>%{customdata[1]}</b><br>n_features: <b>%{customdata[2]}</b><br>algo: <b>%{customdata[3]}</b><br>n_jobs: <b>%{customdata[4]}</b><br>n_neighbors: <b>%{customdata[5]}</b><br>speedup: <b>%{customdata[6]}</b><br><extra></extra>\", \"marker\": {\"color\": \"indianred\"}, \"name\": \"n_jobs: 1\", \"showlegend\": false, \"type\": \"bar\", \"x\": [\"(1, 100)\"], \"xaxis\": \"x6\", \"y\": [2.3], \"yaxis\": \"y6\"}, {\"customdata\": [[\"predict\", 1, 100, \"brute\", -1, 10, 1.97]], \"hovertemplate\": \"function: <b>%{customdata[0]}</b><br>n_samples: <b>%{customdata[1]}</b><br>n_features: <b>%{customdata[2]}</b><br>algo: <b>%{customdata[3]}</b><br>n_jobs: <b>%{customdata[4]}</b><br>n_neighbors: <b>%{customdata[5]}</b><br>speedup: <b>%{customdata[6]}</b><br><extra></extra>\", \"marker\": {\"color\": \"lightsalmon\"}, \"name\": \"n_jobs: -1\", \"showlegend\": false, \"type\": \"bar\", \"x\": [\"(1, 100)\"], \"xaxis\": \"x6\", \"y\": [1.97], \"yaxis\": \"y6\"}],                        {\"annotations\": [{\"font\": {\"size\": 16}, \"showarrow\": false, \"text\": \"algo: brute, k: 1, func: fit\", \"x\": 0.225, \"xanchor\": \"center\", \"xref\": \"paper\", \"y\": 1.0, \"yanchor\": \"bottom\", \"yref\": \"paper\"}, {\"font\": {\"size\": 16}, \"showarrow\": false, \"text\": \"algo: brute, k: 1, func: predict\", \"x\": 0.775, \"xanchor\": \"center\", \"xref\": \"paper\", \"y\": 1.0, \"yanchor\": \"bottom\", \"yref\": \"paper\"}, {\"font\": {\"size\": 16}, \"showarrow\": false, \"text\": \"algo: brute, k: 5, func: fit\", \"x\": 0.225, \"xanchor\": \"center\", \"xref\": \"paper\", \"y\": 0.78, \"yanchor\": \"bottom\", \"yref\": \"paper\"}, {\"font\": {\"size\": 16}, \"showarrow\": false, \"text\": \"algo: brute, k: 5, func: predict\", \"x\": 0.775, \"xanchor\": \"center\", \"xref\": \"paper\", \"y\": 0.78, \"yanchor\": \"bottom\", \"yref\": \"paper\"}, {\"font\": {\"size\": 16}, \"showarrow\": false, \"text\": \"algo: brute, k: 10, func: fit\", \"x\": 0.225, \"xanchor\": \"center\", \"xref\": \"paper\", \"y\": 0.56, \"yanchor\": \"bottom\", \"yref\": \"paper\"}, {\"font\": {\"size\": 16}, \"showarrow\": false, \"text\": \"algo: brute, k: 10, func: predict\", \"x\": 0.775, \"xanchor\": \"center\", \"xref\": \"paper\", \"y\": 0.56, \"yanchor\": \"bottom\", \"yref\": \"paper\"}], \"barmode\": \"group\", \"height\": 1500, \"showlegend\": false, \"template\": {\"data\": {\"bar\": [{\"error_x\": {\"color\": \"#2a3f5f\"}, \"error_y\": {\"color\": \"#2a3f5f\"}, \"marker\": {\"line\": {\"color\": \"#E5ECF6\", \"width\": 0.5}}, \"type\": \"bar\"}], \"barpolar\": [{\"marker\": {\"line\": {\"color\": \"#E5ECF6\", \"width\": 0.5}}, \"type\": \"barpolar\"}], \"carpet\": [{\"aaxis\": {\"endlinecolor\": \"#2a3f5f\", \"gridcolor\": \"white\", \"linecolor\": \"white\", \"minorgridcolor\": \"white\", \"startlinecolor\": \"#2a3f5f\"}, \"baxis\": {\"endlinecolor\": \"#2a3f5f\", \"gridcolor\": \"white\", \"linecolor\": \"white\", \"minorgridcolor\": \"white\", \"startlinecolor\": \"#2a3f5f\"}, \"type\": \"carpet\"}], \"choropleth\": [{\"colorbar\": {\"outlinewidth\": 0, \"ticks\": \"\"}, \"type\": \"choropleth\"}], \"contour\": [{\"colorbar\": {\"outlinewidth\": 0, \"ticks\": \"\"}, \"colorscale\": [[0.0, \"#0d0887\"], [0.1111111111111111, \"#46039f\"], [0.2222222222222222, \"#7201a8\"], [0.3333333333333333, \"#9c179e\"], [0.4444444444444444, \"#bd3786\"], [0.5555555555555556, \"#d8576b\"], [0.6666666666666666, \"#ed7953\"], [0.7777777777777778, \"#fb9f3a\"], [0.8888888888888888, \"#fdca26\"], [1.0, \"#f0f921\"]], \"type\": \"contour\"}], \"contourcarpet\": [{\"colorbar\": {\"outlinewidth\": 0, \"ticks\": \"\"}, \"type\": \"contourcarpet\"}], \"heatmap\": [{\"colorbar\": {\"outlinewidth\": 0, \"ticks\": \"\"}, \"colorscale\": [[0.0, \"#0d0887\"], [0.1111111111111111, \"#46039f\"], [0.2222222222222222, \"#7201a8\"], [0.3333333333333333, \"#9c179e\"], [0.4444444444444444, \"#bd3786\"], [0.5555555555555556, \"#d8576b\"], [0.6666666666666666, \"#ed7953\"], [0.7777777777777778, \"#fb9f3a\"], [0.8888888888888888, \"#fdca26\"], [1.0, \"#f0f921\"]], \"type\": \"heatmap\"}], \"heatmapgl\": [{\"colorbar\": {\"outlinewidth\": 0, \"ticks\": \"\"}, \"colorscale\": [[0.0, \"#0d0887\"], [0.1111111111111111, \"#46039f\"], [0.2222222222222222, \"#7201a8\"], [0.3333333333333333, \"#9c179e\"], [0.4444444444444444, \"#bd3786\"], [0.5555555555555556, \"#d8576b\"], [0.6666666666666666, \"#ed7953\"], [0.7777777777777778, \"#fb9f3a\"], [0.8888888888888888, \"#fdca26\"], [1.0, \"#f0f921\"]], \"type\": \"heatmapgl\"}], \"histogram\": [{\"marker\": {\"colorbar\": {\"outlinewidth\": 0, \"ticks\": \"\"}}, \"type\": \"histogram\"}], \"histogram2d\": [{\"colorbar\": {\"outlinewidth\": 0, \"ticks\": \"\"}, \"colorscale\": [[0.0, \"#0d0887\"], [0.1111111111111111, \"#46039f\"], [0.2222222222222222, \"#7201a8\"], [0.3333333333333333, \"#9c179e\"], [0.4444444444444444, \"#bd3786\"], [0.5555555555555556, \"#d8576b\"], [0.6666666666666666, \"#ed7953\"], [0.7777777777777778, \"#fb9f3a\"], [0.8888888888888888, \"#fdca26\"], [1.0, \"#f0f921\"]], \"type\": \"histogram2d\"}], \"histogram2dcontour\": [{\"colorbar\": {\"outlinewidth\": 0, \"ticks\": \"\"}, \"colorscale\": [[0.0, \"#0d0887\"], [0.1111111111111111, \"#46039f\"], [0.2222222222222222, \"#7201a8\"], [0.3333333333333333, \"#9c179e\"], [0.4444444444444444, \"#bd3786\"], [0.5555555555555556, \"#d8576b\"], [0.6666666666666666, \"#ed7953\"], [0.7777777777777778, \"#fb9f3a\"], [0.8888888888888888, \"#fdca26\"], [1.0, \"#f0f921\"]], \"type\": \"histogram2dcontour\"}], \"mesh3d\": [{\"colorbar\": {\"outlinewidth\": 0, \"ticks\": \"\"}, \"type\": \"mesh3d\"}], \"parcoords\": [{\"line\": {\"colorbar\": {\"outlinewidth\": 0, \"ticks\": \"\"}}, \"type\": \"parcoords\"}], \"pie\": [{\"automargin\": true, \"type\": \"pie\"}], \"scatter\": [{\"marker\": {\"colorbar\": {\"outlinewidth\": 0, \"ticks\": \"\"}}, \"type\": \"scatter\"}], \"scatter3d\": [{\"line\": {\"colorbar\": {\"outlinewidth\": 0, \"ticks\": \"\"}}, \"marker\": {\"colorbar\": {\"outlinewidth\": 0, \"ticks\": \"\"}}, \"type\": \"scatter3d\"}], \"scattercarpet\": [{\"marker\": {\"colorbar\": {\"outlinewidth\": 0, \"ticks\": \"\"}}, \"type\": \"scattercarpet\"}], \"scattergeo\": [{\"marker\": {\"colorbar\": {\"outlinewidth\": 0, \"ticks\": \"\"}}, \"type\": \"scattergeo\"}], \"scattergl\": [{\"marker\": {\"colorbar\": {\"outlinewidth\": 0, \"ticks\": \"\"}}, \"type\": \"scattergl\"}], \"scattermapbox\": [{\"marker\": {\"colorbar\": {\"outlinewidth\": 0, \"ticks\": \"\"}}, \"type\": \"scattermapbox\"}], \"scatterpolar\": [{\"marker\": {\"colorbar\": {\"outlinewidth\": 0, \"ticks\": \"\"}}, \"type\": \"scatterpolar\"}], \"scatterpolargl\": [{\"marker\": {\"colorbar\": {\"outlinewidth\": 0, \"ticks\": \"\"}}, \"type\": \"scatterpolargl\"}], \"scatterternary\": [{\"marker\": {\"colorbar\": {\"outlinewidth\": 0, \"ticks\": \"\"}}, \"type\": \"scatterternary\"}], \"surface\": [{\"colorbar\": {\"outlinewidth\": 0, \"ticks\": \"\"}, \"colorscale\": [[0.0, \"#0d0887\"], [0.1111111111111111, \"#46039f\"], [0.2222222222222222, \"#7201a8\"], [0.3333333333333333, \"#9c179e\"], [0.4444444444444444, \"#bd3786\"], [0.5555555555555556, \"#d8576b\"], [0.6666666666666666, \"#ed7953\"], [0.7777777777777778, \"#fb9f3a\"], [0.8888888888888888, \"#fdca26\"], [1.0, \"#f0f921\"]], \"type\": \"surface\"}], \"table\": [{\"cells\": {\"fill\": {\"color\": \"#EBF0F8\"}, \"line\": {\"color\": \"white\"}}, \"header\": {\"fill\": {\"color\": \"#C8D4E3\"}, \"line\": {\"color\": \"white\"}}, \"type\": \"table\"}]}, \"layout\": {\"annotationdefaults\": {\"arrowcolor\": \"#2a3f5f\", \"arrowhead\": 0, \"arrowwidth\": 1}, \"autotypenumbers\": \"strict\", \"coloraxis\": {\"colorbar\": {\"outlinewidth\": 0, \"ticks\": \"\"}}, \"colorscale\": {\"diverging\": [[0, \"#8e0152\"], [0.1, \"#c51b7d\"], [0.2, \"#de77ae\"], [0.3, \"#f1b6da\"], [0.4, \"#fde0ef\"], [0.5, \"#f7f7f7\"], [0.6, \"#e6f5d0\"], [0.7, \"#b8e186\"], [0.8, \"#7fbc41\"], [0.9, \"#4d9221\"], [1, \"#276419\"]], \"sequential\": [[0.0, \"#0d0887\"], [0.1111111111111111, \"#46039f\"], [0.2222222222222222, \"#7201a8\"], [0.3333333333333333, \"#9c179e\"], [0.4444444444444444, \"#bd3786\"], [0.5555555555555556, \"#d8576b\"], [0.6666666666666666, \"#ed7953\"], [0.7777777777777778, \"#fb9f3a\"], [0.8888888888888888, \"#fdca26\"], [1.0, \"#f0f921\"]], \"sequentialminus\": [[0.0, \"#0d0887\"], [0.1111111111111111, \"#46039f\"], [0.2222222222222222, \"#7201a8\"], [0.3333333333333333, \"#9c179e\"], [0.4444444444444444, \"#bd3786\"], [0.5555555555555556, \"#d8576b\"], [0.6666666666666666, \"#ed7953\"], [0.7777777777777778, \"#fb9f3a\"], [0.8888888888888888, \"#fdca26\"], [1.0, \"#f0f921\"]]}, \"colorway\": [\"#636efa\", \"#EF553B\", \"#00cc96\", \"#ab63fa\", \"#FFA15A\", \"#19d3f3\", \"#FF6692\", \"#B6E880\", \"#FF97FF\", \"#FECB52\"], \"font\": {\"color\": \"#2a3f5f\"}, \"geo\": {\"bgcolor\": \"white\", \"lakecolor\": \"white\", \"landcolor\": \"#E5ECF6\", \"showlakes\": true, \"showland\": true, \"subunitcolor\": \"white\"}, \"hoverlabel\": {\"align\": \"left\"}, \"hovermode\": \"closest\", \"mapbox\": {\"style\": \"light\"}, \"paper_bgcolor\": \"white\", \"plot_bgcolor\": \"#E5ECF6\", \"polar\": {\"angularaxis\": {\"gridcolor\": \"white\", \"linecolor\": \"white\", \"ticks\": \"\"}, \"bgcolor\": \"#E5ECF6\", \"radialaxis\": {\"gridcolor\": \"white\", \"linecolor\": \"white\", \"ticks\": \"\"}}, \"scene\": {\"xaxis\": {\"backgroundcolor\": \"#E5ECF6\", \"gridcolor\": \"white\", \"gridwidth\": 2, \"linecolor\": \"white\", \"showbackground\": true, \"ticks\": \"\", \"zerolinecolor\": \"white\"}, \"yaxis\": {\"backgroundcolor\": \"#E5ECF6\", \"gridcolor\": \"white\", \"gridwidth\": 2, \"linecolor\": \"white\", \"showbackground\": true, \"ticks\": \"\", \"zerolinecolor\": \"white\"}, \"zaxis\": {\"backgroundcolor\": \"#E5ECF6\", \"gridcolor\": \"white\", \"gridwidth\": 2, \"linecolor\": \"white\", \"showbackground\": true, \"ticks\": \"\", \"zerolinecolor\": \"white\"}}, \"shapedefaults\": {\"line\": {\"color\": \"#2a3f5f\"}}, \"ternary\": {\"aaxis\": {\"gridcolor\": \"white\", \"linecolor\": \"white\", \"ticks\": \"\"}, \"baxis\": {\"gridcolor\": \"white\", \"linecolor\": \"white\", \"ticks\": \"\"}, \"bgcolor\": \"#E5ECF6\", \"caxis\": {\"gridcolor\": \"white\", \"linecolor\": \"white\", \"ticks\": \"\"}}, \"title\": {\"x\": 0.05}, \"xaxis\": {\"automargin\": true, \"gridcolor\": \"white\", \"linecolor\": \"white\", \"ticks\": \"\", \"title\": {\"standoff\": 15}, \"zerolinecolor\": \"white\", \"zerolinewidth\": 2}, \"yaxis\": {\"automargin\": true, \"gridcolor\": \"white\", \"linecolor\": \"white\", \"ticks\": \"\", \"title\": {\"standoff\": 15}, \"zerolinecolor\": \"white\", \"zerolinewidth\": 2}}}, \"xaxis\": {\"anchor\": \"y\", \"domain\": [0.0, 0.45]}, \"xaxis10\": {\"anchor\": \"y10\", \"domain\": [0.55, 1.0]}, \"xaxis2\": {\"anchor\": \"y2\", \"domain\": [0.55, 1.0]}, \"xaxis3\": {\"anchor\": \"y3\", \"domain\": [0.0, 0.45]}, \"xaxis4\": {\"anchor\": \"y4\", \"domain\": [0.55, 1.0]}, \"xaxis5\": {\"anchor\": \"y5\", \"domain\": [0.0, 0.45]}, \"xaxis6\": {\"anchor\": \"y6\", \"domain\": [0.55, 1.0]}, \"xaxis7\": {\"anchor\": \"y7\", \"domain\": [0.0, 0.45]}, \"xaxis8\": {\"anchor\": \"y8\", \"domain\": [0.55, 1.0]}, \"xaxis9\": {\"anchor\": \"y9\", \"domain\": [0.0, 0.45]}, \"yaxis\": {\"anchor\": \"x\", \"domain\": [0.88, 1.0]}, \"yaxis10\": {\"anchor\": \"x10\", \"domain\": [0.0, 0.12]}, \"yaxis2\": {\"anchor\": \"x2\", \"domain\": [0.88, 1.0]}, \"yaxis3\": {\"anchor\": \"x3\", \"domain\": [0.66, 0.78]}, \"yaxis4\": {\"anchor\": \"x4\", \"domain\": [0.66, 0.78]}, \"yaxis5\": {\"anchor\": \"x5\", \"domain\": [0.44, 0.56]}, \"yaxis6\": {\"anchor\": \"x6\", \"domain\": [0.44, 0.56]}, \"yaxis7\": {\"anchor\": \"x7\", \"domain\": [0.22, 0.33999999999999997]}, \"yaxis8\": {\"anchor\": \"x8\", \"domain\": [0.22, 0.33999999999999997]}, \"yaxis9\": {\"anchor\": \"x9\", \"domain\": [0.0, 0.12]}},                        {\"responsive\": true}                    ).then(function(){\n",
       "                            \n",
       "var gd = document.getElementById('f48b2763-693b-4b37-90b4-e2b2a70d285b');\n",
       "var x = new MutationObserver(function (mutations, observer) {{\n",
       "        var display = window.getComputedStyle(gd).display;\n",
       "        if (!display || display === 'none') {{\n",
       "            console.log([gd, 'removed!']);\n",
       "            Plotly.purge(gd);\n",
       "            observer.disconnect();\n",
       "        }}\n",
       "}});\n",
       "\n",
       "// Listen for the removal of the full notebook cells\n",
       "var notebookContainer = gd.closest('#notebook-container');\n",
       "if (notebookContainer) {{\n",
       "    x.observe(notebookContainer, {childList: true});\n",
       "}}\n",
       "\n",
       "// Listen for the clearing of the current output cell\n",
       "var outputEl = gd.closest('.output');\n",
       "if (outputEl) {{\n",
       "    x.observe(outputEl, {childList: true});\n",
       "}}\n",
       "\n",
       "                        })                };                });            </script>        </div>"
      ]
     },
     "metadata": {},
     "output_type": "display_data"
    }
   ],
   "source": [
    "plot_knn()"
   ]
  },
  {
   "cell_type": "markdown",
   "id": "comfortable-wallace",
   "metadata": {},
   "source": [
    "<br></br>\n",
    "# KNeighborsClassifier k-d tree"
   ]
  },
  {
   "cell_type": "code",
   "execution_count": 22,
   "id": "hindu-dallas",
   "metadata": {},
   "outputs": [
    {
     "data": {
      "application/vnd.plotly.v1+json": {
       "config": {
        "plotlyServerURL": "https://plot.ly"
       },
       "data": [
        {
         "customdata": [
          [
           "fit",
           1000000,
           2,
           "kd_tree",
           1,
           1,
           5.29
          ]
         ],
         "hovertemplate": "function: <b>%{customdata[0]}</b><br>n_samples: <b>%{customdata[1]}</b><br>n_features: <b>%{customdata[2]}</b><br>algo: <b>%{customdata[3]}</b><br>n_jobs: <b>%{customdata[4]}</b><br>n_neighbors: <b>%{customdata[5]}</b><br>speedup: <b>%{customdata[6]}</b><br><extra></extra>",
         "marker": {
          "color": "indianred"
         },
         "name": "n_jobs: 1",
         "showlegend": false,
         "type": "bar",
         "x": [
          "(1000000, 2)"
         ],
         "xaxis": "x",
         "y": [
          5.29
         ],
         "yaxis": "y"
        },
        {
         "customdata": [
          [
           "fit",
           1000000,
           2,
           "kd_tree",
           -1,
           1,
           5.26
          ]
         ],
         "hovertemplate": "function: <b>%{customdata[0]}</b><br>n_samples: <b>%{customdata[1]}</b><br>n_features: <b>%{customdata[2]}</b><br>algo: <b>%{customdata[3]}</b><br>n_jobs: <b>%{customdata[4]}</b><br>n_neighbors: <b>%{customdata[5]}</b><br>speedup: <b>%{customdata[6]}</b><br><extra></extra>",
         "marker": {
          "color": "lightsalmon"
         },
         "name": "n_jobs: -1",
         "showlegend": false,
         "type": "bar",
         "x": [
          "(1000000, 2)"
         ],
         "xaxis": "x",
         "y": [
          5.26
         ],
         "yaxis": "y"
        },
        {
         "customdata": [
          [
           "predict",
           1000,
           2,
           "kd_tree",
           1,
           1,
           51.24
          ],
          [
           "predict",
           1,
           2,
           "kd_tree",
           1,
           1,
           6.68
          ]
         ],
         "hovertemplate": "function: <b>%{customdata[0]}</b><br>n_samples: <b>%{customdata[1]}</b><br>n_features: <b>%{customdata[2]}</b><br>algo: <b>%{customdata[3]}</b><br>n_jobs: <b>%{customdata[4]}</b><br>n_neighbors: <b>%{customdata[5]}</b><br>speedup: <b>%{customdata[6]}</b><br><extra></extra>",
         "marker": {
          "color": "indianred"
         },
         "name": "n_jobs: 1",
         "showlegend": false,
         "type": "bar",
         "x": [
          "(1000, 2)",
          "(1, 2)"
         ],
         "xaxis": "x2",
         "y": [
          51.24,
          6.68
         ],
         "yaxis": "y2"
        },
        {
         "customdata": [
          [
           "predict",
           1000,
           2,
           "kd_tree",
           -1,
           1,
           52.57
          ],
          [
           "predict",
           1,
           2,
           "kd_tree",
           -1,
           1,
           22.56
          ]
         ],
         "hovertemplate": "function: <b>%{customdata[0]}</b><br>n_samples: <b>%{customdata[1]}</b><br>n_features: <b>%{customdata[2]}</b><br>algo: <b>%{customdata[3]}</b><br>n_jobs: <b>%{customdata[4]}</b><br>n_neighbors: <b>%{customdata[5]}</b><br>speedup: <b>%{customdata[6]}</b><br><extra></extra>",
         "marker": {
          "color": "lightsalmon"
         },
         "name": "n_jobs: -1",
         "showlegend": false,
         "type": "bar",
         "x": [
          "(1000, 2)",
          "(1, 2)"
         ],
         "xaxis": "x2",
         "y": [
          52.57,
          22.56
         ],
         "yaxis": "y2"
        },
        {
         "customdata": [
          [
           "fit",
           1000000,
           2,
           "kd_tree",
           1,
           5,
           5.15
          ]
         ],
         "hovertemplate": "function: <b>%{customdata[0]}</b><br>n_samples: <b>%{customdata[1]}</b><br>n_features: <b>%{customdata[2]}</b><br>algo: <b>%{customdata[3]}</b><br>n_jobs: <b>%{customdata[4]}</b><br>n_neighbors: <b>%{customdata[5]}</b><br>speedup: <b>%{customdata[6]}</b><br><extra></extra>",
         "marker": {
          "color": "indianred"
         },
         "name": "n_jobs: 1",
         "showlegend": false,
         "type": "bar",
         "x": [
          "(1000000, 2)"
         ],
         "xaxis": "x3",
         "y": [
          5.15
         ],
         "yaxis": "y3"
        },
        {
         "customdata": [
          [
           "fit",
           1000000,
           2,
           "kd_tree",
           -1,
           5,
           4.98
          ]
         ],
         "hovertemplate": "function: <b>%{customdata[0]}</b><br>n_samples: <b>%{customdata[1]}</b><br>n_features: <b>%{customdata[2]}</b><br>algo: <b>%{customdata[3]}</b><br>n_jobs: <b>%{customdata[4]}</b><br>n_neighbors: <b>%{customdata[5]}</b><br>speedup: <b>%{customdata[6]}</b><br><extra></extra>",
         "marker": {
          "color": "lightsalmon"
         },
         "name": "n_jobs: -1",
         "showlegend": false,
         "type": "bar",
         "x": [
          "(1000000, 2)"
         ],
         "xaxis": "x3",
         "y": [
          4.98
         ],
         "yaxis": "y3"
        },
        {
         "customdata": [
          [
           "predict",
           1000,
           2,
           "kd_tree",
           1,
           5,
           45.19
          ],
          [
           "predict",
           1,
           2,
           "kd_tree",
           1,
           5,
           4.88
          ]
         ],
         "hovertemplate": "function: <b>%{customdata[0]}</b><br>n_samples: <b>%{customdata[1]}</b><br>n_features: <b>%{customdata[2]}</b><br>algo: <b>%{customdata[3]}</b><br>n_jobs: <b>%{customdata[4]}</b><br>n_neighbors: <b>%{customdata[5]}</b><br>speedup: <b>%{customdata[6]}</b><br><extra></extra>",
         "marker": {
          "color": "indianred"
         },
         "name": "n_jobs: 1",
         "showlegend": false,
         "type": "bar",
         "x": [
          "(1000, 2)",
          "(1, 2)"
         ],
         "xaxis": "x4",
         "y": [
          45.19,
          4.88
         ],
         "yaxis": "y4"
        },
        {
         "customdata": [
          [
           "predict",
           1000,
           2,
           "kd_tree",
           -1,
           5,
           38.13
          ],
          [
           "predict",
           1,
           2,
           "kd_tree",
           -1,
           5,
           20.93
          ]
         ],
         "hovertemplate": "function: <b>%{customdata[0]}</b><br>n_samples: <b>%{customdata[1]}</b><br>n_features: <b>%{customdata[2]}</b><br>algo: <b>%{customdata[3]}</b><br>n_jobs: <b>%{customdata[4]}</b><br>n_neighbors: <b>%{customdata[5]}</b><br>speedup: <b>%{customdata[6]}</b><br><extra></extra>",
         "marker": {
          "color": "lightsalmon"
         },
         "name": "n_jobs: -1",
         "showlegend": false,
         "type": "bar",
         "x": [
          "(1000, 2)",
          "(1, 2)"
         ],
         "xaxis": "x4",
         "y": [
          38.13,
          20.93
         ],
         "yaxis": "y4"
        },
        {
         "customdata": [
          [
           "fit",
           1000000,
           2,
           "kd_tree",
           1,
           10,
           5.31
          ]
         ],
         "hovertemplate": "function: <b>%{customdata[0]}</b><br>n_samples: <b>%{customdata[1]}</b><br>n_features: <b>%{customdata[2]}</b><br>algo: <b>%{customdata[3]}</b><br>n_jobs: <b>%{customdata[4]}</b><br>n_neighbors: <b>%{customdata[5]}</b><br>speedup: <b>%{customdata[6]}</b><br><extra></extra>",
         "marker": {
          "color": "indianred"
         },
         "name": "n_jobs: 1",
         "showlegend": false,
         "type": "bar",
         "x": [
          "(1000000, 2)"
         ],
         "xaxis": "x5",
         "y": [
          5.31
         ],
         "yaxis": "y5"
        },
        {
         "customdata": [
          [
           "fit",
           1000000,
           2,
           "kd_tree",
           -1,
           10,
           5.82
          ]
         ],
         "hovertemplate": "function: <b>%{customdata[0]}</b><br>n_samples: <b>%{customdata[1]}</b><br>n_features: <b>%{customdata[2]}</b><br>algo: <b>%{customdata[3]}</b><br>n_jobs: <b>%{customdata[4]}</b><br>n_neighbors: <b>%{customdata[5]}</b><br>speedup: <b>%{customdata[6]}</b><br><extra></extra>",
         "marker": {
          "color": "lightsalmon"
         },
         "name": "n_jobs: -1",
         "showlegend": false,
         "type": "bar",
         "x": [
          "(1000000, 2)"
         ],
         "xaxis": "x5",
         "y": [
          5.82
         ],
         "yaxis": "y5"
        },
        {
         "customdata": [
          [
           "predict",
           1000,
           2,
           "kd_tree",
           1,
           10,
           42.06
          ],
          [
           "predict",
           1,
           2,
           "kd_tree",
           1,
           10,
           5.55
          ]
         ],
         "hovertemplate": "function: <b>%{customdata[0]}</b><br>n_samples: <b>%{customdata[1]}</b><br>n_features: <b>%{customdata[2]}</b><br>algo: <b>%{customdata[3]}</b><br>n_jobs: <b>%{customdata[4]}</b><br>n_neighbors: <b>%{customdata[5]}</b><br>speedup: <b>%{customdata[6]}</b><br><extra></extra>",
         "marker": {
          "color": "indianred"
         },
         "name": "n_jobs: 1",
         "showlegend": false,
         "type": "bar",
         "x": [
          "(1000, 2)",
          "(1, 2)"
         ],
         "xaxis": "x6",
         "y": [
          42.06,
          5.55
         ],
         "yaxis": "y6"
        },
        {
         "customdata": [
          [
           "predict",
           1000,
           2,
           "kd_tree",
           -1,
           10,
           36.06
          ],
          [
           "predict",
           1,
           2,
           "kd_tree",
           -1,
           10,
           27.41
          ]
         ],
         "hovertemplate": "function: <b>%{customdata[0]}</b><br>n_samples: <b>%{customdata[1]}</b><br>n_features: <b>%{customdata[2]}</b><br>algo: <b>%{customdata[3]}</b><br>n_jobs: <b>%{customdata[4]}</b><br>n_neighbors: <b>%{customdata[5]}</b><br>speedup: <b>%{customdata[6]}</b><br><extra></extra>",
         "marker": {
          "color": "lightsalmon"
         },
         "name": "n_jobs: -1",
         "showlegend": false,
         "type": "bar",
         "x": [
          "(1000, 2)",
          "(1, 2)"
         ],
         "xaxis": "x6",
         "y": [
          36.06,
          27.41
         ],
         "yaxis": "y6"
        }
       ],
       "layout": {
        "annotations": [
         {
          "font": {
           "size": 16
          },
          "showarrow": false,
          "text": "algo: kd_tree, k: 1, func: fit",
          "x": 0.225,
          "xanchor": "center",
          "xref": "paper",
          "y": 1,
          "yanchor": "bottom",
          "yref": "paper"
         },
         {
          "font": {
           "size": 16
          },
          "showarrow": false,
          "text": "algo: kd_tree, k: 1, func: predict",
          "x": 0.775,
          "xanchor": "center",
          "xref": "paper",
          "y": 1,
          "yanchor": "bottom",
          "yref": "paper"
         },
         {
          "font": {
           "size": 16
          },
          "showarrow": false,
          "text": "algo: kd_tree, k: 5, func: fit",
          "x": 0.225,
          "xanchor": "center",
          "xref": "paper",
          "y": 0.78,
          "yanchor": "bottom",
          "yref": "paper"
         },
         {
          "font": {
           "size": 16
          },
          "showarrow": false,
          "text": "algo: kd_tree, k: 5, func: predict",
          "x": 0.775,
          "xanchor": "center",
          "xref": "paper",
          "y": 0.78,
          "yanchor": "bottom",
          "yref": "paper"
         },
         {
          "font": {
           "size": 16
          },
          "showarrow": false,
          "text": "algo: kd_tree, k: 10, func: fit",
          "x": 0.225,
          "xanchor": "center",
          "xref": "paper",
          "y": 0.56,
          "yanchor": "bottom",
          "yref": "paper"
         },
         {
          "font": {
           "size": 16
          },
          "showarrow": false,
          "text": "algo: kd_tree, k: 10, func: predict",
          "x": 0.775,
          "xanchor": "center",
          "xref": "paper",
          "y": 0.56,
          "yanchor": "bottom",
          "yref": "paper"
         }
        ],
        "barmode": "group",
        "height": 1500,
        "showlegend": false,
        "template": {
         "data": {
          "bar": [
           {
            "error_x": {
             "color": "#2a3f5f"
            },
            "error_y": {
             "color": "#2a3f5f"
            },
            "marker": {
             "line": {
              "color": "#E5ECF6",
              "width": 0.5
             }
            },
            "type": "bar"
           }
          ],
          "barpolar": [
           {
            "marker": {
             "line": {
              "color": "#E5ECF6",
              "width": 0.5
             }
            },
            "type": "barpolar"
           }
          ],
          "carpet": [
           {
            "aaxis": {
             "endlinecolor": "#2a3f5f",
             "gridcolor": "white",
             "linecolor": "white",
             "minorgridcolor": "white",
             "startlinecolor": "#2a3f5f"
            },
            "baxis": {
             "endlinecolor": "#2a3f5f",
             "gridcolor": "white",
             "linecolor": "white",
             "minorgridcolor": "white",
             "startlinecolor": "#2a3f5f"
            },
            "type": "carpet"
           }
          ],
          "choropleth": [
           {
            "colorbar": {
             "outlinewidth": 0,
             "ticks": ""
            },
            "type": "choropleth"
           }
          ],
          "contour": [
           {
            "colorbar": {
             "outlinewidth": 0,
             "ticks": ""
            },
            "colorscale": [
             [
              0,
              "#0d0887"
             ],
             [
              0.1111111111111111,
              "#46039f"
             ],
             [
              0.2222222222222222,
              "#7201a8"
             ],
             [
              0.3333333333333333,
              "#9c179e"
             ],
             [
              0.4444444444444444,
              "#bd3786"
             ],
             [
              0.5555555555555556,
              "#d8576b"
             ],
             [
              0.6666666666666666,
              "#ed7953"
             ],
             [
              0.7777777777777778,
              "#fb9f3a"
             ],
             [
              0.8888888888888888,
              "#fdca26"
             ],
             [
              1,
              "#f0f921"
             ]
            ],
            "type": "contour"
           }
          ],
          "contourcarpet": [
           {
            "colorbar": {
             "outlinewidth": 0,
             "ticks": ""
            },
            "type": "contourcarpet"
           }
          ],
          "heatmap": [
           {
            "colorbar": {
             "outlinewidth": 0,
             "ticks": ""
            },
            "colorscale": [
             [
              0,
              "#0d0887"
             ],
             [
              0.1111111111111111,
              "#46039f"
             ],
             [
              0.2222222222222222,
              "#7201a8"
             ],
             [
              0.3333333333333333,
              "#9c179e"
             ],
             [
              0.4444444444444444,
              "#bd3786"
             ],
             [
              0.5555555555555556,
              "#d8576b"
             ],
             [
              0.6666666666666666,
              "#ed7953"
             ],
             [
              0.7777777777777778,
              "#fb9f3a"
             ],
             [
              0.8888888888888888,
              "#fdca26"
             ],
             [
              1,
              "#f0f921"
             ]
            ],
            "type": "heatmap"
           }
          ],
          "heatmapgl": [
           {
            "colorbar": {
             "outlinewidth": 0,
             "ticks": ""
            },
            "colorscale": [
             [
              0,
              "#0d0887"
             ],
             [
              0.1111111111111111,
              "#46039f"
             ],
             [
              0.2222222222222222,
              "#7201a8"
             ],
             [
              0.3333333333333333,
              "#9c179e"
             ],
             [
              0.4444444444444444,
              "#bd3786"
             ],
             [
              0.5555555555555556,
              "#d8576b"
             ],
             [
              0.6666666666666666,
              "#ed7953"
             ],
             [
              0.7777777777777778,
              "#fb9f3a"
             ],
             [
              0.8888888888888888,
              "#fdca26"
             ],
             [
              1,
              "#f0f921"
             ]
            ],
            "type": "heatmapgl"
           }
          ],
          "histogram": [
           {
            "marker": {
             "colorbar": {
              "outlinewidth": 0,
              "ticks": ""
             }
            },
            "type": "histogram"
           }
          ],
          "histogram2d": [
           {
            "colorbar": {
             "outlinewidth": 0,
             "ticks": ""
            },
            "colorscale": [
             [
              0,
              "#0d0887"
             ],
             [
              0.1111111111111111,
              "#46039f"
             ],
             [
              0.2222222222222222,
              "#7201a8"
             ],
             [
              0.3333333333333333,
              "#9c179e"
             ],
             [
              0.4444444444444444,
              "#bd3786"
             ],
             [
              0.5555555555555556,
              "#d8576b"
             ],
             [
              0.6666666666666666,
              "#ed7953"
             ],
             [
              0.7777777777777778,
              "#fb9f3a"
             ],
             [
              0.8888888888888888,
              "#fdca26"
             ],
             [
              1,
              "#f0f921"
             ]
            ],
            "type": "histogram2d"
           }
          ],
          "histogram2dcontour": [
           {
            "colorbar": {
             "outlinewidth": 0,
             "ticks": ""
            },
            "colorscale": [
             [
              0,
              "#0d0887"
             ],
             [
              0.1111111111111111,
              "#46039f"
             ],
             [
              0.2222222222222222,
              "#7201a8"
             ],
             [
              0.3333333333333333,
              "#9c179e"
             ],
             [
              0.4444444444444444,
              "#bd3786"
             ],
             [
              0.5555555555555556,
              "#d8576b"
             ],
             [
              0.6666666666666666,
              "#ed7953"
             ],
             [
              0.7777777777777778,
              "#fb9f3a"
             ],
             [
              0.8888888888888888,
              "#fdca26"
             ],
             [
              1,
              "#f0f921"
             ]
            ],
            "type": "histogram2dcontour"
           }
          ],
          "mesh3d": [
           {
            "colorbar": {
             "outlinewidth": 0,
             "ticks": ""
            },
            "type": "mesh3d"
           }
          ],
          "parcoords": [
           {
            "line": {
             "colorbar": {
              "outlinewidth": 0,
              "ticks": ""
             }
            },
            "type": "parcoords"
           }
          ],
          "pie": [
           {
            "automargin": true,
            "type": "pie"
           }
          ],
          "scatter": [
           {
            "marker": {
             "colorbar": {
              "outlinewidth": 0,
              "ticks": ""
             }
            },
            "type": "scatter"
           }
          ],
          "scatter3d": [
           {
            "line": {
             "colorbar": {
              "outlinewidth": 0,
              "ticks": ""
             }
            },
            "marker": {
             "colorbar": {
              "outlinewidth": 0,
              "ticks": ""
             }
            },
            "type": "scatter3d"
           }
          ],
          "scattercarpet": [
           {
            "marker": {
             "colorbar": {
              "outlinewidth": 0,
              "ticks": ""
             }
            },
            "type": "scattercarpet"
           }
          ],
          "scattergeo": [
           {
            "marker": {
             "colorbar": {
              "outlinewidth": 0,
              "ticks": ""
             }
            },
            "type": "scattergeo"
           }
          ],
          "scattergl": [
           {
            "marker": {
             "colorbar": {
              "outlinewidth": 0,
              "ticks": ""
             }
            },
            "type": "scattergl"
           }
          ],
          "scattermapbox": [
           {
            "marker": {
             "colorbar": {
              "outlinewidth": 0,
              "ticks": ""
             }
            },
            "type": "scattermapbox"
           }
          ],
          "scatterpolar": [
           {
            "marker": {
             "colorbar": {
              "outlinewidth": 0,
              "ticks": ""
             }
            },
            "type": "scatterpolar"
           }
          ],
          "scatterpolargl": [
           {
            "marker": {
             "colorbar": {
              "outlinewidth": 0,
              "ticks": ""
             }
            },
            "type": "scatterpolargl"
           }
          ],
          "scatterternary": [
           {
            "marker": {
             "colorbar": {
              "outlinewidth": 0,
              "ticks": ""
             }
            },
            "type": "scatterternary"
           }
          ],
          "surface": [
           {
            "colorbar": {
             "outlinewidth": 0,
             "ticks": ""
            },
            "colorscale": [
             [
              0,
              "#0d0887"
             ],
             [
              0.1111111111111111,
              "#46039f"
             ],
             [
              0.2222222222222222,
              "#7201a8"
             ],
             [
              0.3333333333333333,
              "#9c179e"
             ],
             [
              0.4444444444444444,
              "#bd3786"
             ],
             [
              0.5555555555555556,
              "#d8576b"
             ],
             [
              0.6666666666666666,
              "#ed7953"
             ],
             [
              0.7777777777777778,
              "#fb9f3a"
             ],
             [
              0.8888888888888888,
              "#fdca26"
             ],
             [
              1,
              "#f0f921"
             ]
            ],
            "type": "surface"
           }
          ],
          "table": [
           {
            "cells": {
             "fill": {
              "color": "#EBF0F8"
             },
             "line": {
              "color": "white"
             }
            },
            "header": {
             "fill": {
              "color": "#C8D4E3"
             },
             "line": {
              "color": "white"
             }
            },
            "type": "table"
           }
          ]
         },
         "layout": {
          "annotationdefaults": {
           "arrowcolor": "#2a3f5f",
           "arrowhead": 0,
           "arrowwidth": 1
          },
          "autotypenumbers": "strict",
          "coloraxis": {
           "colorbar": {
            "outlinewidth": 0,
            "ticks": ""
           }
          },
          "colorscale": {
           "diverging": [
            [
             0,
             "#8e0152"
            ],
            [
             0.1,
             "#c51b7d"
            ],
            [
             0.2,
             "#de77ae"
            ],
            [
             0.3,
             "#f1b6da"
            ],
            [
             0.4,
             "#fde0ef"
            ],
            [
             0.5,
             "#f7f7f7"
            ],
            [
             0.6,
             "#e6f5d0"
            ],
            [
             0.7,
             "#b8e186"
            ],
            [
             0.8,
             "#7fbc41"
            ],
            [
             0.9,
             "#4d9221"
            ],
            [
             1,
             "#276419"
            ]
           ],
           "sequential": [
            [
             0,
             "#0d0887"
            ],
            [
             0.1111111111111111,
             "#46039f"
            ],
            [
             0.2222222222222222,
             "#7201a8"
            ],
            [
             0.3333333333333333,
             "#9c179e"
            ],
            [
             0.4444444444444444,
             "#bd3786"
            ],
            [
             0.5555555555555556,
             "#d8576b"
            ],
            [
             0.6666666666666666,
             "#ed7953"
            ],
            [
             0.7777777777777778,
             "#fb9f3a"
            ],
            [
             0.8888888888888888,
             "#fdca26"
            ],
            [
             1,
             "#f0f921"
            ]
           ],
           "sequentialminus": [
            [
             0,
             "#0d0887"
            ],
            [
             0.1111111111111111,
             "#46039f"
            ],
            [
             0.2222222222222222,
             "#7201a8"
            ],
            [
             0.3333333333333333,
             "#9c179e"
            ],
            [
             0.4444444444444444,
             "#bd3786"
            ],
            [
             0.5555555555555556,
             "#d8576b"
            ],
            [
             0.6666666666666666,
             "#ed7953"
            ],
            [
             0.7777777777777778,
             "#fb9f3a"
            ],
            [
             0.8888888888888888,
             "#fdca26"
            ],
            [
             1,
             "#f0f921"
            ]
           ]
          },
          "colorway": [
           "#636efa",
           "#EF553B",
           "#00cc96",
           "#ab63fa",
           "#FFA15A",
           "#19d3f3",
           "#FF6692",
           "#B6E880",
           "#FF97FF",
           "#FECB52"
          ],
          "font": {
           "color": "#2a3f5f"
          },
          "geo": {
           "bgcolor": "white",
           "lakecolor": "white",
           "landcolor": "#E5ECF6",
           "showlakes": true,
           "showland": true,
           "subunitcolor": "white"
          },
          "hoverlabel": {
           "align": "left"
          },
          "hovermode": "closest",
          "mapbox": {
           "style": "light"
          },
          "paper_bgcolor": "white",
          "plot_bgcolor": "#E5ECF6",
          "polar": {
           "angularaxis": {
            "gridcolor": "white",
            "linecolor": "white",
            "ticks": ""
           },
           "bgcolor": "#E5ECF6",
           "radialaxis": {
            "gridcolor": "white",
            "linecolor": "white",
            "ticks": ""
           }
          },
          "scene": {
           "xaxis": {
            "backgroundcolor": "#E5ECF6",
            "gridcolor": "white",
            "gridwidth": 2,
            "linecolor": "white",
            "showbackground": true,
            "ticks": "",
            "zerolinecolor": "white"
           },
           "yaxis": {
            "backgroundcolor": "#E5ECF6",
            "gridcolor": "white",
            "gridwidth": 2,
            "linecolor": "white",
            "showbackground": true,
            "ticks": "",
            "zerolinecolor": "white"
           },
           "zaxis": {
            "backgroundcolor": "#E5ECF6",
            "gridcolor": "white",
            "gridwidth": 2,
            "linecolor": "white",
            "showbackground": true,
            "ticks": "",
            "zerolinecolor": "white"
           }
          },
          "shapedefaults": {
           "line": {
            "color": "#2a3f5f"
           }
          },
          "ternary": {
           "aaxis": {
            "gridcolor": "white",
            "linecolor": "white",
            "ticks": ""
           },
           "baxis": {
            "gridcolor": "white",
            "linecolor": "white",
            "ticks": ""
           },
           "bgcolor": "#E5ECF6",
           "caxis": {
            "gridcolor": "white",
            "linecolor": "white",
            "ticks": ""
           }
          },
          "title": {
           "x": 0.05
          },
          "xaxis": {
           "automargin": true,
           "gridcolor": "white",
           "linecolor": "white",
           "ticks": "",
           "title": {
            "standoff": 15
           },
           "zerolinecolor": "white",
           "zerolinewidth": 2
          },
          "yaxis": {
           "automargin": true,
           "gridcolor": "white",
           "linecolor": "white",
           "ticks": "",
           "title": {
            "standoff": 15
           },
           "zerolinecolor": "white",
           "zerolinewidth": 2
          }
         }
        },
        "xaxis": {
         "anchor": "y",
         "domain": [
          0,
          0.45
         ]
        },
        "xaxis10": {
         "anchor": "y10",
         "domain": [
          0.55,
          1
         ]
        },
        "xaxis2": {
         "anchor": "y2",
         "domain": [
          0.55,
          1
         ]
        },
        "xaxis3": {
         "anchor": "y3",
         "domain": [
          0,
          0.45
         ]
        },
        "xaxis4": {
         "anchor": "y4",
         "domain": [
          0.55,
          1
         ]
        },
        "xaxis5": {
         "anchor": "y5",
         "domain": [
          0,
          0.45
         ]
        },
        "xaxis6": {
         "anchor": "y6",
         "domain": [
          0.55,
          1
         ]
        },
        "xaxis7": {
         "anchor": "y7",
         "domain": [
          0,
          0.45
         ]
        },
        "xaxis8": {
         "anchor": "y8",
         "domain": [
          0.55,
          1
         ]
        },
        "xaxis9": {
         "anchor": "y9",
         "domain": [
          0,
          0.45
         ]
        },
        "yaxis": {
         "anchor": "x",
         "domain": [
          0.88,
          1
         ]
        },
        "yaxis10": {
         "anchor": "x10",
         "domain": [
          0,
          0.12
         ]
        },
        "yaxis2": {
         "anchor": "x2",
         "domain": [
          0.88,
          1
         ]
        },
        "yaxis3": {
         "anchor": "x3",
         "domain": [
          0.66,
          0.78
         ]
        },
        "yaxis4": {
         "anchor": "x4",
         "domain": [
          0.66,
          0.78
         ]
        },
        "yaxis5": {
         "anchor": "x5",
         "domain": [
          0.44,
          0.56
         ]
        },
        "yaxis6": {
         "anchor": "x6",
         "domain": [
          0.44,
          0.56
         ]
        },
        "yaxis7": {
         "anchor": "x7",
         "domain": [
          0.22,
          0.33999999999999997
         ]
        },
        "yaxis8": {
         "anchor": "x8",
         "domain": [
          0.22,
          0.33999999999999997
         ]
        },
        "yaxis9": {
         "anchor": "x9",
         "domain": [
          0,
          0.12
         ]
        }
       }
      },
      "text/html": [
       "<div>                            <div id=\"671eb9f2-7a24-43e1-bd4b-981f4d4e80b7\" class=\"plotly-graph-div\" style=\"height:1500px; width:100%;\"></div>            <script type=\"text/javascript\">                require([\"plotly\"], function(Plotly) {                    window.PLOTLYENV=window.PLOTLYENV || {};                                    if (document.getElementById(\"671eb9f2-7a24-43e1-bd4b-981f4d4e80b7\")) {                    Plotly.newPlot(                        \"671eb9f2-7a24-43e1-bd4b-981f4d4e80b7\",                        [{\"customdata\": [[\"fit\", 1000000, 2, \"kd_tree\", 1, 1, 5.29]], \"hovertemplate\": \"function: <b>%{customdata[0]}</b><br>n_samples: <b>%{customdata[1]}</b><br>n_features: <b>%{customdata[2]}</b><br>algo: <b>%{customdata[3]}</b><br>n_jobs: <b>%{customdata[4]}</b><br>n_neighbors: <b>%{customdata[5]}</b><br>speedup: <b>%{customdata[6]}</b><br><extra></extra>\", \"marker\": {\"color\": \"indianred\"}, \"name\": \"n_jobs: 1\", \"showlegend\": false, \"type\": \"bar\", \"x\": [\"(1000000, 2)\"], \"xaxis\": \"x\", \"y\": [5.29], \"yaxis\": \"y\"}, {\"customdata\": [[\"fit\", 1000000, 2, \"kd_tree\", -1, 1, 5.26]], \"hovertemplate\": \"function: <b>%{customdata[0]}</b><br>n_samples: <b>%{customdata[1]}</b><br>n_features: <b>%{customdata[2]}</b><br>algo: <b>%{customdata[3]}</b><br>n_jobs: <b>%{customdata[4]}</b><br>n_neighbors: <b>%{customdata[5]}</b><br>speedup: <b>%{customdata[6]}</b><br><extra></extra>\", \"marker\": {\"color\": \"lightsalmon\"}, \"name\": \"n_jobs: -1\", \"showlegend\": false, \"type\": \"bar\", \"x\": [\"(1000000, 2)\"], \"xaxis\": \"x\", \"y\": [5.26], \"yaxis\": \"y\"}, {\"customdata\": [[\"predict\", 1000, 2, \"kd_tree\", 1, 1, 51.24], [\"predict\", 1, 2, \"kd_tree\", 1, 1, 6.68]], \"hovertemplate\": \"function: <b>%{customdata[0]}</b><br>n_samples: <b>%{customdata[1]}</b><br>n_features: <b>%{customdata[2]}</b><br>algo: <b>%{customdata[3]}</b><br>n_jobs: <b>%{customdata[4]}</b><br>n_neighbors: <b>%{customdata[5]}</b><br>speedup: <b>%{customdata[6]}</b><br><extra></extra>\", \"marker\": {\"color\": \"indianred\"}, \"name\": \"n_jobs: 1\", \"showlegend\": false, \"type\": \"bar\", \"x\": [\"(1000, 2)\", \"(1, 2)\"], \"xaxis\": \"x2\", \"y\": [51.24, 6.68], \"yaxis\": \"y2\"}, {\"customdata\": [[\"predict\", 1000, 2, \"kd_tree\", -1, 1, 52.57], [\"predict\", 1, 2, \"kd_tree\", -1, 1, 22.56]], \"hovertemplate\": \"function: <b>%{customdata[0]}</b><br>n_samples: <b>%{customdata[1]}</b><br>n_features: <b>%{customdata[2]}</b><br>algo: <b>%{customdata[3]}</b><br>n_jobs: <b>%{customdata[4]}</b><br>n_neighbors: <b>%{customdata[5]}</b><br>speedup: <b>%{customdata[6]}</b><br><extra></extra>\", \"marker\": {\"color\": \"lightsalmon\"}, \"name\": \"n_jobs: -1\", \"showlegend\": false, \"type\": \"bar\", \"x\": [\"(1000, 2)\", \"(1, 2)\"], \"xaxis\": \"x2\", \"y\": [52.57, 22.56], \"yaxis\": \"y2\"}, {\"customdata\": [[\"fit\", 1000000, 2, \"kd_tree\", 1, 5, 5.15]], \"hovertemplate\": \"function: <b>%{customdata[0]}</b><br>n_samples: <b>%{customdata[1]}</b><br>n_features: <b>%{customdata[2]}</b><br>algo: <b>%{customdata[3]}</b><br>n_jobs: <b>%{customdata[4]}</b><br>n_neighbors: <b>%{customdata[5]}</b><br>speedup: <b>%{customdata[6]}</b><br><extra></extra>\", \"marker\": {\"color\": \"indianred\"}, \"name\": \"n_jobs: 1\", \"showlegend\": false, \"type\": \"bar\", \"x\": [\"(1000000, 2)\"], \"xaxis\": \"x3\", \"y\": [5.15], \"yaxis\": \"y3\"}, {\"customdata\": [[\"fit\", 1000000, 2, \"kd_tree\", -1, 5, 4.98]], \"hovertemplate\": \"function: <b>%{customdata[0]}</b><br>n_samples: <b>%{customdata[1]}</b><br>n_features: <b>%{customdata[2]}</b><br>algo: <b>%{customdata[3]}</b><br>n_jobs: <b>%{customdata[4]}</b><br>n_neighbors: <b>%{customdata[5]}</b><br>speedup: <b>%{customdata[6]}</b><br><extra></extra>\", \"marker\": {\"color\": \"lightsalmon\"}, \"name\": \"n_jobs: -1\", \"showlegend\": false, \"type\": \"bar\", \"x\": [\"(1000000, 2)\"], \"xaxis\": \"x3\", \"y\": [4.98], \"yaxis\": \"y3\"}, {\"customdata\": [[\"predict\", 1000, 2, \"kd_tree\", 1, 5, 45.19], [\"predict\", 1, 2, \"kd_tree\", 1, 5, 4.88]], \"hovertemplate\": \"function: <b>%{customdata[0]}</b><br>n_samples: <b>%{customdata[1]}</b><br>n_features: <b>%{customdata[2]}</b><br>algo: <b>%{customdata[3]}</b><br>n_jobs: <b>%{customdata[4]}</b><br>n_neighbors: <b>%{customdata[5]}</b><br>speedup: <b>%{customdata[6]}</b><br><extra></extra>\", \"marker\": {\"color\": \"indianred\"}, \"name\": \"n_jobs: 1\", \"showlegend\": false, \"type\": \"bar\", \"x\": [\"(1000, 2)\", \"(1, 2)\"], \"xaxis\": \"x4\", \"y\": [45.19, 4.88], \"yaxis\": \"y4\"}, {\"customdata\": [[\"predict\", 1000, 2, \"kd_tree\", -1, 5, 38.13], [\"predict\", 1, 2, \"kd_tree\", -1, 5, 20.93]], \"hovertemplate\": \"function: <b>%{customdata[0]}</b><br>n_samples: <b>%{customdata[1]}</b><br>n_features: <b>%{customdata[2]}</b><br>algo: <b>%{customdata[3]}</b><br>n_jobs: <b>%{customdata[4]}</b><br>n_neighbors: <b>%{customdata[5]}</b><br>speedup: <b>%{customdata[6]}</b><br><extra></extra>\", \"marker\": {\"color\": \"lightsalmon\"}, \"name\": \"n_jobs: -1\", \"showlegend\": false, \"type\": \"bar\", \"x\": [\"(1000, 2)\", \"(1, 2)\"], \"xaxis\": \"x4\", \"y\": [38.13, 20.93], \"yaxis\": \"y4\"}, {\"customdata\": [[\"fit\", 1000000, 2, \"kd_tree\", 1, 10, 5.31]], \"hovertemplate\": \"function: <b>%{customdata[0]}</b><br>n_samples: <b>%{customdata[1]}</b><br>n_features: <b>%{customdata[2]}</b><br>algo: <b>%{customdata[3]}</b><br>n_jobs: <b>%{customdata[4]}</b><br>n_neighbors: <b>%{customdata[5]}</b><br>speedup: <b>%{customdata[6]}</b><br><extra></extra>\", \"marker\": {\"color\": \"indianred\"}, \"name\": \"n_jobs: 1\", \"showlegend\": false, \"type\": \"bar\", \"x\": [\"(1000000, 2)\"], \"xaxis\": \"x5\", \"y\": [5.31], \"yaxis\": \"y5\"}, {\"customdata\": [[\"fit\", 1000000, 2, \"kd_tree\", -1, 10, 5.82]], \"hovertemplate\": \"function: <b>%{customdata[0]}</b><br>n_samples: <b>%{customdata[1]}</b><br>n_features: <b>%{customdata[2]}</b><br>algo: <b>%{customdata[3]}</b><br>n_jobs: <b>%{customdata[4]}</b><br>n_neighbors: <b>%{customdata[5]}</b><br>speedup: <b>%{customdata[6]}</b><br><extra></extra>\", \"marker\": {\"color\": \"lightsalmon\"}, \"name\": \"n_jobs: -1\", \"showlegend\": false, \"type\": \"bar\", \"x\": [\"(1000000, 2)\"], \"xaxis\": \"x5\", \"y\": [5.82], \"yaxis\": \"y5\"}, {\"customdata\": [[\"predict\", 1000, 2, \"kd_tree\", 1, 10, 42.06], [\"predict\", 1, 2, \"kd_tree\", 1, 10, 5.55]], \"hovertemplate\": \"function: <b>%{customdata[0]}</b><br>n_samples: <b>%{customdata[1]}</b><br>n_features: <b>%{customdata[2]}</b><br>algo: <b>%{customdata[3]}</b><br>n_jobs: <b>%{customdata[4]}</b><br>n_neighbors: <b>%{customdata[5]}</b><br>speedup: <b>%{customdata[6]}</b><br><extra></extra>\", \"marker\": {\"color\": \"indianred\"}, \"name\": \"n_jobs: 1\", \"showlegend\": false, \"type\": \"bar\", \"x\": [\"(1000, 2)\", \"(1, 2)\"], \"xaxis\": \"x6\", \"y\": [42.06, 5.55], \"yaxis\": \"y6\"}, {\"customdata\": [[\"predict\", 1000, 2, \"kd_tree\", -1, 10, 36.06], [\"predict\", 1, 2, \"kd_tree\", -1, 10, 27.41]], \"hovertemplate\": \"function: <b>%{customdata[0]}</b><br>n_samples: <b>%{customdata[1]}</b><br>n_features: <b>%{customdata[2]}</b><br>algo: <b>%{customdata[3]}</b><br>n_jobs: <b>%{customdata[4]}</b><br>n_neighbors: <b>%{customdata[5]}</b><br>speedup: <b>%{customdata[6]}</b><br><extra></extra>\", \"marker\": {\"color\": \"lightsalmon\"}, \"name\": \"n_jobs: -1\", \"showlegend\": false, \"type\": \"bar\", \"x\": [\"(1000, 2)\", \"(1, 2)\"], \"xaxis\": \"x6\", \"y\": [36.06, 27.41], \"yaxis\": \"y6\"}],                        {\"annotations\": [{\"font\": {\"size\": 16}, \"showarrow\": false, \"text\": \"algo: kd_tree, k: 1, func: fit\", \"x\": 0.225, \"xanchor\": \"center\", \"xref\": \"paper\", \"y\": 1.0, \"yanchor\": \"bottom\", \"yref\": \"paper\"}, {\"font\": {\"size\": 16}, \"showarrow\": false, \"text\": \"algo: kd_tree, k: 1, func: predict\", \"x\": 0.775, \"xanchor\": \"center\", \"xref\": \"paper\", \"y\": 1.0, \"yanchor\": \"bottom\", \"yref\": \"paper\"}, {\"font\": {\"size\": 16}, \"showarrow\": false, \"text\": \"algo: kd_tree, k: 5, func: fit\", \"x\": 0.225, \"xanchor\": \"center\", \"xref\": \"paper\", \"y\": 0.78, \"yanchor\": \"bottom\", \"yref\": \"paper\"}, {\"font\": {\"size\": 16}, \"showarrow\": false, \"text\": \"algo: kd_tree, k: 5, func: predict\", \"x\": 0.775, \"xanchor\": \"center\", \"xref\": \"paper\", \"y\": 0.78, \"yanchor\": \"bottom\", \"yref\": \"paper\"}, {\"font\": {\"size\": 16}, \"showarrow\": false, \"text\": \"algo: kd_tree, k: 10, func: fit\", \"x\": 0.225, \"xanchor\": \"center\", \"xref\": \"paper\", \"y\": 0.56, \"yanchor\": \"bottom\", \"yref\": \"paper\"}, {\"font\": {\"size\": 16}, \"showarrow\": false, \"text\": \"algo: kd_tree, k: 10, func: predict\", \"x\": 0.775, \"xanchor\": \"center\", \"xref\": \"paper\", \"y\": 0.56, \"yanchor\": \"bottom\", \"yref\": \"paper\"}], \"barmode\": \"group\", \"height\": 1500, \"showlegend\": false, \"template\": {\"data\": {\"bar\": [{\"error_x\": {\"color\": \"#2a3f5f\"}, \"error_y\": {\"color\": \"#2a3f5f\"}, \"marker\": {\"line\": {\"color\": \"#E5ECF6\", \"width\": 0.5}}, \"type\": \"bar\"}], \"barpolar\": [{\"marker\": {\"line\": {\"color\": \"#E5ECF6\", \"width\": 0.5}}, \"type\": \"barpolar\"}], \"carpet\": [{\"aaxis\": {\"endlinecolor\": \"#2a3f5f\", \"gridcolor\": \"white\", \"linecolor\": \"white\", \"minorgridcolor\": \"white\", \"startlinecolor\": \"#2a3f5f\"}, \"baxis\": {\"endlinecolor\": \"#2a3f5f\", \"gridcolor\": \"white\", \"linecolor\": \"white\", \"minorgridcolor\": \"white\", \"startlinecolor\": \"#2a3f5f\"}, \"type\": \"carpet\"}], \"choropleth\": [{\"colorbar\": {\"outlinewidth\": 0, \"ticks\": \"\"}, \"type\": \"choropleth\"}], \"contour\": [{\"colorbar\": {\"outlinewidth\": 0, \"ticks\": \"\"}, \"colorscale\": [[0.0, \"#0d0887\"], [0.1111111111111111, \"#46039f\"], [0.2222222222222222, \"#7201a8\"], [0.3333333333333333, \"#9c179e\"], [0.4444444444444444, \"#bd3786\"], [0.5555555555555556, \"#d8576b\"], [0.6666666666666666, \"#ed7953\"], [0.7777777777777778, \"#fb9f3a\"], [0.8888888888888888, \"#fdca26\"], [1.0, \"#f0f921\"]], \"type\": \"contour\"}], \"contourcarpet\": [{\"colorbar\": {\"outlinewidth\": 0, \"ticks\": \"\"}, \"type\": \"contourcarpet\"}], \"heatmap\": [{\"colorbar\": {\"outlinewidth\": 0, \"ticks\": \"\"}, \"colorscale\": [[0.0, \"#0d0887\"], [0.1111111111111111, \"#46039f\"], [0.2222222222222222, \"#7201a8\"], [0.3333333333333333, \"#9c179e\"], [0.4444444444444444, \"#bd3786\"], [0.5555555555555556, \"#d8576b\"], [0.6666666666666666, \"#ed7953\"], [0.7777777777777778, \"#fb9f3a\"], [0.8888888888888888, \"#fdca26\"], [1.0, \"#f0f921\"]], \"type\": \"heatmap\"}], \"heatmapgl\": [{\"colorbar\": {\"outlinewidth\": 0, \"ticks\": \"\"}, \"colorscale\": [[0.0, \"#0d0887\"], [0.1111111111111111, \"#46039f\"], [0.2222222222222222, \"#7201a8\"], [0.3333333333333333, \"#9c179e\"], [0.4444444444444444, \"#bd3786\"], [0.5555555555555556, \"#d8576b\"], [0.6666666666666666, \"#ed7953\"], [0.7777777777777778, \"#fb9f3a\"], [0.8888888888888888, \"#fdca26\"], [1.0, \"#f0f921\"]], \"type\": \"heatmapgl\"}], \"histogram\": [{\"marker\": {\"colorbar\": {\"outlinewidth\": 0, \"ticks\": \"\"}}, \"type\": \"histogram\"}], \"histogram2d\": [{\"colorbar\": {\"outlinewidth\": 0, \"ticks\": \"\"}, \"colorscale\": [[0.0, \"#0d0887\"], [0.1111111111111111, \"#46039f\"], [0.2222222222222222, \"#7201a8\"], [0.3333333333333333, \"#9c179e\"], [0.4444444444444444, \"#bd3786\"], [0.5555555555555556, \"#d8576b\"], [0.6666666666666666, \"#ed7953\"], [0.7777777777777778, \"#fb9f3a\"], [0.8888888888888888, \"#fdca26\"], [1.0, \"#f0f921\"]], \"type\": \"histogram2d\"}], \"histogram2dcontour\": [{\"colorbar\": {\"outlinewidth\": 0, \"ticks\": \"\"}, \"colorscale\": [[0.0, \"#0d0887\"], [0.1111111111111111, \"#46039f\"], [0.2222222222222222, \"#7201a8\"], [0.3333333333333333, \"#9c179e\"], [0.4444444444444444, \"#bd3786\"], [0.5555555555555556, \"#d8576b\"], [0.6666666666666666, \"#ed7953\"], [0.7777777777777778, \"#fb9f3a\"], [0.8888888888888888, \"#fdca26\"], [1.0, \"#f0f921\"]], \"type\": \"histogram2dcontour\"}], \"mesh3d\": [{\"colorbar\": {\"outlinewidth\": 0, \"ticks\": \"\"}, \"type\": \"mesh3d\"}], \"parcoords\": [{\"line\": {\"colorbar\": {\"outlinewidth\": 0, \"ticks\": \"\"}}, \"type\": \"parcoords\"}], \"pie\": [{\"automargin\": true, \"type\": \"pie\"}], \"scatter\": [{\"marker\": {\"colorbar\": {\"outlinewidth\": 0, \"ticks\": \"\"}}, \"type\": \"scatter\"}], \"scatter3d\": [{\"line\": {\"colorbar\": {\"outlinewidth\": 0, \"ticks\": \"\"}}, \"marker\": {\"colorbar\": {\"outlinewidth\": 0, \"ticks\": \"\"}}, \"type\": \"scatter3d\"}], \"scattercarpet\": [{\"marker\": {\"colorbar\": {\"outlinewidth\": 0, \"ticks\": \"\"}}, \"type\": \"scattercarpet\"}], \"scattergeo\": [{\"marker\": {\"colorbar\": {\"outlinewidth\": 0, \"ticks\": \"\"}}, \"type\": \"scattergeo\"}], \"scattergl\": [{\"marker\": {\"colorbar\": {\"outlinewidth\": 0, \"ticks\": \"\"}}, \"type\": \"scattergl\"}], \"scattermapbox\": [{\"marker\": {\"colorbar\": {\"outlinewidth\": 0, \"ticks\": \"\"}}, \"type\": \"scattermapbox\"}], \"scatterpolar\": [{\"marker\": {\"colorbar\": {\"outlinewidth\": 0, \"ticks\": \"\"}}, \"type\": \"scatterpolar\"}], \"scatterpolargl\": [{\"marker\": {\"colorbar\": {\"outlinewidth\": 0, \"ticks\": \"\"}}, \"type\": \"scatterpolargl\"}], \"scatterternary\": [{\"marker\": {\"colorbar\": {\"outlinewidth\": 0, \"ticks\": \"\"}}, \"type\": \"scatterternary\"}], \"surface\": [{\"colorbar\": {\"outlinewidth\": 0, \"ticks\": \"\"}, \"colorscale\": [[0.0, \"#0d0887\"], [0.1111111111111111, \"#46039f\"], [0.2222222222222222, \"#7201a8\"], [0.3333333333333333, \"#9c179e\"], [0.4444444444444444, \"#bd3786\"], [0.5555555555555556, \"#d8576b\"], [0.6666666666666666, \"#ed7953\"], [0.7777777777777778, \"#fb9f3a\"], [0.8888888888888888, \"#fdca26\"], [1.0, \"#f0f921\"]], \"type\": \"surface\"}], \"table\": [{\"cells\": {\"fill\": {\"color\": \"#EBF0F8\"}, \"line\": {\"color\": \"white\"}}, \"header\": {\"fill\": {\"color\": \"#C8D4E3\"}, \"line\": {\"color\": \"white\"}}, \"type\": \"table\"}]}, \"layout\": {\"annotationdefaults\": {\"arrowcolor\": \"#2a3f5f\", \"arrowhead\": 0, \"arrowwidth\": 1}, \"autotypenumbers\": \"strict\", \"coloraxis\": {\"colorbar\": {\"outlinewidth\": 0, \"ticks\": \"\"}}, \"colorscale\": {\"diverging\": [[0, \"#8e0152\"], [0.1, \"#c51b7d\"], [0.2, \"#de77ae\"], [0.3, \"#f1b6da\"], [0.4, \"#fde0ef\"], [0.5, \"#f7f7f7\"], [0.6, \"#e6f5d0\"], [0.7, \"#b8e186\"], [0.8, \"#7fbc41\"], [0.9, \"#4d9221\"], [1, \"#276419\"]], \"sequential\": [[0.0, \"#0d0887\"], [0.1111111111111111, \"#46039f\"], [0.2222222222222222, \"#7201a8\"], [0.3333333333333333, \"#9c179e\"], [0.4444444444444444, \"#bd3786\"], [0.5555555555555556, \"#d8576b\"], [0.6666666666666666, \"#ed7953\"], [0.7777777777777778, \"#fb9f3a\"], [0.8888888888888888, \"#fdca26\"], [1.0, \"#f0f921\"]], \"sequentialminus\": [[0.0, \"#0d0887\"], [0.1111111111111111, \"#46039f\"], [0.2222222222222222, \"#7201a8\"], [0.3333333333333333, \"#9c179e\"], [0.4444444444444444, \"#bd3786\"], [0.5555555555555556, \"#d8576b\"], [0.6666666666666666, \"#ed7953\"], [0.7777777777777778, \"#fb9f3a\"], [0.8888888888888888, \"#fdca26\"], [1.0, \"#f0f921\"]]}, \"colorway\": [\"#636efa\", \"#EF553B\", \"#00cc96\", \"#ab63fa\", \"#FFA15A\", \"#19d3f3\", \"#FF6692\", \"#B6E880\", \"#FF97FF\", \"#FECB52\"], \"font\": {\"color\": \"#2a3f5f\"}, \"geo\": {\"bgcolor\": \"white\", \"lakecolor\": \"white\", \"landcolor\": \"#E5ECF6\", \"showlakes\": true, \"showland\": true, \"subunitcolor\": \"white\"}, \"hoverlabel\": {\"align\": \"left\"}, \"hovermode\": \"closest\", \"mapbox\": {\"style\": \"light\"}, \"paper_bgcolor\": \"white\", \"plot_bgcolor\": \"#E5ECF6\", \"polar\": {\"angularaxis\": {\"gridcolor\": \"white\", \"linecolor\": \"white\", \"ticks\": \"\"}, \"bgcolor\": \"#E5ECF6\", \"radialaxis\": {\"gridcolor\": \"white\", \"linecolor\": \"white\", \"ticks\": \"\"}}, \"scene\": {\"xaxis\": {\"backgroundcolor\": \"#E5ECF6\", \"gridcolor\": \"white\", \"gridwidth\": 2, \"linecolor\": \"white\", \"showbackground\": true, \"ticks\": \"\", \"zerolinecolor\": \"white\"}, \"yaxis\": {\"backgroundcolor\": \"#E5ECF6\", \"gridcolor\": \"white\", \"gridwidth\": 2, \"linecolor\": \"white\", \"showbackground\": true, \"ticks\": \"\", \"zerolinecolor\": \"white\"}, \"zaxis\": {\"backgroundcolor\": \"#E5ECF6\", \"gridcolor\": \"white\", \"gridwidth\": 2, \"linecolor\": \"white\", \"showbackground\": true, \"ticks\": \"\", \"zerolinecolor\": \"white\"}}, \"shapedefaults\": {\"line\": {\"color\": \"#2a3f5f\"}}, \"ternary\": {\"aaxis\": {\"gridcolor\": \"white\", \"linecolor\": \"white\", \"ticks\": \"\"}, \"baxis\": {\"gridcolor\": \"white\", \"linecolor\": \"white\", \"ticks\": \"\"}, \"bgcolor\": \"#E5ECF6\", \"caxis\": {\"gridcolor\": \"white\", \"linecolor\": \"white\", \"ticks\": \"\"}}, \"title\": {\"x\": 0.05}, \"xaxis\": {\"automargin\": true, \"gridcolor\": \"white\", \"linecolor\": \"white\", \"ticks\": \"\", \"title\": {\"standoff\": 15}, \"zerolinecolor\": \"white\", \"zerolinewidth\": 2}, \"yaxis\": {\"automargin\": true, \"gridcolor\": \"white\", \"linecolor\": \"white\", \"ticks\": \"\", \"title\": {\"standoff\": 15}, \"zerolinecolor\": \"white\", \"zerolinewidth\": 2}}}, \"xaxis\": {\"anchor\": \"y\", \"domain\": [0.0, 0.45]}, \"xaxis10\": {\"anchor\": \"y10\", \"domain\": [0.55, 1.0]}, \"xaxis2\": {\"anchor\": \"y2\", \"domain\": [0.55, 1.0]}, \"xaxis3\": {\"anchor\": \"y3\", \"domain\": [0.0, 0.45]}, \"xaxis4\": {\"anchor\": \"y4\", \"domain\": [0.55, 1.0]}, \"xaxis5\": {\"anchor\": \"y5\", \"domain\": [0.0, 0.45]}, \"xaxis6\": {\"anchor\": \"y6\", \"domain\": [0.55, 1.0]}, \"xaxis7\": {\"anchor\": \"y7\", \"domain\": [0.0, 0.45]}, \"xaxis8\": {\"anchor\": \"y8\", \"domain\": [0.55, 1.0]}, \"xaxis9\": {\"anchor\": \"y9\", \"domain\": [0.0, 0.45]}, \"yaxis\": {\"anchor\": \"x\", \"domain\": [0.88, 1.0]}, \"yaxis10\": {\"anchor\": \"x10\", \"domain\": [0.0, 0.12]}, \"yaxis2\": {\"anchor\": \"x2\", \"domain\": [0.88, 1.0]}, \"yaxis3\": {\"anchor\": \"x3\", \"domain\": [0.66, 0.78]}, \"yaxis4\": {\"anchor\": \"x4\", \"domain\": [0.66, 0.78]}, \"yaxis5\": {\"anchor\": \"x5\", \"domain\": [0.44, 0.56]}, \"yaxis6\": {\"anchor\": \"x6\", \"domain\": [0.44, 0.56]}, \"yaxis7\": {\"anchor\": \"x7\", \"domain\": [0.22, 0.33999999999999997]}, \"yaxis8\": {\"anchor\": \"x8\", \"domain\": [0.22, 0.33999999999999997]}, \"yaxis9\": {\"anchor\": \"x9\", \"domain\": [0.0, 0.12]}},                        {\"responsive\": true}                    ).then(function(){\n",
       "                            \n",
       "var gd = document.getElementById('671eb9f2-7a24-43e1-bd4b-981f4d4e80b7');\n",
       "var x = new MutationObserver(function (mutations, observer) {{\n",
       "        var display = window.getComputedStyle(gd).display;\n",
       "        if (!display || display === 'none') {{\n",
       "            console.log([gd, 'removed!']);\n",
       "            Plotly.purge(gd);\n",
       "            observer.disconnect();\n",
       "        }}\n",
       "}});\n",
       "\n",
       "// Listen for the removal of the full notebook cells\n",
       "var notebookContainer = gd.closest('#notebook-container');\n",
       "if (notebookContainer) {{\n",
       "    x.observe(notebookContainer, {childList: true});\n",
       "}}\n",
       "\n",
       "// Listen for the clearing of the current output cell\n",
       "var outputEl = gd.closest('.output');\n",
       "if (outputEl) {{\n",
       "    x.observe(outputEl, {childList: true});\n",
       "}}\n",
       "\n",
       "                        })                };                });            </script>        </div>"
      ]
     },
     "metadata": {},
     "output_type": "display_data"
    }
   ],
   "source": [
    "plot_knn(algo='KNeighborsClassifier_kd_tree')"
   ]
  },
  {
   "cell_type": "markdown",
   "id": "generic-hughes",
   "metadata": {},
   "source": [
    "<br></br>\n",
    "## KMeans"
   ]
  },
  {
   "cell_type": "code",
   "execution_count": null,
   "id": "running-police",
   "metadata": {},
   "outputs": [],
   "source": [
    "d4p_kmeans = pd.read_csv('sklearn_benchmarks/results/daal4py/KMeans.csv')"
   ]
  },
  {
   "cell_type": "code",
   "execution_count": null,
   "id": "therapeutic-affiliate",
   "metadata": {},
   "outputs": [],
   "source": [
    "skl_kmeans = pd.read_csv('sklearn_benchmarks/results/sklearn/KMeans.csv')"
   ]
  },
  {
   "cell_type": "code",
   "execution_count": null,
   "id": "helpful-nurse",
   "metadata": {},
   "outputs": [],
   "source": [
    "merged_df_kmeans = skl_kmeans.merge(d4p_kmeans, on=['estimator', 'function', 'n_samples', 'n_features', 'init', 'max_iter', 'n_clusters', 'n_init', 'tol'], suffixes=['_skl', '_d4p'])"
   ]
  },
  {
   "cell_type": "code",
   "execution_count": null,
   "id": "dominant-third",
   "metadata": {},
   "outputs": [],
   "source": [
    "merged_df_kmeans['speedup'] = merged_df_kmeans['mean_time_elapsed_skl'] / merged_df_kmeans['mean_time_elapsed_d4p']"
   ]
  }
 ],
 "metadata": {
  "kernelspec": {
   "display_name": "Python 3",
   "language": "python",
   "name": "python3"
  },
  "language_info": {
   "codemirror_mode": {
    "name": "ipython",
    "version": 3
   },
   "file_extension": ".py",
   "mimetype": "text/x-python",
   "name": "python",
   "nbconvert_exporter": "python",
   "pygments_lexer": "ipython3",
   "version": "3.9.2"
  }
 },
 "nbformat": 4,
 "nbformat_minor": 5
}
