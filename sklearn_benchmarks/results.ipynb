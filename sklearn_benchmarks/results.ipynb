{
 "cells": [
  {
   "cell_type": "markdown",
   "id": "continuing-equation",
   "metadata": {},
   "source": [
    "# Imports"
   ]
  },
  {
   "cell_type": "code",
   "execution_count": 1,
   "id": "offensive-communist",
   "metadata": {},
   "outputs": [],
   "source": [
    "from utils import print_time_report, print_results, plot_results, print_profiling_links"
   ]
  },
  {
   "cell_type": "markdown",
   "id": "systematic-montana",
   "metadata": {},
   "source": [
    "<br></br>\n",
    "# Time report"
   ]
  },
  {
   "cell_type": "code",
   "execution_count": 2,
   "id": "lonely-democracy",
   "metadata": {},
   "outputs": [],
   "source": [
    "print_time_report()"
   ]
  },
  {
   "cell_type": "markdown",
   "id": "invisible-suspect",
   "metadata": {},
   "source": [
    "<br></br>\n",
    "# KNeighborsClassifier - Brute Force"
   ]
  },
  {
   "cell_type": "code",
   "execution_count": 3,
   "id": "f341ef53",
   "metadata": {},
   "outputs": [],
   "source": [
    "print_results(algo=\"KNeighborsClassifier\", versus_lib=\"daal4py\")"
   ]
  },
  {
   "cell_type": "code",
   "execution_count": null,
   "id": "cb8dd3b8",
   "metadata": {},
   "outputs": [],
   "source": [
    "plot_results(algo=\"KNeighborsClassifier\", versus_lib=\"daal4py\", group_by_cols=[\"algorithm\", \"n_neighbors\", \"function\"], split_hist_by=[\"n_jobs\"])"
   ]
  },
  {
   "cell_type": "code",
   "execution_count": null,
   "id": "101f94cb",
   "metadata": {},
   "outputs": [],
   "source": [
    "print_profiling_links(algo=\"KNeighborsClassifier\", versus_lib=\"daal4py\")"
   ]
  },
  {
   "cell_type": "markdown",
   "id": "78974e46",
   "metadata": {},
   "source": [
    "<br></br>\n",
    "# KNeighborsClassifier - KD Tree"
   ]
  },
  {
   "cell_type": "code",
   "execution_count": null,
   "id": "1087c8a3",
   "metadata": {},
   "outputs": [],
   "source": [
    "print_results(algo=\"KNeighborsClassifier_kd_tree\", versus_lib=\"daal4py\")"
   ]
  },
  {
   "cell_type": "code",
   "execution_count": null,
   "id": "9e51d937",
   "metadata": {},
   "outputs": [],
   "source": [
    "plot_results(algo=\"KNeighborsClassifier_kd_tree\", versus_lib=\"daal4py\", group_by_cols=[\"algorithm\", \"n_neighbors\", \"function\"], split_hist_by=[\"n_jobs\"])"
   ]
  },
  {
   "cell_type": "markdown",
   "id": "e567834b",
   "metadata": {},
   "source": [
    "<br></br>\n",
    "# KMeans"
   ]
  },
  {
   "cell_type": "code",
   "execution_count": null,
   "id": "2ce53328",
   "metadata": {},
   "outputs": [],
   "source": [
    "print_results(algo=\"KMeans\", versus_lib=\"daal4py\", compare_cols=[\"n_iter\", \"adjusted_rand_score\"])"
   ]
  },
  {
   "cell_type": "code",
   "execution_count": null,
   "id": "53a5b856",
   "metadata": {},
   "outputs": [],
   "source": [
    "plot_results(algo=\"KMeans\", versus_lib=\"daal4py\", group_by_cols=[\"algorithm\", \"init\", \"max_iter\", \"n_clusters\", \"n_init\", \"tol\", \"function\"], compare_cols=[\"n_iter\", \"adjusted_rand_score\"])"
   ]
  },
  {
   "cell_type": "code",
   "execution_count": null,
   "id": "a12c803a-d40b-4772-9988-f50bb40cbd76",
   "metadata": {},
   "outputs": [],
   "source": [
    "from IPython.display import HTML\n",
    "HTML(filename=\"results/profiling/daal4py_fit_34ec25ca7b67cd63579539d7f2c1a9ca_7c1b7a5104d3fe0053bf0bbabfb80255.html\")"
   ]
  }
 ],
 "metadata": {
  "kernelspec": {
   "display_name": "Python 3",
   "language": "python",
   "name": "python3"
  },
  "language_info": {
   "codemirror_mode": {
    "name": "ipython",
    "version": 3
   },
   "file_extension": ".py",
   "mimetype": "text/x-python",
   "name": "python",
   "nbconvert_exporter": "python",
   "pygments_lexer": "ipython3",
   "version": "3.8.8"
  }
 },
 "nbformat": 4,
 "nbformat_minor": 5
}
