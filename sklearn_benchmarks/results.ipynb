{
 "cells": [
  {
   "cell_type": "markdown",
   "id": "continuing-equation",
   "metadata": {},
   "source": [
    "# Imports"
   ]
  },
  {
   "cell_type": "code",
   "execution_count": 1,
   "id": "offensive-communist",
   "metadata": {},
   "outputs": [],
   "source": [
    "from utils import print_time_report, print_results, plot_results, print_profiling_links"
   ]
  },
  {
   "cell_type": "markdown",
   "id": "systematic-montana",
   "metadata": {},
   "source": [
    "<br></br>\n",
    "# Time report"
   ]
  },
  {
   "cell_type": "code",
   "execution_count": 2,
   "id": "lonely-democracy",
   "metadata": {},
   "outputs": [
    {
     "data": {
      "text/html": [
       "<div>\n",
       "<style scoped>\n",
       "    .dataframe tbody tr th:only-of-type {\n",
       "        vertical-align: middle;\n",
       "    }\n",
       "\n",
       "    .dataframe tbody tr th {\n",
       "        vertical-align: top;\n",
       "    }\n",
       "\n",
       "    .dataframe thead th {\n",
       "        text-align: right;\n",
       "    }\n",
       "</style>\n",
       "<table border=\"1\" class=\"dataframe\">\n",
       "  <thead>\n",
       "    <tr style=\"text-align: right;\">\n",
       "      <th></th>\n",
       "      <th>hour</th>\n",
       "      <th>min</th>\n",
       "      <th>sec</th>\n",
       "    </tr>\n",
       "    <tr>\n",
       "      <th>algo</th>\n",
       "      <th></th>\n",
       "      <th></th>\n",
       "      <th></th>\n",
       "    </tr>\n",
       "  </thead>\n",
       "  <tbody>\n",
       "    <tr>\n",
       "      <th>KNeighborsClassifier</th>\n",
       "      <td>0</td>\n",
       "      <td>0</td>\n",
       "      <td>29</td>\n",
       "    </tr>\n",
       "    <tr>\n",
       "      <th>daal4py_KNeighborsClassifier</th>\n",
       "      <td>0</td>\n",
       "      <td>0</td>\n",
       "      <td>11</td>\n",
       "    </tr>\n",
       "    <tr>\n",
       "      <th>KNeighborsClassifier_kd_tree</th>\n",
       "      <td>0</td>\n",
       "      <td>0</td>\n",
       "      <td>54</td>\n",
       "    </tr>\n",
       "    <tr>\n",
       "      <th>daal4py_KNeighborsClassifier_kd_tree</th>\n",
       "      <td>0</td>\n",
       "      <td>0</td>\n",
       "      <td>12</td>\n",
       "    </tr>\n",
       "    <tr>\n",
       "      <th>KMeans</th>\n",
       "      <td>0</td>\n",
       "      <td>2</td>\n",
       "      <td>7</td>\n",
       "    </tr>\n",
       "    <tr>\n",
       "      <th>daal4py_KMeans</th>\n",
       "      <td>0</td>\n",
       "      <td>1</td>\n",
       "      <td>27</td>\n",
       "    </tr>\n",
       "    <tr>\n",
       "      <th>total</th>\n",
       "      <td>0</td>\n",
       "      <td>5</td>\n",
       "      <td>23</td>\n",
       "    </tr>\n",
       "  </tbody>\n",
       "</table>\n",
       "</div>"
      ],
      "text/plain": [
       "                                      hour  min  sec\n",
       "algo                                                \n",
       "KNeighborsClassifier                     0    0   29\n",
       "daal4py_KNeighborsClassifier             0    0   11\n",
       "KNeighborsClassifier_kd_tree             0    0   54\n",
       "daal4py_KNeighborsClassifier_kd_tree     0    0   12\n",
       "KMeans                                   0    2    7\n",
       "daal4py_KMeans                           0    1   27\n",
       "total                                    0    5   23"
      ]
     },
     "execution_count": 2,
     "metadata": {},
     "output_type": "execute_result"
    }
   ],
   "source": [
    "print_time_report()"
   ]
  },
  {
   "cell_type": "markdown",
   "id": "invisible-suspect",
   "metadata": {},
   "source": [
    "<br></br>\n",
    "# KNeighborsClassifier - Brute Force"
   ]
  },
  {
   "cell_type": "code",
   "execution_count": 3,
   "id": "f341ef53",
   "metadata": {},
   "outputs": [
    {
     "data": {
      "application/vnd.jupyter.widget-view+json": {
       "model_id": "e3f4fc8675104417895a88edfa5aa1cc",
       "version_major": 2,
       "version_minor": 0
      },
      "text/plain": [
       "QgridWidget(grid_options={'fullWidthRows': True, 'syncColumnCellResize': True, 'forceFitColumns': True, 'defau…"
      ]
     },
     "metadata": {},
     "output_type": "display_data"
    }
   ],
   "source": [
    "print_results(algo=\"KNeighborsClassifier\", versus_lib=\"daal4py\")"
   ]
  },
  {
   "cell_type": "code",
   "execution_count": 4,
   "id": "cb8dd3b8",
   "metadata": {},
   "outputs": [
    {
     "ename": "TypeError",
     "evalue": "plot_results() got an unexpected keyword argument 'split_hist_by'",
     "output_type": "error",
     "traceback": [
      "\u001b[0;31m---------------------------------------------------------------------------\u001b[0m",
      "\u001b[0;31mTypeError\u001b[0m                                 Traceback (most recent call last)",
      "\u001b[0;32m<ipython-input-4-606eedc3b33c>\u001b[0m in \u001b[0;36m<module>\u001b[0;34m\u001b[0m\n\u001b[0;32m----> 1\u001b[0;31m \u001b[0mplot_results\u001b[0m\u001b[0;34m(\u001b[0m\u001b[0malgo\u001b[0m\u001b[0;34m=\u001b[0m\u001b[0;34m\"KNeighborsClassifier\"\u001b[0m\u001b[0;34m,\u001b[0m \u001b[0mversus_lib\u001b[0m\u001b[0;34m=\u001b[0m\u001b[0;34m\"daal4py\"\u001b[0m\u001b[0;34m,\u001b[0m \u001b[0mgroup_by_cols\u001b[0m\u001b[0;34m=\u001b[0m\u001b[0;34m[\u001b[0m\u001b[0;34m\"algorithm\"\u001b[0m\u001b[0;34m,\u001b[0m \u001b[0;34m\"n_neighbors\"\u001b[0m\u001b[0;34m,\u001b[0m \u001b[0;34m\"function\"\u001b[0m\u001b[0;34m]\u001b[0m\u001b[0;34m,\u001b[0m \u001b[0msplit_hist_by\u001b[0m\u001b[0;34m=\u001b[0m\u001b[0;34m[\u001b[0m\u001b[0;34m\"n_jobs\"\u001b[0m\u001b[0;34m]\u001b[0m\u001b[0;34m)\u001b[0m\u001b[0;34m\u001b[0m\u001b[0;34m\u001b[0m\u001b[0m\n\u001b[0m",
      "\u001b[0;31mTypeError\u001b[0m: plot_results() got an unexpected keyword argument 'split_hist_by'"
     ]
    }
   ],
   "source": [
    "plot_results(algo=\"KNeighborsClassifier\", versus_lib=\"daal4py\", group_by_cols=[\"algorithm\", \"n_neighbors\", \"function\"], split_hist_by=[\"n_jobs\"])"
   ]
  },
  {
   "cell_type": "code",
   "execution_count": null,
   "id": "101f94cb",
   "metadata": {},
   "outputs": [],
   "source": [
    "print_profiling_links(algo=\"KNeighborsClassifier\", versus_lib=\"daal4py\")"
   ]
  },
  {
   "cell_type": "markdown",
   "id": "78974e46",
   "metadata": {},
   "source": [
    "<br></br>\n",
    "# KNeighborsClassifier - KD Tree"
   ]
  },
  {
   "cell_type": "code",
   "execution_count": null,
   "id": "1087c8a3",
   "metadata": {},
   "outputs": [],
   "source": [
    "print_results(algo=\"KNeighborsClassifier_kd_tree\", versus_lib=\"daal4py\")"
   ]
  },
  {
   "cell_type": "code",
   "execution_count": null,
   "id": "9e51d937",
   "metadata": {},
   "outputs": [],
   "source": [
    "plot_results(algo=\"KNeighborsClassifier_kd_tree\", versus_lib=\"daal4py\", group_by_cols=[\"algorithm\", \"n_neighbors\", \"function\"], split_hist_by=[\"n_jobs\"])"
   ]
  },
  {
   "cell_type": "markdown",
   "id": "e567834b",
   "metadata": {},
   "source": [
    "<br></br>\n",
    "# KMeans"
   ]
  },
  {
   "cell_type": "code",
   "execution_count": null,
   "id": "2ce53328",
   "metadata": {},
   "outputs": [],
   "source": [
    "print_results(algo=\"KMeans\", versus_lib=\"daal4py\", compare_cols=[\"n_iter\", \"adjusted_rand_score\"])"
   ]
  },
  {
   "cell_type": "code",
   "execution_count": null,
   "id": "53a5b856",
   "metadata": {},
   "outputs": [],
   "source": [
    "plot_results(algo=\"KMeans\", versus_lib=\"daal4py\", group_by_cols=[\"algorithm\", \"init\", \"max_iter\", \"n_clusters\", \"n_init\", \"tol\", \"function\"], compare_cols=[\"n_iter\", \"adjusted_rand_score\"])"
   ]
  },
  {
   "cell_type": "code",
   "execution_count": null,
   "id": "a12c803a-d40b-4772-9988-f50bb40cbd76",
   "metadata": {},
   "outputs": [],
   "source": [
    "from IPython.display import HTML\n",
    "HTML(filename=\"results/profiling/daal4py_fit_34ec25ca7b67cd63579539d7f2c1a9ca_7c1b7a5104d3fe0053bf0bbabfb80255.html\")"
   ]
  }
 ],
 "metadata": {
  "kernelspec": {
   "display_name": "Python 3",
   "language": "python",
   "name": "python3"
  },
  "language_info": {
   "codemirror_mode": {
    "name": "ipython",
    "version": 3
   },
   "file_extension": ".py",
   "mimetype": "text/x-python",
   "name": "python",
   "nbconvert_exporter": "python",
   "pygments_lexer": "ipython3",
   "version": "3.8.8"
  }
 },
 "nbformat": 4,
 "nbformat_minor": 5
}
