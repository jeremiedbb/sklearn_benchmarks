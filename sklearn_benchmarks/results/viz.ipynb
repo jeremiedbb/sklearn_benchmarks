{
 "cells": [
  {
   "cell_type": "markdown",
   "id": "continuing-equation",
   "metadata": {},
   "source": [
    "# Imports"
   ]
  },
  {
   "cell_type": "code",
   "execution_count": 11,
   "id": "offensive-communist",
   "metadata": {},
   "outputs": [],
   "source": [
    "import pandas as pd\n",
    "import os,sys,inspect\n",
    "current_dir = os.path.dirname(os.path.abspath(inspect.getfile(inspect.currentframe())))\n",
    "parent_dir = os.path.dirname(current_dir)\n",
    "sys.path.insert(0, parent_dir) \n",
    "from utils import print_time_report, plot_knn, plot_kmeans"
   ]
  },
  {
   "cell_type": "markdown",
   "id": "systematic-montana",
   "metadata": {},
   "source": [
    "<br></br>\n",
    "# Time report"
   ]
  },
  {
   "cell_type": "code",
   "execution_count": 12,
   "id": "lonely-democracy",
   "metadata": {},
   "outputs": [
    {
     "data": {
      "text/html": [
       "<div>\n",
       "<style scoped>\n",
       "    .dataframe tbody tr th:only-of-type {\n",
       "        vertical-align: middle;\n",
       "    }\n",
       "\n",
       "    .dataframe tbody tr th {\n",
       "        vertical-align: top;\n",
       "    }\n",
       "\n",
       "    .dataframe thead th {\n",
       "        text-align: right;\n",
       "    }\n",
       "</style>\n",
       "<table border=\"1\" class=\"dataframe\">\n",
       "  <thead>\n",
       "    <tr style=\"text-align: right;\">\n",
       "      <th></th>\n",
       "      <th>hour</th>\n",
       "      <th>min</th>\n",
       "      <th>sec</th>\n",
       "    </tr>\n",
       "    <tr>\n",
       "      <th>algo</th>\n",
       "      <th></th>\n",
       "      <th></th>\n",
       "      <th></th>\n",
       "    </tr>\n",
       "  </thead>\n",
       "  <tbody>\n",
       "    <tr>\n",
       "      <th>KNeighborsClassifier</th>\n",
       "      <td>0.0</td>\n",
       "      <td>0.0</td>\n",
       "      <td>3.61</td>\n",
       "    </tr>\n",
       "    <tr>\n",
       "      <th>daal4py_KNeighborsClassifier</th>\n",
       "      <td>0.0</td>\n",
       "      <td>0.0</td>\n",
       "      <td>4.60</td>\n",
       "    </tr>\n",
       "    <tr>\n",
       "      <th>total</th>\n",
       "      <td>0.0</td>\n",
       "      <td>0.0</td>\n",
       "      <td>8.23</td>\n",
       "    </tr>\n",
       "  </tbody>\n",
       "</table>\n",
       "</div>"
      ],
      "text/plain": [
       "                              hour  min   sec\n",
       "algo                                         \n",
       "KNeighborsClassifier           0.0  0.0  3.61\n",
       "daal4py_KNeighborsClassifier   0.0  0.0  4.60\n",
       "total                          0.0  0.0  8.23"
      ]
     },
     "execution_count": 12,
     "metadata": {},
     "output_type": "execute_result"
    }
   ],
   "source": [
    "print_time_report()"
   ]
  },
  {
   "cell_type": "markdown",
   "id": "invisible-suspect",
   "metadata": {},
   "source": [
    "<br></br>\n",
    "## KNeighborsClassifier"
   ]
  },
  {
   "cell_type": "code",
   "execution_count": 13,
   "id": "editorial-bracket",
   "metadata": {},
   "outputs": [],
   "source": [
    "# data = pd.read_csv('sklearn_benchmarks/results/sklearn/KNeighborsClassifier.csv')\n",
    "# data.query(\"n_features == 2 & function == 'predict' & n_samples == 1000\")"
   ]
  },
  {
   "cell_type": "code",
   "execution_count": 14,
   "id": "limited-victim",
   "metadata": {},
   "outputs": [
    {
     "data": {
      "application/vnd.plotly.v1+json": {
       "config": {
        "plotlyServerURL": "https://plot.ly"
       },
       "data": [
        {
         "customdata": [
          [
           "fit",
           1000000,
           2,
           "brute",
           1,
           1,
           0.057,
           0.0856,
           0.67
          ]
         ],
         "hovertemplate": "function: <b>%{customdata[0]}</b><br>n_samples: <b>%{customdata[1]}</b><br>n_features: <b>%{customdata[2]}</b><br>algo: <b>%{customdata[3]}</b><br>n_jobs: <b>%{customdata[4]}</b><br>n_neighbors: <b>%{customdata[5]}</b><br>Time sklearn (s): <b>%{customdata[6]}</b><br>Time d4p (s): <b>%{customdata[7]}</b><br>speedup: <b>%{customdata[8]}</b><br><extra></extra>",
         "marker": {
          "color": "indianred"
         },
         "name": "n_jobs: 1",
         "showlegend": false,
         "type": "bar",
         "x": [
          "(1000000, 2)"
         ],
         "xaxis": "x",
         "y": [
          0.67
         ],
         "yaxis": "y"
        },
        {
         "customdata": [
          [
           "fit",
           1000000,
           2,
           "brute",
           -1,
           1,
           0.0584,
           0.0797,
           0.73
          ]
         ],
         "hovertemplate": "function: <b>%{customdata[0]}</b><br>n_samples: <b>%{customdata[1]}</b><br>n_features: <b>%{customdata[2]}</b><br>algo: <b>%{customdata[3]}</b><br>n_jobs: <b>%{customdata[4]}</b><br>n_neighbors: <b>%{customdata[5]}</b><br>Time sklearn (s): <b>%{customdata[6]}</b><br>Time d4p (s): <b>%{customdata[7]}</b><br>speedup: <b>%{customdata[8]}</b><br><extra></extra>",
         "marker": {
          "color": "lightsalmon"
         },
         "name": "n_jobs: -1",
         "showlegend": false,
         "type": "bar",
         "x": [
          "(1000000, 2)"
         ],
         "xaxis": "x",
         "y": [
          0.73
         ],
         "yaxis": "y"
        },
        {
         "customdata": [
          [
           "predict",
           1,
           2,
           "brute",
           1,
           1,
           0.0192,
           0.0029,
           6.73
          ]
         ],
         "hovertemplate": "function: <b>%{customdata[0]}</b><br>n_samples: <b>%{customdata[1]}</b><br>n_features: <b>%{customdata[2]}</b><br>algo: <b>%{customdata[3]}</b><br>n_jobs: <b>%{customdata[4]}</b><br>n_neighbors: <b>%{customdata[5]}</b><br>Time sklearn (s): <b>%{customdata[6]}</b><br>Time d4p (s): <b>%{customdata[7]}</b><br>speedup: <b>%{customdata[8]}</b><br><extra></extra>",
         "marker": {
          "color": "indianred"
         },
         "name": "n_jobs: 1",
         "showlegend": false,
         "type": "bar",
         "x": [
          "(1, 2)"
         ],
         "xaxis": "x2",
         "y": [
          6.73
         ],
         "yaxis": "y2"
        },
        {
         "customdata": [
          [
           "predict",
           1,
           2,
           "brute",
           -1,
           1,
           0.0297,
           0.0036,
           8.23
          ]
         ],
         "hovertemplate": "function: <b>%{customdata[0]}</b><br>n_samples: <b>%{customdata[1]}</b><br>n_features: <b>%{customdata[2]}</b><br>algo: <b>%{customdata[3]}</b><br>n_jobs: <b>%{customdata[4]}</b><br>n_neighbors: <b>%{customdata[5]}</b><br>Time sklearn (s): <b>%{customdata[6]}</b><br>Time d4p (s): <b>%{customdata[7]}</b><br>speedup: <b>%{customdata[8]}</b><br><extra></extra>",
         "marker": {
          "color": "lightsalmon"
         },
         "name": "n_jobs: -1",
         "showlegend": false,
         "type": "bar",
         "x": [
          "(1, 2)"
         ],
         "xaxis": "x2",
         "y": [
          8.23
         ],
         "yaxis": "y2"
        },
        {
         "customdata": [
          [
           "fit",
           1000000,
           2,
           "brute",
           1,
           5,
           0.0537,
           0.0853,
           0.63
          ]
         ],
         "hovertemplate": "function: <b>%{customdata[0]}</b><br>n_samples: <b>%{customdata[1]}</b><br>n_features: <b>%{customdata[2]}</b><br>algo: <b>%{customdata[3]}</b><br>n_jobs: <b>%{customdata[4]}</b><br>n_neighbors: <b>%{customdata[5]}</b><br>Time sklearn (s): <b>%{customdata[6]}</b><br>Time d4p (s): <b>%{customdata[7]}</b><br>speedup: <b>%{customdata[8]}</b><br><extra></extra>",
         "marker": {
          "color": "indianred"
         },
         "name": "n_jobs: 1",
         "showlegend": false,
         "type": "bar",
         "x": [
          "(1000000, 2)"
         ],
         "xaxis": "x3",
         "y": [
          0.63
         ],
         "yaxis": "y3"
        },
        {
         "customdata": [
          [
           "fit",
           1000000,
           2,
           "brute",
           -1,
           5,
           0.0581,
           0.0867,
           0.67
          ]
         ],
         "hovertemplate": "function: <b>%{customdata[0]}</b><br>n_samples: <b>%{customdata[1]}</b><br>n_features: <b>%{customdata[2]}</b><br>algo: <b>%{customdata[3]}</b><br>n_jobs: <b>%{customdata[4]}</b><br>n_neighbors: <b>%{customdata[5]}</b><br>Time sklearn (s): <b>%{customdata[6]}</b><br>Time d4p (s): <b>%{customdata[7]}</b><br>speedup: <b>%{customdata[8]}</b><br><extra></extra>",
         "marker": {
          "color": "lightsalmon"
         },
         "name": "n_jobs: -1",
         "showlegend": false,
         "type": "bar",
         "x": [
          "(1000000, 2)"
         ],
         "xaxis": "x3",
         "y": [
          0.67
         ],
         "yaxis": "y3"
        },
        {
         "customdata": [
          [
           "predict",
           1,
           2,
           "brute",
           1,
           5,
           0.0299,
           0.0036,
           8.35
          ]
         ],
         "hovertemplate": "function: <b>%{customdata[0]}</b><br>n_samples: <b>%{customdata[1]}</b><br>n_features: <b>%{customdata[2]}</b><br>algo: <b>%{customdata[3]}</b><br>n_jobs: <b>%{customdata[4]}</b><br>n_neighbors: <b>%{customdata[5]}</b><br>Time sklearn (s): <b>%{customdata[6]}</b><br>Time d4p (s): <b>%{customdata[7]}</b><br>speedup: <b>%{customdata[8]}</b><br><extra></extra>",
         "marker": {
          "color": "indianred"
         },
         "name": "n_jobs: 1",
         "showlegend": false,
         "type": "bar",
         "x": [
          "(1, 2)"
         ],
         "xaxis": "x4",
         "y": [
          8.35
         ],
         "yaxis": "y4"
        },
        {
         "customdata": [
          [
           "predict",
           1,
           2,
           "brute",
           -1,
           5,
           0.035,
           0.0035,
           9.91
          ]
         ],
         "hovertemplate": "function: <b>%{customdata[0]}</b><br>n_samples: <b>%{customdata[1]}</b><br>n_features: <b>%{customdata[2]}</b><br>algo: <b>%{customdata[3]}</b><br>n_jobs: <b>%{customdata[4]}</b><br>n_neighbors: <b>%{customdata[5]}</b><br>Time sklearn (s): <b>%{customdata[6]}</b><br>Time d4p (s): <b>%{customdata[7]}</b><br>speedup: <b>%{customdata[8]}</b><br><extra></extra>",
         "marker": {
          "color": "lightsalmon"
         },
         "name": "n_jobs: -1",
         "showlegend": false,
         "type": "bar",
         "x": [
          "(1, 2)"
         ],
         "xaxis": "x4",
         "y": [
          9.91
         ],
         "yaxis": "y4"
        }
       ],
       "layout": {
        "annotations": [
         {
          "font": {
           "size": 16
          },
          "showarrow": false,
          "text": "algo: brute, k: 1, func: fit",
          "x": 0.225,
          "xanchor": "center",
          "xref": "paper",
          "y": 1,
          "yanchor": "bottom",
          "yref": "paper"
         },
         {
          "font": {
           "size": 16
          },
          "showarrow": false,
          "text": "algo: brute, k: 1, func: predict",
          "x": 0.775,
          "xanchor": "center",
          "xref": "paper",
          "y": 1,
          "yanchor": "bottom",
          "yref": "paper"
         },
         {
          "font": {
           "size": 16
          },
          "showarrow": false,
          "text": "algo: brute, k: 5, func: fit",
          "x": 0.225,
          "xanchor": "center",
          "xref": "paper",
          "y": 0.78,
          "yanchor": "bottom",
          "yref": "paper"
         },
         {
          "font": {
           "size": 16
          },
          "showarrow": false,
          "text": "algo: brute, k: 5, func: predict",
          "x": 0.775,
          "xanchor": "center",
          "xref": "paper",
          "y": 0.78,
          "yanchor": "bottom",
          "yref": "paper"
         },
         {
          "font": {
           "size": 16
          },
          "showarrow": false,
          "text": "Speedup",
          "textangle": -90,
          "x": 0,
          "xanchor": "right",
          "xref": "paper",
          "xshift": -40,
          "y": 0.5,
          "yanchor": "middle",
          "yref": "paper"
         }
        ],
        "barmode": "group",
        "height": 1500,
        "showlegend": false,
        "template": {
         "data": {
          "bar": [
           {
            "error_x": {
             "color": "#2a3f5f"
            },
            "error_y": {
             "color": "#2a3f5f"
            },
            "marker": {
             "line": {
              "color": "#E5ECF6",
              "width": 0.5
             }
            },
            "type": "bar"
           }
          ],
          "barpolar": [
           {
            "marker": {
             "line": {
              "color": "#E5ECF6",
              "width": 0.5
             }
            },
            "type": "barpolar"
           }
          ],
          "carpet": [
           {
            "aaxis": {
             "endlinecolor": "#2a3f5f",
             "gridcolor": "white",
             "linecolor": "white",
             "minorgridcolor": "white",
             "startlinecolor": "#2a3f5f"
            },
            "baxis": {
             "endlinecolor": "#2a3f5f",
             "gridcolor": "white",
             "linecolor": "white",
             "minorgridcolor": "white",
             "startlinecolor": "#2a3f5f"
            },
            "type": "carpet"
           }
          ],
          "choropleth": [
           {
            "colorbar": {
             "outlinewidth": 0,
             "ticks": ""
            },
            "type": "choropleth"
           }
          ],
          "contour": [
           {
            "colorbar": {
             "outlinewidth": 0,
             "ticks": ""
            },
            "colorscale": [
             [
              0,
              "#0d0887"
             ],
             [
              0.1111111111111111,
              "#46039f"
             ],
             [
              0.2222222222222222,
              "#7201a8"
             ],
             [
              0.3333333333333333,
              "#9c179e"
             ],
             [
              0.4444444444444444,
              "#bd3786"
             ],
             [
              0.5555555555555556,
              "#d8576b"
             ],
             [
              0.6666666666666666,
              "#ed7953"
             ],
             [
              0.7777777777777778,
              "#fb9f3a"
             ],
             [
              0.8888888888888888,
              "#fdca26"
             ],
             [
              1,
              "#f0f921"
             ]
            ],
            "type": "contour"
           }
          ],
          "contourcarpet": [
           {
            "colorbar": {
             "outlinewidth": 0,
             "ticks": ""
            },
            "type": "contourcarpet"
           }
          ],
          "heatmap": [
           {
            "colorbar": {
             "outlinewidth": 0,
             "ticks": ""
            },
            "colorscale": [
             [
              0,
              "#0d0887"
             ],
             [
              0.1111111111111111,
              "#46039f"
             ],
             [
              0.2222222222222222,
              "#7201a8"
             ],
             [
              0.3333333333333333,
              "#9c179e"
             ],
             [
              0.4444444444444444,
              "#bd3786"
             ],
             [
              0.5555555555555556,
              "#d8576b"
             ],
             [
              0.6666666666666666,
              "#ed7953"
             ],
             [
              0.7777777777777778,
              "#fb9f3a"
             ],
             [
              0.8888888888888888,
              "#fdca26"
             ],
             [
              1,
              "#f0f921"
             ]
            ],
            "type": "heatmap"
           }
          ],
          "heatmapgl": [
           {
            "colorbar": {
             "outlinewidth": 0,
             "ticks": ""
            },
            "colorscale": [
             [
              0,
              "#0d0887"
             ],
             [
              0.1111111111111111,
              "#46039f"
             ],
             [
              0.2222222222222222,
              "#7201a8"
             ],
             [
              0.3333333333333333,
              "#9c179e"
             ],
             [
              0.4444444444444444,
              "#bd3786"
             ],
             [
              0.5555555555555556,
              "#d8576b"
             ],
             [
              0.6666666666666666,
              "#ed7953"
             ],
             [
              0.7777777777777778,
              "#fb9f3a"
             ],
             [
              0.8888888888888888,
              "#fdca26"
             ],
             [
              1,
              "#f0f921"
             ]
            ],
            "type": "heatmapgl"
           }
          ],
          "histogram": [
           {
            "marker": {
             "colorbar": {
              "outlinewidth": 0,
              "ticks": ""
             }
            },
            "type": "histogram"
           }
          ],
          "histogram2d": [
           {
            "colorbar": {
             "outlinewidth": 0,
             "ticks": ""
            },
            "colorscale": [
             [
              0,
              "#0d0887"
             ],
             [
              0.1111111111111111,
              "#46039f"
             ],
             [
              0.2222222222222222,
              "#7201a8"
             ],
             [
              0.3333333333333333,
              "#9c179e"
             ],
             [
              0.4444444444444444,
              "#bd3786"
             ],
             [
              0.5555555555555556,
              "#d8576b"
             ],
             [
              0.6666666666666666,
              "#ed7953"
             ],
             [
              0.7777777777777778,
              "#fb9f3a"
             ],
             [
              0.8888888888888888,
              "#fdca26"
             ],
             [
              1,
              "#f0f921"
             ]
            ],
            "type": "histogram2d"
           }
          ],
          "histogram2dcontour": [
           {
            "colorbar": {
             "outlinewidth": 0,
             "ticks": ""
            },
            "colorscale": [
             [
              0,
              "#0d0887"
             ],
             [
              0.1111111111111111,
              "#46039f"
             ],
             [
              0.2222222222222222,
              "#7201a8"
             ],
             [
              0.3333333333333333,
              "#9c179e"
             ],
             [
              0.4444444444444444,
              "#bd3786"
             ],
             [
              0.5555555555555556,
              "#d8576b"
             ],
             [
              0.6666666666666666,
              "#ed7953"
             ],
             [
              0.7777777777777778,
              "#fb9f3a"
             ],
             [
              0.8888888888888888,
              "#fdca26"
             ],
             [
              1,
              "#f0f921"
             ]
            ],
            "type": "histogram2dcontour"
           }
          ],
          "mesh3d": [
           {
            "colorbar": {
             "outlinewidth": 0,
             "ticks": ""
            },
            "type": "mesh3d"
           }
          ],
          "parcoords": [
           {
            "line": {
             "colorbar": {
              "outlinewidth": 0,
              "ticks": ""
             }
            },
            "type": "parcoords"
           }
          ],
          "pie": [
           {
            "automargin": true,
            "type": "pie"
           }
          ],
          "scatter": [
           {
            "marker": {
             "colorbar": {
              "outlinewidth": 0,
              "ticks": ""
             }
            },
            "type": "scatter"
           }
          ],
          "scatter3d": [
           {
            "line": {
             "colorbar": {
              "outlinewidth": 0,
              "ticks": ""
             }
            },
            "marker": {
             "colorbar": {
              "outlinewidth": 0,
              "ticks": ""
             }
            },
            "type": "scatter3d"
           }
          ],
          "scattercarpet": [
           {
            "marker": {
             "colorbar": {
              "outlinewidth": 0,
              "ticks": ""
             }
            },
            "type": "scattercarpet"
           }
          ],
          "scattergeo": [
           {
            "marker": {
             "colorbar": {
              "outlinewidth": 0,
              "ticks": ""
             }
            },
            "type": "scattergeo"
           }
          ],
          "scattergl": [
           {
            "marker": {
             "colorbar": {
              "outlinewidth": 0,
              "ticks": ""
             }
            },
            "type": "scattergl"
           }
          ],
          "scattermapbox": [
           {
            "marker": {
             "colorbar": {
              "outlinewidth": 0,
              "ticks": ""
             }
            },
            "type": "scattermapbox"
           }
          ],
          "scatterpolar": [
           {
            "marker": {
             "colorbar": {
              "outlinewidth": 0,
              "ticks": ""
             }
            },
            "type": "scatterpolar"
           }
          ],
          "scatterpolargl": [
           {
            "marker": {
             "colorbar": {
              "outlinewidth": 0,
              "ticks": ""
             }
            },
            "type": "scatterpolargl"
           }
          ],
          "scatterternary": [
           {
            "marker": {
             "colorbar": {
              "outlinewidth": 0,
              "ticks": ""
             }
            },
            "type": "scatterternary"
           }
          ],
          "surface": [
           {
            "colorbar": {
             "outlinewidth": 0,
             "ticks": ""
            },
            "colorscale": [
             [
              0,
              "#0d0887"
             ],
             [
              0.1111111111111111,
              "#46039f"
             ],
             [
              0.2222222222222222,
              "#7201a8"
             ],
             [
              0.3333333333333333,
              "#9c179e"
             ],
             [
              0.4444444444444444,
              "#bd3786"
             ],
             [
              0.5555555555555556,
              "#d8576b"
             ],
             [
              0.6666666666666666,
              "#ed7953"
             ],
             [
              0.7777777777777778,
              "#fb9f3a"
             ],
             [
              0.8888888888888888,
              "#fdca26"
             ],
             [
              1,
              "#f0f921"
             ]
            ],
            "type": "surface"
           }
          ],
          "table": [
           {
            "cells": {
             "fill": {
              "color": "#EBF0F8"
             },
             "line": {
              "color": "white"
             }
            },
            "header": {
             "fill": {
              "color": "#C8D4E3"
             },
             "line": {
              "color": "white"
             }
            },
            "type": "table"
           }
          ]
         },
         "layout": {
          "annotationdefaults": {
           "arrowcolor": "#2a3f5f",
           "arrowhead": 0,
           "arrowwidth": 1
          },
          "autotypenumbers": "strict",
          "coloraxis": {
           "colorbar": {
            "outlinewidth": 0,
            "ticks": ""
           }
          },
          "colorscale": {
           "diverging": [
            [
             0,
             "#8e0152"
            ],
            [
             0.1,
             "#c51b7d"
            ],
            [
             0.2,
             "#de77ae"
            ],
            [
             0.3,
             "#f1b6da"
            ],
            [
             0.4,
             "#fde0ef"
            ],
            [
             0.5,
             "#f7f7f7"
            ],
            [
             0.6,
             "#e6f5d0"
            ],
            [
             0.7,
             "#b8e186"
            ],
            [
             0.8,
             "#7fbc41"
            ],
            [
             0.9,
             "#4d9221"
            ],
            [
             1,
             "#276419"
            ]
           ],
           "sequential": [
            [
             0,
             "#0d0887"
            ],
            [
             0.1111111111111111,
             "#46039f"
            ],
            [
             0.2222222222222222,
             "#7201a8"
            ],
            [
             0.3333333333333333,
             "#9c179e"
            ],
            [
             0.4444444444444444,
             "#bd3786"
            ],
            [
             0.5555555555555556,
             "#d8576b"
            ],
            [
             0.6666666666666666,
             "#ed7953"
            ],
            [
             0.7777777777777778,
             "#fb9f3a"
            ],
            [
             0.8888888888888888,
             "#fdca26"
            ],
            [
             1,
             "#f0f921"
            ]
           ],
           "sequentialminus": [
            [
             0,
             "#0d0887"
            ],
            [
             0.1111111111111111,
             "#46039f"
            ],
            [
             0.2222222222222222,
             "#7201a8"
            ],
            [
             0.3333333333333333,
             "#9c179e"
            ],
            [
             0.4444444444444444,
             "#bd3786"
            ],
            [
             0.5555555555555556,
             "#d8576b"
            ],
            [
             0.6666666666666666,
             "#ed7953"
            ],
            [
             0.7777777777777778,
             "#fb9f3a"
            ],
            [
             0.8888888888888888,
             "#fdca26"
            ],
            [
             1,
             "#f0f921"
            ]
           ]
          },
          "colorway": [
           "#636efa",
           "#EF553B",
           "#00cc96",
           "#ab63fa",
           "#FFA15A",
           "#19d3f3",
           "#FF6692",
           "#B6E880",
           "#FF97FF",
           "#FECB52"
          ],
          "font": {
           "color": "#2a3f5f"
          },
          "geo": {
           "bgcolor": "white",
           "lakecolor": "white",
           "landcolor": "#E5ECF6",
           "showlakes": true,
           "showland": true,
           "subunitcolor": "white"
          },
          "hoverlabel": {
           "align": "left"
          },
          "hovermode": "closest",
          "mapbox": {
           "style": "light"
          },
          "paper_bgcolor": "white",
          "plot_bgcolor": "#E5ECF6",
          "polar": {
           "angularaxis": {
            "gridcolor": "white",
            "linecolor": "white",
            "ticks": ""
           },
           "bgcolor": "#E5ECF6",
           "radialaxis": {
            "gridcolor": "white",
            "linecolor": "white",
            "ticks": ""
           }
          },
          "scene": {
           "xaxis": {
            "backgroundcolor": "#E5ECF6",
            "gridcolor": "white",
            "gridwidth": 2,
            "linecolor": "white",
            "showbackground": true,
            "ticks": "",
            "zerolinecolor": "white"
           },
           "yaxis": {
            "backgroundcolor": "#E5ECF6",
            "gridcolor": "white",
            "gridwidth": 2,
            "linecolor": "white",
            "showbackground": true,
            "ticks": "",
            "zerolinecolor": "white"
           },
           "zaxis": {
            "backgroundcolor": "#E5ECF6",
            "gridcolor": "white",
            "gridwidth": 2,
            "linecolor": "white",
            "showbackground": true,
            "ticks": "",
            "zerolinecolor": "white"
           }
          },
          "shapedefaults": {
           "line": {
            "color": "#2a3f5f"
           }
          },
          "ternary": {
           "aaxis": {
            "gridcolor": "white",
            "linecolor": "white",
            "ticks": ""
           },
           "baxis": {
            "gridcolor": "white",
            "linecolor": "white",
            "ticks": ""
           },
           "bgcolor": "#E5ECF6",
           "caxis": {
            "gridcolor": "white",
            "linecolor": "white",
            "ticks": ""
           }
          },
          "title": {
           "x": 0.05
          },
          "xaxis": {
           "automargin": true,
           "gridcolor": "white",
           "linecolor": "white",
           "ticks": "",
           "title": {
            "standoff": 15
           },
           "zerolinecolor": "white",
           "zerolinewidth": 2
          },
          "yaxis": {
           "automargin": true,
           "gridcolor": "white",
           "linecolor": "white",
           "ticks": "",
           "title": {
            "standoff": 15
           },
           "zerolinecolor": "white",
           "zerolinewidth": 2
          }
         }
        },
        "xaxis": {
         "anchor": "y",
         "domain": [
          0,
          0.45
         ]
        },
        "xaxis10": {
         "anchor": "y10",
         "domain": [
          0.55,
          1
         ]
        },
        "xaxis2": {
         "anchor": "y2",
         "domain": [
          0.55,
          1
         ]
        },
        "xaxis3": {
         "anchor": "y3",
         "domain": [
          0,
          0.45
         ]
        },
        "xaxis4": {
         "anchor": "y4",
         "domain": [
          0.55,
          1
         ]
        },
        "xaxis5": {
         "anchor": "y5",
         "domain": [
          0,
          0.45
         ]
        },
        "xaxis6": {
         "anchor": "y6",
         "domain": [
          0.55,
          1
         ]
        },
        "xaxis7": {
         "anchor": "y7",
         "domain": [
          0,
          0.45
         ]
        },
        "xaxis8": {
         "anchor": "y8",
         "domain": [
          0.55,
          1
         ]
        },
        "xaxis9": {
         "anchor": "y9",
         "domain": [
          0,
          0.45
         ]
        },
        "yaxis": {
         "anchor": "x",
         "domain": [
          0.88,
          1
         ]
        },
        "yaxis10": {
         "anchor": "x10",
         "domain": [
          0,
          0.12
         ]
        },
        "yaxis2": {
         "anchor": "x2",
         "domain": [
          0.88,
          1
         ]
        },
        "yaxis3": {
         "anchor": "x3",
         "domain": [
          0.66,
          0.78
         ]
        },
        "yaxis4": {
         "anchor": "x4",
         "domain": [
          0.66,
          0.78
         ]
        },
        "yaxis5": {
         "anchor": "x5",
         "domain": [
          0.44,
          0.56
         ]
        },
        "yaxis6": {
         "anchor": "x6",
         "domain": [
          0.44,
          0.56
         ]
        },
        "yaxis7": {
         "anchor": "x7",
         "domain": [
          0.22,
          0.33999999999999997
         ]
        },
        "yaxis8": {
         "anchor": "x8",
         "domain": [
          0.22,
          0.33999999999999997
         ]
        },
        "yaxis9": {
         "anchor": "x9",
         "domain": [
          0,
          0.12
         ]
        }
       }
      },
      "text/html": [
       "<div>                            <div id=\"0f7758e9-9411-4612-9c2d-1dcaacc9790c\" class=\"plotly-graph-div\" style=\"height:1500px; width:100%;\"></div>            <script type=\"text/javascript\">                require([\"plotly\"], function(Plotly) {                    window.PLOTLYENV=window.PLOTLYENV || {};                                    if (document.getElementById(\"0f7758e9-9411-4612-9c2d-1dcaacc9790c\")) {                    Plotly.newPlot(                        \"0f7758e9-9411-4612-9c2d-1dcaacc9790c\",                        [{\"customdata\": [[\"fit\", 1000000, 2, \"brute\", 1, 1, 0.057, 0.0856, 0.67]], \"hovertemplate\": \"function: <b>%{customdata[0]}</b><br>n_samples: <b>%{customdata[1]}</b><br>n_features: <b>%{customdata[2]}</b><br>algo: <b>%{customdata[3]}</b><br>n_jobs: <b>%{customdata[4]}</b><br>n_neighbors: <b>%{customdata[5]}</b><br>Time sklearn (s): <b>%{customdata[6]}</b><br>Time d4p (s): <b>%{customdata[7]}</b><br>speedup: <b>%{customdata[8]}</b><br><extra></extra>\", \"marker\": {\"color\": \"indianred\"}, \"name\": \"n_jobs: 1\", \"showlegend\": false, \"type\": \"bar\", \"x\": [\"(1000000, 2)\"], \"xaxis\": \"x\", \"y\": [0.67], \"yaxis\": \"y\"}, {\"customdata\": [[\"fit\", 1000000, 2, \"brute\", -1, 1, 0.0584, 0.0797, 0.73]], \"hovertemplate\": \"function: <b>%{customdata[0]}</b><br>n_samples: <b>%{customdata[1]}</b><br>n_features: <b>%{customdata[2]}</b><br>algo: <b>%{customdata[3]}</b><br>n_jobs: <b>%{customdata[4]}</b><br>n_neighbors: <b>%{customdata[5]}</b><br>Time sklearn (s): <b>%{customdata[6]}</b><br>Time d4p (s): <b>%{customdata[7]}</b><br>speedup: <b>%{customdata[8]}</b><br><extra></extra>\", \"marker\": {\"color\": \"lightsalmon\"}, \"name\": \"n_jobs: -1\", \"showlegend\": false, \"type\": \"bar\", \"x\": [\"(1000000, 2)\"], \"xaxis\": \"x\", \"y\": [0.73], \"yaxis\": \"y\"}, {\"customdata\": [[\"predict\", 1, 2, \"brute\", 1, 1, 0.0192, 0.0029, 6.73]], \"hovertemplate\": \"function: <b>%{customdata[0]}</b><br>n_samples: <b>%{customdata[1]}</b><br>n_features: <b>%{customdata[2]}</b><br>algo: <b>%{customdata[3]}</b><br>n_jobs: <b>%{customdata[4]}</b><br>n_neighbors: <b>%{customdata[5]}</b><br>Time sklearn (s): <b>%{customdata[6]}</b><br>Time d4p (s): <b>%{customdata[7]}</b><br>speedup: <b>%{customdata[8]}</b><br><extra></extra>\", \"marker\": {\"color\": \"indianred\"}, \"name\": \"n_jobs: 1\", \"showlegend\": false, \"type\": \"bar\", \"x\": [\"(1, 2)\"], \"xaxis\": \"x2\", \"y\": [6.73], \"yaxis\": \"y2\"}, {\"customdata\": [[\"predict\", 1, 2, \"brute\", -1, 1, 0.0297, 0.0036, 8.23]], \"hovertemplate\": \"function: <b>%{customdata[0]}</b><br>n_samples: <b>%{customdata[1]}</b><br>n_features: <b>%{customdata[2]}</b><br>algo: <b>%{customdata[3]}</b><br>n_jobs: <b>%{customdata[4]}</b><br>n_neighbors: <b>%{customdata[5]}</b><br>Time sklearn (s): <b>%{customdata[6]}</b><br>Time d4p (s): <b>%{customdata[7]}</b><br>speedup: <b>%{customdata[8]}</b><br><extra></extra>\", \"marker\": {\"color\": \"lightsalmon\"}, \"name\": \"n_jobs: -1\", \"showlegend\": false, \"type\": \"bar\", \"x\": [\"(1, 2)\"], \"xaxis\": \"x2\", \"y\": [8.23], \"yaxis\": \"y2\"}, {\"customdata\": [[\"fit\", 1000000, 2, \"brute\", 1, 5, 0.0537, 0.0853, 0.63]], \"hovertemplate\": \"function: <b>%{customdata[0]}</b><br>n_samples: <b>%{customdata[1]}</b><br>n_features: <b>%{customdata[2]}</b><br>algo: <b>%{customdata[3]}</b><br>n_jobs: <b>%{customdata[4]}</b><br>n_neighbors: <b>%{customdata[5]}</b><br>Time sklearn (s): <b>%{customdata[6]}</b><br>Time d4p (s): <b>%{customdata[7]}</b><br>speedup: <b>%{customdata[8]}</b><br><extra></extra>\", \"marker\": {\"color\": \"indianred\"}, \"name\": \"n_jobs: 1\", \"showlegend\": false, \"type\": \"bar\", \"x\": [\"(1000000, 2)\"], \"xaxis\": \"x3\", \"y\": [0.63], \"yaxis\": \"y3\"}, {\"customdata\": [[\"fit\", 1000000, 2, \"brute\", -1, 5, 0.0581, 0.0867, 0.67]], \"hovertemplate\": \"function: <b>%{customdata[0]}</b><br>n_samples: <b>%{customdata[1]}</b><br>n_features: <b>%{customdata[2]}</b><br>algo: <b>%{customdata[3]}</b><br>n_jobs: <b>%{customdata[4]}</b><br>n_neighbors: <b>%{customdata[5]}</b><br>Time sklearn (s): <b>%{customdata[6]}</b><br>Time d4p (s): <b>%{customdata[7]}</b><br>speedup: <b>%{customdata[8]}</b><br><extra></extra>\", \"marker\": {\"color\": \"lightsalmon\"}, \"name\": \"n_jobs: -1\", \"showlegend\": false, \"type\": \"bar\", \"x\": [\"(1000000, 2)\"], \"xaxis\": \"x3\", \"y\": [0.67], \"yaxis\": \"y3\"}, {\"customdata\": [[\"predict\", 1, 2, \"brute\", 1, 5, 0.0299, 0.0036, 8.35]], \"hovertemplate\": \"function: <b>%{customdata[0]}</b><br>n_samples: <b>%{customdata[1]}</b><br>n_features: <b>%{customdata[2]}</b><br>algo: <b>%{customdata[3]}</b><br>n_jobs: <b>%{customdata[4]}</b><br>n_neighbors: <b>%{customdata[5]}</b><br>Time sklearn (s): <b>%{customdata[6]}</b><br>Time d4p (s): <b>%{customdata[7]}</b><br>speedup: <b>%{customdata[8]}</b><br><extra></extra>\", \"marker\": {\"color\": \"indianred\"}, \"name\": \"n_jobs: 1\", \"showlegend\": false, \"type\": \"bar\", \"x\": [\"(1, 2)\"], \"xaxis\": \"x4\", \"y\": [8.35], \"yaxis\": \"y4\"}, {\"customdata\": [[\"predict\", 1, 2, \"brute\", -1, 5, 0.035, 0.0035, 9.91]], \"hovertemplate\": \"function: <b>%{customdata[0]}</b><br>n_samples: <b>%{customdata[1]}</b><br>n_features: <b>%{customdata[2]}</b><br>algo: <b>%{customdata[3]}</b><br>n_jobs: <b>%{customdata[4]}</b><br>n_neighbors: <b>%{customdata[5]}</b><br>Time sklearn (s): <b>%{customdata[6]}</b><br>Time d4p (s): <b>%{customdata[7]}</b><br>speedup: <b>%{customdata[8]}</b><br><extra></extra>\", \"marker\": {\"color\": \"lightsalmon\"}, \"name\": \"n_jobs: -1\", \"showlegend\": false, \"type\": \"bar\", \"x\": [\"(1, 2)\"], \"xaxis\": \"x4\", \"y\": [9.91], \"yaxis\": \"y4\"}],                        {\"annotations\": [{\"font\": {\"size\": 16}, \"showarrow\": false, \"text\": \"algo: brute, k: 1, func: fit\", \"x\": 0.225, \"xanchor\": \"center\", \"xref\": \"paper\", \"y\": 1.0, \"yanchor\": \"bottom\", \"yref\": \"paper\"}, {\"font\": {\"size\": 16}, \"showarrow\": false, \"text\": \"algo: brute, k: 1, func: predict\", \"x\": 0.775, \"xanchor\": \"center\", \"xref\": \"paper\", \"y\": 1.0, \"yanchor\": \"bottom\", \"yref\": \"paper\"}, {\"font\": {\"size\": 16}, \"showarrow\": false, \"text\": \"algo: brute, k: 5, func: fit\", \"x\": 0.225, \"xanchor\": \"center\", \"xref\": \"paper\", \"y\": 0.78, \"yanchor\": \"bottom\", \"yref\": \"paper\"}, {\"font\": {\"size\": 16}, \"showarrow\": false, \"text\": \"algo: brute, k: 5, func: predict\", \"x\": 0.775, \"xanchor\": \"center\", \"xref\": \"paper\", \"y\": 0.78, \"yanchor\": \"bottom\", \"yref\": \"paper\"}, {\"font\": {\"size\": 16}, \"showarrow\": false, \"text\": \"Speedup\", \"textangle\": -90, \"x\": 0, \"xanchor\": \"right\", \"xref\": \"paper\", \"xshift\": -40, \"y\": 0.5, \"yanchor\": \"middle\", \"yref\": \"paper\"}], \"barmode\": \"group\", \"height\": 1500, \"showlegend\": false, \"template\": {\"data\": {\"bar\": [{\"error_x\": {\"color\": \"#2a3f5f\"}, \"error_y\": {\"color\": \"#2a3f5f\"}, \"marker\": {\"line\": {\"color\": \"#E5ECF6\", \"width\": 0.5}}, \"type\": \"bar\"}], \"barpolar\": [{\"marker\": {\"line\": {\"color\": \"#E5ECF6\", \"width\": 0.5}}, \"type\": \"barpolar\"}], \"carpet\": [{\"aaxis\": {\"endlinecolor\": \"#2a3f5f\", \"gridcolor\": \"white\", \"linecolor\": \"white\", \"minorgridcolor\": \"white\", \"startlinecolor\": \"#2a3f5f\"}, \"baxis\": {\"endlinecolor\": \"#2a3f5f\", \"gridcolor\": \"white\", \"linecolor\": \"white\", \"minorgridcolor\": \"white\", \"startlinecolor\": \"#2a3f5f\"}, \"type\": \"carpet\"}], \"choropleth\": [{\"colorbar\": {\"outlinewidth\": 0, \"ticks\": \"\"}, \"type\": \"choropleth\"}], \"contour\": [{\"colorbar\": {\"outlinewidth\": 0, \"ticks\": \"\"}, \"colorscale\": [[0.0, \"#0d0887\"], [0.1111111111111111, \"#46039f\"], [0.2222222222222222, \"#7201a8\"], [0.3333333333333333, \"#9c179e\"], [0.4444444444444444, \"#bd3786\"], [0.5555555555555556, \"#d8576b\"], [0.6666666666666666, \"#ed7953\"], [0.7777777777777778, \"#fb9f3a\"], [0.8888888888888888, \"#fdca26\"], [1.0, \"#f0f921\"]], \"type\": \"contour\"}], \"contourcarpet\": [{\"colorbar\": {\"outlinewidth\": 0, \"ticks\": \"\"}, \"type\": \"contourcarpet\"}], \"heatmap\": [{\"colorbar\": {\"outlinewidth\": 0, \"ticks\": \"\"}, \"colorscale\": [[0.0, \"#0d0887\"], [0.1111111111111111, \"#46039f\"], [0.2222222222222222, \"#7201a8\"], [0.3333333333333333, \"#9c179e\"], [0.4444444444444444, \"#bd3786\"], [0.5555555555555556, \"#d8576b\"], [0.6666666666666666, \"#ed7953\"], [0.7777777777777778, \"#fb9f3a\"], [0.8888888888888888, \"#fdca26\"], [1.0, \"#f0f921\"]], \"type\": \"heatmap\"}], \"heatmapgl\": [{\"colorbar\": {\"outlinewidth\": 0, \"ticks\": \"\"}, \"colorscale\": [[0.0, \"#0d0887\"], [0.1111111111111111, \"#46039f\"], [0.2222222222222222, \"#7201a8\"], [0.3333333333333333, \"#9c179e\"], [0.4444444444444444, \"#bd3786\"], [0.5555555555555556, \"#d8576b\"], [0.6666666666666666, \"#ed7953\"], [0.7777777777777778, \"#fb9f3a\"], [0.8888888888888888, \"#fdca26\"], [1.0, \"#f0f921\"]], \"type\": \"heatmapgl\"}], \"histogram\": [{\"marker\": {\"colorbar\": {\"outlinewidth\": 0, \"ticks\": \"\"}}, \"type\": \"histogram\"}], \"histogram2d\": [{\"colorbar\": {\"outlinewidth\": 0, \"ticks\": \"\"}, \"colorscale\": [[0.0, \"#0d0887\"], [0.1111111111111111, \"#46039f\"], [0.2222222222222222, \"#7201a8\"], [0.3333333333333333, \"#9c179e\"], [0.4444444444444444, \"#bd3786\"], [0.5555555555555556, \"#d8576b\"], [0.6666666666666666, \"#ed7953\"], [0.7777777777777778, \"#fb9f3a\"], [0.8888888888888888, \"#fdca26\"], [1.0, \"#f0f921\"]], \"type\": \"histogram2d\"}], \"histogram2dcontour\": [{\"colorbar\": {\"outlinewidth\": 0, \"ticks\": \"\"}, \"colorscale\": [[0.0, \"#0d0887\"], [0.1111111111111111, \"#46039f\"], [0.2222222222222222, \"#7201a8\"], [0.3333333333333333, \"#9c179e\"], [0.4444444444444444, \"#bd3786\"], [0.5555555555555556, \"#d8576b\"], [0.6666666666666666, \"#ed7953\"], [0.7777777777777778, \"#fb9f3a\"], [0.8888888888888888, \"#fdca26\"], [1.0, \"#f0f921\"]], \"type\": \"histogram2dcontour\"}], \"mesh3d\": [{\"colorbar\": {\"outlinewidth\": 0, \"ticks\": \"\"}, \"type\": \"mesh3d\"}], \"parcoords\": [{\"line\": {\"colorbar\": {\"outlinewidth\": 0, \"ticks\": \"\"}}, \"type\": \"parcoords\"}], \"pie\": [{\"automargin\": true, \"type\": \"pie\"}], \"scatter\": [{\"marker\": {\"colorbar\": {\"outlinewidth\": 0, \"ticks\": \"\"}}, \"type\": \"scatter\"}], \"scatter3d\": [{\"line\": {\"colorbar\": {\"outlinewidth\": 0, \"ticks\": \"\"}}, \"marker\": {\"colorbar\": {\"outlinewidth\": 0, \"ticks\": \"\"}}, \"type\": \"scatter3d\"}], \"scattercarpet\": [{\"marker\": {\"colorbar\": {\"outlinewidth\": 0, \"ticks\": \"\"}}, \"type\": \"scattercarpet\"}], \"scattergeo\": [{\"marker\": {\"colorbar\": {\"outlinewidth\": 0, \"ticks\": \"\"}}, \"type\": \"scattergeo\"}], \"scattergl\": [{\"marker\": {\"colorbar\": {\"outlinewidth\": 0, \"ticks\": \"\"}}, \"type\": \"scattergl\"}], \"scattermapbox\": [{\"marker\": {\"colorbar\": {\"outlinewidth\": 0, \"ticks\": \"\"}}, \"type\": \"scattermapbox\"}], \"scatterpolar\": [{\"marker\": {\"colorbar\": {\"outlinewidth\": 0, \"ticks\": \"\"}}, \"type\": \"scatterpolar\"}], \"scatterpolargl\": [{\"marker\": {\"colorbar\": {\"outlinewidth\": 0, \"ticks\": \"\"}}, \"type\": \"scatterpolargl\"}], \"scatterternary\": [{\"marker\": {\"colorbar\": {\"outlinewidth\": 0, \"ticks\": \"\"}}, \"type\": \"scatterternary\"}], \"surface\": [{\"colorbar\": {\"outlinewidth\": 0, \"ticks\": \"\"}, \"colorscale\": [[0.0, \"#0d0887\"], [0.1111111111111111, \"#46039f\"], [0.2222222222222222, \"#7201a8\"], [0.3333333333333333, \"#9c179e\"], [0.4444444444444444, \"#bd3786\"], [0.5555555555555556, \"#d8576b\"], [0.6666666666666666, \"#ed7953\"], [0.7777777777777778, \"#fb9f3a\"], [0.8888888888888888, \"#fdca26\"], [1.0, \"#f0f921\"]], \"type\": \"surface\"}], \"table\": [{\"cells\": {\"fill\": {\"color\": \"#EBF0F8\"}, \"line\": {\"color\": \"white\"}}, \"header\": {\"fill\": {\"color\": \"#C8D4E3\"}, \"line\": {\"color\": \"white\"}}, \"type\": \"table\"}]}, \"layout\": {\"annotationdefaults\": {\"arrowcolor\": \"#2a3f5f\", \"arrowhead\": 0, \"arrowwidth\": 1}, \"autotypenumbers\": \"strict\", \"coloraxis\": {\"colorbar\": {\"outlinewidth\": 0, \"ticks\": \"\"}}, \"colorscale\": {\"diverging\": [[0, \"#8e0152\"], [0.1, \"#c51b7d\"], [0.2, \"#de77ae\"], [0.3, \"#f1b6da\"], [0.4, \"#fde0ef\"], [0.5, \"#f7f7f7\"], [0.6, \"#e6f5d0\"], [0.7, \"#b8e186\"], [0.8, \"#7fbc41\"], [0.9, \"#4d9221\"], [1, \"#276419\"]], \"sequential\": [[0.0, \"#0d0887\"], [0.1111111111111111, \"#46039f\"], [0.2222222222222222, \"#7201a8\"], [0.3333333333333333, \"#9c179e\"], [0.4444444444444444, \"#bd3786\"], [0.5555555555555556, \"#d8576b\"], [0.6666666666666666, \"#ed7953\"], [0.7777777777777778, \"#fb9f3a\"], [0.8888888888888888, \"#fdca26\"], [1.0, \"#f0f921\"]], \"sequentialminus\": [[0.0, \"#0d0887\"], [0.1111111111111111, \"#46039f\"], [0.2222222222222222, \"#7201a8\"], [0.3333333333333333, \"#9c179e\"], [0.4444444444444444, \"#bd3786\"], [0.5555555555555556, \"#d8576b\"], [0.6666666666666666, \"#ed7953\"], [0.7777777777777778, \"#fb9f3a\"], [0.8888888888888888, \"#fdca26\"], [1.0, \"#f0f921\"]]}, \"colorway\": [\"#636efa\", \"#EF553B\", \"#00cc96\", \"#ab63fa\", \"#FFA15A\", \"#19d3f3\", \"#FF6692\", \"#B6E880\", \"#FF97FF\", \"#FECB52\"], \"font\": {\"color\": \"#2a3f5f\"}, \"geo\": {\"bgcolor\": \"white\", \"lakecolor\": \"white\", \"landcolor\": \"#E5ECF6\", \"showlakes\": true, \"showland\": true, \"subunitcolor\": \"white\"}, \"hoverlabel\": {\"align\": \"left\"}, \"hovermode\": \"closest\", \"mapbox\": {\"style\": \"light\"}, \"paper_bgcolor\": \"white\", \"plot_bgcolor\": \"#E5ECF6\", \"polar\": {\"angularaxis\": {\"gridcolor\": \"white\", \"linecolor\": \"white\", \"ticks\": \"\"}, \"bgcolor\": \"#E5ECF6\", \"radialaxis\": {\"gridcolor\": \"white\", \"linecolor\": \"white\", \"ticks\": \"\"}}, \"scene\": {\"xaxis\": {\"backgroundcolor\": \"#E5ECF6\", \"gridcolor\": \"white\", \"gridwidth\": 2, \"linecolor\": \"white\", \"showbackground\": true, \"ticks\": \"\", \"zerolinecolor\": \"white\"}, \"yaxis\": {\"backgroundcolor\": \"#E5ECF6\", \"gridcolor\": \"white\", \"gridwidth\": 2, \"linecolor\": \"white\", \"showbackground\": true, \"ticks\": \"\", \"zerolinecolor\": \"white\"}, \"zaxis\": {\"backgroundcolor\": \"#E5ECF6\", \"gridcolor\": \"white\", \"gridwidth\": 2, \"linecolor\": \"white\", \"showbackground\": true, \"ticks\": \"\", \"zerolinecolor\": \"white\"}}, \"shapedefaults\": {\"line\": {\"color\": \"#2a3f5f\"}}, \"ternary\": {\"aaxis\": {\"gridcolor\": \"white\", \"linecolor\": \"white\", \"ticks\": \"\"}, \"baxis\": {\"gridcolor\": \"white\", \"linecolor\": \"white\", \"ticks\": \"\"}, \"bgcolor\": \"#E5ECF6\", \"caxis\": {\"gridcolor\": \"white\", \"linecolor\": \"white\", \"ticks\": \"\"}}, \"title\": {\"x\": 0.05}, \"xaxis\": {\"automargin\": true, \"gridcolor\": \"white\", \"linecolor\": \"white\", \"ticks\": \"\", \"title\": {\"standoff\": 15}, \"zerolinecolor\": \"white\", \"zerolinewidth\": 2}, \"yaxis\": {\"automargin\": true, \"gridcolor\": \"white\", \"linecolor\": \"white\", \"ticks\": \"\", \"title\": {\"standoff\": 15}, \"zerolinecolor\": \"white\", \"zerolinewidth\": 2}}}, \"xaxis\": {\"anchor\": \"y\", \"domain\": [0.0, 0.45]}, \"xaxis10\": {\"anchor\": \"y10\", \"domain\": [0.55, 1.0]}, \"xaxis2\": {\"anchor\": \"y2\", \"domain\": [0.55, 1.0]}, \"xaxis3\": {\"anchor\": \"y3\", \"domain\": [0.0, 0.45]}, \"xaxis4\": {\"anchor\": \"y4\", \"domain\": [0.55, 1.0]}, \"xaxis5\": {\"anchor\": \"y5\", \"domain\": [0.0, 0.45]}, \"xaxis6\": {\"anchor\": \"y6\", \"domain\": [0.55, 1.0]}, \"xaxis7\": {\"anchor\": \"y7\", \"domain\": [0.0, 0.45]}, \"xaxis8\": {\"anchor\": \"y8\", \"domain\": [0.55, 1.0]}, \"xaxis9\": {\"anchor\": \"y9\", \"domain\": [0.0, 0.45]}, \"yaxis\": {\"anchor\": \"x\", \"domain\": [0.88, 1.0]}, \"yaxis10\": {\"anchor\": \"x10\", \"domain\": [0.0, 0.12]}, \"yaxis2\": {\"anchor\": \"x2\", \"domain\": [0.88, 1.0]}, \"yaxis3\": {\"anchor\": \"x3\", \"domain\": [0.66, 0.78]}, \"yaxis4\": {\"anchor\": \"x4\", \"domain\": [0.66, 0.78]}, \"yaxis5\": {\"anchor\": \"x5\", \"domain\": [0.44, 0.56]}, \"yaxis6\": {\"anchor\": \"x6\", \"domain\": [0.44, 0.56]}, \"yaxis7\": {\"anchor\": \"x7\", \"domain\": [0.22, 0.33999999999999997]}, \"yaxis8\": {\"anchor\": \"x8\", \"domain\": [0.22, 0.33999999999999997]}, \"yaxis9\": {\"anchor\": \"x9\", \"domain\": [0.0, 0.12]}},                        {\"responsive\": true}                    ).then(function(){\n",
       "                            \n",
       "var gd = document.getElementById('0f7758e9-9411-4612-9c2d-1dcaacc9790c');\n",
       "var x = new MutationObserver(function (mutations, observer) {{\n",
       "        var display = window.getComputedStyle(gd).display;\n",
       "        if (!display || display === 'none') {{\n",
       "            console.log([gd, 'removed!']);\n",
       "            Plotly.purge(gd);\n",
       "            observer.disconnect();\n",
       "        }}\n",
       "}});\n",
       "\n",
       "// Listen for the removal of the full notebook cells\n",
       "var notebookContainer = gd.closest('#notebook-container');\n",
       "if (notebookContainer) {{\n",
       "    x.observe(notebookContainer, {childList: true});\n",
       "}}\n",
       "\n",
       "// Listen for the clearing of the current output cell\n",
       "var outputEl = gd.closest('.output');\n",
       "if (outputEl) {{\n",
       "    x.observe(outputEl, {childList: true});\n",
       "}}\n",
       "\n",
       "                        })                };                });            </script>        </div>"
      ]
     },
     "metadata": {},
     "output_type": "display_data"
    }
   ],
   "source": [
    "plot_knn()"
   ]
  },
  {
   "cell_type": "markdown",
   "id": "comfortable-wallace",
   "metadata": {},
   "source": [
    "<br></br>\n",
    "# KNeighborsClassifier k-d tree"
   ]
  },
  {
   "cell_type": "code",
   "execution_count": 15,
   "id": "behind-truck",
   "metadata": {},
   "outputs": [],
   "source": [
    "# data = pd.read_csv('sklearn_benchmarks/results/sklearn/KNeighborsClassifier_kd_tree.csv')#\n",
    "# data.query(\"n_features == 2 & function == 'predict' & n_samples == 1000\")"
   ]
  },
  {
   "cell_type": "code",
   "execution_count": 16,
   "id": "mature-thompson",
   "metadata": {},
   "outputs": [],
   "source": [
    "# plot_knn(algo='KNeighborsClassifier_kd_tree')"
   ]
  },
  {
   "cell_type": "markdown",
   "id": "generic-hughes",
   "metadata": {},
   "source": [
    "<br></br>\n",
    "## KMeans"
   ]
  },
  {
   "cell_type": "code",
   "execution_count": 17,
   "id": "aging-wallet",
   "metadata": {
    "scrolled": false
   },
   "outputs": [],
   "source": [
    "# plot_kmeans()"
   ]
  }
 ],
 "metadata": {
  "kernelspec": {
   "display_name": "Python 3",
   "language": "python",
   "name": "python3"
  },
  "language_info": {
   "codemirror_mode": {
    "name": "ipython",
    "version": 3
   },
   "file_extension": ".py",
   "mimetype": "text/x-python",
   "name": "python",
   "nbconvert_exporter": "python",
   "pygments_lexer": "ipython3",
   "version": "3.9.2"
  }
 },
 "nbformat": 4,
 "nbformat_minor": 5
}
