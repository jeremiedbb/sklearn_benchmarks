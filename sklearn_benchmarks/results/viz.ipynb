{
 "cells": [
  {
   "cell_type": "markdown",
   "id": "continuing-equation",
   "metadata": {},
   "source": [
    "# Imports"
   ]
  },
  {
   "cell_type": "code",
   "execution_count": 21,
   "id": "offensive-communist",
   "metadata": {},
   "outputs": [],
   "source": [
    "import pandas as pd\n",
    "import os,sys,inspect\n",
    "current_dir = os.path.dirname(os.path.abspath(inspect.getfile(inspect.currentframe())))\n",
    "parent_dir = os.path.dirname(current_dir)\n",
    "sys.path.insert(0, parent_dir) \n",
    "import qgrid"
   ]
  },
  {
   "cell_type": "markdown",
   "id": "systematic-montana",
   "metadata": {},
   "source": [
    "<br></br>\n",
    "# Time report"
   ]
  },
  {
   "cell_type": "code",
   "execution_count": 22,
   "id": "lonely-democracy",
   "metadata": {},
   "outputs": [
    {
     "data": {
      "text/html": [
       "<div>\n",
       "<style scoped>\n",
       "    .dataframe tbody tr th:only-of-type {\n",
       "        vertical-align: middle;\n",
       "    }\n",
       "\n",
       "    .dataframe tbody tr th {\n",
       "        vertical-align: top;\n",
       "    }\n",
       "\n",
       "    .dataframe thead th {\n",
       "        text-align: right;\n",
       "    }\n",
       "</style>\n",
       "<table border=\"1\" class=\"dataframe\">\n",
       "  <thead>\n",
       "    <tr style=\"text-align: right;\">\n",
       "      <th></th>\n",
       "      <th>hour</th>\n",
       "      <th>min</th>\n",
       "      <th>sec</th>\n",
       "    </tr>\n",
       "    <tr>\n",
       "      <th>algo</th>\n",
       "      <th></th>\n",
       "      <th></th>\n",
       "      <th></th>\n",
       "    </tr>\n",
       "  </thead>\n",
       "  <tbody>\n",
       "    <tr>\n",
       "      <th>KNeighborsClassifier</th>\n",
       "      <td>0.0</td>\n",
       "      <td>0.0</td>\n",
       "      <td>7.56</td>\n",
       "    </tr>\n",
       "    <tr>\n",
       "      <th>daal4py_KNeighborsClassifier</th>\n",
       "      <td>0.0</td>\n",
       "      <td>0.0</td>\n",
       "      <td>14.11</td>\n",
       "    </tr>\n",
       "    <tr>\n",
       "      <th>total</th>\n",
       "      <td>0.0</td>\n",
       "      <td>0.0</td>\n",
       "      <td>21.69</td>\n",
       "    </tr>\n",
       "  </tbody>\n",
       "</table>\n",
       "</div>"
      ],
      "text/plain": [
       "                              hour  min    sec\n",
       "algo                                          \n",
       "KNeighborsClassifier           0.0  0.0   7.56\n",
       "daal4py_KNeighborsClassifier   0.0  0.0  14.11\n",
       "total                          0.0  0.0  21.69"
      ]
     },
     "execution_count": 22,
     "metadata": {},
     "output_type": "execute_result"
    }
   ],
   "source": [
    "from utils import print_time_report\n",
    "print_time_report()"
   ]
  },
  {
   "cell_type": "markdown",
   "id": "invisible-suspect",
   "metadata": {},
   "source": [
    "<br></br>\n",
    "## KNeighborsClassifier"
   ]
  },
  {
   "cell_type": "code",
   "execution_count": 23,
   "id": "34bc3471",
   "metadata": {},
   "outputs": [],
   "source": [
    "data = pd.read_csv('sklearn/KNeighborsClassifier.csv')"
   ]
  },
  {
   "cell_type": "code",
   "execution_count": 24,
   "id": "70483fbb",
   "metadata": {},
   "outputs": [
    {
     "data": {
      "application/vnd.jupyter.widget-view+json": {
       "model_id": "8fa3319f0c9a4933b2094ca0844ce338",
       "version_major": 2,
       "version_minor": 0
      },
      "text/plain": [
       "QgridWidget(grid_options={'fullWidthRows': True, 'syncColumnCellResize': True, 'forceFitColumns': True, 'defau…"
      ]
     },
     "metadata": {},
     "output_type": "display_data"
    }
   ],
   "source": [
    "qgrid_widget = qgrid.show_grid(data, show_toolbar=True)\n",
    "display(qgrid_widget)"
   ]
  },
  {
   "cell_type": "code",
   "execution_count": 34,
   "id": "limited-victim",
   "metadata": {},
   "outputs": [
    {
     "name": "stdout",
     "output_type": "stream",
     "text": [
      "The autoreload extension is already loaded. To reload it, use:\n",
      "  %reload_ext autoreload\n"
     ]
    },
    {
     "data": {
      "application/vnd.plotly.v1+json": {
       "config": {
        "plotlyServerURL": "https://plot.ly"
       },
       "data": [
        {
         "customdata": [
          [
           "fit",
           1000000,
           2,
           "brute",
           1,
           1,
           0.0757,
           0.1052,
           0.72,
           4.48
          ]
         ],
         "error_y": {
          "array": [
           4.48
          ],
          "type": "data"
         },
         "hovertemplate": "function: <b>%{customdata[0]}</b><br>n_samples: <b>%{customdata[1]}</b><br>n_features: <b>%{customdata[2]}</b><br>algo: <b>%{customdata[3]}</b><br>n_jobs: <b>%{customdata[4]}</b><br>n_neighbors: <b>%{customdata[5]}</b><br>Time sklearn (s): <b>%{customdata[6]}</b><br>Time d4p (s): <b>%{customdata[7]}</b><br>speedup: <b>%{customdata[8]}</b><br>speedup error: <b>%{customdata[9]}</b><br><extra></extra>",
         "marker": {
          "color": "indianred"
         },
         "name": "n_jobs: 1",
         "showlegend": false,
         "type": "bar",
         "x": [
          "(1000000, 2)"
         ],
         "xaxis": "x",
         "y": [
          0.72
         ],
         "yaxis": "y"
        },
        {
         "customdata": [
          [
           "fit",
           1000000,
           2,
           "brute",
           -1,
           1,
           0.0679,
           0.1054,
           0.64,
           0.84
          ]
         ],
         "error_y": {
          "array": [
           0.84
          ],
          "type": "data"
         },
         "hovertemplate": "function: <b>%{customdata[0]}</b><br>n_samples: <b>%{customdata[1]}</b><br>n_features: <b>%{customdata[2]}</b><br>algo: <b>%{customdata[3]}</b><br>n_jobs: <b>%{customdata[4]}</b><br>n_neighbors: <b>%{customdata[5]}</b><br>Time sklearn (s): <b>%{customdata[6]}</b><br>Time d4p (s): <b>%{customdata[7]}</b><br>speedup: <b>%{customdata[9]}</b><br>speedup error: <b>%{customdata[10]}</b><br><extra></extra>",
         "marker": {
          "color": "lightsalmon"
         },
         "name": "n_jobs: -1",
         "showlegend": false,
         "type": "bar",
         "x": [
          "(1000000, 2)"
         ],
         "xaxis": "x",
         "y": [
          0.64
         ],
         "yaxis": "y"
        },
        {
         "customdata": [
          [
           "predict",
           1,
           2,
           "brute",
           1,
           1,
           0.0256,
           0.0043,
           6.01,
           0.62
          ]
         ],
         "error_y": {
          "array": [
           0.62
          ],
          "type": "data"
         },
         "hovertemplate": "function: <b>%{customdata[0]}</b><br>n_samples: <b>%{customdata[1]}</b><br>n_features: <b>%{customdata[2]}</b><br>algo: <b>%{customdata[3]}</b><br>n_jobs: <b>%{customdata[4]}</b><br>n_neighbors: <b>%{customdata[5]}</b><br>Time sklearn (s): <b>%{customdata[6]}</b><br>Time d4p (s): <b>%{customdata[7]}</b><br>speedup: <b>%{customdata[8]}</b><br>speedup error: <b>%{customdata[9]}</b><br><extra></extra>",
         "marker": {
          "color": "indianred"
         },
         "name": "n_jobs: 1",
         "showlegend": false,
         "type": "bar",
         "x": [
          "(1, 2)"
         ],
         "xaxis": "x2",
         "y": [
          6.01
         ],
         "yaxis": "y2"
        },
        {
         "customdata": [
          [
           "predict",
           1,
           2,
           "brute",
           -1,
           1,
           0.0578,
           0.0044,
           13.08,
           20.63
          ]
         ],
         "error_y": {
          "array": [
           20.63
          ],
          "type": "data"
         },
         "hovertemplate": "function: <b>%{customdata[0]}</b><br>n_samples: <b>%{customdata[1]}</b><br>n_features: <b>%{customdata[2]}</b><br>algo: <b>%{customdata[3]}</b><br>n_jobs: <b>%{customdata[4]}</b><br>n_neighbors: <b>%{customdata[5]}</b><br>Time sklearn (s): <b>%{customdata[6]}</b><br>Time d4p (s): <b>%{customdata[7]}</b><br>speedup: <b>%{customdata[9]}</b><br>speedup error: <b>%{customdata[10]}</b><br><extra></extra>",
         "marker": {
          "color": "lightsalmon"
         },
         "name": "n_jobs: -1",
         "showlegend": false,
         "type": "bar",
         "x": [
          "(1, 2)"
         ],
         "xaxis": "x2",
         "y": [
          13.08
         ],
         "yaxis": "y2"
        },
        {
         "customdata": [
          [
           "fit",
           1000000,
           2,
           "brute",
           1,
           5,
           0.0689,
           0.1059,
           0.65,
           1.28
          ]
         ],
         "error_y": {
          "array": [
           1.28
          ],
          "type": "data"
         },
         "hovertemplate": "function: <b>%{customdata[0]}</b><br>n_samples: <b>%{customdata[1]}</b><br>n_features: <b>%{customdata[2]}</b><br>algo: <b>%{customdata[3]}</b><br>n_jobs: <b>%{customdata[4]}</b><br>n_neighbors: <b>%{customdata[5]}</b><br>Time sklearn (s): <b>%{customdata[6]}</b><br>Time d4p (s): <b>%{customdata[7]}</b><br>speedup: <b>%{customdata[8]}</b><br>speedup error: <b>%{customdata[9]}</b><br><extra></extra>",
         "marker": {
          "color": "indianred"
         },
         "name": "n_jobs: 1",
         "showlegend": false,
         "type": "bar",
         "x": [
          "(1000000, 2)"
         ],
         "xaxis": "x3",
         "y": [
          0.65
         ],
         "yaxis": "y3"
        },
        {
         "customdata": [
          [
           "fit",
           1000000,
           2,
           "brute",
           -1,
           5,
           0.0715,
           0.1086,
           0.66,
           1.78
          ]
         ],
         "error_y": {
          "array": [
           1.78
          ],
          "type": "data"
         },
         "hovertemplate": "function: <b>%{customdata[0]}</b><br>n_samples: <b>%{customdata[1]}</b><br>n_features: <b>%{customdata[2]}</b><br>algo: <b>%{customdata[3]}</b><br>n_jobs: <b>%{customdata[4]}</b><br>n_neighbors: <b>%{customdata[5]}</b><br>Time sklearn (s): <b>%{customdata[6]}</b><br>Time d4p (s): <b>%{customdata[7]}</b><br>speedup: <b>%{customdata[9]}</b><br>speedup error: <b>%{customdata[10]}</b><br><extra></extra>",
         "marker": {
          "color": "lightsalmon"
         },
         "name": "n_jobs: -1",
         "showlegend": false,
         "type": "bar",
         "x": [
          "(1000000, 2)"
         ],
         "xaxis": "x3",
         "y": [
          0.66
         ],
         "yaxis": "y3"
        },
        {
         "customdata": [
          [
           "predict",
           1,
           2,
           "brute",
           1,
           5,
           0.0389,
           0.0044,
           8.78,
           2
          ]
         ],
         "error_y": {
          "array": [
           2
          ],
          "type": "data"
         },
         "hovertemplate": "function: <b>%{customdata[0]}</b><br>n_samples: <b>%{customdata[1]}</b><br>n_features: <b>%{customdata[2]}</b><br>algo: <b>%{customdata[3]}</b><br>n_jobs: <b>%{customdata[4]}</b><br>n_neighbors: <b>%{customdata[5]}</b><br>Time sklearn (s): <b>%{customdata[6]}</b><br>Time d4p (s): <b>%{customdata[7]}</b><br>speedup: <b>%{customdata[8]}</b><br>speedup error: <b>%{customdata[9]}</b><br><extra></extra>",
         "marker": {
          "color": "indianred"
         },
         "name": "n_jobs: 1",
         "showlegend": false,
         "type": "bar",
         "x": [
          "(1, 2)"
         ],
         "xaxis": "x4",
         "y": [
          8.78
         ],
         "yaxis": "y4"
        },
        {
         "customdata": [
          [
           "predict",
           1,
           2,
           "brute",
           -1,
           5,
           0.0432,
           0.0041,
           10.55,
           2.03
          ]
         ],
         "error_y": {
          "array": [
           2.03
          ],
          "type": "data"
         },
         "hovertemplate": "function: <b>%{customdata[0]}</b><br>n_samples: <b>%{customdata[1]}</b><br>n_features: <b>%{customdata[2]}</b><br>algo: <b>%{customdata[3]}</b><br>n_jobs: <b>%{customdata[4]}</b><br>n_neighbors: <b>%{customdata[5]}</b><br>Time sklearn (s): <b>%{customdata[6]}</b><br>Time d4p (s): <b>%{customdata[7]}</b><br>speedup: <b>%{customdata[9]}</b><br>speedup error: <b>%{customdata[10]}</b><br><extra></extra>",
         "marker": {
          "color": "lightsalmon"
         },
         "name": "n_jobs: -1",
         "showlegend": false,
         "type": "bar",
         "x": [
          "(1, 2)"
         ],
         "xaxis": "x4",
         "y": [
          10.55
         ],
         "yaxis": "y4"
        }
       ],
       "layout": {
        "annotations": [
         {
          "font": {
           "size": 16
          },
          "showarrow": false,
          "text": "algo: brute, k: 1, func: fit",
          "x": 0.225,
          "xanchor": "center",
          "xref": "paper",
          "y": 1,
          "yanchor": "bottom",
          "yref": "paper"
         },
         {
          "font": {
           "size": 16
          },
          "showarrow": false,
          "text": "algo: brute, k: 1, func: predict",
          "x": 0.775,
          "xanchor": "center",
          "xref": "paper",
          "y": 1,
          "yanchor": "bottom",
          "yref": "paper"
         },
         {
          "font": {
           "size": 16
          },
          "showarrow": false,
          "text": "algo: brute, k: 5, func: fit",
          "x": 0.225,
          "xanchor": "center",
          "xref": "paper",
          "y": 0.375,
          "yanchor": "bottom",
          "yref": "paper"
         },
         {
          "font": {
           "size": 16
          },
          "showarrow": false,
          "text": "algo: brute, k: 5, func: predict",
          "x": 0.775,
          "xanchor": "center",
          "xref": "paper",
          "y": 0.375,
          "yanchor": "bottom",
          "yref": "paper"
         },
         {
          "font": {
           "size": 16
          },
          "showarrow": false,
          "text": "Speedup",
          "textangle": -90,
          "x": 0,
          "xanchor": "right",
          "xref": "paper",
          "xshift": -40,
          "y": 0.5,
          "yanchor": "middle",
          "yref": "paper"
         }
        ],
        "barmode": "group",
        "height": 1500,
        "showlegend": false,
        "template": {
         "data": {
          "bar": [
           {
            "error_x": {
             "color": "#2a3f5f"
            },
            "error_y": {
             "color": "#2a3f5f"
            },
            "marker": {
             "line": {
              "color": "#E5ECF6",
              "width": 0.5
             }
            },
            "type": "bar"
           }
          ],
          "barpolar": [
           {
            "marker": {
             "line": {
              "color": "#E5ECF6",
              "width": 0.5
             }
            },
            "type": "barpolar"
           }
          ],
          "carpet": [
           {
            "aaxis": {
             "endlinecolor": "#2a3f5f",
             "gridcolor": "white",
             "linecolor": "white",
             "minorgridcolor": "white",
             "startlinecolor": "#2a3f5f"
            },
            "baxis": {
             "endlinecolor": "#2a3f5f",
             "gridcolor": "white",
             "linecolor": "white",
             "minorgridcolor": "white",
             "startlinecolor": "#2a3f5f"
            },
            "type": "carpet"
           }
          ],
          "choropleth": [
           {
            "colorbar": {
             "outlinewidth": 0,
             "ticks": ""
            },
            "type": "choropleth"
           }
          ],
          "contour": [
           {
            "colorbar": {
             "outlinewidth": 0,
             "ticks": ""
            },
            "colorscale": [
             [
              0,
              "#0d0887"
             ],
             [
              0.1111111111111111,
              "#46039f"
             ],
             [
              0.2222222222222222,
              "#7201a8"
             ],
             [
              0.3333333333333333,
              "#9c179e"
             ],
             [
              0.4444444444444444,
              "#bd3786"
             ],
             [
              0.5555555555555556,
              "#d8576b"
             ],
             [
              0.6666666666666666,
              "#ed7953"
             ],
             [
              0.7777777777777778,
              "#fb9f3a"
             ],
             [
              0.8888888888888888,
              "#fdca26"
             ],
             [
              1,
              "#f0f921"
             ]
            ],
            "type": "contour"
           }
          ],
          "contourcarpet": [
           {
            "colorbar": {
             "outlinewidth": 0,
             "ticks": ""
            },
            "type": "contourcarpet"
           }
          ],
          "heatmap": [
           {
            "colorbar": {
             "outlinewidth": 0,
             "ticks": ""
            },
            "colorscale": [
             [
              0,
              "#0d0887"
             ],
             [
              0.1111111111111111,
              "#46039f"
             ],
             [
              0.2222222222222222,
              "#7201a8"
             ],
             [
              0.3333333333333333,
              "#9c179e"
             ],
             [
              0.4444444444444444,
              "#bd3786"
             ],
             [
              0.5555555555555556,
              "#d8576b"
             ],
             [
              0.6666666666666666,
              "#ed7953"
             ],
             [
              0.7777777777777778,
              "#fb9f3a"
             ],
             [
              0.8888888888888888,
              "#fdca26"
             ],
             [
              1,
              "#f0f921"
             ]
            ],
            "type": "heatmap"
           }
          ],
          "heatmapgl": [
           {
            "colorbar": {
             "outlinewidth": 0,
             "ticks": ""
            },
            "colorscale": [
             [
              0,
              "#0d0887"
             ],
             [
              0.1111111111111111,
              "#46039f"
             ],
             [
              0.2222222222222222,
              "#7201a8"
             ],
             [
              0.3333333333333333,
              "#9c179e"
             ],
             [
              0.4444444444444444,
              "#bd3786"
             ],
             [
              0.5555555555555556,
              "#d8576b"
             ],
             [
              0.6666666666666666,
              "#ed7953"
             ],
             [
              0.7777777777777778,
              "#fb9f3a"
             ],
             [
              0.8888888888888888,
              "#fdca26"
             ],
             [
              1,
              "#f0f921"
             ]
            ],
            "type": "heatmapgl"
           }
          ],
          "histogram": [
           {
            "marker": {
             "colorbar": {
              "outlinewidth": 0,
              "ticks": ""
             }
            },
            "type": "histogram"
           }
          ],
          "histogram2d": [
           {
            "colorbar": {
             "outlinewidth": 0,
             "ticks": ""
            },
            "colorscale": [
             [
              0,
              "#0d0887"
             ],
             [
              0.1111111111111111,
              "#46039f"
             ],
             [
              0.2222222222222222,
              "#7201a8"
             ],
             [
              0.3333333333333333,
              "#9c179e"
             ],
             [
              0.4444444444444444,
              "#bd3786"
             ],
             [
              0.5555555555555556,
              "#d8576b"
             ],
             [
              0.6666666666666666,
              "#ed7953"
             ],
             [
              0.7777777777777778,
              "#fb9f3a"
             ],
             [
              0.8888888888888888,
              "#fdca26"
             ],
             [
              1,
              "#f0f921"
             ]
            ],
            "type": "histogram2d"
           }
          ],
          "histogram2dcontour": [
           {
            "colorbar": {
             "outlinewidth": 0,
             "ticks": ""
            },
            "colorscale": [
             [
              0,
              "#0d0887"
             ],
             [
              0.1111111111111111,
              "#46039f"
             ],
             [
              0.2222222222222222,
              "#7201a8"
             ],
             [
              0.3333333333333333,
              "#9c179e"
             ],
             [
              0.4444444444444444,
              "#bd3786"
             ],
             [
              0.5555555555555556,
              "#d8576b"
             ],
             [
              0.6666666666666666,
              "#ed7953"
             ],
             [
              0.7777777777777778,
              "#fb9f3a"
             ],
             [
              0.8888888888888888,
              "#fdca26"
             ],
             [
              1,
              "#f0f921"
             ]
            ],
            "type": "histogram2dcontour"
           }
          ],
          "mesh3d": [
           {
            "colorbar": {
             "outlinewidth": 0,
             "ticks": ""
            },
            "type": "mesh3d"
           }
          ],
          "parcoords": [
           {
            "line": {
             "colorbar": {
              "outlinewidth": 0,
              "ticks": ""
             }
            },
            "type": "parcoords"
           }
          ],
          "pie": [
           {
            "automargin": true,
            "type": "pie"
           }
          ],
          "scatter": [
           {
            "marker": {
             "colorbar": {
              "outlinewidth": 0,
              "ticks": ""
             }
            },
            "type": "scatter"
           }
          ],
          "scatter3d": [
           {
            "line": {
             "colorbar": {
              "outlinewidth": 0,
              "ticks": ""
             }
            },
            "marker": {
             "colorbar": {
              "outlinewidth": 0,
              "ticks": ""
             }
            },
            "type": "scatter3d"
           }
          ],
          "scattercarpet": [
           {
            "marker": {
             "colorbar": {
              "outlinewidth": 0,
              "ticks": ""
             }
            },
            "type": "scattercarpet"
           }
          ],
          "scattergeo": [
           {
            "marker": {
             "colorbar": {
              "outlinewidth": 0,
              "ticks": ""
             }
            },
            "type": "scattergeo"
           }
          ],
          "scattergl": [
           {
            "marker": {
             "colorbar": {
              "outlinewidth": 0,
              "ticks": ""
             }
            },
            "type": "scattergl"
           }
          ],
          "scattermapbox": [
           {
            "marker": {
             "colorbar": {
              "outlinewidth": 0,
              "ticks": ""
             }
            },
            "type": "scattermapbox"
           }
          ],
          "scatterpolar": [
           {
            "marker": {
             "colorbar": {
              "outlinewidth": 0,
              "ticks": ""
             }
            },
            "type": "scatterpolar"
           }
          ],
          "scatterpolargl": [
           {
            "marker": {
             "colorbar": {
              "outlinewidth": 0,
              "ticks": ""
             }
            },
            "type": "scatterpolargl"
           }
          ],
          "scatterternary": [
           {
            "marker": {
             "colorbar": {
              "outlinewidth": 0,
              "ticks": ""
             }
            },
            "type": "scatterternary"
           }
          ],
          "surface": [
           {
            "colorbar": {
             "outlinewidth": 0,
             "ticks": ""
            },
            "colorscale": [
             [
              0,
              "#0d0887"
             ],
             [
              0.1111111111111111,
              "#46039f"
             ],
             [
              0.2222222222222222,
              "#7201a8"
             ],
             [
              0.3333333333333333,
              "#9c179e"
             ],
             [
              0.4444444444444444,
              "#bd3786"
             ],
             [
              0.5555555555555556,
              "#d8576b"
             ],
             [
              0.6666666666666666,
              "#ed7953"
             ],
             [
              0.7777777777777778,
              "#fb9f3a"
             ],
             [
              0.8888888888888888,
              "#fdca26"
             ],
             [
              1,
              "#f0f921"
             ]
            ],
            "type": "surface"
           }
          ],
          "table": [
           {
            "cells": {
             "fill": {
              "color": "#EBF0F8"
             },
             "line": {
              "color": "white"
             }
            },
            "header": {
             "fill": {
              "color": "#C8D4E3"
             },
             "line": {
              "color": "white"
             }
            },
            "type": "table"
           }
          ]
         },
         "layout": {
          "annotationdefaults": {
           "arrowcolor": "#2a3f5f",
           "arrowhead": 0,
           "arrowwidth": 1
          },
          "autotypenumbers": "strict",
          "coloraxis": {
           "colorbar": {
            "outlinewidth": 0,
            "ticks": ""
           }
          },
          "colorscale": {
           "diverging": [
            [
             0,
             "#8e0152"
            ],
            [
             0.1,
             "#c51b7d"
            ],
            [
             0.2,
             "#de77ae"
            ],
            [
             0.3,
             "#f1b6da"
            ],
            [
             0.4,
             "#fde0ef"
            ],
            [
             0.5,
             "#f7f7f7"
            ],
            [
             0.6,
             "#e6f5d0"
            ],
            [
             0.7,
             "#b8e186"
            ],
            [
             0.8,
             "#7fbc41"
            ],
            [
             0.9,
             "#4d9221"
            ],
            [
             1,
             "#276419"
            ]
           ],
           "sequential": [
            [
             0,
             "#0d0887"
            ],
            [
             0.1111111111111111,
             "#46039f"
            ],
            [
             0.2222222222222222,
             "#7201a8"
            ],
            [
             0.3333333333333333,
             "#9c179e"
            ],
            [
             0.4444444444444444,
             "#bd3786"
            ],
            [
             0.5555555555555556,
             "#d8576b"
            ],
            [
             0.6666666666666666,
             "#ed7953"
            ],
            [
             0.7777777777777778,
             "#fb9f3a"
            ],
            [
             0.8888888888888888,
             "#fdca26"
            ],
            [
             1,
             "#f0f921"
            ]
           ],
           "sequentialminus": [
            [
             0,
             "#0d0887"
            ],
            [
             0.1111111111111111,
             "#46039f"
            ],
            [
             0.2222222222222222,
             "#7201a8"
            ],
            [
             0.3333333333333333,
             "#9c179e"
            ],
            [
             0.4444444444444444,
             "#bd3786"
            ],
            [
             0.5555555555555556,
             "#d8576b"
            ],
            [
             0.6666666666666666,
             "#ed7953"
            ],
            [
             0.7777777777777778,
             "#fb9f3a"
            ],
            [
             0.8888888888888888,
             "#fdca26"
            ],
            [
             1,
             "#f0f921"
            ]
           ]
          },
          "colorway": [
           "#636efa",
           "#EF553B",
           "#00cc96",
           "#ab63fa",
           "#FFA15A",
           "#19d3f3",
           "#FF6692",
           "#B6E880",
           "#FF97FF",
           "#FECB52"
          ],
          "font": {
           "color": "#2a3f5f"
          },
          "geo": {
           "bgcolor": "white",
           "lakecolor": "white",
           "landcolor": "#E5ECF6",
           "showlakes": true,
           "showland": true,
           "subunitcolor": "white"
          },
          "hoverlabel": {
           "align": "left"
          },
          "hovermode": "closest",
          "mapbox": {
           "style": "light"
          },
          "paper_bgcolor": "white",
          "plot_bgcolor": "#E5ECF6",
          "polar": {
           "angularaxis": {
            "gridcolor": "white",
            "linecolor": "white",
            "ticks": ""
           },
           "bgcolor": "#E5ECF6",
           "radialaxis": {
            "gridcolor": "white",
            "linecolor": "white",
            "ticks": ""
           }
          },
          "scene": {
           "xaxis": {
            "backgroundcolor": "#E5ECF6",
            "gridcolor": "white",
            "gridwidth": 2,
            "linecolor": "white",
            "showbackground": true,
            "ticks": "",
            "zerolinecolor": "white"
           },
           "yaxis": {
            "backgroundcolor": "#E5ECF6",
            "gridcolor": "white",
            "gridwidth": 2,
            "linecolor": "white",
            "showbackground": true,
            "ticks": "",
            "zerolinecolor": "white"
           },
           "zaxis": {
            "backgroundcolor": "#E5ECF6",
            "gridcolor": "white",
            "gridwidth": 2,
            "linecolor": "white",
            "showbackground": true,
            "ticks": "",
            "zerolinecolor": "white"
           }
          },
          "shapedefaults": {
           "line": {
            "color": "#2a3f5f"
           }
          },
          "ternary": {
           "aaxis": {
            "gridcolor": "white",
            "linecolor": "white",
            "ticks": ""
           },
           "baxis": {
            "gridcolor": "white",
            "linecolor": "white",
            "ticks": ""
           },
           "bgcolor": "#E5ECF6",
           "caxis": {
            "gridcolor": "white",
            "linecolor": "white",
            "ticks": ""
           }
          },
          "title": {
           "x": 0.05
          },
          "xaxis": {
           "automargin": true,
           "gridcolor": "white",
           "linecolor": "white",
           "ticks": "",
           "title": {
            "standoff": 15
           },
           "zerolinecolor": "white",
           "zerolinewidth": 2
          },
          "yaxis": {
           "automargin": true,
           "gridcolor": "white",
           "linecolor": "white",
           "ticks": "",
           "title": {
            "standoff": 15
           },
           "zerolinecolor": "white",
           "zerolinewidth": 2
          }
         }
        },
        "xaxis": {
         "anchor": "y",
         "domain": [
          0,
          0.45
         ]
        },
        "xaxis2": {
         "anchor": "y2",
         "domain": [
          0.55,
          1
         ]
        },
        "xaxis3": {
         "anchor": "y3",
         "domain": [
          0,
          0.45
         ]
        },
        "xaxis4": {
         "anchor": "y4",
         "domain": [
          0.55,
          1
         ]
        },
        "yaxis": {
         "anchor": "x",
         "domain": [
          0.625,
          1
         ]
        },
        "yaxis2": {
         "anchor": "x2",
         "domain": [
          0.625,
          1
         ]
        },
        "yaxis3": {
         "anchor": "x3",
         "domain": [
          0,
          0.375
         ]
        },
        "yaxis4": {
         "anchor": "x4",
         "domain": [
          0,
          0.375
         ]
        }
       }
      },
      "text/html": [
       "<div>                            <div id=\"f8fe9ba4-491e-4b27-8a81-5582337a3e31\" class=\"plotly-graph-div\" style=\"height:1500px; width:100%;\"></div>            <script type=\"text/javascript\">                require([\"plotly\"], function(Plotly) {                    window.PLOTLYENV=window.PLOTLYENV || {};                                    if (document.getElementById(\"f8fe9ba4-491e-4b27-8a81-5582337a3e31\")) {                    Plotly.newPlot(                        \"f8fe9ba4-491e-4b27-8a81-5582337a3e31\",                        [{\"customdata\": [[\"fit\", 1000000, 2, \"brute\", 1, 1, 0.0757, 0.1052, 0.72, 4.48]], \"error_y\": {\"array\": [4.48], \"type\": \"data\"}, \"hovertemplate\": \"function: <b>%{customdata[0]}</b><br>n_samples: <b>%{customdata[1]}</b><br>n_features: <b>%{customdata[2]}</b><br>algo: <b>%{customdata[3]}</b><br>n_jobs: <b>%{customdata[4]}</b><br>n_neighbors: <b>%{customdata[5]}</b><br>Time sklearn (s): <b>%{customdata[6]}</b><br>Time d4p (s): <b>%{customdata[7]}</b><br>speedup: <b>%{customdata[8]}</b><br>speedup error: <b>%{customdata[9]}</b><br><extra></extra>\", \"marker\": {\"color\": \"indianred\"}, \"name\": \"n_jobs: 1\", \"showlegend\": false, \"type\": \"bar\", \"x\": [\"(1000000, 2)\"], \"xaxis\": \"x\", \"y\": [0.72], \"yaxis\": \"y\"}, {\"customdata\": [[\"fit\", 1000000, 2, \"brute\", -1, 1, 0.0679, 0.1054, 0.64, 0.84]], \"error_y\": {\"array\": [0.84], \"type\": \"data\"}, \"hovertemplate\": \"function: <b>%{customdata[0]}</b><br>n_samples: <b>%{customdata[1]}</b><br>n_features: <b>%{customdata[2]}</b><br>algo: <b>%{customdata[3]}</b><br>n_jobs: <b>%{customdata[4]}</b><br>n_neighbors: <b>%{customdata[5]}</b><br>Time sklearn (s): <b>%{customdata[6]}</b><br>Time d4p (s): <b>%{customdata[7]}</b><br>speedup: <b>%{customdata[9]}</b><br>speedup error: <b>%{customdata[10]}</b><br><extra></extra>\", \"marker\": {\"color\": \"lightsalmon\"}, \"name\": \"n_jobs: -1\", \"showlegend\": false, \"type\": \"bar\", \"x\": [\"(1000000, 2)\"], \"xaxis\": \"x\", \"y\": [0.64], \"yaxis\": \"y\"}, {\"customdata\": [[\"predict\", 1, 2, \"brute\", 1, 1, 0.0256, 0.0043, 6.01, 0.62]], \"error_y\": {\"array\": [0.62], \"type\": \"data\"}, \"hovertemplate\": \"function: <b>%{customdata[0]}</b><br>n_samples: <b>%{customdata[1]}</b><br>n_features: <b>%{customdata[2]}</b><br>algo: <b>%{customdata[3]}</b><br>n_jobs: <b>%{customdata[4]}</b><br>n_neighbors: <b>%{customdata[5]}</b><br>Time sklearn (s): <b>%{customdata[6]}</b><br>Time d4p (s): <b>%{customdata[7]}</b><br>speedup: <b>%{customdata[8]}</b><br>speedup error: <b>%{customdata[9]}</b><br><extra></extra>\", \"marker\": {\"color\": \"indianred\"}, \"name\": \"n_jobs: 1\", \"showlegend\": false, \"type\": \"bar\", \"x\": [\"(1, 2)\"], \"xaxis\": \"x2\", \"y\": [6.01], \"yaxis\": \"y2\"}, {\"customdata\": [[\"predict\", 1, 2, \"brute\", -1, 1, 0.0578, 0.0044, 13.08, 20.63]], \"error_y\": {\"array\": [20.63], \"type\": \"data\"}, \"hovertemplate\": \"function: <b>%{customdata[0]}</b><br>n_samples: <b>%{customdata[1]}</b><br>n_features: <b>%{customdata[2]}</b><br>algo: <b>%{customdata[3]}</b><br>n_jobs: <b>%{customdata[4]}</b><br>n_neighbors: <b>%{customdata[5]}</b><br>Time sklearn (s): <b>%{customdata[6]}</b><br>Time d4p (s): <b>%{customdata[7]}</b><br>speedup: <b>%{customdata[9]}</b><br>speedup error: <b>%{customdata[10]}</b><br><extra></extra>\", \"marker\": {\"color\": \"lightsalmon\"}, \"name\": \"n_jobs: -1\", \"showlegend\": false, \"type\": \"bar\", \"x\": [\"(1, 2)\"], \"xaxis\": \"x2\", \"y\": [13.08], \"yaxis\": \"y2\"}, {\"customdata\": [[\"fit\", 1000000, 2, \"brute\", 1, 5, 0.0689, 0.1059, 0.65, 1.28]], \"error_y\": {\"array\": [1.28], \"type\": \"data\"}, \"hovertemplate\": \"function: <b>%{customdata[0]}</b><br>n_samples: <b>%{customdata[1]}</b><br>n_features: <b>%{customdata[2]}</b><br>algo: <b>%{customdata[3]}</b><br>n_jobs: <b>%{customdata[4]}</b><br>n_neighbors: <b>%{customdata[5]}</b><br>Time sklearn (s): <b>%{customdata[6]}</b><br>Time d4p (s): <b>%{customdata[7]}</b><br>speedup: <b>%{customdata[8]}</b><br>speedup error: <b>%{customdata[9]}</b><br><extra></extra>\", \"marker\": {\"color\": \"indianred\"}, \"name\": \"n_jobs: 1\", \"showlegend\": false, \"type\": \"bar\", \"x\": [\"(1000000, 2)\"], \"xaxis\": \"x3\", \"y\": [0.65], \"yaxis\": \"y3\"}, {\"customdata\": [[\"fit\", 1000000, 2, \"brute\", -1, 5, 0.0715, 0.1086, 0.66, 1.78]], \"error_y\": {\"array\": [1.78], \"type\": \"data\"}, \"hovertemplate\": \"function: <b>%{customdata[0]}</b><br>n_samples: <b>%{customdata[1]}</b><br>n_features: <b>%{customdata[2]}</b><br>algo: <b>%{customdata[3]}</b><br>n_jobs: <b>%{customdata[4]}</b><br>n_neighbors: <b>%{customdata[5]}</b><br>Time sklearn (s): <b>%{customdata[6]}</b><br>Time d4p (s): <b>%{customdata[7]}</b><br>speedup: <b>%{customdata[9]}</b><br>speedup error: <b>%{customdata[10]}</b><br><extra></extra>\", \"marker\": {\"color\": \"lightsalmon\"}, \"name\": \"n_jobs: -1\", \"showlegend\": false, \"type\": \"bar\", \"x\": [\"(1000000, 2)\"], \"xaxis\": \"x3\", \"y\": [0.66], \"yaxis\": \"y3\"}, {\"customdata\": [[\"predict\", 1, 2, \"brute\", 1, 5, 0.0389, 0.0044, 8.78, 2.0]], \"error_y\": {\"array\": [2.0], \"type\": \"data\"}, \"hovertemplate\": \"function: <b>%{customdata[0]}</b><br>n_samples: <b>%{customdata[1]}</b><br>n_features: <b>%{customdata[2]}</b><br>algo: <b>%{customdata[3]}</b><br>n_jobs: <b>%{customdata[4]}</b><br>n_neighbors: <b>%{customdata[5]}</b><br>Time sklearn (s): <b>%{customdata[6]}</b><br>Time d4p (s): <b>%{customdata[7]}</b><br>speedup: <b>%{customdata[8]}</b><br>speedup error: <b>%{customdata[9]}</b><br><extra></extra>\", \"marker\": {\"color\": \"indianred\"}, \"name\": \"n_jobs: 1\", \"showlegend\": false, \"type\": \"bar\", \"x\": [\"(1, 2)\"], \"xaxis\": \"x4\", \"y\": [8.78], \"yaxis\": \"y4\"}, {\"customdata\": [[\"predict\", 1, 2, \"brute\", -1, 5, 0.0432, 0.0041, 10.55, 2.03]], \"error_y\": {\"array\": [2.03], \"type\": \"data\"}, \"hovertemplate\": \"function: <b>%{customdata[0]}</b><br>n_samples: <b>%{customdata[1]}</b><br>n_features: <b>%{customdata[2]}</b><br>algo: <b>%{customdata[3]}</b><br>n_jobs: <b>%{customdata[4]}</b><br>n_neighbors: <b>%{customdata[5]}</b><br>Time sklearn (s): <b>%{customdata[6]}</b><br>Time d4p (s): <b>%{customdata[7]}</b><br>speedup: <b>%{customdata[9]}</b><br>speedup error: <b>%{customdata[10]}</b><br><extra></extra>\", \"marker\": {\"color\": \"lightsalmon\"}, \"name\": \"n_jobs: -1\", \"showlegend\": false, \"type\": \"bar\", \"x\": [\"(1, 2)\"], \"xaxis\": \"x4\", \"y\": [10.55], \"yaxis\": \"y4\"}],                        {\"annotations\": [{\"font\": {\"size\": 16}, \"showarrow\": false, \"text\": \"algo: brute, k: 1, func: fit\", \"x\": 0.225, \"xanchor\": \"center\", \"xref\": \"paper\", \"y\": 1.0, \"yanchor\": \"bottom\", \"yref\": \"paper\"}, {\"font\": {\"size\": 16}, \"showarrow\": false, \"text\": \"algo: brute, k: 1, func: predict\", \"x\": 0.775, \"xanchor\": \"center\", \"xref\": \"paper\", \"y\": 1.0, \"yanchor\": \"bottom\", \"yref\": \"paper\"}, {\"font\": {\"size\": 16}, \"showarrow\": false, \"text\": \"algo: brute, k: 5, func: fit\", \"x\": 0.225, \"xanchor\": \"center\", \"xref\": \"paper\", \"y\": 0.375, \"yanchor\": \"bottom\", \"yref\": \"paper\"}, {\"font\": {\"size\": 16}, \"showarrow\": false, \"text\": \"algo: brute, k: 5, func: predict\", \"x\": 0.775, \"xanchor\": \"center\", \"xref\": \"paper\", \"y\": 0.375, \"yanchor\": \"bottom\", \"yref\": \"paper\"}, {\"font\": {\"size\": 16}, \"showarrow\": false, \"text\": \"Speedup\", \"textangle\": -90, \"x\": 0, \"xanchor\": \"right\", \"xref\": \"paper\", \"xshift\": -40, \"y\": 0.5, \"yanchor\": \"middle\", \"yref\": \"paper\"}], \"barmode\": \"group\", \"height\": 1500, \"showlegend\": false, \"template\": {\"data\": {\"bar\": [{\"error_x\": {\"color\": \"#2a3f5f\"}, \"error_y\": {\"color\": \"#2a3f5f\"}, \"marker\": {\"line\": {\"color\": \"#E5ECF6\", \"width\": 0.5}}, \"type\": \"bar\"}], \"barpolar\": [{\"marker\": {\"line\": {\"color\": \"#E5ECF6\", \"width\": 0.5}}, \"type\": \"barpolar\"}], \"carpet\": [{\"aaxis\": {\"endlinecolor\": \"#2a3f5f\", \"gridcolor\": \"white\", \"linecolor\": \"white\", \"minorgridcolor\": \"white\", \"startlinecolor\": \"#2a3f5f\"}, \"baxis\": {\"endlinecolor\": \"#2a3f5f\", \"gridcolor\": \"white\", \"linecolor\": \"white\", \"minorgridcolor\": \"white\", \"startlinecolor\": \"#2a3f5f\"}, \"type\": \"carpet\"}], \"choropleth\": [{\"colorbar\": {\"outlinewidth\": 0, \"ticks\": \"\"}, \"type\": \"choropleth\"}], \"contour\": [{\"colorbar\": {\"outlinewidth\": 0, \"ticks\": \"\"}, \"colorscale\": [[0.0, \"#0d0887\"], [0.1111111111111111, \"#46039f\"], [0.2222222222222222, \"#7201a8\"], [0.3333333333333333, \"#9c179e\"], [0.4444444444444444, \"#bd3786\"], [0.5555555555555556, \"#d8576b\"], [0.6666666666666666, \"#ed7953\"], [0.7777777777777778, \"#fb9f3a\"], [0.8888888888888888, \"#fdca26\"], [1.0, \"#f0f921\"]], \"type\": \"contour\"}], \"contourcarpet\": [{\"colorbar\": {\"outlinewidth\": 0, \"ticks\": \"\"}, \"type\": \"contourcarpet\"}], \"heatmap\": [{\"colorbar\": {\"outlinewidth\": 0, \"ticks\": \"\"}, \"colorscale\": [[0.0, \"#0d0887\"], [0.1111111111111111, \"#46039f\"], [0.2222222222222222, \"#7201a8\"], [0.3333333333333333, \"#9c179e\"], [0.4444444444444444, \"#bd3786\"], [0.5555555555555556, \"#d8576b\"], [0.6666666666666666, \"#ed7953\"], [0.7777777777777778, \"#fb9f3a\"], [0.8888888888888888, \"#fdca26\"], [1.0, \"#f0f921\"]], \"type\": \"heatmap\"}], \"heatmapgl\": [{\"colorbar\": {\"outlinewidth\": 0, \"ticks\": \"\"}, \"colorscale\": [[0.0, \"#0d0887\"], [0.1111111111111111, \"#46039f\"], [0.2222222222222222, \"#7201a8\"], [0.3333333333333333, \"#9c179e\"], [0.4444444444444444, \"#bd3786\"], [0.5555555555555556, \"#d8576b\"], [0.6666666666666666, \"#ed7953\"], [0.7777777777777778, \"#fb9f3a\"], [0.8888888888888888, \"#fdca26\"], [1.0, \"#f0f921\"]], \"type\": \"heatmapgl\"}], \"histogram\": [{\"marker\": {\"colorbar\": {\"outlinewidth\": 0, \"ticks\": \"\"}}, \"type\": \"histogram\"}], \"histogram2d\": [{\"colorbar\": {\"outlinewidth\": 0, \"ticks\": \"\"}, \"colorscale\": [[0.0, \"#0d0887\"], [0.1111111111111111, \"#46039f\"], [0.2222222222222222, \"#7201a8\"], [0.3333333333333333, \"#9c179e\"], [0.4444444444444444, \"#bd3786\"], [0.5555555555555556, \"#d8576b\"], [0.6666666666666666, \"#ed7953\"], [0.7777777777777778, \"#fb9f3a\"], [0.8888888888888888, \"#fdca26\"], [1.0, \"#f0f921\"]], \"type\": \"histogram2d\"}], \"histogram2dcontour\": [{\"colorbar\": {\"outlinewidth\": 0, \"ticks\": \"\"}, \"colorscale\": [[0.0, \"#0d0887\"], [0.1111111111111111, \"#46039f\"], [0.2222222222222222, \"#7201a8\"], [0.3333333333333333, \"#9c179e\"], [0.4444444444444444, \"#bd3786\"], [0.5555555555555556, \"#d8576b\"], [0.6666666666666666, \"#ed7953\"], [0.7777777777777778, \"#fb9f3a\"], [0.8888888888888888, \"#fdca26\"], [1.0, \"#f0f921\"]], \"type\": \"histogram2dcontour\"}], \"mesh3d\": [{\"colorbar\": {\"outlinewidth\": 0, \"ticks\": \"\"}, \"type\": \"mesh3d\"}], \"parcoords\": [{\"line\": {\"colorbar\": {\"outlinewidth\": 0, \"ticks\": \"\"}}, \"type\": \"parcoords\"}], \"pie\": [{\"automargin\": true, \"type\": \"pie\"}], \"scatter\": [{\"marker\": {\"colorbar\": {\"outlinewidth\": 0, \"ticks\": \"\"}}, \"type\": \"scatter\"}], \"scatter3d\": [{\"line\": {\"colorbar\": {\"outlinewidth\": 0, \"ticks\": \"\"}}, \"marker\": {\"colorbar\": {\"outlinewidth\": 0, \"ticks\": \"\"}}, \"type\": \"scatter3d\"}], \"scattercarpet\": [{\"marker\": {\"colorbar\": {\"outlinewidth\": 0, \"ticks\": \"\"}}, \"type\": \"scattercarpet\"}], \"scattergeo\": [{\"marker\": {\"colorbar\": {\"outlinewidth\": 0, \"ticks\": \"\"}}, \"type\": \"scattergeo\"}], \"scattergl\": [{\"marker\": {\"colorbar\": {\"outlinewidth\": 0, \"ticks\": \"\"}}, \"type\": \"scattergl\"}], \"scattermapbox\": [{\"marker\": {\"colorbar\": {\"outlinewidth\": 0, \"ticks\": \"\"}}, \"type\": \"scattermapbox\"}], \"scatterpolar\": [{\"marker\": {\"colorbar\": {\"outlinewidth\": 0, \"ticks\": \"\"}}, \"type\": \"scatterpolar\"}], \"scatterpolargl\": [{\"marker\": {\"colorbar\": {\"outlinewidth\": 0, \"ticks\": \"\"}}, \"type\": \"scatterpolargl\"}], \"scatterternary\": [{\"marker\": {\"colorbar\": {\"outlinewidth\": 0, \"ticks\": \"\"}}, \"type\": \"scatterternary\"}], \"surface\": [{\"colorbar\": {\"outlinewidth\": 0, \"ticks\": \"\"}, \"colorscale\": [[0.0, \"#0d0887\"], [0.1111111111111111, \"#46039f\"], [0.2222222222222222, \"#7201a8\"], [0.3333333333333333, \"#9c179e\"], [0.4444444444444444, \"#bd3786\"], [0.5555555555555556, \"#d8576b\"], [0.6666666666666666, \"#ed7953\"], [0.7777777777777778, \"#fb9f3a\"], [0.8888888888888888, \"#fdca26\"], [1.0, \"#f0f921\"]], \"type\": \"surface\"}], \"table\": [{\"cells\": {\"fill\": {\"color\": \"#EBF0F8\"}, \"line\": {\"color\": \"white\"}}, \"header\": {\"fill\": {\"color\": \"#C8D4E3\"}, \"line\": {\"color\": \"white\"}}, \"type\": \"table\"}]}, \"layout\": {\"annotationdefaults\": {\"arrowcolor\": \"#2a3f5f\", \"arrowhead\": 0, \"arrowwidth\": 1}, \"autotypenumbers\": \"strict\", \"coloraxis\": {\"colorbar\": {\"outlinewidth\": 0, \"ticks\": \"\"}}, \"colorscale\": {\"diverging\": [[0, \"#8e0152\"], [0.1, \"#c51b7d\"], [0.2, \"#de77ae\"], [0.3, \"#f1b6da\"], [0.4, \"#fde0ef\"], [0.5, \"#f7f7f7\"], [0.6, \"#e6f5d0\"], [0.7, \"#b8e186\"], [0.8, \"#7fbc41\"], [0.9, \"#4d9221\"], [1, \"#276419\"]], \"sequential\": [[0.0, \"#0d0887\"], [0.1111111111111111, \"#46039f\"], [0.2222222222222222, \"#7201a8\"], [0.3333333333333333, \"#9c179e\"], [0.4444444444444444, \"#bd3786\"], [0.5555555555555556, \"#d8576b\"], [0.6666666666666666, \"#ed7953\"], [0.7777777777777778, \"#fb9f3a\"], [0.8888888888888888, \"#fdca26\"], [1.0, \"#f0f921\"]], \"sequentialminus\": [[0.0, \"#0d0887\"], [0.1111111111111111, \"#46039f\"], [0.2222222222222222, \"#7201a8\"], [0.3333333333333333, \"#9c179e\"], [0.4444444444444444, \"#bd3786\"], [0.5555555555555556, \"#d8576b\"], [0.6666666666666666, \"#ed7953\"], [0.7777777777777778, \"#fb9f3a\"], [0.8888888888888888, \"#fdca26\"], [1.0, \"#f0f921\"]]}, \"colorway\": [\"#636efa\", \"#EF553B\", \"#00cc96\", \"#ab63fa\", \"#FFA15A\", \"#19d3f3\", \"#FF6692\", \"#B6E880\", \"#FF97FF\", \"#FECB52\"], \"font\": {\"color\": \"#2a3f5f\"}, \"geo\": {\"bgcolor\": \"white\", \"lakecolor\": \"white\", \"landcolor\": \"#E5ECF6\", \"showlakes\": true, \"showland\": true, \"subunitcolor\": \"white\"}, \"hoverlabel\": {\"align\": \"left\"}, \"hovermode\": \"closest\", \"mapbox\": {\"style\": \"light\"}, \"paper_bgcolor\": \"white\", \"plot_bgcolor\": \"#E5ECF6\", \"polar\": {\"angularaxis\": {\"gridcolor\": \"white\", \"linecolor\": \"white\", \"ticks\": \"\"}, \"bgcolor\": \"#E5ECF6\", \"radialaxis\": {\"gridcolor\": \"white\", \"linecolor\": \"white\", \"ticks\": \"\"}}, \"scene\": {\"xaxis\": {\"backgroundcolor\": \"#E5ECF6\", \"gridcolor\": \"white\", \"gridwidth\": 2, \"linecolor\": \"white\", \"showbackground\": true, \"ticks\": \"\", \"zerolinecolor\": \"white\"}, \"yaxis\": {\"backgroundcolor\": \"#E5ECF6\", \"gridcolor\": \"white\", \"gridwidth\": 2, \"linecolor\": \"white\", \"showbackground\": true, \"ticks\": \"\", \"zerolinecolor\": \"white\"}, \"zaxis\": {\"backgroundcolor\": \"#E5ECF6\", \"gridcolor\": \"white\", \"gridwidth\": 2, \"linecolor\": \"white\", \"showbackground\": true, \"ticks\": \"\", \"zerolinecolor\": \"white\"}}, \"shapedefaults\": {\"line\": {\"color\": \"#2a3f5f\"}}, \"ternary\": {\"aaxis\": {\"gridcolor\": \"white\", \"linecolor\": \"white\", \"ticks\": \"\"}, \"baxis\": {\"gridcolor\": \"white\", \"linecolor\": \"white\", \"ticks\": \"\"}, \"bgcolor\": \"#E5ECF6\", \"caxis\": {\"gridcolor\": \"white\", \"linecolor\": \"white\", \"ticks\": \"\"}}, \"title\": {\"x\": 0.05}, \"xaxis\": {\"automargin\": true, \"gridcolor\": \"white\", \"linecolor\": \"white\", \"ticks\": \"\", \"title\": {\"standoff\": 15}, \"zerolinecolor\": \"white\", \"zerolinewidth\": 2}, \"yaxis\": {\"automargin\": true, \"gridcolor\": \"white\", \"linecolor\": \"white\", \"ticks\": \"\", \"title\": {\"standoff\": 15}, \"zerolinecolor\": \"white\", \"zerolinewidth\": 2}}}, \"xaxis\": {\"anchor\": \"y\", \"domain\": [0.0, 0.45]}, \"xaxis2\": {\"anchor\": \"y2\", \"domain\": [0.55, 1.0]}, \"xaxis3\": {\"anchor\": \"y3\", \"domain\": [0.0, 0.45]}, \"xaxis4\": {\"anchor\": \"y4\", \"domain\": [0.55, 1.0]}, \"yaxis\": {\"anchor\": \"x\", \"domain\": [0.625, 1.0]}, \"yaxis2\": {\"anchor\": \"x2\", \"domain\": [0.625, 1.0]}, \"yaxis3\": {\"anchor\": \"x3\", \"domain\": [0.0, 0.375]}, \"yaxis4\": {\"anchor\": \"x4\", \"domain\": [0.0, 0.375]}},                        {\"responsive\": true}                    ).then(function(){\n",
       "                            \n",
       "var gd = document.getElementById('f8fe9ba4-491e-4b27-8a81-5582337a3e31');\n",
       "var x = new MutationObserver(function (mutations, observer) {{\n",
       "        var display = window.getComputedStyle(gd).display;\n",
       "        if (!display || display === 'none') {{\n",
       "            console.log([gd, 'removed!']);\n",
       "            Plotly.purge(gd);\n",
       "            observer.disconnect();\n",
       "        }}\n",
       "}});\n",
       "\n",
       "// Listen for the removal of the full notebook cells\n",
       "var notebookContainer = gd.closest('#notebook-container');\n",
       "if (notebookContainer) {{\n",
       "    x.observe(notebookContainer, {childList: true});\n",
       "}}\n",
       "\n",
       "// Listen for the clearing of the current output cell\n",
       "var outputEl = gd.closest('.output');\n",
       "if (outputEl) {{\n",
       "    x.observe(outputEl, {childList: true});\n",
       "}}\n",
       "\n",
       "                        })                };                });            </script>        </div>"
      ]
     },
     "metadata": {},
     "output_type": "display_data"
    }
   ],
   "source": [
    "%load_ext autoreload\n",
    "from utils import plot_knn\n",
    "plot_knn()"
   ]
  },
  {
   "cell_type": "markdown",
   "id": "comfortable-wallace",
   "metadata": {},
   "source": [
    "<br></br>\n",
    "# KNeighborsClassifier k-d tree"
   ]
  },
  {
   "cell_type": "code",
   "execution_count": 26,
   "id": "behind-truck",
   "metadata": {},
   "outputs": [],
   "source": [
    "# data = pd.read_csv('sklearn_benchmarks/results/sklearn/KNeighborsClassifier_kd_tree.csv')#\n",
    "# data.query(\"n_features == 2 & function == 'predict' & n_samples == 1000\")"
   ]
  },
  {
   "cell_type": "code",
   "execution_count": 27,
   "id": "mature-thompson",
   "metadata": {},
   "outputs": [],
   "source": [
    "# plot_knn(algo='KNeighborsClassifier_kd_tree')"
   ]
  },
  {
   "cell_type": "markdown",
   "id": "generic-hughes",
   "metadata": {},
   "source": [
    "<br></br>\n",
    "## KMeans"
   ]
  },
  {
   "cell_type": "code",
   "execution_count": 28,
   "id": "aging-wallet",
   "metadata": {
    "scrolled": false
   },
   "outputs": [],
   "source": [
    "# plot_kmeans()"
   ]
  }
 ],
 "metadata": {
  "kernelspec": {
   "display_name": "Python 3",
   "language": "python",
   "name": "python3"
  },
  "language_info": {
   "codemirror_mode": {
    "name": "ipython",
    "version": 3
   },
   "file_extension": ".py",
   "mimetype": "text/x-python",
   "name": "python",
   "nbconvert_exporter": "python",
   "pygments_lexer": "ipython3",
   "version": "3.8.8"
  }
 },
 "nbformat": 4,
 "nbformat_minor": 5
}
